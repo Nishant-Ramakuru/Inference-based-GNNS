{
  "nbformat": 4,
  "nbformat_minor": 0,
  "metadata": {
    "colab": {
      "name": "GNN.ipynb",
      "provenance": [],
      "mount_file_id": "https://github.com/Nishant-Ramakuru/Inference-based-GNNS/blob/main/GNN.ipynb",
      "authorship_tag": "ABX9TyMBFvaQGG1Dd+OD2BHE1yru",
      "include_colab_link": true
    },
    "kernelspec": {
      "name": "python3",
      "display_name": "Python 3"
    },
    "language_info": {
      "name": "python"
    },
    "accelerator": "GPU",
    "gpuClass": "standard"
  },
  "cells": [
    {
      "cell_type": "markdown",
      "metadata": {
        "id": "view-in-github",
        "colab_type": "text"
      },
      "source": [
        "<a href=\"https://colab.research.google.com/github/Nishant-Ramakuru/Inference-based-GNNS/blob/main/GNN.ipynb\" target=\"_parent\"><img src=\"https://colab.research.google.com/assets/colab-badge.svg\" alt=\"Open In Colab\"/></a>"
      ]
    },
    {
      "cell_type": "code",
      "source": [
        "#!pip install jit"
      ],
      "metadata": {
        "id": "gB64pJwLJ9Pr"
      },
      "execution_count": 1,
      "outputs": []
    },
    {
      "cell_type": "code",
      "execution_count": 2,
      "metadata": {
        "id": "sho3YQ82-xwt"
      },
      "outputs": [],
      "source": [
        "import time, os\n",
        "import argparse\n",
        "import numpy as np\n",
        "import matplotlib.pyplot as plt\n",
        "import pandas as pd\n",
        "\n",
        "import argparse\n",
        "import pickle\n",
        "#import jit, cuda\n",
        "\n",
        "import torch\n",
        "import torch.nn as nn\n",
        "from torch.utils.data import DataLoader\n",
        "from torch.utils.tensorboard import SummaryWriter\n",
        "import torch.optim as optim\n",
        "from torch.optim import lr_scheduler\n",
        "\n",
        "\n",
        "import random\n",
        "\n",
        "os.environ['CUDA_LAUNCH_BLOCING'] = \"1\"\n",
        "\n",
        "import torch.nn.functional as F\n",
        "device = torch.randn([1]).device"
      ]
    },
    {
      "cell_type": "code",
      "source": [
        "import gc\n",
        "\n",
        "gc.collect()\n",
        "\n",
        "torch.cuda.empty_cache()"
      ],
      "metadata": {
        "id": "_aWXPofELC-6"
      },
      "execution_count": 3,
      "outputs": []
    },
    {
      "cell_type": "code",
      "source": [
        "'''\n",
        "!pip install patool\n",
        "import patoolib\n",
        "patoolib.extract_archive(\"/content/drive/MyDrive/boids_buffer.rar\", outdir=\"/content/drive/MyDrive\")\n",
        "'''"
      ],
      "metadata": {
        "colab": {
          "base_uri": "https://localhost:8080/",
          "height": 35
        },
        "id": "eyPvTxTIouBF",
        "outputId": "65cd7c2c-29bb-4782-ec01-3e87aedadfd1"
      },
      "execution_count": 4,
      "outputs": [
        {
          "output_type": "execute_result",
          "data": {
            "text/plain": [
              "'\\n!pip install patool\\nimport patoolib\\npatoolib.extract_archive(\"/content/drive/MyDrive/boids_buffer.rar\", outdir=\"/content/drive/MyDrive\")\\n'"
            ],
            "application/vnd.google.colaboratory.intrinsic+json": {
              "type": "string"
            }
          },
          "metadata": {},
          "execution_count": 4
        }
      ]
    },
    {
      "cell_type": "code",
      "source": [
        "dataframe = pd.read_pickle('/content/drive/MyDrive/GNNs/boids_buffer.csv')"
      ],
      "metadata": {
        "id": "pb51ZO2Sw3vu"
      },
      "execution_count": 5,
      "outputs": []
    },
    {
      "cell_type": "code",
      "source": [
        "dataframe.index.rename('Time_Step',inplace = True)"
      ],
      "metadata": {
        "id": "U4DeDtkxqC6u"
      },
      "execution_count": 6,
      "outputs": []
    },
    {
      "cell_type": "code",
      "source": [
        "print(\"Time steps:\", dataframe.shape[0])\n",
        "print(\"Number of Agents:\", len(dataframe.R[0]))\n"
      ],
      "metadata": {
        "id": "xR1jUFS6xFvk",
        "outputId": "eca0c707-173f-4841-db84-d95e9a58a2e1",
        "colab": {
          "base_uri": "https://localhost:8080/"
        }
      },
      "execution_count": 7,
      "outputs": [
        {
          "output_type": "stream",
          "name": "stdout",
          "text": [
            "Time steps: 800\n",
            "Number of Agents: 10\n"
          ]
        }
      ]
    },
    {
      "cell_type": "code",
      "source": [
        "dataframe.head(1)"
      ],
      "metadata": {
        "id": "xDnJ8Ss5xlAq",
        "outputId": "d83fa8db-a99a-4abf-a05f-83eb181b58ba",
        "colab": {
          "base_uri": "https://localhost:8080/",
          "height": 112
        }
      },
      "execution_count": 8,
      "outputs": [
        {
          "output_type": "execute_result",
          "data": {
            "text/plain": [
              "                                                           R  \\\n",
              "Time_Step                                                      \n",
              "0          [[168.79092, 466.3414], [723.2345, 772.19696],...   \n",
              "\n",
              "                                                       theta  \n",
              "Time_Step                                                     \n",
              "0          [3.8226228, 4.4124546, 1.4677178, 4.980793, 5....  "
            ],
            "text/html": [
              "\n",
              "  <div id=\"df-b70dca59-d413-4156-960b-49703bf8235e\">\n",
              "    <div class=\"colab-df-container\">\n",
              "      <div>\n",
              "<style scoped>\n",
              "    .dataframe tbody tr th:only-of-type {\n",
              "        vertical-align: middle;\n",
              "    }\n",
              "\n",
              "    .dataframe tbody tr th {\n",
              "        vertical-align: top;\n",
              "    }\n",
              "\n",
              "    .dataframe thead th {\n",
              "        text-align: right;\n",
              "    }\n",
              "</style>\n",
              "<table border=\"1\" class=\"dataframe\">\n",
              "  <thead>\n",
              "    <tr style=\"text-align: right;\">\n",
              "      <th></th>\n",
              "      <th>R</th>\n",
              "      <th>theta</th>\n",
              "    </tr>\n",
              "    <tr>\n",
              "      <th>Time_Step</th>\n",
              "      <th></th>\n",
              "      <th></th>\n",
              "    </tr>\n",
              "  </thead>\n",
              "  <tbody>\n",
              "    <tr>\n",
              "      <th>0</th>\n",
              "      <td>[[168.79092, 466.3414], [723.2345, 772.19696],...</td>\n",
              "      <td>[3.8226228, 4.4124546, 1.4677178, 4.980793, 5....</td>\n",
              "    </tr>\n",
              "  </tbody>\n",
              "</table>\n",
              "</div>\n",
              "      <button class=\"colab-df-convert\" onclick=\"convertToInteractive('df-b70dca59-d413-4156-960b-49703bf8235e')\"\n",
              "              title=\"Convert this dataframe to an interactive table.\"\n",
              "              style=\"display:none;\">\n",
              "        \n",
              "  <svg xmlns=\"http://www.w3.org/2000/svg\" height=\"24px\"viewBox=\"0 0 24 24\"\n",
              "       width=\"24px\">\n",
              "    <path d=\"M0 0h24v24H0V0z\" fill=\"none\"/>\n",
              "    <path d=\"M18.56 5.44l.94 2.06.94-2.06 2.06-.94-2.06-.94-.94-2.06-.94 2.06-2.06.94zm-11 1L8.5 8.5l.94-2.06 2.06-.94-2.06-.94L8.5 2.5l-.94 2.06-2.06.94zm10 10l.94 2.06.94-2.06 2.06-.94-2.06-.94-.94-2.06-.94 2.06-2.06.94z\"/><path d=\"M17.41 7.96l-1.37-1.37c-.4-.4-.92-.59-1.43-.59-.52 0-1.04.2-1.43.59L10.3 9.45l-7.72 7.72c-.78.78-.78 2.05 0 2.83L4 21.41c.39.39.9.59 1.41.59.51 0 1.02-.2 1.41-.59l7.78-7.78 2.81-2.81c.8-.78.8-2.07 0-2.86zM5.41 20L4 18.59l7.72-7.72 1.47 1.35L5.41 20z\"/>\n",
              "  </svg>\n",
              "      </button>\n",
              "      \n",
              "  <style>\n",
              "    .colab-df-container {\n",
              "      display:flex;\n",
              "      flex-wrap:wrap;\n",
              "      gap: 12px;\n",
              "    }\n",
              "\n",
              "    .colab-df-convert {\n",
              "      background-color: #E8F0FE;\n",
              "      border: none;\n",
              "      border-radius: 50%;\n",
              "      cursor: pointer;\n",
              "      display: none;\n",
              "      fill: #1967D2;\n",
              "      height: 32px;\n",
              "      padding: 0 0 0 0;\n",
              "      width: 32px;\n",
              "    }\n",
              "\n",
              "    .colab-df-convert:hover {\n",
              "      background-color: #E2EBFA;\n",
              "      box-shadow: 0px 1px 2px rgba(60, 64, 67, 0.3), 0px 1px 3px 1px rgba(60, 64, 67, 0.15);\n",
              "      fill: #174EA6;\n",
              "    }\n",
              "\n",
              "    [theme=dark] .colab-df-convert {\n",
              "      background-color: #3B4455;\n",
              "      fill: #D2E3FC;\n",
              "    }\n",
              "\n",
              "    [theme=dark] .colab-df-convert:hover {\n",
              "      background-color: #434B5C;\n",
              "      box-shadow: 0px 1px 3px 1px rgba(0, 0, 0, 0.15);\n",
              "      filter: drop-shadow(0px 1px 2px rgba(0, 0, 0, 0.3));\n",
              "      fill: #FFFFFF;\n",
              "    }\n",
              "  </style>\n",
              "\n",
              "      <script>\n",
              "        const buttonEl =\n",
              "          document.querySelector('#df-b70dca59-d413-4156-960b-49703bf8235e button.colab-df-convert');\n",
              "        buttonEl.style.display =\n",
              "          google.colab.kernel.accessAllowed ? 'block' : 'none';\n",
              "\n",
              "        async function convertToInteractive(key) {\n",
              "          const element = document.querySelector('#df-b70dca59-d413-4156-960b-49703bf8235e');\n",
              "          const dataTable =\n",
              "            await google.colab.kernel.invokeFunction('convertToInteractive',\n",
              "                                                     [key], {});\n",
              "          if (!dataTable) return;\n",
              "\n",
              "          const docLinkHtml = 'Like what you see? Visit the ' +\n",
              "            '<a target=\"_blank\" href=https://colab.research.google.com/notebooks/data_table.ipynb>data table notebook</a>'\n",
              "            + ' to learn more about interactive tables.';\n",
              "          element.innerHTML = '';\n",
              "          dataTable['output_type'] = 'display_data';\n",
              "          await google.colab.output.renderOutput(dataTable, element);\n",
              "          const docLink = document.createElement('div');\n",
              "          docLink.innerHTML = docLinkHtml;\n",
              "          element.appendChild(docLink);\n",
              "        }\n",
              "      </script>\n",
              "    </div>\n",
              "  </div>\n",
              "  "
            ]
          },
          "metadata": {},
          "execution_count": 8
        }
      ]
    },
    {
      "cell_type": "code",
      "source": [
        "'''\n",
        "traj_1 = []\n",
        "traj_2 = []\n",
        "for i in range(len(dataframe)):\n",
        "  traj_1.append(dataframe.R[i][0])\n",
        "  traj_2.append(dataframe.R[i][1])\n",
        "x,y = zip(*traj_1)  \n",
        "p,q = zip(*traj_2)\n",
        "plt.scatter(x,y)\n",
        "plt.scatter(p,q)\n",
        "'''"
      ],
      "metadata": {
        "colab": {
          "base_uri": "https://localhost:8080/",
          "height": 53
        },
        "id": "6n5i67VEkMxz",
        "outputId": "479805c7-9f99-4595-8191-8fa51a7fc8c6"
      },
      "execution_count": 9,
      "outputs": [
        {
          "output_type": "execute_result",
          "data": {
            "text/plain": [
              "'\\ntraj_1 = []\\ntraj_2 = []\\nfor i in range(len(dataframe)):\\n  traj_1.append(dataframe.R[i][0])\\n  traj_2.append(dataframe.R[i][1])\\nx,y = zip(*traj_1)  \\np,q = zip(*traj_2)\\nplt.scatter(x,y)\\nplt.scatter(p,q)\\n'"
            ],
            "application/vnd.google.colaboratory.intrinsic+json": {
              "type": "string"
            }
          },
          "metadata": {},
          "execution_count": 9
        }
      ]
    },
    {
      "cell_type": "markdown",
      "source": [
        "**Functions**\n",
        "---\n",
        "\n"
      ],
      "metadata": {
        "id": "AW48_5_1hIIu"
      }
    },
    {
      "cell_type": "code",
      "source": [
        "def build_scheduler(opt, params):\n",
        "    lr_decay_factor = params.get('lr_decay_factor')\n",
        "    lr_decay_steps = params.get('lr_decay_steps')\n",
        "    if lr_decay_factor:\n",
        "        return torch.optim.lr_scheduler.StepLR(opt, lr_decay_steps, lr_decay_factor)\n",
        "    else:\n",
        "        return None\n",
        "\n",
        "\n",
        "class build_writers:\n",
        "    def __init__(self, working_dir, is_test=False):\n",
        "        self.writer_dir = os.path.join(working_dir, 'logs/')\n",
        "        self.is_test = is_test\n",
        "\n",
        "    def __enter__(self):\n",
        "        train_writer_dir = os.path.join(self.writer_dir, 'train')\n",
        "        val_writer_dir = os.path.join(self.writer_dir, 'val')\n",
        "        self.train_writer = SummaryWriter(train_writer_dir)\n",
        "        self.val_writer = SummaryWriter(val_writer_dir)\n",
        "        if self.is_test:\n",
        "            test_writer_dir = os.path.join(self.writer_dir, 'test')\n",
        "            self.test_writer = SummaryWriter(test_writer_dir)\n",
        "            return self.train_writer, self.val_writer, self.test_writer\n",
        "        else:\n",
        "            return self.train_writer, self.val_writer\n",
        "\n",
        "    def __exit__(self, type, value, traceback):\n",
        "        self.train_writer.close()\n",
        "        self.val_writer.close()\n",
        "        if self.is_test:\n",
        "            self.test_writer.close()"
      ],
      "metadata": {
        "id": "HFpOptCThGhr"
      },
      "execution_count": 10,
      "outputs": []
    },
    {
      "cell_type": "code",
      "source": [
        "def seed(seed_val):\n",
        "    np.random.seed(seed_val)\n",
        "    torch.manual_seed(seed_val)\n",
        "    random.seed(seed_val)\n",
        "    if torch.cuda.is_available():\n",
        "        torch.cuda.manual_seed_all(seed_val)"
      ],
      "metadata": {
        "id": "vFsuAoAQhS1G"
      },
      "execution_count": 11,
      "outputs": []
    },
    {
      "cell_type": "code",
      "source": [
        "def encode_onehot(labels):\n",
        "    classes = set(labels)\n",
        "    classes_dict = {c: np.identity(len(classes))[i, :] for i, c in enumerate(classes)}\n",
        "    labels_onehot = np.array(list(map(classes_dict.get, labels)), dtype=np.int32)\n",
        "    return labels_onehot\n",
        "\n",
        "\n",
        "\n",
        "class RefNRIMLP(nn.Module):\n",
        "    \"\"\"Two-layer fully-connected ELU net with batch norm.\"\"\"\n",
        "\n",
        "    def __init__(self, n_in, n_hid, n_out, do_prob=0., no_bn=False):\n",
        "        super(RefNRIMLP, self).__init__()\n",
        "        self.model = nn.Sequential(\n",
        "            nn.Linear(n_in, n_hid).to(device),\n",
        "            nn.ELU(inplace=True).to(device),\n",
        "            nn.Dropout(do_prob).to(device),\n",
        "            nn.Linear(n_hid, n_out).to(device),\n",
        "            nn.ELU(inplace=True).to(device)\n",
        "        )\n",
        "        if no_bn:\n",
        "            self.bn = None\n",
        "        else:\n",
        "            self.bn = nn.BatchNorm1d(n_out)\n",
        "        self.init_weights()\n",
        "\n",
        "    def init_weights(self):\n",
        "        \n",
        "        for m in self.modules():\n",
        "            if isinstance(m, nn.Linear):\n",
        "                nn.init.xavier_normal_(m.weight.data)\n",
        "                m.bias.data.fill_(0.1)\n",
        "            elif isinstance(m, nn.BatchNorm1d):\n",
        "                m.weight.data.fill_(1)\n",
        "                m.bias.data.zero_()\n",
        "\n",
        "    def batch_norm(self, inputs):\n",
        "        orig_shape = inputs.shape\n",
        "        x = inputs.view(-1, inputs.size(-1))\n",
        "        x = self.bn(x)\n",
        "        return x.view(orig_shape)\n",
        "\n",
        "    def forward(self, inputs):\n",
        "        # Input shape: [num_sims, num_things, num_features]\n",
        "        x = self.model(inputs)\n",
        "        if self.bn is not None:\n",
        "            return self.batch_norm(x)\n",
        "        else:\n",
        "            return x\n",
        "\n",
        "\n",
        "def sample_gumbel(shape, eps=1e-10):\n",
        "    \"\"\"\n",
        "    NOTE: Stolen from https://github.com/pytorch/pytorch/pull/3341/commits/327fcfed4c44c62b208f750058d14d4dc1b9a9d3\n",
        "    Sample from Gumbel(0, 1)\n",
        "    based on\n",
        "    https://github.com/ericjang/gumbel-softmax/blob/3c8584924603869e90ca74ac20a6a03d99a91ef9/Categorical%20VAE.ipynb ,\n",
        "    (MIT license)\n",
        "    \"\"\"\n",
        "    U = torch.rand(shape).float()\n",
        "    return - torch.log(eps - torch.log(U + eps))\n",
        "\n",
        "\n",
        "def gumbel_softmax_sample(logits, tau=1, eps=1e-10):\n",
        "    \"\"\"\n",
        "    NOTE: Stolen from https://github.com/pytorch/pytorch/pull/3341/commits/327fcfed4c44c62b208f750058d14d4dc1b9a9d3\n",
        "    Draw a sample from the Gumbel-Softmax distribution\n",
        "    based on\n",
        "    https://github.com/ericjang/gumbel-softmax/blob/3c8584924603869e90ca74ac20a6a03d99a91ef9/Categorical%20VAE.ipynb\n",
        "    (MIT license)\n",
        "    \"\"\"\n",
        "    gumbel_noise = sample_gumbel(logits.size(), eps=eps)\n",
        "    if logits.is_cuda:\n",
        "        gumbel_noise = gumbel_noise.cuda()\n",
        "    y = logits + gumbel_noise\n",
        "    return F.softmax(y, dim=-1)\n",
        "\n",
        "\n",
        "def gumbel_softmax(logits, tau=1, hard=False, eps=1e-10):\n",
        "    \"\"\"\n",
        "    NOTE: Stolen from https://github.com/pytorch/pytorch/pull/3341/commits/327fcfed4c44c62b208f750058d14d4dc1b9a9d3\n",
        "    Sample from the Gumbel-Softmax distribution and optionally discretize.\n",
        "    Args:\n",
        "      logits: [batch_size, n_class] unnormalized log-probs\n",
        "      tau: non-negative scalar temperature\n",
        "      hard: if True, take argmax, but differentiate w.r.t. soft sample y\n",
        "    Returns:\n",
        "      [batch_size, n_class] sample from the Gumbel-Softmax distribution.\n",
        "      If hard=True, then the returned sample will be one-hot, otherwise it will\n",
        "      be a probability distribution that sums to 1 across classes\n",
        "    Constraints:\n",
        "    - this implementation only works on batch_size x num_features tensor for now\n",
        "    based on\n",
        "    https://github.com/ericjang/gumbel-softmax/blob/3c8584924603869e90ca74ac20a6a03d99a91ef9/Categorical%20VAE.ipynb ,\n",
        "    (MIT license)\n",
        "    \"\"\"\n",
        "    y_soft = gumbel_softmax_sample(logits, tau=tau, eps=eps)\n",
        "    if hard:\n",
        "        shape = logits.size()\n",
        "        _, k = y_soft.data.max(-1)\n",
        "        # this bit is based on\n",
        "        # https://discuss.pytorch.org/t/stop-gradients-for-st-gumbel-softmax/530/5\n",
        "        y_hard = torch.zeros(*shape)\n",
        "        if y_soft.is_cuda:\n",
        "            y_hard = y_hard.cuda()\n",
        "        y_hard = y_hard.zero_().scatter_(-1, k.view(shape[:-1] + (1,)), 1.0)\n",
        "        # this cool bit of code achieves two things:\n",
        "        # - makes the output value exactly one-hot (since we add then\n",
        "        #   subtract y_soft value)\n",
        "        # - makes the gradient equal to y_soft gradient (since we strip\n",
        "        #   all other gradients)\n",
        "        y = y_hard - y_soft.data + y_soft\n",
        "    else:\n",
        "        y = y_soft\n",
        "    return y\n",
        "\n",
        "\n",
        "def get_graph_info(masks, num_vars, use_edge2node=True):\n",
        "    if num_vars == 1:\n",
        "        return None, None, None\n",
        "    edges = torch.ones(num_vars, device=masks.device) - torch.eye(num_vars, device=masks.device)\n",
        "    tmp = torch.where(edges)\n",
        "    send_edges = tmp[0]\n",
        "    recv_edges = tmp[1]\n",
        "    tmp_inds = torch.tensor(list(range(num_vars)), device=masks.device, dtype=torch.long).unsqueeze_(1)\n",
        "    if use_edge2node:\n",
        "        edge2node_inds = (tmp_inds == recv_edges.unsqueeze(0)).nonzero()[:, 1].contiguous().view(-1, num_vars-1)\n",
        "        return send_edges, recv_edges, edge2node_inds\n",
        "    else:\n",
        "        return send_edges, recv_edges"
      ],
      "metadata": {
        "id": "WwFdE2-QlTs0"
      },
      "execution_count": 12,
      "outputs": []
    },
    {
      "cell_type": "markdown",
      "source": [
        "**Model Definitions**\n",
        "---\n",
        "\n",
        "\n"
      ],
      "metadata": {
        "id": "wtvRAkXlhVDt"
      }
    },
    {
      "cell_type": "markdown",
      "source": [
        "Parameters"
      ],
      "metadata": {
        "id": "SP9G-3oMjCIn"
      }
    },
    {
      "cell_type": "code",
      "source": [
        "params = {}\n",
        "params['num_vars'] = params['num_agents'] = 50\n",
        "params['input_noise_type'] = 'none'\n",
        "params['input_size'] = 100\n",
        "params['nll_loss_type'] = 'gaussian'\n",
        "params['prior_variance'] = 5e-5\n",
        "params['batch_size'] = 10\n",
        "params['val_batch_size'] = 10\n",
        "params['accumulate_steps'] = 0\n",
        "params['num_edge_types'] = 1\n",
        "params['encoder_dropout'] = 0.5\n",
        "params['encoder_hidden'] = 16\n",
        "params['encoder_rnn_hidden'] = 64\n",
        "params['encoder_rnn_type'] = 'lstm'\n",
        "params['encoder_mlp_num_layers'] = 2\n",
        "params['encoder_mlp_hidden'] = 64\n",
        "params['prior_num_layers'] = 2\n",
        "params['prior_hidden_size'] = 16\n",
        "params['gpu'] = True\n",
        "params['decoder_hidden'] = 16\n",
        "params['skip_first'] = True\n",
        "params['decoder_dropout'] = 0.5\n",
        "params['decoder_type'] = None\n",
        "params['lr'] = 5e-4\n",
        "params['working_dir'] = ('/content/MyDrive/GNNs')"
      ],
      "metadata": {
        "id": "OOtlj23sjEG5"
      },
      "execution_count": 13,
      "outputs": []
    },
    {
      "cell_type": "code",
      "source": [
        "'''\n",
        "import math\n",
        "import networkx as nx\n",
        "\n",
        "data = []\n",
        "for w in range(len(dataframe)):\n",
        "  \n",
        "  state = np.array(dataframe.R[w])\n",
        "  D = list()\n",
        "  for a,i in enumerate(state):\n",
        "    d= []\n",
        "    for b,j in enumerate(state):\n",
        "      eDistance = math.hypot(i[0] - j[0], i[1] - j[1])\n",
        "      if a == b:\n",
        "        d.append(0)\n",
        "      elif int(eDistance) <= 100:\n",
        "        d.append(1)\n",
        "      else:\n",
        "        d.append(0)\n",
        "    D.append(d)\n",
        "\n",
        "  data.append(np.array(D))\n",
        "\n",
        "'''"
      ],
      "metadata": {
        "id": "b_xStt0bn--l",
        "colab": {
          "base_uri": "https://localhost:8080/",
          "height": 70
        },
        "outputId": "74664984-00d1-4eb0-a7f6-cd5590ed6300"
      },
      "execution_count": 14,
      "outputs": [
        {
          "output_type": "execute_result",
          "data": {
            "text/plain": [
              "'\\nimport math\\nimport networkx as nx\\n\\ndata = []\\nfor w in range(len(dataframe)):\\n  \\n  state = np.array(dataframe.R[w])\\n  D = list()\\n  for a,i in enumerate(state):\\n    d= []\\n    for b,j in enumerate(state):\\n      eDistance = math.hypot(i[0] - j[0], i[1] - j[1])\\n      if a == b:\\n        d.append(0)\\n      elif int(eDistance) <= 100:\\n        d.append(1)\\n      else:\\n        d.append(0)\\n    D.append(d)\\n\\n  data.append(np.array(D))\\n\\n'"
            ],
            "application/vnd.google.colaboratory.intrinsic+json": {
              "type": "string"
            }
          },
          "metadata": {},
          "execution_count": 14
        }
      ]
    },
    {
      "cell_type": "code",
      "source": [
        "#dataset = np.array(data)\n",
        "#dataset.shape"
      ],
      "metadata": {
        "id": "bzL4YO2Xh0ah"
      },
      "execution_count": 15,
      "outputs": []
    },
    {
      "cell_type": "code",
      "source": [
        "#del data\n",
        "#del dataframe"
      ],
      "metadata": {
        "id": "R03iQEoPMhKy"
      },
      "execution_count": 16,
      "outputs": []
    },
    {
      "cell_type": "code",
      "source": [
        "def show_graph_with_labels(adjacency_matrix, mylabels):\n",
        "    rows, cols = np.where(adjacency_matrix == 1)\n",
        "    edges = zip(rows.tolist(), cols.tolist())\n",
        "    gr = nx.Graph()\n",
        "    gr.add_edges_from(edges)\n",
        "    nx.draw(gr, node_size=20, labels=mylabels, with_labels=False)\n",
        "    plt.show()"
      ],
      "metadata": {
        "id": "NSkdTw-ihcgk"
      },
      "execution_count": 17,
      "outputs": []
    },
    {
      "cell_type": "code",
      "source": [
        "#x = [str(i) for i in range(0,50)]\n",
        "#show_graph_with_labels(adjacency_matrix,x)"
      ],
      "metadata": {
        "id": "1st8YzGRtRrB"
      },
      "execution_count": 18,
      "outputs": []
    },
    {
      "cell_type": "markdown",
      "source": [
        "Encoder"
      ],
      "metadata": {
        "id": "JQRlVaAAha3i"
      }
    },
    {
      "cell_type": "code",
      "source": [
        "class DNRI_Encoder(nn.Module):\n",
        "    # Here, encoder also produces prior\n",
        "    def __init__(self, params):\n",
        "        super(DNRI_Encoder, self).__init__()\n",
        "        num_vars = params['num_vars']\n",
        "        self.num_edges = params['num_edge_types']\n",
        "        self.sepaate_prior_encoder = params.get('separate_prior_encoder', False)\n",
        "        no_bn = False\n",
        "        dropout = params['encoder_dropout']\n",
        "        edges = np.ones(num_vars) - np.eye(num_vars)\n",
        "        self.send_edges = np.where(edges)[0]\n",
        "        self.recv_edges = np.where(edges)[1]\n",
        "        self.edge2node_mat = nn.Parameter(torch.FloatTensor(encode_onehot(self.recv_edges).transpose()), requires_grad=False)\n",
        "        self.save_eval_memory = params.get('encoder_save_eval_memory', False)\n",
        "\n",
        "\n",
        "        hidden_size = params['encoder_hidden']\n",
        "        rnn_hidden_size = params['encoder_rnn_hidden']\n",
        "        rnn_type = params['encoder_rnn_type']\n",
        "        inp_size = params['input_size']\n",
        "        self.mlp1 = RefNRIMLP(inp_size, hidden_size*16, hidden_size*8, dropout, no_bn=no_bn).to(device)\n",
        "        self.mlp2 = RefNRIMLP(hidden_size*8, hidden_size*4, hidden_size*2, dropout, no_bn=no_bn).to(device)\n",
        "        self.mlp3 = RefNRIMLP(hidden_size*2, hidden_size, int(hidden_size*0.5), dropout, no_bn=no_bn).to(device)\n",
        "        self.mlp4 = RefNRIMLP(int(hidden_size*0.5), int(hidden_size*0.25), int(hidden_size*0.25), dropout, no_bn=no_bn).to(device)\n",
        "\n",
        "        if rnn_hidden_size is None:\n",
        "            rnn_hidden_size = hidden_size\n",
        "        if rnn_type == 'lstm':\n",
        "            self.forward_rnn = nn.LSTM(int(hidden_size*0.25), rnn_hidden_size, batch_first=True)\n",
        "            self.reverse_rnn = nn.LSTM(int(hidden_size*0.25), rnn_hidden_size, batch_first=True)\n",
        "        elif rnn_type == 'gru':\n",
        "            self.forward_rnn = nn.GRU(hidden_size, rnn_hidden_size, batch_first=True)\n",
        "            self.reverse_rnn = nn.GRU(hidden_size, rnn_hidden_size, batch_first=True)\n",
        "        out_hidden_size = 2*rnn_hidden_size\n",
        "        num_layers = params['encoder_mlp_num_layers']\n",
        "        if num_layers == 1:\n",
        "            self.encoder_fc_out = nn.Linear(out_hidden_size, self.num_edges)\n",
        "        else:\n",
        "            tmp_hidden_size = params['encoder_mlp_hidden']\n",
        "            layers = [nn.Linear(out_hidden_size, tmp_hidden_size), nn.ELU(inplace=True)]\n",
        "            for _ in range(num_layers - 2):\n",
        "                layers.append(nn.Linear(tmp_hidden_size, tmp_hidden_size))\n",
        "                layers.append(nn.ELU(inplace=True))\n",
        "            layers.append(nn.Linear(tmp_hidden_size, self.num_edges))\n",
        "            self.encoder_fc_out = nn.Sequential(*layers)\n",
        "\n",
        "        num_layers = params['prior_num_layers']\n",
        "        if num_layers == 1:\n",
        "            self.prior_fc_out = nn.Linear(rnn_hidden_size, self.num_edges)\n",
        "        else:\n",
        "            tmp_hidden_size = params['prior_hidden_size']\n",
        "            layers = [nn.Linear(rnn_hidden_size, tmp_hidden_size), nn.ELU(inplace=True)]\n",
        "            for _ in range(num_layers - 2):\n",
        "                layers.append(nn.Linear(tmp_hidden_size, tmp_hidden_size))\n",
        "                layers.append(nn.ELU(inplace=True))\n",
        "            layers.append(nn.Linear(tmp_hidden_size, self.num_edges))\n",
        "            self.prior_fc_out = nn.Sequential(*layers)\n",
        "\n",
        "\n",
        "        self.num_vars = num_vars\n",
        "        edges = np.ones(num_vars) - np.eye(num_vars)\n",
        "        self.send_edges = np.where(edges)[0]\n",
        "        self.recv_edges = np.where(edges)[1]\n",
        "\n",
        "        self.init_weights()\n",
        "\n",
        "    def init_weights(self):\n",
        "        for m in self.modules():\n",
        "            if isinstance(m, nn.Linear):\n",
        "                nn.init.xavier_normal_(m.weight.data)\n",
        "                m.bias.data.fill_(0.1)\n",
        "\n",
        "    def node2edge(self, node_embeddings):\n",
        "        # Input size: [batch, num_vars, num_timesteps, embed_size]\n",
        "        if len(node_embeddings.shape) == 4:\n",
        "            send_embed = node_embeddings[:, self.send_edges, :, :]\n",
        "            recv_embed = node_embeddings[:, self.recv_edges, :, :]\n",
        "        else:\n",
        "\n",
        "            send_embed = node_embeddings[:, self.send_edges, :]\n",
        "            recv_embed = node_embeddings[:, self.recv_edges, :]\n",
        "            #send_embed = node_embeddings[:, self.send_edges, :]\n",
        "            #recv_embed = node_embeddings[:, self.recv_edges, :]\n",
        "        return torch.cat([send_embed, recv_embed], dim=-1)\n",
        "\n",
        "    def edge2node(self, edge_embeddings):\n",
        "        if len(edge_embeddings.shape) == 4:\n",
        "            old_shape = edge_embeddings.shape\n",
        "            tmp_embeddings = edge_embeddings.view(old_shape[0], old_shape[1], -1)\n",
        "            incoming = torch.matmul(self.edge2node_mat, tmp_embeddings).view(old_shape[0], -1, old_shape[2], old_shape[3])\n",
        "        else:\n",
        "            incoming = torch.matmul(self.edge2node_mat, edge_embeddings)\n",
        "        return incoming/(self.num_vars-1) #TODO: do we want this average?\n",
        "\n",
        "\n",
        "    def copy_states(self, prior_state):\n",
        "        if isinstance(prior_state, tuple) or isinstance(prior_state, list):\n",
        "            current_prior_state = (prior_state[0].clone(), prior_state[1].clone())\n",
        "        else:\n",
        "            current_prior_state = prior_state.clone()\n",
        "        return current_prior_state\n",
        "\n",
        "    def merge_hidden(self, hidden):\n",
        "        if isinstance(hidden[0], tuple) or isinstance(hidden[0], list):\n",
        "            result0 = torch.cat([x[0] for x in hidden], dim=0)\n",
        "            result1 = torch.cat([x[1] for x in hidden], dim=0)\n",
        "            result = (result0, result1)\n",
        "        else:\n",
        "            result = torch.cat(hidden, dim=0)\n",
        "        return result\n",
        "\n",
        "\n",
        "\n",
        "    def forward(self, inputs):\n",
        "        if self.training or not self.save_eval_memory:\n",
        "            # Inputs is shape [batch, num_timesteps, num_vars, input_size]\n",
        "            num_timesteps = inputs.size(1)\n",
        "            x = inputs.contiguous().to(inputs.device)\n",
        "            # New shape: [num_sims, num_atoms, num_timesteps, num_dims]\n",
        "            x = self.mlp1(x)  # 2-layer ELU net per node\n",
        "            #x = self.node2edge(x)\n",
        "            x = self.mlp2(x)\n",
        "            #x_skip = x\n",
        "            #x = self.edge2node(x)\n",
        "            x = self.mlp3(x)\n",
        "            #x = self.node2edge(x)\n",
        "            #x = torch.cat((x, x_skip), dim=-1)  # Skip connection\n",
        "            x = self.mlp4(x)\n",
        "        \n",
        "            \n",
        "            # At this point, x should be [batch, num_edges, num_timesteps, hidden_size]\n",
        "            # RNN aggregation\n",
        "            old_shape = x.shape\n",
        "\n",
        "            x = x.contiguous().view(-1, old_shape[0], old_shape[1])\n",
        "            forward_x, prior_state = self.forward_rnn(x)\n",
        "            timesteps = old_shape[1]\n",
        "            reverse_x = x.flip(1)\n",
        "            reverse_x, _ = self.reverse_rnn(reverse_x)\n",
        "            reverse_x = reverse_x.flip(1)\n",
        "            \n",
        "            #x: [batch*num_edges, num_timesteps, hidden_size]\n",
        "\n",
        "            #timesteps = 2\n",
        "            #self.num_edges = 1\n",
        "            prior_result = self.prior_fc_out(forward_x).view(old_shape[0]).contiguous()\n",
        "            combined_x = torch.cat([forward_x, reverse_x], dim=-1)\n",
        "            encoder_result = self.encoder_fc_out(combined_x).view(old_shape[0]).contiguous()\n",
        "            return prior_result, encoder_result, prior_state\n",
        "        else:\n",
        "            # Inputs is shape [batch, num_timesteps, num_vars, input_size]\n",
        "            num_timesteps = inputs.size(1)\n",
        "            all_x = []\n",
        "            all_forward_x = []\n",
        "            all_prior_result = []\n",
        "            prior_state = None\n",
        "            for timestep in range(num_timesteps):\n",
        "                x = inputs[:, timestep]\n",
        "                #x = inputs.transpose(2, 1).contiguous()\n",
        "                x = self.mlp1(x)  # 2-layer ELU net per node\n",
        "                x = self.node2edge(x)\n",
        "                x = self.mlp2(x)\n",
        "                x_skip = x\n",
        "                x = self.edge2node(x)\n",
        "                x = self.mlp3(x)\n",
        "                x = self.node2edge(x)\n",
        "                x = torch.cat((x, x_skip), dim=-1)  # Skip connection\n",
        "                x = self.mlp4(x)\n",
        "            \n",
        "                \n",
        "                # At this point, x should be [batch, num_edges, num_timesteps, hidden_size]\n",
        "                # RNN aggregation\n",
        "                old_shape = x.shape\n",
        "                x = x.contiguous().view(-1, 1, old_shape[-1])\n",
        "                forward_x, prior_state = self.forward_rnn(x, prior_state)\n",
        "                all_x.append(x.cpu())\n",
        "                all_forward_x.append(forward_x.cpu())\n",
        "                all_prior_result.append(self.prior_fc_out(forward_x).view(old_shape[0], 1, old_shape[1], self.num_edges).cpu())\n",
        "            reverse_state = None\n",
        "            all_encoder_result = []\n",
        "            for timestep in range(num_timesteps-1, -1, -1):\n",
        "                x = all_x[timestep].cuda()\n",
        "                reverse_x, reverse_state = self.reverse_rnn(x, reverse_state)\n",
        "                forward_x = all_forward_x[timestep].cuda()\n",
        "                \n",
        "                #x: [batch*num_edges, num_timesteps, hidden_size]\n",
        "                combined_x = torch.cat([forward_x, reverse_x], dim=-1)\n",
        "                all_encoder_result.append(self.encoder_fc_out(combined_x).view(inputs.size(0), 1, -1, self.num_edges))\n",
        "            prior_result = torch.cat(all_prior_result, dim=1).cuda(non_blocking=True)\n",
        "            encoder_result = torch.cat(all_encoder_result, dim=1).cuda(non_blocking=True)\n",
        "            return prior_result, encoder_result, prior_state\n",
        "\n",
        "    def single_step_forward(self, inputs, prior_state):\n",
        "        # Inputs is shape [batch, num_vars, input_size]\n",
        "        x = self.mlp1(inputs)  # 2-layer ELU net per node\n",
        "        x = self.node2edge(x)\n",
        "        x = self.mlp2(x)\n",
        "        x_skip = x\n",
        "        x = self.edge2node(x)\n",
        "        x = self.mlp3(x)\n",
        "        x = self.node2edge(x)\n",
        "        x = torch.cat((x, x_skip), dim=-1)  # Skip connection\n",
        "        x = self.mlp4(x)\n",
        "\n",
        "        old_shape = x.shape\n",
        "        x  = x.contiguous().view(-1, 1, old_shape[-1])\n",
        "        old_prior_shape = prior_state[0].shape\n",
        "        prior_state = (prior_state[0].view(-1, old_prior_shape[0]*old_prior_shape[1], old_prior_shape[2]),\n",
        "                       prior_state[1].view(-1, old_prior_shape[0]*old_prior_shape[1], old_prior_shape[2]))\n",
        "\n",
        "        x, prior_state = self.forward_rnn(x, prior_state)\n",
        "        prior_result = self.prior_fc_out(x).view(old_shape[0], old_shape[1], self.num_edges)\n",
        "        prior_state = (prior_state[0].view(old_prior_shape), prior_state[1].view(old_prior_shape))\n",
        "        return prior_result, prior_state"
      ],
      "metadata": {
        "id": "2_bOioDJhY6K"
      },
      "execution_count": 19,
      "outputs": []
    },
    {
      "cell_type": "code",
      "source": [
        "#encoder = DNRI_Encoder(params)"
      ],
      "metadata": {
        "id": "Eud6aKEfh5Gk"
      },
      "execution_count": 20,
      "outputs": []
    },
    {
      "cell_type": "markdown",
      "source": [
        "Decoder"
      ],
      "metadata": {
        "id": "CPCejo-niE0R"
      }
    },
    {
      "cell_type": "code",
      "source": [
        "class DNRI_Decoder(nn.Module):\n",
        "    def __init__(self, params):\n",
        "        super(DNRI_Decoder, self).__init__()\n",
        "        self.num_vars = num_vars =  params['num_vars']\n",
        "        input_size = params['input_size']\n",
        "        self.gpu = params['gpu']\n",
        "        n_hid = params['decoder_hidden']\n",
        "        edge_types = params['num_edge_types']\n",
        "        skip_first = params['skip_first']\n",
        "        out_size = params['input_size']\n",
        "        do_prob = params['decoder_dropout']\n",
        "\n",
        "        self.msg_fc1 = nn.ModuleList(\n",
        "            [nn.Linear(2*n_hid, n_hid) for _ in range(edge_types)]\n",
        "        )\n",
        "        self.msg_fc2 = nn.ModuleList(\n",
        "            [nn.Linear(n_hid, n_hid) for _ in range(edge_types)]\n",
        "        )\n",
        "        self.msg_out_shape = n_hid\n",
        "        self.skip_first_edge_type = skip_first\n",
        "        '''\n",
        "        self.hidden_r = nn.Linear(n_hid, n_hid, bias=False)\n",
        "        self.hidden_i = nn.Linear(n_hid, n_hid, bias=False)\n",
        "        self.hidden_h = nn.Linear(n_hid, n_hid, bias=False)\n",
        "\n",
        "        self.input_r = nn.Linear(input_size, n_hid, bias=True)\n",
        "        self.input_i = nn.Linear(input_size, n_hid, bias=True)\n",
        "        self.input_n = nn.Linear(input_size, n_hid, bias=True)\n",
        "        '''\n",
        "        self.out_fc1 = nn.Linear(n_hid, n_hid)\n",
        "        self.out_fc2 = nn.Linear(n_hid, n_hid)\n",
        "        self.out_fc3 = nn.Linear(n_hid, out_size)\n",
        "\n",
        "        print('Using learned recurrent interaction net decoder.')\n",
        "\n",
        "        self.dropout_prob = do_prob\n",
        "\n",
        "        self.num_vars = num_vars\n",
        "        edges = np.ones(num_vars) - np.eye(num_vars)\n",
        "        self.send_edges = np.where(edges)[0]\n",
        "        self.recv_edges = np.where(edges)[1]\n",
        "        self.edge2node_mat = nn.Parameter(torch.FloatTensor(encode_onehot(self.recv_edges)), requires_grad=False)\n",
        "\n",
        "    def get_initial_hidden(self, inputs):\n",
        "        return torch.zeros(inputs.size(0), inputs.size(1), self.msg_out_shape, device=inputs.device)\n",
        "        \n",
        "    def init_weights(self):\n",
        "        for m in self.modules():\n",
        "            if isinstance(m, nn.Linear):\n",
        "                nn.init.xavier_normal_(m.weight.data)\n",
        "                m.bias.data.fill_(0.1)\n",
        "\n",
        "    def forward(self, inputs, hidden, edges):\n",
        "        # Input Size: [batch, num_vars, input_size]\n",
        "        # Hidden Size: [batch, num_vars, rnn_hidden]\n",
        "        # Edges size: [batch, num_edges, num_edge_types]\n",
        "        if self.training:\n",
        "            dropout_prob = self.dropout_prob\n",
        "        else:\n",
        "            dropout_prob = 0.\n",
        "        \n",
        "        # node2edge\n",
        "        receivers = hidden[:, self.recv_edges, :]\n",
        "        senders = hidden[:, self.send_edges, :]\n",
        "\n",
        "        # pre_msg: [batch, num_edges, 2*msg_out]\n",
        "        pre_msg = torch.cat([receivers, senders], dim=-1)\n",
        "\n",
        "        all_msgs = torch.zeros(pre_msg.size(0), pre_msg.size(1),\n",
        "                                        self.msg_out_shape, device=inputs.device)\n",
        "        \n",
        "        if self.skip_first_edge_type:\n",
        "            start_idx = 1\n",
        "            norm = float(len(self.msg_fc2)) - 1\n",
        "        else:\n",
        "            start_idx = 0\n",
        "            norm = float(len(self.msg_fc2))\n",
        "\n",
        "        # Run separate MLP for every edge type\n",
        "        # NOTE: to exclude one edge type, simply offset range by 1\n",
        "        for i in range(start_idx, len(self.msg_fc2)):\n",
        "            msg = torch.tanh(self.msg_fc1[i](pre_msg))\n",
        "            msg = F.dropout(msg, p=dropout_prob)\n",
        "            msg = torch.tanh(self.msg_fc2[i](msg))\n",
        "            msg = msg * edges[:, i:i+1]\n",
        "\n",
        "            all_msgs += msg/norm\n",
        "\n",
        "        # This step sums all of the messages per node\n",
        "        agg_msgs = all_msgs.transpose(-2, -1).matmul(self.edge2node_mat).transpose(-2, -1)\n",
        "        agg_msgs = agg_msgs.contiguous() / (self.num_vars - 1) # Average\n",
        "        '''\n",
        "        # GRU-style gated aggregation\n",
        "        inp_r = self.input_r(inputs).view(inputs.size(0), self.num_vars, -1)\n",
        "        inp_i = self.input_i(inputs).view(inputs.size(0), self.num_vars, -1)\n",
        "        inp_n = self.input_n(inputs).view(inputs.size(0), self.num_vars, -1)\n",
        "        r = torch.sigmoid(inp_r + self.hidden_r(agg_msgs))\n",
        "        i = torch.sigmoid(inp_i + self.hidden_i(agg_msgs))\n",
        "        n = torch.tanh(inp_n + r*self.hidden_h(agg_msgs))\n",
        "        hidden = (1 - i)*n + i*hidden\n",
        "        '''\n",
        "        # Output MLP\n",
        "        pred = F.dropout(F.relu(self.out_fc1(hidden)), p=dropout_prob)\n",
        "        pred = F.dropout(F.relu(self.out_fc2(pred)), p=dropout_prob)\n",
        "        pred = self.out_fc3(pred)\n",
        "\n",
        "        #pred = inputs + pred\n",
        "        print('pred size', pred.shape)\n",
        "        print('input_size', inputs.shape)\n",
        "\n",
        "        return pred, hidden"
      ],
      "metadata": {
        "id": "Go9WhD0QiHar"
      },
      "execution_count": 21,
      "outputs": []
    },
    {
      "cell_type": "markdown",
      "source": [
        "DNRI"
      ],
      "metadata": {
        "id": "L4P7pl1PiPGv"
      }
    },
    {
      "cell_type": "code",
      "source": [
        "class DNRI(nn.Module):\n",
        "    def __init__(self, params):\n",
        "        super(DNRI, self).__init__()\n",
        "        # Model Params\n",
        "        self.num_vars = params['num_vars']\n",
        "        self.encoder = DNRI_Encoder(params)\n",
        "        self.decoder = DNRI_Decoder(params)\n",
        "        self.num_edge_types = params.get('num_edge_types')\n",
        "\n",
        "        # Training params\n",
        "        self.gumbel_temp = params.get('gumbel_temp')\n",
        "        self.train_hard_sample = params.get('train_hard_sample')\n",
        "        self.teacher_forcing_steps = params.get('teacher_forcing_steps', -1)\n",
        "        \n",
        "        self.normalize_kl = params.get('normalize_kl', False)\n",
        "        self.normalize_kl_per_var = params.get('normalize_kl_per_var', False)\n",
        "        self.normalize_nll = params.get('normalize_nll', False)\n",
        "        self.normalize_nll_per_var = params.get('normalize_nll_per_var', False)\n",
        "        self.kl_coef = params.get('kl_coef', 1.)\n",
        "        self.nll_loss_type = params.get('nll_loss_type', 'crossent')\n",
        "        self.prior_variance = params.get('prior_variance')\n",
        "        self.timesteps = params.get('timesteps', 0)\n",
        "        self.burn_in_steps = params.get('train_burn_in_steps')\n",
        "        self.teacher_forcing_prior = params.get('teacher_forcing_prior', False)\n",
        "        self.val_teacher_forcing_steps = params.get('val_teacher_forcing_steps', -1)\n",
        "        self.add_uniform_prior = params.get('add_uniform_prior')\n",
        "        if self.add_uniform_prior:\n",
        "            if params.get('no_edge_prior') is not None:\n",
        "                prior = np.zeros(self.num_edge_types)\n",
        "                prior.fill((1 - params['no_edge_prior'])/(self.num_edge_types - 1))\n",
        "                prior[0] = params['no_edge_prior']\n",
        "                log_prior = torch.FloatTensor(np.log(prior))\n",
        "                log_prior = torch.unsqueeze(log_prior, 0)\n",
        "                log_prior = torch.unsqueeze(log_prior, 0)\n",
        "                if params['gpu']:\n",
        "                    log_prior = log_prior.cuda(non_blocking=True)\n",
        "                self.log_prior = log_prior\n",
        "                print(\"USING NO EDGE PRIOR: \",self.log_prior)\n",
        "            else:\n",
        "                print(\"USING UNIFORM PRIOR\")\n",
        "                prior = np.zeros(self.num_edge_types)\n",
        "                prior.fill(1.0/self.num_edge_types)\n",
        "                log_prior = torch.FloatTensor(np.log(prior))\n",
        "                log_prior = torch.unsqueeze(log_prior, 0)\n",
        "                log_prior = torch.unsqueeze(log_prior, 0)\n",
        "                if params['gpu']:\n",
        "                    log_prior = log_prior.cuda(non_blocking=True)\n",
        "                self.log_prior = log_prior\n",
        "\n",
        "    def single_step_forward(self, inputs, decoder_hidden, edge_logits, hard_sample):\n",
        "        old_shape = edge_logits.shape\n",
        "        edges = gumbel_softmax(\n",
        "            edge_logits.reshape(-1, self.num_edge_types), \n",
        "            tau=self.gumbel_temp, \n",
        "            hard=hard_sample).view(old_shape)\n",
        "        predictions, decoder_hidden = self.decoder(inputs, decoder_hidden, edges)\n",
        "        return predictions, decoder_hidden, edges\n",
        "\n",
        "    def calculate_loss(self, inputs, is_train=False, teacher_forcing=True, return_edges=False, return_logits=False, use_prior_logits=False):\n",
        "        decoder_hidden = self.decoder.get_initial_hidden(inputs)\n",
        "        num_time_steps = inputs.size(0)\n",
        "        all_edges = []\n",
        "        all_predictions = []\n",
        "        all_priors = []\n",
        "        hard_sample = (not is_train) or self.train_hard_sample\n",
        "        prior_logits, posterior_logits, _ = self.encoder(inputs[:, :])\n",
        "        if not is_train:\n",
        "            teacher_forcing_steps = self.val_teacher_forcing_steps\n",
        "        else:\n",
        "            teacher_forcing_steps = self.teacher_forcing_steps\n",
        "        for step in range(num_time_steps):\n",
        "            if (teacher_forcing and (teacher_forcing_steps == -1 or step < teacher_forcing_steps)) or step == 0:\n",
        "                current_inputs = inputs[step]\n",
        "            else:\n",
        "                current_inputs = predictions\n",
        "            if not use_prior_logits:\n",
        "                current_p_logits = posterior_logits[step]\n",
        "            else:\n",
        "                current_p_logits = prior_logits[step]\n",
        "            predictions, decoder_hidden, edges = self.single_step_forward(current_inputs, decoder_hidden, current_p_logits, hard_sample)\n",
        "            all_predictions.append(predictions)\n",
        "            all_edges.append(edges)\n",
        "        \n",
        "        all_predictions = torch.stack(all_predictions, dim=0)\n",
        "        print('post stack:',all_predictions.shape)\n",
        "\n",
        "        target = inputs[:,:]\n",
        "        loss_nll = self.nll(all_predictions, target)\n",
        "        prob = F.softmax(posterior_logits, dim=-1)\n",
        "        loss_kl = self.kl_categorical_learned(prob, prior_logits)\n",
        "        if self.add_uniform_prior:\n",
        "            loss_kl = 0.5*loss_kl + 0.5*self.kl_categorical_avg(prob)\n",
        "        loss = loss_nll + self.kl_coef*loss_kl\n",
        "        loss = loss.mean()\n",
        "\n",
        "        if return_edges:\n",
        "            return loss, loss_nll, loss_kl, edges\n",
        "        elif return_logits:\n",
        "            return loss, loss_nll, loss_kl, posterior_logits, all_predictions\n",
        "        else:\n",
        "            return loss, loss_nll, loss_kl\n",
        "\n",
        "    def predict_future(self, inputs, prediction_steps, return_edges=False, return_everything=False):\n",
        "        burn_in_timesteps = inputs.size(0)\n",
        "        decoder_hidden = self.decoder.get_initial_hidden(inputs)\n",
        "        all_predictions = []\n",
        "        all_edges = []\n",
        "        prior_logits, _, prior_hidden = self.encoder(inputs[:, :])\n",
        "        for step in range(burn_in_timesteps-1):\n",
        "            current_inputs = inputs[:, step]\n",
        "            current_edge_logits = prior_logits[:, step]\n",
        "            predictions, decoder_hidden, edges = self.single_step_forward(current_inputs, decoder_hidden, current_edge_logits, True)\n",
        "            if return_everything:\n",
        "                all_edges.append(edges)\n",
        "                all_predictions.append(predictions)\n",
        "        predictions = inputs[:, burn_in_timesteps-1]\n",
        "        for step in range(prediction_steps):\n",
        "            current_edge_logits, prior_hidden = self.encoder.single_step_forward(predictions, prior_hidden)\n",
        "            predictions, decoder_hidden, edges = self.single_step_forward(predictions, decoder_hidden, current_edge_logits, True)\n",
        "            all_predictions.append(predictions)\n",
        "            all_edges.append(edges)\n",
        "        \n",
        "        predictions = torch.stack(all_predictions, dim=1)\n",
        "        if return_edges:\n",
        "            edges = torch.stack(all_edges, dim=1)\n",
        "            return predictions, edges\n",
        "        else:\n",
        "            return predictions\n",
        "\n",
        "    def copy_states(self, state):\n",
        "        if isinstance(state, tuple) or isinstance(state, list):\n",
        "            current_state = (state[0].clone(), state[1].clone())\n",
        "        else:\n",
        "            current_state = state.clone()\n",
        "        return current_state\n",
        "\n",
        "    def merge_hidden(self, hidden):\n",
        "        if isinstance(hidden[0], tuple) or isinstance(hidden[0], list):\n",
        "            result0 = torch.cat([x[0] for x in hidden], dim=0)\n",
        "            result1 = torch.cat([x[1] for x in hidden], dim=0)\n",
        "            return (result0, result1)\n",
        "        else:\n",
        "            return torch.cat(hidden, dim=0)\n",
        "\n",
        "    def predict_future_fixedwindow(self, inputs, burn_in_steps, prediction_steps, batch_size, return_edges=False):\n",
        "        print(\"INPUT SHAPE: \",inputs.shape)\n",
        "        prior_logits, _, prior_hidden = self.encoder(inputs[:, :])\n",
        "        decoder_hidden = self.decoder.get_initial_hidden(inputs)\n",
        "        for step in range(burn_in_steps-1):\n",
        "            current_inputs = inputs[:, step]\n",
        "            current_edge_logits = prior_logits[:, step]\n",
        "            predictions, decoder_hidden, _ = self.single_step_forward(current_inputs, decoder_hidden, current_edge_logits, True)\n",
        "        all_timestep_preds = []\n",
        "        all_timestep_edges = []\n",
        "        for window_ind in range(burn_in_steps - 1, inputs.size(1)-1, batch_size):\n",
        "            current_batch_preds = []\n",
        "            current_batch_edges = []\n",
        "            prior_states = []\n",
        "            decoder_states = []\n",
        "            for step in range(batch_size):\n",
        "                if window_ind + step >= inputs.size(1):\n",
        "                    break\n",
        "                predictions = inputs[:, window_ind + step] \n",
        "                current_edge_logits, prior_hidden = self.encoder.single_step_forward(predictions, prior_hidden)\n",
        "                predictions, decoder_hidden, _ = self.single_step_forward(predictions, decoder_hidden, current_edge_logits, True)\n",
        "                current_batch_preds.append(predictions)\n",
        "                tmp_prior = self.encoder.copy_states(prior_hidden)\n",
        "                tmp_decoder = self.copy_states(decoder_hidden)\n",
        "                prior_states.append(tmp_prior)\n",
        "                decoder_states.append(tmp_decoder)\n",
        "                if return_edges:\n",
        "                    current_batch_edges.append(current_edge_logits.cpu())\n",
        "            batch_prior_hidden = self.encoder.merge_hidden(prior_states)\n",
        "            batch_decoder_hidden = self.merge_hidden(decoder_states)\n",
        "            current_batch_preds = torch.cat(current_batch_preds, 0)\n",
        "            current_timestep_preds = [current_batch_preds]\n",
        "            if return_edges:\n",
        "                current_batch_edges = torch.cat(current_batch_edges, 0)\n",
        "                current_timestep_edges = [current_batch_edges]\n",
        "            for step in range(prediction_steps - 1):\n",
        "                current_batch_edge_logits, batch_prior_hidden = self.encoder.single_step_forward(current_batch_preds, batch_prior_hidden)\n",
        "                current_batch_preds, batch_decoder_hidden, _ = self.single_step_forward(current_batch_preds, batch_decoder_hidden, current_batch_edge_logits, True)\n",
        "                current_timestep_preds.append(current_batch_preds)\n",
        "                if return_edges:\n",
        "                    current_timestep_edges.append(current_batch_edge_logits.cpu())\n",
        "            all_timestep_preds.append(torch.stack(current_timestep_preds, dim=1))\n",
        "            if return_edges:\n",
        "                all_timestep_edges.append(torch.stack(current_timestep_edges, dim=1))\n",
        "        result =  torch.cat(all_timestep_preds, dim=0)\n",
        "        if return_edges:\n",
        "            edge_result = torch.cat(all_timestep_edges, dim=0)\n",
        "            return result.unsqueeze(0), edge_result.unsqueeze(0)\n",
        "        else:\n",
        "            return result.unsqueeze(0)\n",
        "\n",
        "    def nll(self, preds, target):\n",
        "        if self.nll_loss_type == 'crossent':\n",
        "            return self.nll_crossent(preds, target)\n",
        "        elif self.nll_loss_type == 'gaussian':\n",
        "            return self.nll_gaussian(preds, target)\n",
        "        elif self.nll_loss_type == 'poisson':\n",
        "            return self.nll_poisson(preds, target)\n",
        "\n",
        "    def nll_gaussian(self, preds, target, add_const=False):\n",
        "        print(preds.shape,target.shape)\n",
        "        neg_log_p = ((preds - target) ** 2 / (2 * self.prior_variance))\n",
        "        const = 0.5 * np.log(2 * np.pi * self.prior_variance)\n",
        "        #neg_log_p += const\n",
        "        if self.normalize_nll_per_var:\n",
        "            return neg_log_p.sum() / (target.size(0) * target.size(2))\n",
        "        elif self.normalize_nll:\n",
        "            return (neg_log_p.sum(-1) + const).view(preds.size(0), -1).mean(dim=1)\n",
        "        else:\n",
        "            return neg_log_p.view(target.size(0), -1).sum() / (target.size(1))\n",
        "\n",
        "\n",
        "    def nll_crossent(self, preds, target):\n",
        "        if self.normalize_nll:\n",
        "            return nn.BCEWithLogitsLoss(reduction='none')(preds, target).view(preds.size(0), -1).mean(dim=1)\n",
        "        else:\n",
        "            return nn.BCEWithLogitsLoss(reduction='none')(preds, target).view(preds.size(0), -1).sum(dim=1)\n",
        "\n",
        "    def nll_poisson(self, preds, target):\n",
        "        if self.normalize_nll:\n",
        "            return nn.PoissonNLLLoss(reduction='none')(preds, target).view(preds.size(0), -1).mean(dim=1)\n",
        "        else:\n",
        "            return nn.PoissonNLLLoss(reduction='none')(preds, target).view(preds.size(0), -1).sum(dim=1)\n",
        "\n",
        "    def kl_categorical_learned(self, preds, prior_logits):\n",
        "        log_prior = nn.LogSoftmax(dim=-1)(prior_logits)\n",
        "        kl_div = preds*(torch.log(preds + 1e-16) - log_prior)\n",
        "        if self.normalize_kl:     \n",
        "            return kl_div.sum(-1).view(preds.size(0), -1).mean(dim=1)\n",
        "        elif self.normalize_kl_per_var:\n",
        "            return kl_div.sum() / (self.num_vars * preds.size(0))\n",
        "        else:\n",
        "            return kl_div.view(preds.size(0), -1).sum(dim=1)\n",
        "\n",
        "    def kl_categorical_avg(self, preds, eps=1e-16):\n",
        "        avg_preds = preds.mean(dim=2)\n",
        "        kl_div = avg_preds*(torch.log(avg_preds+eps) - self.log_prior)\n",
        "        if self.normalize_kl:     \n",
        "            return kl_div.sum(-1).view(preds.size(0), -1).mean(dim=1)\n",
        "        elif self.normalize_kl_per_var:\n",
        "            return kl_div.sum() / (self.num_vars * preds.size(0))\n",
        "        else:\n",
        "            return kl_div.view(preds.size(0), -1).sum(dim=1)\n",
        "\n",
        "\n",
        "    def save(self, path):\n",
        "        torch.save(self.state_dict(), path)\n",
        "\n",
        "    def load(self, path):\n",
        "        self.load_state_dict(torch.load(path))"
      ],
      "metadata": {
        "id": "7sDVnc-yiQss"
      },
      "execution_count": 22,
      "outputs": []
    },
    {
      "cell_type": "markdown",
      "source": [
        "Build Model"
      ],
      "metadata": {
        "id": "WPyOiuyfiVLG"
      }
    },
    {
      "cell_type": "code",
      "source": [
        "def build_model(params):        \n",
        "  model = DNRI(params)\n",
        "  print(\"dNRI MODEL: \",model)\n",
        "\n",
        "  model.cuda()\n",
        "  return model"
      ],
      "metadata": {
        "id": "YYDNnt9AiXmv"
      },
      "execution_count": 23,
      "outputs": []
    },
    {
      "cell_type": "code",
      "source": [
        "model = build_model(params)"
      ],
      "metadata": {
        "id": "DYzkGBEGia0S",
        "colab": {
          "base_uri": "https://localhost:8080/"
        },
        "outputId": "2aa1c897-6c46-4135-d520-375c7365760b"
      },
      "execution_count": 24,
      "outputs": [
        {
          "output_type": "stream",
          "name": "stdout",
          "text": [
            "Using learned recurrent interaction net decoder.\n",
            "dNRI MODEL:  DNRI(\n",
            "  (encoder): DNRI_Encoder(\n",
            "    (mlp1): RefNRIMLP(\n",
            "      (model): Sequential(\n",
            "        (0): Linear(in_features=100, out_features=256, bias=True)\n",
            "        (1): ELU(alpha=1.0, inplace=True)\n",
            "        (2): Dropout(p=0.5, inplace=False)\n",
            "        (3): Linear(in_features=256, out_features=128, bias=True)\n",
            "        (4): ELU(alpha=1.0, inplace=True)\n",
            "      )\n",
            "      (bn): BatchNorm1d(128, eps=1e-05, momentum=0.1, affine=True, track_running_stats=True)\n",
            "    )\n",
            "    (mlp2): RefNRIMLP(\n",
            "      (model): Sequential(\n",
            "        (0): Linear(in_features=128, out_features=64, bias=True)\n",
            "        (1): ELU(alpha=1.0, inplace=True)\n",
            "        (2): Dropout(p=0.5, inplace=False)\n",
            "        (3): Linear(in_features=64, out_features=32, bias=True)\n",
            "        (4): ELU(alpha=1.0, inplace=True)\n",
            "      )\n",
            "      (bn): BatchNorm1d(32, eps=1e-05, momentum=0.1, affine=True, track_running_stats=True)\n",
            "    )\n",
            "    (mlp3): RefNRIMLP(\n",
            "      (model): Sequential(\n",
            "        (0): Linear(in_features=32, out_features=16, bias=True)\n",
            "        (1): ELU(alpha=1.0, inplace=True)\n",
            "        (2): Dropout(p=0.5, inplace=False)\n",
            "        (3): Linear(in_features=16, out_features=8, bias=True)\n",
            "        (4): ELU(alpha=1.0, inplace=True)\n",
            "      )\n",
            "      (bn): BatchNorm1d(8, eps=1e-05, momentum=0.1, affine=True, track_running_stats=True)\n",
            "    )\n",
            "    (mlp4): RefNRIMLP(\n",
            "      (model): Sequential(\n",
            "        (0): Linear(in_features=8, out_features=4, bias=True)\n",
            "        (1): ELU(alpha=1.0, inplace=True)\n",
            "        (2): Dropout(p=0.5, inplace=False)\n",
            "        (3): Linear(in_features=4, out_features=4, bias=True)\n",
            "        (4): ELU(alpha=1.0, inplace=True)\n",
            "      )\n",
            "      (bn): BatchNorm1d(4, eps=1e-05, momentum=0.1, affine=True, track_running_stats=True)\n",
            "    )\n",
            "    (forward_rnn): LSTM(4, 64, batch_first=True)\n",
            "    (reverse_rnn): LSTM(4, 64, batch_first=True)\n",
            "    (encoder_fc_out): Sequential(\n",
            "      (0): Linear(in_features=128, out_features=64, bias=True)\n",
            "      (1): ELU(alpha=1.0, inplace=True)\n",
            "      (2): Linear(in_features=64, out_features=1, bias=True)\n",
            "    )\n",
            "    (prior_fc_out): Sequential(\n",
            "      (0): Linear(in_features=64, out_features=16, bias=True)\n",
            "      (1): ELU(alpha=1.0, inplace=True)\n",
            "      (2): Linear(in_features=16, out_features=1, bias=True)\n",
            "    )\n",
            "  )\n",
            "  (decoder): DNRI_Decoder(\n",
            "    (msg_fc1): ModuleList(\n",
            "      (0): Linear(in_features=32, out_features=16, bias=True)\n",
            "    )\n",
            "    (msg_fc2): ModuleList(\n",
            "      (0): Linear(in_features=16, out_features=16, bias=True)\n",
            "    )\n",
            "    (out_fc1): Linear(in_features=16, out_features=16, bias=True)\n",
            "    (out_fc2): Linear(in_features=16, out_features=16, bias=True)\n",
            "    (out_fc3): Linear(in_features=16, out_features=100, bias=True)\n",
            "  )\n",
            ")\n"
          ]
        }
      ]
    },
    {
      "cell_type": "markdown",
      "source": [
        "Train"
      ],
      "metadata": {
        "id": "FjnGUJxWiaQG"
      }
    },
    {
      "cell_type": "code",
      "source": [
        "def train(model, train_data, val_data, params, train_writer, val_writer):\n",
        "    gpu = params.get('gpu', False)\n",
        "    batch_size = params.get('batch_size', 1000)\n",
        "    val_batch_size = params.get('val_batch_size', batch_size)\n",
        "    if val_batch_size is None:\n",
        "        val_batch_size = batch_size\n",
        "    accumulate_steps = params.get('accumulate_steps')\n",
        "    training_scheduler = params.get('training_scheduler', None)\n",
        "    num_epochs = params.get('num_epochs', 2)\n",
        "    val_interval = params.get('val_interval', 1)\n",
        "    val_start = params.get('val_start', 0)\n",
        "    clip_grad = params.get('clip_grad', None)\n",
        "    clip_grad_norm = params.get('clip_grad_norm', None)\n",
        "    normalize_nll = params.get('normalize_nll', False)\n",
        "    normalize_kl = params.get('normalize_kl', False)\n",
        "    tune_on_nll = params.get('tune_on_nll', False)\n",
        "    verbose = params.get('verbose', False)\n",
        "    val_teacher_forcing = params.get('val_teacher_forcing', False)\n",
        "    continue_training = params.get('continue_training', False)\n",
        "    train_data_loader = DataLoader(train_data, batch_size=batch_size, shuffle=True, drop_last=True)\n",
        "    val_data_loader = DataLoader(val_data, batch_size=val_batch_size)\n",
        "    lr = params['lr']\n",
        "    wd = params.get('wd', 0.)\n",
        "    mom = params.get('mom', 0.)\n",
        "    \n",
        "    model_params = [param for param in model.parameters() if param.requires_grad]\n",
        "    if params.get('use_adam', False):\n",
        "        opt = torch.optim.Adam(model_params, lr=lr, weight_decay=wd)\n",
        "    else:\n",
        "        opt = torch.optim.SGD(model_params, lr=lr, weight_decay=wd, momentum=mom)\n",
        "\n",
        "    working_dir = params['working_dir']\n",
        "    best_path = os.path.join(working_dir, 'best_model')\n",
        "    checkpoint_dir = os.path.join(working_dir, 'model_checkpoint')\n",
        "    training_path = os.path.join(working_dir, 'training_checkpoint')\n",
        "    if continue_training:\n",
        "        print(\"RESUMING TRAINING\")\n",
        "        model.load(checkpoint_dir)\n",
        "        train_params = torch.load(training_path)\n",
        "        start_epoch = train_params['epoch']\n",
        "        opt.load_state_dict(train_params['optimizer'])\n",
        "        best_val_result = train_params['best_val_result']\n",
        "        best_val_epoch = train_params['best_val_epoch']\n",
        "        print(\"STARTING EPOCH: \",start_epoch)\n",
        "    else:\n",
        "        start_epoch = 1\n",
        "        best_val_epoch = -1\n",
        "        best_val_result = 10000000\n",
        "    \n",
        "    training_scheduler = build_scheduler(opt, params)\n",
        "    end = start = 0 \n",
        "    seed(1)\n",
        "    for epoch in range(start_epoch, num_epochs+1):\n",
        "        print(\"EPOCH\", epoch, (end-start))\n",
        "        model.train()\n",
        "        model.train_percent = epoch / num_epochs\n",
        "        start = time.time() \n",
        "        for batch_ind, batch in enumerate(train_data_loader):\n",
        "            inputs = batch.to(device)\n",
        "            if gpu:\n",
        "                inputs = inputs.cuda(non_blocking=True)\n",
        "            loss, loss_nll, loss_kl, logits, _ = model.calculate_loss(inputs, is_train=True, return_logits=True)\n",
        "            loss.backward()\n",
        "            if verbose:\n",
        "                print(\"\\tBATCH %d OF %d: %f, %f, %f\"%(batch_ind+1, len(train_data_loader), loss.item(), loss_nll.mean().item(), loss_kl.mean().item()))\n",
        "            if accumulate_steps == -1 or (batch_ind+1)%accumulate_steps == 0:\n",
        "                if verbose and accumulate_steps > 0:\n",
        "                    print(\"\\tUPDATING WEIGHTS\")\n",
        "                if clip_grad is not None:\n",
        "                    nn.utils.clip_grad_value_(model.parameters(), clip_grad)\n",
        "                elif clip_grad_norm is not None:\n",
        "                    nn.utils.clip_grad_norm_(model.parameters(), clip_grad_norm)        \n",
        "                opt.step()\n",
        "                opt.zero_grad()\n",
        "                if accumulate_steps > 0 and accumulate_steps > len(train_data_loader) - batch_ind - 1:\n",
        "                    break\n",
        "            \n",
        "        if training_scheduler is not None:\n",
        "            training_scheduler.step()\n",
        "        \n",
        "        if train_writer is not None:\n",
        "            train_writer.add_scalar('loss', loss.item(), global_step=epoch)\n",
        "            if normalize_nll:\n",
        "                train_writer.add_scalar('NLL', loss_nll.mean().item(), global_step=epoch)\n",
        "            else:\n",
        "                train_writer.add_scalar('NLL', loss_nll.mean().item()/(inputs.size(1)*inputs.size(2)), global_step=epoch)\n",
        "            \n",
        "            train_writer.add_scalar(\"KL Divergence\", loss_kl.mean().item(), global_step=epoch)\n",
        "        model.eval()\n",
        "        opt.zero_grad()\n",
        "\n",
        "        total_nll = 0\n",
        "        total_kl = 0\n",
        "        if verbose:\n",
        "            print(\"COMPUTING VAL LOSSES\")\n",
        "        with torch.no_grad():\n",
        "            for batch_ind, batch in enumerate(val_data_loader):\n",
        "                inputs = batch\n",
        "                if gpu:\n",
        "                    inputs = inputs.cuda(non_blocking=True)\n",
        "                loss, loss_nll, loss_kl, logits, _ = model.calculate_loss(inputs, is_train=False, teacher_forcing=val_teacher_forcing, return_logits=True)\n",
        "                total_kl += loss_kl.sum().item()\n",
        "                total_nll += loss_nll.sum().item()\n",
        "                if verbose:\n",
        "                    print(\"\\tVAL BATCH %d of %d: %f, %f\"%(batch_ind+1, len(val_data_loader), loss_nll.mean(), loss_kl.mean()))\n",
        "            \n",
        "        total_kl /= len(val_data)\n",
        "        total_nll /= len(val_data)\n",
        "        total_loss = model.kl_coef*total_kl + total_nll #TODO: this is a thing you fixed\n",
        "        if val_writer is not None:\n",
        "            val_writer.add_scalar('loss', total_loss, global_step=epoch)\n",
        "            val_writer.add_scalar(\"NLL\", total_nll, global_step=epoch)\n",
        "            val_writer.add_scalar(\"KL Divergence\", total_kl, global_step=epoch)\n",
        "        if tune_on_nll:\n",
        "            tuning_loss = total_nll\n",
        "        else:\n",
        "            tuning_loss = total_loss\n",
        "        if tuning_loss < best_val_result:\n",
        "            best_val_epoch = epoch\n",
        "            best_val_result = tuning_loss\n",
        "            print(\"BEST VAL RESULT. SAVING MODEL...\")\n",
        "            model.save(best_path)\n",
        "        model.save(checkpoint_dir)\n",
        "        torch.save({\n",
        "                    'epoch':epoch+1,\n",
        "                    'optimizer':opt.state_dict(),\n",
        "                    'best_val_result':best_val_result,\n",
        "                    'best_val_epoch':best_val_epoch,\n",
        "                   }, training_path)\n",
        "        print(\"EPOCH %d EVAL: \"%epoch)\n",
        "        print(\"\\tCURRENT VAL LOSS: %f\"%tuning_loss)\n",
        "        print(\"\\tBEST VAL LOSS:    %f\"%best_val_result)\n",
        "        print(\"\\tBEST VAL EPOCH:   %d\"%best_val_epoch)\n",
        "        end = time.time()"
      ],
      "metadata": {
        "id": "gFAiV2h8iiBK"
      },
      "execution_count": 25,
      "outputs": []
    },
    {
      "cell_type": "code",
      "source": [
        "train_dataset = np.array([np.array(i) for i in dataframe[:100].R])\n",
        "test_dataset = np.array([np.array(i) for i in dataframe[100:150].R])"
      ],
      "metadata": {
        "id": "u7atlPZom9CC"
      },
      "execution_count": 51,
      "outputs": []
    },
    {
      "cell_type": "code",
      "source": [
        "train_dataset = (train_dataset - train_dataset.min()) / (train_dataset.max() - train_dataset.min())"
      ],
      "metadata": {
        "id": "_FggcT_4Et2C"
      },
      "execution_count": 52,
      "outputs": []
    },
    {
      "cell_type": "code",
      "source": [
        "test_dataset = test_dataset - train_dataset.min() / (train_dataset.max() - train_dataset.min())"
      ],
      "metadata": {
        "id": "eWLgYz5QF9mM"
      },
      "execution_count": 33,
      "outputs": []
    },
    {
      "cell_type": "code",
      "source": [
        "#train_dataset = np.split(dataset,2)[0].astype(np.float32)\n",
        "#test_dataset = np.split(dataset,2)[1].astype(np.float32)"
      ],
      "metadata": {
        "id": "DybfUrKvi3vr"
      },
      "execution_count": null,
      "outputs": []
    },
    {
      "cell_type": "code",
      "source": [
        "train_dataset.shape"
      ],
      "metadata": {
        "id": "bPjJ79CgoU-n",
        "colab": {
          "base_uri": "https://localhost:8080/"
        },
        "outputId": "a9221334-d200-43a9-8396-55477c71326b"
      },
      "execution_count": 53,
      "outputs": [
        {
          "output_type": "execute_result",
          "data": {
            "text/plain": [
              "(100, 10, 2)"
            ]
          },
          "metadata": {},
          "execution_count": 53
        }
      ]
    },
    {
      "cell_type": "code",
      "source": [
        "t = train_dataset.reshape(100,20)"
      ],
      "metadata": {
        "id": "MP6S7dW9Geip"
      },
      "execution_count": 54,
      "outputs": []
    },
    {
      "cell_type": "code",
      "source": [
        "t"
      ],
      "metadata": {
        "id": "9ivzkE0YIN_1",
        "outputId": "73105a69-b588-4a21-a505-96561058abdb",
        "colab": {
          "base_uri": "https://localhost:8080/"
        }
      },
      "execution_count": 56,
      "outputs": [
        {
          "output_type": "execute_result",
          "data": {
            "text/plain": [
              "array([[0.21059337, 0.5827958 , 0.9041405 , ..., 0.170485  , 0.48611358,\n",
              "        0.3409517 ],\n",
              "       [0.20573413, 0.5788581 , 0.9022926 , ..., 0.16578922, 0.49100298,\n",
              "        0.33705148],\n",
              "       [0.20087491, 0.5749203 , 0.9004447 , ..., 0.16109343, 0.49589235,\n",
              "        0.33315122],\n",
              "       ...,\n",
              "       [0.7399589 , 0.20083332, 0.72489196, ..., 0.72056997, 0.9966292 ,\n",
              "        0.20316878],\n",
              "       [0.7350996 , 0.19689557, 0.72304404, ..., 0.7159827 , 0.00139222,\n",
              "        0.20645398],\n",
              "       [0.7302404 , 0.19295782, 0.7211961 , ..., 0.7099856 , 0.00682281,\n",
              "        0.20982607]], dtype=float32)"
            ]
          },
          "metadata": {},
          "execution_count": 56
        }
      ]
    },
    {
      "cell_type": "code",
      "source": [
        "train_dataset = np.array([np.hstack(i) for i in train_dataset])\n",
        "test_dataset = np.array([np.hstack(i) for i in test_dataset])                                             "
      ],
      "metadata": {
        "id": "yfU67Mau57cU"
      },
      "execution_count": null,
      "outputs": []
    },
    {
      "cell_type": "code",
      "source": [
        "train(model,train_dataset,test_dataset, params, None, None)"
      ],
      "metadata": {
        "id": "hmt2pLjOmop7"
      },
      "execution_count": null,
      "outputs": []
    },
    {
      "cell_type": "code",
      "source": [
        "l = [[torch.randn([1,10])] for i in range(0,10)]"
      ],
      "metadata": {
        "id": "FpwyQrgNydrO"
      },
      "execution_count": null,
      "outputs": []
    },
    {
      "cell_type": "code",
      "source": [
        "torch.stack(l,dim = 0).shape"
      ],
      "metadata": {
        "id": "ipdNAmLAyxgs"
      },
      "execution_count": null,
      "outputs": []
    },
    {
      "cell_type": "code",
      "source": [
        "torch.randn([10, 2450, 64]).view(-1,1).reshape(1568000) * torch.randn([10, 1])"
      ],
      "metadata": {
        "id": "an9cISjvWRqT"
      },
      "execution_count": null,
      "outputs": []
    },
    {
      "cell_type": "code",
      "source": [
        "torch.randn([10, 2450, 64]).reshape(10,2450*64).shape"
      ],
      "metadata": {
        "id": "8y7sVSs6Wh8M"
      },
      "execution_count": null,
      "outputs": []
    },
    {
      "cell_type": "code",
      "source": [
        "x = torch.randn(2, 3)\n",
        "torch.cat((x,x), dim = -1).shape"
      ],
      "metadata": {
        "id": "l7O0EGzdW1T0"
      },
      "execution_count": null,
      "outputs": []
    },
    {
      "cell_type": "code",
      "source": [
        "torch.randn([10, 2450, 64]).view(-1,1).reshape(1568000).shape"
      ],
      "metadata": {
        "id": "Acxua3xOZXD0"
      },
      "execution_count": null,
      "outputs": []
    },
    {
      "cell_type": "code",
      "source": [
        ""
      ],
      "metadata": {
        "id": "AyhwanI9arIZ"
      },
      "execution_count": null,
      "outputs": []
    }
  ]
}