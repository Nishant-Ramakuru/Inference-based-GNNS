{
  "nbformat": 4,
  "nbformat_minor": 0,
  "metadata": {
    "colab": {
      "name": "Untitled1.ipynb",
      "provenance": [],
      "include_colab_link": true
    },
    "kernelspec": {
      "name": "python3",
      "display_name": "Python 3"
    },
    "language_info": {
      "name": "python"
    },
    "accelerator": "GPU",
    "gpuClass": "standard"
  },
  "cells": [
    {
      "cell_type": "markdown",
      "metadata": {
        "id": "view-in-github",
        "colab_type": "text"
      },
      "source": [
        "<a href=\"https://colab.research.google.com/github/Nishant-Ramakuru/Inference-based-GNNS/blob/main/simulations/RNN_Baseline.ipynb\" target=\"_parent\"><img src=\"https://colab.research.google.com/assets/colab-badge.svg\" alt=\"Open In Colab\"/></a>"
      ]
    },
    {
      "cell_type": "code",
      "source": [
        "#Import Functions\n",
        "\n",
        "from torch.utils.tensorboard import SummaryWriter\n",
        "from torch.utils.data import DataLoader\n",
        "import torch\n",
        "import matplotlib\n",
        "matplotlib.use('Agg')\n",
        "import matplotlib.pyplot as plt\n",
        "import matplotlib.animation as animation\n",
        "import matplotlib.colors as mcolors\n",
        "import numpy as np\n",
        "import torch.nn.functional as F\n",
        "import torch.nn as nn\n",
        "import random\n",
        "from torch.utils.data import Dataset\n",
        "import argparse, os, time\n",
        "from torch.nn import init\n",
        "import math\n",
        "import networkx as nx\n",
        "import pandas as pd\n",
        "import os "
      ],
      "metadata": {
        "id": "8Tm6GblxoZWs"
      },
      "execution_count": 188,
      "outputs": []
    },
    {
      "cell_type": "code",
      "source": [
        "from google.colab import drive\n",
        "drive.mount('/content/drive/')"
      ],
      "metadata": {
        "colab": {
          "base_uri": "https://localhost:8080/"
        },
        "id": "uYXmvpJedOnr",
        "outputId": "6dc0a1a1-53a8-46b5-be1b-1c7c1bed373e"
      },
      "execution_count": 189,
      "outputs": [
        {
          "output_type": "stream",
          "name": "stdout",
          "text": [
            "Drive already mounted at /content/drive/; to attempt to forcibly remount, call drive.mount(\"/content/drive/\", force_remount=True).\n"
          ]
        }
      ]
    },
    {
      "cell_type": "code",
      "source": [
        "import sys\n",
        "sys.path.append('/content/drive/MyDrive/GNNs')\n",
        "from utils_functions import *\n",
        "from RNN import *"
      ],
      "metadata": {
        "id": "7YSfCkQxQG6E"
      },
      "execution_count": 190,
      "outputs": []
    },
    {
      "cell_type": "markdown",
      "source": [
        "Parameters"
      ],
      "metadata": {
        "id": "1kxH7lSHpbAE"
      }
    },
    {
      "cell_type": "code",
      "source": [
        "params = {}\n",
        "tau = 1\n",
        "params['use_adam'] = True\n",
        "params['test_burn_in_steps'] =40\n",
        "params['num_time_steps'] = 50\n",
        "params['data_path']= '/content/MyDrive/GNNs'\n",
        "params['num_train'] = 3000\n",
        "params['num_val'] = 1000\n",
        "params['num_test']= 1000\n",
        "params['load_model'] = False\n",
        "params['load_best_model'] = False\n",
        "params['model_type'] = 'RNN'\n",
        "#params['graph_type'] = ['static', 'dynamic']\n",
        "params['graph_type'] = 'dynamic'\n",
        "params['encoder_no_factor'] = True\n",
        "params['num_epochs'] = 100\n",
        "params['num_vars'] = params['num_agents'] = 10\n",
        "params['input_noise_type'] = 'none'\n",
        "params['input_size'] = 4\n",
        "params['nll_loss_type'] = 'gaussian'\n",
        "params['prior_variance'] = 5e-5\n",
        "params['batch_size'] = 64\n",
        "params['val_batch_size'] = 64\n",
        "params['accumulate_steps'] = 40\n",
        "params['num_edge_types'] = 1\n",
        "params['encoder_dropout'] = 0.0\n",
        "params['encoder_hidden'] = 256\n",
        "params['encoder_rnn_hidden'] = 64\n",
        "params['encoder_rnn_type'] = 'lstm'\n",
        "params['decoder_rnn_type'] = 'lstm'\n",
        "params['encoder_mlp_num_layers'] = 1\n",
        "params['encoder_mlp_hidden'] = 256\n",
        "params['prior_num_layers'] = 1\n",
        "params['prior_hidden_size'] = 256\n",
        "params['gpu'] = False\n",
        "params['decoder_hidden'] = 256\n",
        "params['skip_first'] = False\n",
        "params['decoder_dropout'] = 0.0\n",
        "params['decoder_type'] = None\n",
        "params['lr'] = 5e-4\n",
        "params['mode'] = \"train\"\n",
        "\n",
        "params['working_dir'] =params['output_dir'] =  ('/content/MyDrive/GNNs')"
      ],
      "metadata": {
        "id": "hu42uHhigCwW"
      },
      "execution_count": 191,
      "outputs": []
    },
    {
      "cell_type": "markdown",
      "source": [
        "Dataset"
      ],
      "metadata": {
        "id": "kfqJoGAgpd_Y"
      }
    },
    {
      "cell_type": "code",
      "source": [
        "df = pd.read_pickle(\"/content/drive/MyDrive/GNNs/boids_buffer_10_final1.csv\")"
      ],
      "metadata": {
        "id": "XXXXqOdbc1as"
      },
      "execution_count": 192,
      "outputs": []
    },
    {
      "cell_type": "code",
      "source": [
        "df.shape"
      ],
      "metadata": {
        "colab": {
          "base_uri": "https://localhost:8080/"
        },
        "id": "Eo0__BlW4zLO",
        "outputId": "1dea8210-b914-41b5-ee18-06220de682aa"
      },
      "execution_count": 193,
      "outputs": [
        {
          "output_type": "execute_result",
          "data": {
            "text/plain": [
              "(5000, 4)"
            ]
          },
          "metadata": {},
          "execution_count": 193
        }
      ]
    },
    {
      "cell_type": "code",
      "source": [
        "df.head()"
      ],
      "metadata": {
        "colab": {
          "base_uri": "https://localhost:8080/",
          "height": 206
        },
        "id": "Sx9crDBZdld5",
        "outputId": "d6ac90b0-25e0-487e-8e15-500cdbc7006f"
      },
      "execution_count": 194,
      "outputs": [
        {
          "output_type": "execute_result",
          "data": {
            "text/plain": [
              "                                                   R  \\\n",
              "0  [[1077.9397, 666.84686], [856.4423, 1137.0732]...   \n",
              "1  [[1073.0123, 667.6944], [856.3285, 1142.072], ...   \n",
              "2  [[1068.0665, 668.4283], [856.2146, 1147.0707],...   \n",
              "3  [[1063.112, 669.102], [856.10077, 1152.0693], ...   \n",
              "4  [[1058.1525, 669.736], [855.9869, 1157.0681], ...   \n",
              "\n",
              "                                               theta  \\\n",
              "0  [2.9513416, 1.5935696, 4.8110423, 0.96409255, ...   \n",
              "1  [2.9859188, 1.5935696, 4.8110423, 0.96409255, ...   \n",
              "2  [3.0014527, 1.5935696, 4.8110423, 0.96409255, ...   \n",
              "3  [3.0109863, 1.5935696, 4.8110423, 0.96409255, ...   \n",
              "4  [3.0177057, 1.5935696, 4.8110423, 0.96409255, ...   \n",
              "\n",
              "                                            velocity  \\\n",
              "0  [[-4.927397, 0.8475409], [-0.11385684, 4.99870...   \n",
              "1  [[-4.9457974, 0.7338834], [-0.11385684, 4.9987...   \n",
              "2  [[-4.954386, 0.6736986], [-0.11385684, 4.99870...   \n",
              "3  [[-4.9596305, 0.6340109], [-0.11385684, 4.9987...   \n",
              "4  [[-4.963271, 0.6048854], [-0.11385684, 4.99870...   \n",
              "\n",
              "                                          trajectory  \n",
              "0  [[1077.9397, 666.84686, -4.927397, 0.8475409],...  \n",
              "1  [[1073.0123, 667.6944, -4.9457974, 0.7338834],...  \n",
              "2  [[1068.0665, 668.4283, -4.954386, 0.6736986], ...  \n",
              "3  [[1063.112, 669.102, -4.9596305, 0.6340109], [...  \n",
              "4  [[1058.1525, 669.736, -4.963271, 0.6048854], [...  "
            ],
            "text/html": [
              "\n",
              "  <div id=\"df-dc6af5cc-8ab5-4271-ad29-7eb9ed120bfd\">\n",
              "    <div class=\"colab-df-container\">\n",
              "      <div>\n",
              "<style scoped>\n",
              "    .dataframe tbody tr th:only-of-type {\n",
              "        vertical-align: middle;\n",
              "    }\n",
              "\n",
              "    .dataframe tbody tr th {\n",
              "        vertical-align: top;\n",
              "    }\n",
              "\n",
              "    .dataframe thead th {\n",
              "        text-align: right;\n",
              "    }\n",
              "</style>\n",
              "<table border=\"1\" class=\"dataframe\">\n",
              "  <thead>\n",
              "    <tr style=\"text-align: right;\">\n",
              "      <th></th>\n",
              "      <th>R</th>\n",
              "      <th>theta</th>\n",
              "      <th>velocity</th>\n",
              "      <th>trajectory</th>\n",
              "    </tr>\n",
              "  </thead>\n",
              "  <tbody>\n",
              "    <tr>\n",
              "      <th>0</th>\n",
              "      <td>[[1077.9397, 666.84686], [856.4423, 1137.0732]...</td>\n",
              "      <td>[2.9513416, 1.5935696, 4.8110423, 0.96409255, ...</td>\n",
              "      <td>[[-4.927397, 0.8475409], [-0.11385684, 4.99870...</td>\n",
              "      <td>[[1077.9397, 666.84686, -4.927397, 0.8475409],...</td>\n",
              "    </tr>\n",
              "    <tr>\n",
              "      <th>1</th>\n",
              "      <td>[[1073.0123, 667.6944], [856.3285, 1142.072], ...</td>\n",
              "      <td>[2.9859188, 1.5935696, 4.8110423, 0.96409255, ...</td>\n",
              "      <td>[[-4.9457974, 0.7338834], [-0.11385684, 4.9987...</td>\n",
              "      <td>[[1073.0123, 667.6944, -4.9457974, 0.7338834],...</td>\n",
              "    </tr>\n",
              "    <tr>\n",
              "      <th>2</th>\n",
              "      <td>[[1068.0665, 668.4283], [856.2146, 1147.0707],...</td>\n",
              "      <td>[3.0014527, 1.5935696, 4.8110423, 0.96409255, ...</td>\n",
              "      <td>[[-4.954386, 0.6736986], [-0.11385684, 4.99870...</td>\n",
              "      <td>[[1068.0665, 668.4283, -4.954386, 0.6736986], ...</td>\n",
              "    </tr>\n",
              "    <tr>\n",
              "      <th>3</th>\n",
              "      <td>[[1063.112, 669.102], [856.10077, 1152.0693], ...</td>\n",
              "      <td>[3.0109863, 1.5935696, 4.8110423, 0.96409255, ...</td>\n",
              "      <td>[[-4.9596305, 0.6340109], [-0.11385684, 4.9987...</td>\n",
              "      <td>[[1063.112, 669.102, -4.9596305, 0.6340109], [...</td>\n",
              "    </tr>\n",
              "    <tr>\n",
              "      <th>4</th>\n",
              "      <td>[[1058.1525, 669.736], [855.9869, 1157.0681], ...</td>\n",
              "      <td>[3.0177057, 1.5935696, 4.8110423, 0.96409255, ...</td>\n",
              "      <td>[[-4.963271, 0.6048854], [-0.11385684, 4.99870...</td>\n",
              "      <td>[[1058.1525, 669.736, -4.963271, 0.6048854], [...</td>\n",
              "    </tr>\n",
              "  </tbody>\n",
              "</table>\n",
              "</div>\n",
              "      <button class=\"colab-df-convert\" onclick=\"convertToInteractive('df-dc6af5cc-8ab5-4271-ad29-7eb9ed120bfd')\"\n",
              "              title=\"Convert this dataframe to an interactive table.\"\n",
              "              style=\"display:none;\">\n",
              "        \n",
              "  <svg xmlns=\"http://www.w3.org/2000/svg\" height=\"24px\"viewBox=\"0 0 24 24\"\n",
              "       width=\"24px\">\n",
              "    <path d=\"M0 0h24v24H0V0z\" fill=\"none\"/>\n",
              "    <path d=\"M18.56 5.44l.94 2.06.94-2.06 2.06-.94-2.06-.94-.94-2.06-.94 2.06-2.06.94zm-11 1L8.5 8.5l.94-2.06 2.06-.94-2.06-.94L8.5 2.5l-.94 2.06-2.06.94zm10 10l.94 2.06.94-2.06 2.06-.94-2.06-.94-.94-2.06-.94 2.06-2.06.94z\"/><path d=\"M17.41 7.96l-1.37-1.37c-.4-.4-.92-.59-1.43-.59-.52 0-1.04.2-1.43.59L10.3 9.45l-7.72 7.72c-.78.78-.78 2.05 0 2.83L4 21.41c.39.39.9.59 1.41.59.51 0 1.02-.2 1.41-.59l7.78-7.78 2.81-2.81c.8-.78.8-2.07 0-2.86zM5.41 20L4 18.59l7.72-7.72 1.47 1.35L5.41 20z\"/>\n",
              "  </svg>\n",
              "      </button>\n",
              "      \n",
              "  <style>\n",
              "    .colab-df-container {\n",
              "      display:flex;\n",
              "      flex-wrap:wrap;\n",
              "      gap: 12px;\n",
              "    }\n",
              "\n",
              "    .colab-df-convert {\n",
              "      background-color: #E8F0FE;\n",
              "      border: none;\n",
              "      border-radius: 50%;\n",
              "      cursor: pointer;\n",
              "      display: none;\n",
              "      fill: #1967D2;\n",
              "      height: 32px;\n",
              "      padding: 0 0 0 0;\n",
              "      width: 32px;\n",
              "    }\n",
              "\n",
              "    .colab-df-convert:hover {\n",
              "      background-color: #E2EBFA;\n",
              "      box-shadow: 0px 1px 2px rgba(60, 64, 67, 0.3), 0px 1px 3px 1px rgba(60, 64, 67, 0.15);\n",
              "      fill: #174EA6;\n",
              "    }\n",
              "\n",
              "    [theme=dark] .colab-df-convert {\n",
              "      background-color: #3B4455;\n",
              "      fill: #D2E3FC;\n",
              "    }\n",
              "\n",
              "    [theme=dark] .colab-df-convert:hover {\n",
              "      background-color: #434B5C;\n",
              "      box-shadow: 0px 1px 3px 1px rgba(0, 0, 0, 0.15);\n",
              "      filter: drop-shadow(0px 1px 2px rgba(0, 0, 0, 0.3));\n",
              "      fill: #FFFFFF;\n",
              "    }\n",
              "  </style>\n",
              "\n",
              "      <script>\n",
              "        const buttonEl =\n",
              "          document.querySelector('#df-dc6af5cc-8ab5-4271-ad29-7eb9ed120bfd button.colab-df-convert');\n",
              "        buttonEl.style.display =\n",
              "          google.colab.kernel.accessAllowed ? 'block' : 'none';\n",
              "\n",
              "        async function convertToInteractive(key) {\n",
              "          const element = document.querySelector('#df-dc6af5cc-8ab5-4271-ad29-7eb9ed120bfd');\n",
              "          const dataTable =\n",
              "            await google.colab.kernel.invokeFunction('convertToInteractive',\n",
              "                                                     [key], {});\n",
              "          if (!dataTable) return;\n",
              "\n",
              "          const docLinkHtml = 'Like what you see? Visit the ' +\n",
              "            '<a target=\"_blank\" href=https://colab.research.google.com/notebooks/data_table.ipynb>data table notebook</a>'\n",
              "            + ' to learn more about interactive tables.';\n",
              "          element.innerHTML = '';\n",
              "          dataTable['output_type'] = 'display_data';\n",
              "          await google.colab.output.renderOutput(dataTable, element);\n",
              "          const docLink = document.createElement('div');\n",
              "          docLink.innerHTML = docLinkHtml;\n",
              "          element.appendChild(docLink);\n",
              "        }\n",
              "      </script>\n",
              "    </div>\n",
              "  </div>\n",
              "  "
            ]
          },
          "metadata": {},
          "execution_count": 194
        }
      ]
    },
    {
      "cell_type": "code",
      "source": [
        "agent = 9"
      ],
      "metadata": {
        "id": "xWvLHO7UQEDF"
      },
      "execution_count": 195,
      "outputs": []
    },
    {
      "cell_type": "code",
      "source": [
        "x = []\n",
        "y = []\n",
        "\n",
        "for i in range(50):\n",
        "  x.append(df.trajectory[i][agent][0])\n",
        "  y.append(df.trajectory[i][agent][1])\n",
        "\n",
        "%matplotlib inline\n",
        "print(len(x))\n",
        "plt.plot(x,y)\n",
        "plt.grid()\n",
        "plt.show()"
      ],
      "metadata": {
        "colab": {
          "base_uri": "https://localhost:8080/",
          "height": 282
        },
        "id": "YkThR2-XPBAN",
        "outputId": "c6c32a4b-689b-4f28-f90b-e341c02c6a11"
      },
      "execution_count": 196,
      "outputs": [
        {
          "output_type": "stream",
          "name": "stdout",
          "text": [
            "50\n"
          ]
        },
        {
          "output_type": "display_data",
          "data": {
            "text/plain": [
              "<Figure size 432x288 with 1 Axes>"
            ],
            "image/png": "[encoded data removed]"
          },
          "metadata": {
            "needs_background": "light"
          }
        }
      ]
    },
    {
      "cell_type": "code",
      "source": [
        "data = []\n",
        "for w in range(len(df)):\n",
        "  \n",
        "  state = np.array(df.R[w])\n",
        "  D = list()\n",
        "  for a,i in enumerate(state):\n",
        "    d= []\n",
        "    for b,j in enumerate(state):\n",
        "      eDistance = math.hypot(i[0] - j[0], i[1] - j[1])\n",
        "      if a == b:\n",
        "        d.append(0)\n",
        "      elif int(eDistance) <= 200:\n",
        "        d.append(1)\n",
        "      else:\n",
        "        d.append(0)\n",
        "    D.append(d)\n",
        "\n",
        "  data.append(np.array(D))\n",
        "edge_data = np.array(data)\n",
        "#all_data = np.array(list(df.trajectory.transpose()))\n",
        "all_data = df.trajectory.to_numpy()\n",
        "\n",
        "adj_array = []\n",
        "#print(edge_data.shape)\n",
        "for time_step in range(len(edge_data)):\n",
        "  edge = []\n",
        "  for i in range(len(edge_data[0])):\n",
        "    edge = edge + list(list(edge_data[time_step][i][:i])+list(edge_data[time_step][i][i+1:]))\n",
        "    \n",
        "  #print(len(edge[0].shape))\n",
        "  adj_array.append(edge)\n",
        "\n",
        "edge_data = np.array(adj_array)"
      ],
      "metadata": {
        "id": "DvNzNXDsmHrD"
      },
      "execution_count": 197,
      "outputs": []
    },
    {
      "cell_type": "code",
      "source": [
        "x = []\n",
        "y = []\n",
        "for i in range(50):\n",
        "  x.append(all_data[i][agent][0])\n",
        "  y.append(all_data[i][agent][1])\n",
        "\n",
        "%matplotlib inline\n",
        "print(len(x))\n",
        "plt.plot(x,y)\n",
        "plt.grid()\n",
        "plt.show()"
      ],
      "metadata": {
        "colab": {
          "base_uri": "https://localhost:8080/",
          "height": 282
        },
        "id": "ijp9wCSyURHS",
        "outputId": "5f7ad523-d9b5-4ee1-b4cd-7a1feb393d34"
      },
      "execution_count": 198,
      "outputs": [
        {
          "output_type": "stream",
          "name": "stdout",
          "text": [
            "50\n"
          ]
        },
        {
          "output_type": "display_data",
          "data": {
            "text/plain": [
              "<Figure size 432x288 with 1 Axes>"
            ],
            "image/png": "[encoded data removed]"
          },
          "metadata": {
            "needs_background": "light"
          }
        }
      ]
    },
    {
      "cell_type": "code",
      "source": [
        "all_data = np.stack(all_data)\n",
        "train_data = torch.FloatTensor(all_data[:params['num_train']])\n",
        "val_data = torch.FloatTensor(all_data[params['num_train']:params['num_train']+params['num_val']])\n",
        "test_data = torch.FloatTensor(all_data[params['num_train']+params['num_val']:params['num_train']+params['num_val']+params['num_test']])\n",
        "\n",
        "train_edges = torch.FloatTensor(edge_data[:params['num_train']])\n",
        "val_edges = torch.FloatTensor(edge_data[params['num_train']:params['num_train']+params['num_val']])\n",
        "test_edges = torch.FloatTensor(edge_data[params['num_train']+params['num_val']:params['num_train']+params['num_val']+params['num_test']])"
      ],
      "metadata": {
        "id": "sMqcjpLRea24"
      },
      "execution_count": 199,
      "outputs": []
    },
    {
      "cell_type": "code",
      "source": [
        "del all_data, df,edge_data, data"
      ],
      "metadata": {
        "id": "d9nZE2UU9tCL"
      },
      "execution_count": 200,
      "outputs": []
    },
    {
      "cell_type": "code",
      "source": [
        "print(\"Train Shape:\", train_data.shape,\"\\n\", \n",
        "       \"Val Shape:\", val_data.shape,\"\\n\",\n",
        "      \"Test Shape:\", test_data.shape)"
      ],
      "metadata": {
        "colab": {
          "base_uri": "https://localhost:8080/"
        },
        "id": "4UGCd5PmDRff",
        "outputId": "8bef6b8e-f8e1-40e3-995a-b7d03de98b97"
      },
      "execution_count": 201,
      "outputs": [
        {
          "output_type": "stream",
          "name": "stdout",
          "text": [
            "Train Shape: torch.Size([3000, 10, 4]) \n",
            " Val Shape: torch.Size([1000, 10, 4]) \n",
            " Test Shape: torch.Size([1000, 10, 4])\n"
          ]
        }
      ]
    },
    {
      "cell_type": "code",
      "source": [
        "x = []\n",
        "y = []\n",
        "for time_step in range(50):\n",
        "  x.append(train_data[time_step][agent][1])\n",
        "  y.append(train_data[time_step][agent][0])\n",
        "\n",
        "%matplotlib inline\n",
        "print(len(x))\n",
        "plt.plot(x,y)\n",
        "plt.grid()\n",
        "plt.show()"
      ],
      "metadata": {
        "colab": {
          "base_uri": "https://localhost:8080/",
          "height": 282
        },
        "id": "dv4lGXHKPdSw",
        "outputId": "e869c491-2675-4cf8-da62-dcb6bdca8f2a"
      },
      "execution_count": 202,
      "outputs": [
        {
          "output_type": "stream",
          "name": "stdout",
          "text": [
            "50\n"
          ]
        },
        {
          "output_type": "display_data",
          "data": {
            "text/plain": [
              "<Figure size 432x288 with 1 Axes>"
            ],
            "image/png": "[encoded data removed]"
          },
          "metadata": {
            "needs_background": "light"
          }
        }
      ]
    },
    {
      "cell_type": "code",
      "source": [
        "train_data = train_data.reshape([int(params[\"num_train\"]/50),50,10,4])\n",
        "val_data = val_data.reshape([int(params[\"num_val\"]/50),50,10,4])\n",
        "test_data = test_data.reshape([int(params[\"num_test\"]/50),50,10,4])\n",
        "\n",
        "train_edges = train_edges.reshape([int(params['num_train']/50),50,90])\n",
        "val_edges = val_edges.reshape([int(params['num_val']/50),50,90])\n",
        "test_edges = test_edges.reshape([int(params['num_test']/50),50,90])"
      ],
      "metadata": {
        "id": "a5aGYElZbFo_"
      },
      "execution_count": 203,
      "outputs": []
    },
    {
      "cell_type": "code",
      "source": [
        "x = []\n",
        "y = []\n",
        "for time_step in range(50):\n",
        "  x.append(train_data[0][time_step][agent][0])\n",
        "  y.append(train_data[0][time_step][agent][1])\n",
        "\n",
        "%matplotlib inline\n",
        "plt.plot(x,y)\n",
        "plt.grid()\n",
        "plt.show()"
      ],
      "metadata": {
        "colab": {
          "base_uri": "https://localhost:8080/",
          "height": 265
        },
        "id": "N66MaMcFPg6x",
        "outputId": "af870d20-fa30-4b9c-8fe8-8e2a61bbf871"
      },
      "execution_count": 204,
      "outputs": [
        {
          "output_type": "display_data",
          "data": {
            "text/plain": [
              "<Figure size 432x288 with 1 Axes>"
            ],
            "image/png": "[encoded data removed]"
          },
          "metadata": {
            "needs_background": "light"
          }
        }
      ]
    },
    {
      "cell_type": "code",
      "source": [
        "train_data = torch.nn.functional.normalize(train_data)\n",
        "val_data = torch.nn.functional.normalize(val_data)\n",
        "test_data = torch.nn.functional.normalize(test_data)"
      ],
      "metadata": {
        "id": "lRvZM3sW8hCa"
      },
      "execution_count": 205,
      "outputs": []
    },
    {
      "cell_type": "code",
      "source": [
        "x = []\n",
        "y = []\n",
        "for time_step in range(50):\n",
        "  x.append(train_data[0][time_step][agent][0])\n",
        "  y.append(train_data[0][time_step][agent][1])\n",
        "%matplotlib inline\n",
        "plt.plot(x,y)\n",
        "plt.grid()\n",
        "plt.show()"
      ],
      "metadata": {
        "colab": {
          "base_uri": "https://localhost:8080/",
          "height": 265
        },
        "id": "gwopC0PTPi_Q",
        "outputId": "9253d29c-1534-48ea-e0a6-f152a83e5a00"
      },
      "execution_count": 206,
      "outputs": [
        {
          "output_type": "display_data",
          "data": {
            "text/plain": [
              "<Figure size 432x288 with 1 Axes>"
            ],
            "image/png": "[encoded data removed]"
          },
          "metadata": {
            "needs_background": "light"
          }
        }
      ]
    },
    {
      "cell_type": "code",
      "source": [
        "DATA = []\n",
        "\n",
        "for i in range(train_data.shape[0]):\n",
        "  DATA.append({'inputs':train_data[i].reshape([1,50,10,4]),'edges':train_edges[i].reshape([1,50,90])})\n",
        "\n",
        "VAL = []\n",
        "\n",
        "for i in range(val_data.shape[0]):\n",
        "  VAL.append({'inputs':val_data[i].reshape([1,50,10,4]),'edges':val_edges[i].reshape([1,50,90])})\n",
        "\n",
        "TEST = []\n",
        "\n",
        "for i in range(test_data.shape[0]):\n",
        "  TEST.append({'inputs':test_data[i].reshape([1,50,10,4]),'edges':test_edges[i].reshape([1,50,90])})"
      ],
      "metadata": {
        "id": "rw95XbyRx3XM"
      },
      "execution_count": 207,
      "outputs": []
    },
    {
      "cell_type": "code",
      "source": [
        "x = []\n",
        "y = []\n",
        "for time_step in range(50):\n",
        "  x.append(DATA[0]['inputs'][0][time_step][a][0])\n",
        "  y.append(DATA[0]['inputs'][0][time_step][a][1])\n",
        "%matplotlib inline\n",
        "plt.plot(x,y)\n",
        "plt.grid()\n",
        "plt.show()"
      ],
      "metadata": {
        "colab": {
          "base_uri": "https://localhost:8080/",
          "height": 265
        },
        "id": "j56FIhjsPl49",
        "outputId": "4ada9ce7-33ec-441c-f96f-8d0f58825af7"
      },
      "execution_count": 208,
      "outputs": [
        {
          "output_type": "display_data",
          "data": {
            "text/plain": [
              "<Figure size 432x288 with 1 Axes>"
            ],
            "image/png": "[encoded data removed]"
          },
          "metadata": {
            "needs_background": "light"
          }
        }
      ]
    },
    {
      "cell_type": "markdown",
      "source": [
        "Build Model"
      ],
      "metadata": {
        "id": "ShgCZ5FdsCDG"
      }
    },
    {
      "cell_type": "code",
      "source": [
        "def build_model(params):\n",
        "    if params['model_type'] == 'RNN':\n",
        "        model = SingleRNNBaseline(params)\n",
        "        print(\"dNRI MODEL: \",model)\n",
        "    if params['load_best_model']:\n",
        "        print(\"LOADING BEST MODEL\")\n",
        "        path = os.path.join(params['working_dir'], 'best_model')\n",
        "        model.load(path)\n",
        "    elif params['load_model']:\n",
        "        print(\"LOADING MODEL FROM SPECIFIED PATH\")\n",
        "        model.load(params['load_model'])\n",
        "    if params['gpu']:\n",
        "        model.cuda()\n",
        "    return model"
      ],
      "metadata": {
        "id": "rzUdzq4oWlju"
      },
      "execution_count": 209,
      "outputs": []
    },
    {
      "cell_type": "code",
      "source": [
        "params['mode'] = 'train'"
      ],
      "metadata": {
        "id": "-E3E-OTMJNJs"
      },
      "execution_count": 210,
      "outputs": []
    },
    {
      "cell_type": "code",
      "source": [
        "model = build_model(params)\n",
        "if params['mode'] == 'train':\n",
        "    with build_writers(params['working_dir']) as (train_writer, val_writer):\n",
        "        result = train(model, DATA, VAL, params, train_writer, val_writer)\n",
        "\n",
        "elif params['mode'] == 'eval':\n",
        "    test_data = TEST\n",
        "    forward_pred = 50 - params['test_burn_in_steps']\n",
        "    test_mse  = eval_forward_prediction(model, test_data, params['test_burn_in_steps'], forward_pred, params)\n",
        "    #path = os.path.join(params['working_dir'], params['error_out_name']%params['test_burn_in_steps'])\n",
        "    #np.save(path, test_mse.cpu().numpy())\n",
        "    test_mse_1 = test_mse[0].item()\n",
        "    #test_mse_15 = test_mse[14].item()\n",
        "    test_mse_10 = test_mse[9].item()\n",
        "    print(\"FORWARD PRED RESULTS:\")\n",
        "    print(\"\\t1 STEP: \",test_mse_1)\n",
        "    #print(\"\\t15 STEP: \",test_mse_15)\n",
        "    print(\"\\t25 STEP: \",test_mse_10)\n",
        "\n",
        "\n",
        "    f1, all_acc, acc_0, acc_1, edges = eval_edges(model, VAL, params)\n",
        "    print(\"Val Edge results:\")\n",
        "    print(\"\\tF1: \",f1)\n",
        "    print(\"\\tAll predicted edge accuracy: \",all_acc)\n",
        "    print(\"\\tFirst Edge Acc: \",acc_0)\n",
        "    print(\"\\tSecond Edge Acc: \",acc_1)\n",
        "    #out_dir = os.path.join(params['working_dir'], 'preds')\n",
        "    #os.makedirs(out_dir, exist_ok=True)\n",
        "    #out_path = os.path.join(out_dir, 'encoder_edges.npy')\n",
        "    #np.save(out_path, edges.numpy())\n",
        "\n",
        "    plot_sample(model, test_data, params['test_burn_in_steps'], params)\n",
        "\n",
        "elif params['mode'] == 'record_predictions':\n",
        "    model.eval()\n",
        "    burn_in = params['test_burn_in_steps']\n",
        "    forward_pred = 50 - params['test_burn_in_steps']\n",
        "    test_data = TEST\n",
        "    if params['subject_ind'] == -1:\n",
        "        val_data_loader = DataLoader(test_data, batch_size=params['batch_size'])\n",
        "        all_predictions = []\n",
        "        all_edges = []\n",
        "        for batch_ind,batch in enumerate(val_data_loader):\n",
        "            print(\"BATCH %d of %d\"%(batch_ind+1, len(val_data_loader)))\n",
        "            inputs = batch['inputs']\n",
        "            if params['gpu']:\n",
        "                inputs = inputs.cuda(non_blocking=True)\n",
        "            with torch.no_grad():\n",
        "                predictions, edges = model.predict_future(inputs[:, :burn_in], forward_pred, return_edges=True, return_everything=True)\n",
        "                all_predictions.append(predictions)\n",
        "                all_edges.append(edges)\n",
        "        if params['error_suffix'] is not None:\n",
        "            out_path = os.path.join(params['working_dir'], 'preds/', 'all_test_subjects_%s.npy'%params['error_suffix'])\n",
        "        else:\n",
        "            out_path = os.path.join(params['working_dir'], 'preds/', 'all_test_subjects.npy')\n",
        "\n",
        "        predictions = torch.cat(all_predictions, dim=0)\n",
        "        edges = torch.cat(all_edges, dim=0)\n",
        "\n",
        "    else:\n",
        "        data = test_data[params['subject_ind']]\n",
        "        inputs = data['inputs'].unsqueeze(0)\n",
        "        if params['gpu']:\n",
        "            inputs = inputs.cuda(non_blocking=True)\n",
        "        with torch.no_grad():\n",
        "            predictions, edges = model.predict_future(inputs[:, :burn_in], forward_pred, return_edges=True, return_everything=True)\n",
        "            predictions = predictions.squeeze(0)\n",
        "            edges = edges.squeeze(0)\n",
        "        out_path = os.path.join(params['working_dir'], 'preds/', 'subject_%d.npy'%args.subject_ind)\n",
        "    tmp_dir = os.path.join(params['working_dir'], 'preds/')\n",
        "    if not os.path.exists(tmp_dir):\n",
        "        os.makedirs(tmp_dir)\n",
        "    torch.save([predictions.cpu(), edges.cpu()], out_path)\n"
      ],
      "metadata": {
        "colab": {
          "base_uri": "https://localhost:8080/"
        },
        "id": "tvqz0fqwYhEp",
        "outputId": "00584b31-a97d-4937-fadb-1612d0253747"
      },
      "execution_count": 211,
      "outputs": [
        {
          "output_type": "stream",
          "name": "stdout",
          "text": [
            "dNRI MODEL:  SingleRNNBaseline(\n",
            "  (rnn): LSTMCell(4, 256)\n",
            "  (out): Sequential(\n",
            "    (0): Linear(in_features=256, out_features=256, bias=True)\n",
            "    (1): ReLU(inplace=True)\n",
            "    (2): Dropout(p=0.0, inplace=False)\n",
            "    (3): Linear(in_features=256, out_features=256, bias=True)\n",
            "    (4): ReLU(inplace=True)\n",
            "    (5): Dropout(p=0.0, inplace=False)\n",
            "    (6): Linear(in_features=256, out_features=4, bias=True)\n",
            "  )\n",
            ")\n",
            "EPOCH 1 0\n",
            "BEST VAL RESULT. SAVING MODEL...\n",
            "EPOCH 1 EVAL: \n",
            "\tCURRENT VAL LOSS: 3303302.500000\n",
            "\tBEST VAL LOSS:    3303302.500000\n",
            "\tBEST VAL EPOCH:   1\n",
            "EPOCH 2 3.559741973876953\n",
            "BEST VAL RESULT. SAVING MODEL...\n",
            "EPOCH 2 EVAL: \n",
            "\tCURRENT VAL LOSS: 1585153.140625\n",
            "\tBEST VAL LOSS:    1585153.140625\n",
            "\tBEST VAL EPOCH:   2\n",
            "EPOCH 3 3.577714681625366\n",
            "BEST VAL RESULT. SAVING MODEL...\n",
            "EPOCH 3 EVAL: \n",
            "\tCURRENT VAL LOSS: 566028.029297\n",
            "\tBEST VAL LOSS:    566028.029297\n",
            "\tBEST VAL EPOCH:   3\n",
            "EPOCH 4 3.448077440261841\n",
            "BEST VAL RESULT. SAVING MODEL...\n",
            "EPOCH 4 EVAL: \n",
            "\tCURRENT VAL LOSS: 120314.718262\n",
            "\tBEST VAL LOSS:    120314.718262\n",
            "\tBEST VAL EPOCH:   4\n",
            "EPOCH 5 3.4075703620910645\n",
            "EPOCH 5 EVAL: \n",
            "\tCURRENT VAL LOSS: 146392.819336\n",
            "\tBEST VAL LOSS:    120314.718262\n",
            "\tBEST VAL EPOCH:   4\n",
            "EPOCH 6 3.4104843139648438\n",
            "EPOCH 6 EVAL: \n",
            "\tCURRENT VAL LOSS: 462718.257812\n",
            "\tBEST VAL LOSS:    120314.718262\n",
            "\tBEST VAL EPOCH:   4\n",
            "EPOCH 7 3.3798112869262695\n",
            "EPOCH 7 EVAL: \n",
            "\tCURRENT VAL LOSS: 806231.660156\n",
            "\tBEST VAL LOSS:    120314.718262\n",
            "\tBEST VAL EPOCH:   4\n",
            "EPOCH 8 3.4129891395568848\n",
            "EPOCH 8 EVAL: \n",
            "\tCURRENT VAL LOSS: 998199.835938\n",
            "\tBEST VAL LOSS:    120314.718262\n",
            "\tBEST VAL EPOCH:   4\n",
            "EPOCH 9 3.4337210655212402\n",
            "EPOCH 9 EVAL: \n",
            "\tCURRENT VAL LOSS: 1001130.390625\n",
            "\tBEST VAL LOSS:    120314.718262\n",
            "\tBEST VAL EPOCH:   4\n",
            "EPOCH 10 3.4036097526550293\n",
            "EPOCH 10 EVAL: \n",
            "\tCURRENT VAL LOSS: 868968.894531\n",
            "\tBEST VAL LOSS:    120314.718262\n",
            "\tBEST VAL EPOCH:   4\n",
            "EPOCH 11 3.472862720489502\n",
            "EPOCH 11 EVAL: \n",
            "\tCURRENT VAL LOSS: 659891.542969\n",
            "\tBEST VAL LOSS:    120314.718262\n",
            "\tBEST VAL EPOCH:   4\n",
            "EPOCH 12 3.3780407905578613\n",
            "EPOCH 12 EVAL: \n",
            "\tCURRENT VAL LOSS: 438374.767578\n",
            "\tBEST VAL LOSS:    120314.718262\n",
            "\tBEST VAL EPOCH:   4\n",
            "EPOCH 13 3.4166998863220215\n",
            "EPOCH 13 EVAL: \n",
            "\tCURRENT VAL LOSS: 255881.689453\n",
            "\tBEST VAL LOSS:    120314.718262\n",
            "\tBEST VAL EPOCH:   4\n",
            "EPOCH 14 3.3770148754119873\n",
            "EPOCH 14 EVAL: \n",
            "\tCURRENT VAL LOSS: 137931.203613\n",
            "\tBEST VAL LOSS:    120314.718262\n",
            "\tBEST VAL EPOCH:   4\n",
            "EPOCH 15 3.3464841842651367\n",
            "BEST VAL RESULT. SAVING MODEL...\n",
            "EPOCH 15 EVAL: \n",
            "\tCURRENT VAL LOSS: 86780.174072\n",
            "\tBEST VAL LOSS:    86780.174072\n",
            "\tBEST VAL EPOCH:   15\n",
            "EPOCH 16 3.4040136337280273\n",
            "EPOCH 16 EVAL: \n",
            "\tCURRENT VAL LOSS: 87690.562988\n",
            "\tBEST VAL LOSS:    86780.174072\n",
            "\tBEST VAL EPOCH:   15\n",
            "EPOCH 17 3.332352876663208\n",
            "EPOCH 17 EVAL: \n",
            "\tCURRENT VAL LOSS: 120197.658691\n",
            "\tBEST VAL LOSS:    86780.174072\n",
            "\tBEST VAL EPOCH:   15\n",
            "EPOCH 18 3.324409008026123\n",
            "EPOCH 18 EVAL: \n",
            "\tCURRENT VAL LOSS: 164013.351562\n",
            "\tBEST VAL LOSS:    86780.174072\n",
            "\tBEST VAL EPOCH:   15\n",
            "EPOCH 19 3.333592176437378\n",
            "EPOCH 19 EVAL: \n",
            "\tCURRENT VAL LOSS: 202457.214844\n",
            "\tBEST VAL LOSS:    86780.174072\n",
            "\tBEST VAL EPOCH:   15\n",
            "EPOCH 20 3.3744120597839355\n",
            "EPOCH 20 EVAL: \n",
            "\tCURRENT VAL LOSS: 224529.597656\n",
            "\tBEST VAL LOSS:    86780.174072\n",
            "\tBEST VAL EPOCH:   15\n",
            "EPOCH 21 3.31650710105896\n",
            "EPOCH 21 EVAL: \n",
            "\tCURRENT VAL LOSS: 225507.669922\n",
            "\tBEST VAL LOSS:    86780.174072\n",
            "\tBEST VAL EPOCH:   15\n",
            "EPOCH 22 3.3779244422912598\n",
            "EPOCH 22 EVAL: \n",
            "\tCURRENT VAL LOSS: 207078.033203\n",
            "\tBEST VAL LOSS:    86780.174072\n",
            "\tBEST VAL EPOCH:   15\n",
            "EPOCH 23 3.309688091278076\n",
            "EPOCH 23 EVAL: \n",
            "\tCURRENT VAL LOSS: 176155.979492\n",
            "\tBEST VAL LOSS:    86780.174072\n",
            "\tBEST VAL EPOCH:   15\n",
            "EPOCH 24 3.2933478355407715\n",
            "EPOCH 24 EVAL: \n",
            "\tCURRENT VAL LOSS: 141248.376953\n",
            "\tBEST VAL LOSS:    86780.174072\n",
            "\tBEST VAL EPOCH:   15\n",
            "EPOCH 25 3.248284339904785\n",
            "EPOCH 25 EVAL: \n",
            "\tCURRENT VAL LOSS: 110319.294922\n",
            "\tBEST VAL LOSS:    86780.174072\n",
            "\tBEST VAL EPOCH:   15\n",
            "EPOCH 26 3.303666830062866\n",
            "EPOCH 26 EVAL: \n",
            "\tCURRENT VAL LOSS: 89306.244141\n",
            "\tBEST VAL LOSS:    86780.174072\n",
            "\tBEST VAL EPOCH:   15\n",
            "EPOCH 27 3.3393471240997314\n",
            "BEST VAL RESULT. SAVING MODEL...\n",
            "EPOCH 27 EVAL: \n",
            "\tCURRENT VAL LOSS: 81221.712646\n",
            "\tBEST VAL LOSS:    81221.712646\n",
            "\tBEST VAL EPOCH:   27\n",
            "EPOCH 28 3.3195714950561523\n",
            "EPOCH 28 EVAL: \n",
            "\tCURRENT VAL LOSS: 86239.292969\n",
            "\tBEST VAL LOSS:    81221.712646\n",
            "\tBEST VAL EPOCH:   27\n",
            "EPOCH 29 3.3436007499694824\n",
            "EPOCH 29 EVAL: \n",
            "\tCURRENT VAL LOSS: 101415.667969\n",
            "\tBEST VAL LOSS:    81221.712646\n",
            "\tBEST VAL EPOCH:   27\n",
            "EPOCH 30 3.3698456287384033\n",
            "EPOCH 30 EVAL: \n",
            "\tCURRENT VAL LOSS: 121072.249023\n",
            "\tBEST VAL LOSS:    81221.712646\n",
            "\tBEST VAL EPOCH:   27\n",
            "EPOCH 31 3.4065167903900146\n",
            "EPOCH 31 EVAL: \n",
            "\tCURRENT VAL LOSS: 138784.786621\n",
            "\tBEST VAL LOSS:    81221.712646\n",
            "\tBEST VAL EPOCH:   27\n",
            "EPOCH 32 3.4093403816223145\n",
            "EPOCH 32 EVAL: \n",
            "\tCURRENT VAL LOSS: 149831.535645\n",
            "\tBEST VAL LOSS:    81221.712646\n",
            "\tBEST VAL EPOCH:   27\n",
            "EPOCH 33 3.431861400604248\n",
            "EPOCH 33 EVAL: \n",
            "\tCURRENT VAL LOSS: 152216.444336\n",
            "\tBEST VAL LOSS:    81221.712646\n",
            "\tBEST VAL EPOCH:   27\n",
            "EPOCH 34 3.263246774673462\n",
            "EPOCH 34 EVAL: \n",
            "\tCURRENT VAL LOSS: 146347.854004\n",
            "\tBEST VAL LOSS:    81221.712646\n",
            "\tBEST VAL EPOCH:   27\n",
            "EPOCH 35 3.3874735832214355\n",
            "EPOCH 35 EVAL: \n",
            "\tCURRENT VAL LOSS: 134302.512695\n",
            "\tBEST VAL LOSS:    81221.712646\n",
            "\tBEST VAL EPOCH:   27\n",
            "EPOCH 36 3.3474390506744385\n",
            "EPOCH 36 EVAL: \n",
            "\tCURRENT VAL LOSS: 119137.903320\n",
            "\tBEST VAL LOSS:    81221.712646\n",
            "\tBEST VAL EPOCH:   27\n",
            "EPOCH 37 3.338716506958008\n",
            "EPOCH 37 EVAL: \n",
            "\tCURRENT VAL LOSS: 104204.415039\n",
            "\tBEST VAL LOSS:    81221.712646\n",
            "\tBEST VAL EPOCH:   27\n",
            "EPOCH 38 3.4159083366394043\n",
            "EPOCH 38 EVAL: \n",
            "\tCURRENT VAL LOSS: 92186.793457\n",
            "\tBEST VAL LOSS:    81221.712646\n",
            "\tBEST VAL EPOCH:   27\n",
            "EPOCH 39 3.3713865280151367\n",
            "EPOCH 39 EVAL: \n",
            "\tCURRENT VAL LOSS: 84535.039307\n",
            "\tBEST VAL LOSS:    81221.712646\n",
            "\tBEST VAL EPOCH:   27\n",
            "EPOCH 40 3.4167935848236084\n",
            "BEST VAL RESULT. SAVING MODEL...\n",
            "EPOCH 40 EVAL: \n",
            "\tCURRENT VAL LOSS: 81021.695801\n",
            "\tBEST VAL LOSS:    81021.695801\n",
            "\tBEST VAL EPOCH:   40\n",
            "EPOCH 41 3.7338225841522217\n",
            "BEST VAL RESULT. SAVING MODEL...\n",
            "EPOCH 41 EVAL: \n",
            "\tCURRENT VAL LOSS: 80872.127197\n",
            "\tBEST VAL LOSS:    80872.127197\n",
            "\tBEST VAL EPOCH:   41\n",
            "EPOCH 42 4.047626495361328\n",
            "EPOCH 42 EVAL: \n",
            "\tCURRENT VAL LOSS: 82473.735596\n",
            "\tBEST VAL LOSS:    80872.127197\n",
            "\tBEST VAL EPOCH:   41\n",
            "EPOCH 43 3.28647780418396\n",
            "EPOCH 43 EVAL: \n",
            "\tCURRENT VAL LOSS: 84268.823242\n",
            "\tBEST VAL LOSS:    80872.127197\n",
            "\tBEST VAL EPOCH:   41\n",
            "EPOCH 44 3.2810373306274414\n",
            "EPOCH 44 EVAL: \n",
            "\tCURRENT VAL LOSS: 85132.408691\n",
            "\tBEST VAL LOSS:    80872.127197\n",
            "\tBEST VAL EPOCH:   41\n",
            "EPOCH 45 3.286057472229004\n",
            "EPOCH 45 EVAL: \n",
            "\tCURRENT VAL LOSS: 84723.903320\n",
            "\tBEST VAL LOSS:    80872.127197\n",
            "\tBEST VAL EPOCH:   41\n",
            "EPOCH 46 3.3276031017303467\n",
            "EPOCH 46 EVAL: \n",
            "\tCURRENT VAL LOSS: 83414.527832\n",
            "\tBEST VAL LOSS:    80872.127197\n",
            "\tBEST VAL EPOCH:   41\n",
            "EPOCH 47 3.2734620571136475\n",
            "EPOCH 47 EVAL: \n",
            "\tCURRENT VAL LOSS: 81892.339111\n",
            "\tBEST VAL LOSS:    80872.127197\n",
            "\tBEST VAL EPOCH:   41\n",
            "EPOCH 48 3.2976250648498535\n",
            "BEST VAL RESULT. SAVING MODEL...\n",
            "EPOCH 48 EVAL: \n",
            "\tCURRENT VAL LOSS: 80798.806885\n",
            "\tBEST VAL LOSS:    80798.806885\n",
            "\tBEST VAL EPOCH:   48\n",
            "EPOCH 49 3.32084059715271\n",
            "BEST VAL RESULT. SAVING MODEL...\n",
            "EPOCH 49 EVAL: \n",
            "\tCURRENT VAL LOSS: 80633.093018\n",
            "\tBEST VAL LOSS:    80633.093018\n",
            "\tBEST VAL EPOCH:   49\n",
            "EPOCH 50 3.302539825439453\n",
            "EPOCH 50 EVAL: \n",
            "\tCURRENT VAL LOSS: 81669.290039\n",
            "\tBEST VAL LOSS:    80633.093018\n",
            "\tBEST VAL EPOCH:   49\n",
            "EPOCH 51 3.2878293991088867\n",
            "EPOCH 51 EVAL: \n",
            "\tCURRENT VAL LOSS: 83849.487549\n",
            "\tBEST VAL LOSS:    80633.093018\n",
            "\tBEST VAL EPOCH:   49\n",
            "EPOCH 52 3.2469255924224854\n",
            "EPOCH 52 EVAL: \n",
            "\tCURRENT VAL LOSS: 86668.113770\n",
            "\tBEST VAL LOSS:    80633.093018\n",
            "\tBEST VAL EPOCH:   49\n",
            "EPOCH 53 3.3051247596740723\n",
            "EPOCH 53 EVAL: \n",
            "\tCURRENT VAL LOSS: 89303.437500\n",
            "\tBEST VAL LOSS:    80633.093018\n",
            "\tBEST VAL EPOCH:   49\n",
            "EPOCH 54 3.354694128036499\n",
            "EPOCH 54 EVAL: \n",
            "\tCURRENT VAL LOSS: 91140.638184\n",
            "\tBEST VAL LOSS:    80633.093018\n",
            "\tBEST VAL EPOCH:   49\n",
            "EPOCH 55 3.3048272132873535\n",
            "EPOCH 55 EVAL: \n",
            "\tCURRENT VAL LOSS: 91944.966309\n",
            "\tBEST VAL LOSS:    80633.093018\n",
            "\tBEST VAL EPOCH:   49\n",
            "EPOCH 56 3.3019373416900635\n",
            "EPOCH 56 EVAL: \n",
            "\tCURRENT VAL LOSS: 91651.165039\n",
            "\tBEST VAL LOSS:    80633.093018\n",
            "\tBEST VAL EPOCH:   49\n",
            "EPOCH 57 3.281224250793457\n",
            "EPOCH 57 EVAL: \n",
            "\tCURRENT VAL LOSS: 90440.831543\n",
            "\tBEST VAL LOSS:    80633.093018\n",
            "\tBEST VAL EPOCH:   49\n",
            "EPOCH 58 3.34765625\n",
            "EPOCH 58 EVAL: \n",
            "\tCURRENT VAL LOSS: 88677.697754\n",
            "\tBEST VAL LOSS:    80633.093018\n",
            "\tBEST VAL EPOCH:   49\n",
            "EPOCH 59 3.400604486465454\n",
            "EPOCH 59 EVAL: \n",
            "\tCURRENT VAL LOSS: 86737.869629\n",
            "\tBEST VAL LOSS:    80633.093018\n",
            "\tBEST VAL EPOCH:   49\n",
            "EPOCH 60 3.3973636627197266\n",
            "EPOCH 60 EVAL: \n",
            "\tCURRENT VAL LOSS: 84876.546631\n",
            "\tBEST VAL LOSS:    80633.093018\n",
            "\tBEST VAL EPOCH:   49\n",
            "EPOCH 61 3.3925840854644775\n",
            "EPOCH 61 EVAL: \n",
            "\tCURRENT VAL LOSS: 83366.761963\n",
            "\tBEST VAL LOSS:    80633.093018\n",
            "\tBEST VAL EPOCH:   49\n",
            "EPOCH 62 3.3409669399261475\n",
            "EPOCH 62 EVAL: \n",
            "\tCURRENT VAL LOSS: 82152.557861\n",
            "\tBEST VAL LOSS:    80633.093018\n",
            "\tBEST VAL EPOCH:   49\n",
            "EPOCH 63 3.342150926589966\n",
            "EPOCH 63 EVAL: \n",
            "\tCURRENT VAL LOSS: 81450.487305\n",
            "\tBEST VAL LOSS:    80633.093018\n",
            "\tBEST VAL EPOCH:   49\n",
            "EPOCH 64 3.400560140609741\n",
            "EPOCH 64 EVAL: \n",
            "\tCURRENT VAL LOSS: 81071.802002\n",
            "\tBEST VAL LOSS:    80633.093018\n",
            "\tBEST VAL EPOCH:   49\n",
            "EPOCH 65 3.319286823272705\n",
            "EPOCH 65 EVAL: \n",
            "\tCURRENT VAL LOSS: 80888.382568\n",
            "\tBEST VAL LOSS:    80633.093018\n",
            "\tBEST VAL EPOCH:   49\n",
            "EPOCH 66 3.313438653945923\n",
            "EPOCH 66 EVAL: \n",
            "\tCURRENT VAL LOSS: 80869.635986\n",
            "\tBEST VAL LOSS:    80633.093018\n",
            "\tBEST VAL EPOCH:   49\n",
            "EPOCH 67 3.3413968086242676\n",
            "EPOCH 67 EVAL: \n",
            "\tCURRENT VAL LOSS: 81005.190674\n",
            "\tBEST VAL LOSS:    80633.093018\n",
            "\tBEST VAL EPOCH:   49\n",
            "EPOCH 68 3.3055450916290283\n",
            "EPOCH 68 EVAL: \n",
            "\tCURRENT VAL LOSS: 81170.183105\n",
            "\tBEST VAL LOSS:    80633.093018\n",
            "\tBEST VAL EPOCH:   49\n",
            "EPOCH 69 3.3452582359313965\n",
            "EPOCH 69 EVAL: \n",
            "\tCURRENT VAL LOSS: 81483.020752\n",
            "\tBEST VAL LOSS:    80633.093018\n",
            "\tBEST VAL EPOCH:   49\n",
            "EPOCH 70 3.302122116088867\n",
            "EPOCH 70 EVAL: \n",
            "\tCURRENT VAL LOSS: 82029.645508\n",
            "\tBEST VAL LOSS:    80633.093018\n",
            "\tBEST VAL EPOCH:   49\n",
            "EPOCH 71 3.2808284759521484\n",
            "EPOCH 71 EVAL: \n",
            "\tCURRENT VAL LOSS: 82721.229248\n",
            "\tBEST VAL LOSS:    80633.093018\n",
            "\tBEST VAL EPOCH:   49\n",
            "EPOCH 72 3.3182451725006104\n",
            "EPOCH 72 EVAL: \n",
            "\tCURRENT VAL LOSS: 83418.786621\n",
            "\tBEST VAL LOSS:    80633.093018\n",
            "\tBEST VAL EPOCH:   49\n",
            "EPOCH 73 3.3071160316467285\n",
            "EPOCH 73 EVAL: \n",
            "\tCURRENT VAL LOSS: 83957.504395\n",
            "\tBEST VAL LOSS:    80633.093018\n",
            "\tBEST VAL EPOCH:   49\n",
            "EPOCH 74 4.2054173946380615\n",
            "EPOCH 74 EVAL: \n",
            "\tCURRENT VAL LOSS: 84250.641113\n",
            "\tBEST VAL LOSS:    80633.093018\n",
            "\tBEST VAL EPOCH:   49\n",
            "EPOCH 75 3.4947445392608643\n",
            "EPOCH 75 EVAL: \n",
            "\tCURRENT VAL LOSS: 84250.101562\n",
            "\tBEST VAL LOSS:    80633.093018\n",
            "\tBEST VAL EPOCH:   49\n",
            "EPOCH 76 3.3767993450164795\n",
            "EPOCH 76 EVAL: \n",
            "\tCURRENT VAL LOSS: 83990.392334\n",
            "\tBEST VAL LOSS:    80633.093018\n",
            "\tBEST VAL EPOCH:   49\n",
            "EPOCH 77 3.3447153568267822\n",
            "EPOCH 77 EVAL: \n",
            "\tCURRENT VAL LOSS: 83559.241699\n",
            "\tBEST VAL LOSS:    80633.093018\n",
            "\tBEST VAL EPOCH:   49\n",
            "EPOCH 78 3.3034093379974365\n",
            "EPOCH 78 EVAL: \n",
            "\tCURRENT VAL LOSS: 83039.625977\n",
            "\tBEST VAL LOSS:    80633.093018\n",
            "\tBEST VAL EPOCH:   49\n",
            "EPOCH 79 3.32145619392395\n",
            "EPOCH 79 EVAL: \n",
            "\tCURRENT VAL LOSS: 82502.837402\n",
            "\tBEST VAL LOSS:    80633.093018\n",
            "\tBEST VAL EPOCH:   49\n",
            "EPOCH 80 3.280608654022217\n",
            "EPOCH 80 EVAL: \n",
            "\tCURRENT VAL LOSS: 82065.297119\n",
            "\tBEST VAL LOSS:    80633.093018\n",
            "\tBEST VAL EPOCH:   49\n",
            "EPOCH 81 3.296647310256958\n",
            "EPOCH 81 EVAL: \n",
            "\tCURRENT VAL LOSS: 81807.815674\n",
            "\tBEST VAL LOSS:    80633.093018\n",
            "\tBEST VAL EPOCH:   49\n",
            "EPOCH 82 3.3286497592926025\n",
            "EPOCH 82 EVAL: \n",
            "\tCURRENT VAL LOSS: 81747.534424\n",
            "\tBEST VAL LOSS:    80633.093018\n",
            "\tBEST VAL EPOCH:   49\n",
            "EPOCH 83 3.3127896785736084\n",
            "EPOCH 83 EVAL: \n",
            "\tCURRENT VAL LOSS: 81734.604248\n",
            "\tBEST VAL LOSS:    80633.093018\n",
            "\tBEST VAL EPOCH:   49\n",
            "EPOCH 84 3.274524211883545\n",
            "EPOCH 84 EVAL: \n",
            "\tCURRENT VAL LOSS: 81687.068115\n",
            "\tBEST VAL LOSS:    80633.093018\n",
            "\tBEST VAL EPOCH:   49\n",
            "EPOCH 85 3.2761435508728027\n",
            "EPOCH 85 EVAL: \n",
            "\tCURRENT VAL LOSS: 81848.866943\n",
            "\tBEST VAL LOSS:    80633.093018\n",
            "\tBEST VAL EPOCH:   49\n",
            "EPOCH 86 3.360161542892456\n",
            "EPOCH 86 EVAL: \n",
            "\tCURRENT VAL LOSS: 82215.303711\n",
            "\tBEST VAL LOSS:    80633.093018\n",
            "\tBEST VAL EPOCH:   49\n",
            "EPOCH 87 4.005399703979492\n",
            "EPOCH 87 EVAL: \n",
            "\tCURRENT VAL LOSS: 82585.341553\n",
            "\tBEST VAL LOSS:    80633.093018\n",
            "\tBEST VAL EPOCH:   49\n",
            "EPOCH 88 3.704859733581543\n",
            "EPOCH 88 EVAL: \n",
            "\tCURRENT VAL LOSS: 82883.213623\n",
            "\tBEST VAL LOSS:    80633.093018\n",
            "\tBEST VAL EPOCH:   49\n",
            "EPOCH 89 3.294612407684326\n",
            "EPOCH 89 EVAL: \n",
            "\tCURRENT VAL LOSS: 82971.013672\n",
            "\tBEST VAL LOSS:    80633.093018\n",
            "\tBEST VAL EPOCH:   49\n",
            "EPOCH 90 3.292081832885742\n",
            "EPOCH 90 EVAL: \n",
            "\tCURRENT VAL LOSS: 82834.989258\n",
            "\tBEST VAL LOSS:    80633.093018\n",
            "\tBEST VAL EPOCH:   49\n",
            "EPOCH 91 3.3973138332366943\n",
            "EPOCH 91 EVAL: \n",
            "\tCURRENT VAL LOSS: 82622.630859\n",
            "\tBEST VAL LOSS:    80633.093018\n",
            "\tBEST VAL EPOCH:   49\n",
            "EPOCH 92 3.340729236602783\n",
            "EPOCH 92 EVAL: \n",
            "\tCURRENT VAL LOSS: 82396.798340\n",
            "\tBEST VAL LOSS:    80633.093018\n",
            "\tBEST VAL EPOCH:   49\n",
            "EPOCH 93 3.2932839393615723\n",
            "EPOCH 93 EVAL: \n",
            "\tCURRENT VAL LOSS: 82124.440186\n",
            "\tBEST VAL LOSS:    80633.093018\n",
            "\tBEST VAL EPOCH:   49\n",
            "EPOCH 94 3.321075201034546\n",
            "EPOCH 94 EVAL: \n",
            "\tCURRENT VAL LOSS: 81906.951660\n",
            "\tBEST VAL LOSS:    80633.093018\n",
            "\tBEST VAL EPOCH:   49\n",
            "EPOCH 95 3.2830989360809326\n",
            "EPOCH 95 EVAL: \n",
            "\tCURRENT VAL LOSS: 81936.823486\n",
            "\tBEST VAL LOSS:    80633.093018\n",
            "\tBEST VAL EPOCH:   49\n",
            "EPOCH 96 3.3643298149108887\n",
            "EPOCH 96 EVAL: \n",
            "\tCURRENT VAL LOSS: 82118.479980\n",
            "\tBEST VAL LOSS:    80633.093018\n",
            "\tBEST VAL EPOCH:   49\n",
            "EPOCH 97 3.3411195278167725\n",
            "EPOCH 97 EVAL: \n",
            "\tCURRENT VAL LOSS: 82211.853516\n",
            "\tBEST VAL LOSS:    80633.093018\n",
            "\tBEST VAL EPOCH:   49\n",
            "EPOCH 98 3.3743622303009033\n",
            "EPOCH 98 EVAL: \n",
            "\tCURRENT VAL LOSS: 82338.438721\n",
            "\tBEST VAL LOSS:    80633.093018\n",
            "\tBEST VAL EPOCH:   49\n",
            "EPOCH 99 3.2874960899353027\n",
            "EPOCH 99 EVAL: \n",
            "\tCURRENT VAL LOSS: 82427.309570\n",
            "\tBEST VAL LOSS:    80633.093018\n",
            "\tBEST VAL EPOCH:   49\n",
            "EPOCH 100 3.2811362743377686\n",
            "EPOCH 100 EVAL: \n",
            "\tCURRENT VAL LOSS: 82305.119385\n",
            "\tBEST VAL LOSS:    80633.093018\n",
            "\tBEST VAL EPOCH:   49\n"
          ]
        }
      ]
    },
    {
      "cell_type": "code",
      "source": [
        "#model.predict(TEST[0])"
      ],
      "metadata": {
        "id": "drhlBtf1MvKy"
      },
      "execution_count": 212,
      "outputs": []
    },
    {
      "cell_type": "code",
      "source": [
        "%matplotlib inline\n",
        "plt.plot(result)\n",
        "plt.show()"
      ],
      "metadata": {
        "colab": {
          "base_uri": "https://localhost:8080/",
          "height": 276
        },
        "id": "MEaTSzgFx1rH",
        "outputId": "02a052b9-0505-466c-e800-9d0ad34fd2af"
      },
      "execution_count": 213,
      "outputs": [
        {
          "output_type": "display_data",
          "data": {
            "text/plain": [
              "<Figure size 432x288 with 1 Axes>"
            ],
            "image/png": "[encoded data removed]"
          },
          "metadata": {
            "needs_background": "light"
          }
        }
      ]
    },
    {
      "cell_type": "code",
      "source": [
        "model_inputs = TEST[0]['inputs'][:, :40]\n",
        "model_preds = model.predict_future(model_inputs, 10)\n",
        "agent = 6\n",
        "x = []\n",
        "y = []\n",
        "\n",
        "for i in range(0,10):\n",
        "  x.append(float(model_preds[0][i][agent][0]))\n",
        "  y.append(float(model_preds[0][i][agent][1]))\n",
        "\n",
        "\n",
        "\n",
        "p = []\n",
        "q = []\n",
        "\n",
        "for i in range(0,10):\n",
        "  p.append(float(TEST[0]['inputs'][:,:-10][0][i][agent][0]))\n",
        "  q.append(float(TEST[0]['inputs'][:,:-10][0][i][agent][1]))\n",
        "\n"
      ],
      "metadata": {
        "id": "tNiA7bYdPg8f"
      },
      "execution_count": 236,
      "outputs": []
    },
    {
      "cell_type": "code",
      "source": [
        "plt.scatter(p,q)\n",
        "plt.grid()"
      ],
      "metadata": {
        "id": "AcR9i6T3PoZ-",
        "colab": {
          "base_uri": "https://localhost:8080/",
          "height": 265
        },
        "outputId": "71ad7e78-8da9-4448-8d6a-423235ba5b11"
      },
      "execution_count": 245,
      "outputs": [
        {
          "output_type": "display_data",
          "data": {
            "text/plain": [
              "<Figure size 432x288 with 1 Axes>"
            ],
            "image/png": "[encoded data removed]"
          },
          "metadata": {
            "needs_background": "light"
          }
        }
      ]
    },
    {
      "cell_type": "code",
      "source": [
        "plt.scatter(x,y)\n",
        "plt.grid()"
      ],
      "metadata": {
        "id": "bB73KL-Jb8F2",
        "outputId": "c613ff60-edab-420b-a32e-cfa901ece932",
        "colab": {
          "base_uri": "https://localhost:8080/",
          "height": 265
        }
      },
      "execution_count": 246,
      "outputs": [
        {
          "output_type": "display_data",
          "data": {
            "text/plain": [
              "<Figure size 432x288 with 1 Axes>"
            ],
            "image/png": "[encoded data removed]"
          },
          "metadata": {
            "needs_background": "light"
          }
        }
      ]
    },
    {
      "cell_type": "code",
      "source": [
        "plt.plot(x,y)\n",
        "plt.plot(p,q)\n",
        "plt.grid()"
      ],
      "metadata": {
        "id": "-7dILq4yPmbr",
        "colab": {
          "base_uri": "https://localhost:8080/",
          "height": 265
        },
        "outputId": "638fde14-9a07-446e-f5c6-96eac0fbe5d1"
      },
      "execution_count": 239,
      "outputs": [
        {
          "output_type": "display_data",
          "data": {
            "text/plain": [
              "<Figure size 432x288 with 1 Axes>"
            ],
            "image/png": "[encoded data removed]"
          },
          "metadata": {
            "needs_background": "light"
          }
        }
      ]
    }
  ]
}