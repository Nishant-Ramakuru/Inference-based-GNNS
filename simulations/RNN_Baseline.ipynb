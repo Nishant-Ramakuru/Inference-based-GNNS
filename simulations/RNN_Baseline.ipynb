{
  "nbformat": 4,
  "nbformat_minor": 0,
  "metadata": {
    "colab": {
      "name": "Untitled1.ipynb",
      "provenance": [],
      "include_colab_link": true
    },
    "kernelspec": {
      "name": "python3",
      "display_name": "Python 3"
    },
    "language_info": {
      "name": "python"
    },
    "accelerator": "GPU",
    "gpuClass": "standard"
  },
  "cells": [
    {
      "cell_type": "markdown",
      "metadata": {
        "id": "view-in-github",
        "colab_type": "text"
      },
      "source": [
        "<a href=\"https://colab.research.google.com/github/Nishant-Ramakuru/Inference-based-GNNS/blob/main/simulations/RNN_Baseline.ipynb\" target=\"_parent\"><img src=\"https://colab.research.google.com/assets/colab-badge.svg\" alt=\"Open In Colab\"/></a>"
      ]
    },
    {
      "cell_type": "code",
      "source": [
        "#Import Functions\n",
        "\n",
        "from torch.utils.tensorboard import SummaryWriter\n",
        "from torch.utils.data import DataLoader\n",
        "import torch\n",
        "import matplotlib\n",
        "matplotlib.use('Agg')\n",
        "import matplotlib.pyplot as plt\n",
        "import matplotlib.animation as animation\n",
        "import matplotlib.colors as mcolors\n",
        "import numpy as np\n",
        "import torch.nn.functional as F\n",
        "import torch.nn as nn\n",
        "import random\n",
        "from torch.utils.data import Dataset\n",
        "import argparse, os, time\n",
        "from torch.nn import init\n",
        "import math\n",
        "import networkx as nx\n",
        "import pandas as pd\n",
        "import os "
      ],
      "metadata": {
        "id": "8Tm6GblxoZWs"
      },
      "execution_count": 1,
      "outputs": []
    },
    {
      "cell_type": "code",
      "source": [
        "from google.colab import drive\n",
        "drive.mount('/content/drive/')"
      ],
      "metadata": {
        "colab": {
          "base_uri": "https://localhost:8080/"
        },
        "id": "uYXmvpJedOnr",
        "outputId": "6a5e4356-a65b-4ee7-8535-264510a47d64"
      },
      "execution_count": 2,
      "outputs": [
        {
          "output_type": "stream",
          "name": "stdout",
          "text": [
            "Mounted at /content/drive/\n"
          ]
        }
      ]
    },
    {
      "cell_type": "code",
      "source": [
        "import sys\n",
        "sys.path.append('/content/drive/MyDrive/GNNs')\n",
        "from utils_functions import *\n",
        "from RNN import *"
      ],
      "metadata": {
        "id": "7YSfCkQxQG6E"
      },
      "execution_count": 3,
      "outputs": []
    },
    {
      "cell_type": "markdown",
      "source": [
        "Parameters"
      ],
      "metadata": {
        "id": "1kxH7lSHpbAE"
      }
    },
    {
      "cell_type": "code",
      "source": [
        "params = {}\n",
        "tau = 1\n",
        "params['use_adam'] = True\n",
        "params['test_burn_in_steps'] =40\n",
        "params['num_time_steps'] = 50\n",
        "params['data_path']= '/content/MyDrive/GNNs'\n",
        "params['num_train'] = 3000\n",
        "params['num_val'] = 1000\n",
        "params['num_test']= 1000\n",
        "params['load_model'] = False\n",
        "params['load_best_model'] = False\n",
        "params['model_type'] = 'RNN'\n",
        "#params['graph_type'] = ['static', 'dynamic']\n",
        "params['graph_type'] = 'dynamic'\n",
        "params['encoder_no_factor'] = True\n",
        "params['num_epochs'] = 100\n",
        "params['num_vars'] = params['num_agents'] = 10\n",
        "params['input_noise_type'] = 'none'\n",
        "params['input_size'] = 4\n",
        "params['nll_loss_type'] = 'gaussian'\n",
        "params['prior_variance'] = 5e-5\n",
        "params['batch_size'] = 64\n",
        "params['val_batch_size'] = 64\n",
        "params['accumulate_steps'] = 40\n",
        "params['num_edge_types'] = 1\n",
        "params['encoder_dropout'] = 0.0\n",
        "params['encoder_hidden'] = 256\n",
        "params['encoder_rnn_hidden'] = 64\n",
        "params['encoder_rnn_type'] = 'lstm'\n",
        "params['decoder_rnn_type'] = 'lstm'\n",
        "params['encoder_mlp_num_layers'] = 1\n",
        "params['encoder_mlp_hidden'] = 256\n",
        "params['prior_num_layers'] = 1\n",
        "params['prior_hidden_size'] = 256\n",
        "params['gpu'] = False\n",
        "params['decoder_hidden'] = 256\n",
        "params['skip_first'] = False\n",
        "params['decoder_dropout'] = 0.0\n",
        "params['decoder_type'] = None\n",
        "params['lr'] = 5e-4\n",
        "params['mode'] = \"train\"\n",
        "\n",
        "params['working_dir'] =params['output_dir'] =  ('/content/MyDrive/GNNs')"
      ],
      "metadata": {
        "id": "hu42uHhigCwW"
      },
      "execution_count": 4,
      "outputs": []
    },
    {
      "cell_type": "markdown",
      "source": [
        "Dataset"
      ],
      "metadata": {
        "id": "kfqJoGAgpd_Y"
      }
    },
    {
      "cell_type": "code",
      "source": [
        "df = pd.read_pickle(\"/content/drive/MyDrive/GNNs/boids_buffer_10_final1.csv\")"
      ],
      "metadata": {
        "id": "XXXXqOdbc1as"
      },
      "execution_count": 78,
      "outputs": []
    },
    {
      "cell_type": "code",
      "source": [
        "df.shape"
      ],
      "metadata": {
        "colab": {
          "base_uri": "https://localhost:8080/"
        },
        "id": "Eo0__BlW4zLO",
        "outputId": "524e58d1-12d9-40e8-8dd5-41b2b89404e2"
      },
      "execution_count": 79,
      "outputs": [
        {
          "output_type": "execute_result",
          "data": {
            "text/plain": [
              "(5000, 4)"
            ]
          },
          "metadata": {},
          "execution_count": 79
        }
      ]
    },
    {
      "cell_type": "code",
      "source": [
        "df.head()"
      ],
      "metadata": {
        "colab": {
          "base_uri": "https://localhost:8080/",
          "height": 206
        },
        "id": "Sx9crDBZdld5",
        "outputId": "48d4552c-9271-42d5-b878-f8f3b2b0b656"
      },
      "execution_count": 80,
      "outputs": [
        {
          "output_type": "execute_result",
          "data": {
            "text/plain": [
              "                                                   R  \\\n",
              "0  [[1077.9397, 666.84686], [856.4423, 1137.0732]...   \n",
              "1  [[1073.0123, 667.6944], [856.3285, 1142.072], ...   \n",
              "2  [[1068.0665, 668.4283], [856.2146, 1147.0707],...   \n",
              "3  [[1063.112, 669.102], [856.10077, 1152.0693], ...   \n",
              "4  [[1058.1525, 669.736], [855.9869, 1157.0681], ...   \n",
              "\n",
              "                                               theta  \\\n",
              "0  [2.9513416, 1.5935696, 4.8110423, 0.96409255, ...   \n",
              "1  [2.9859188, 1.5935696, 4.8110423, 0.96409255, ...   \n",
              "2  [3.0014527, 1.5935696, 4.8110423, 0.96409255, ...   \n",
              "3  [3.0109863, 1.5935696, 4.8110423, 0.96409255, ...   \n",
              "4  [3.0177057, 1.5935696, 4.8110423, 0.96409255, ...   \n",
              "\n",
              "                                            velocity  \\\n",
              "0  [[-4.927397, 0.8475409], [-0.11385684, 4.99870...   \n",
              "1  [[-4.9457974, 0.7338834], [-0.11385684, 4.9987...   \n",
              "2  [[-4.954386, 0.6736986], [-0.11385684, 4.99870...   \n",
              "3  [[-4.9596305, 0.6340109], [-0.11385684, 4.9987...   \n",
              "4  [[-4.963271, 0.6048854], [-0.11385684, 4.99870...   \n",
              "\n",
              "                                          trajectory  \n",
              "0  [[1077.9397, 666.84686, -4.927397, 0.8475409],...  \n",
              "1  [[1073.0123, 667.6944, -4.9457974, 0.7338834],...  \n",
              "2  [[1068.0665, 668.4283, -4.954386, 0.6736986], ...  \n",
              "3  [[1063.112, 669.102, -4.9596305, 0.6340109], [...  \n",
              "4  [[1058.1525, 669.736, -4.963271, 0.6048854], [...  "
            ],
            "text/html": [
              "\n",
              "  <div id=\"df-a65ad6fc-5e31-4806-8df6-c82851e4228c\">\n",
              "    <div class=\"colab-df-container\">\n",
              "      <div>\n",
              "<style scoped>\n",
              "    .dataframe tbody tr th:only-of-type {\n",
              "        vertical-align: middle;\n",
              "    }\n",
              "\n",
              "    .dataframe tbody tr th {\n",
              "        vertical-align: top;\n",
              "    }\n",
              "\n",
              "    .dataframe thead th {\n",
              "        text-align: right;\n",
              "    }\n",
              "</style>\n",
              "<table border=\"1\" class=\"dataframe\">\n",
              "  <thead>\n",
              "    <tr style=\"text-align: right;\">\n",
              "      <th></th>\n",
              "      <th>R</th>\n",
              "      <th>theta</th>\n",
              "      <th>velocity</th>\n",
              "      <th>trajectory</th>\n",
              "    </tr>\n",
              "  </thead>\n",
              "  <tbody>\n",
              "    <tr>\n",
              "      <th>0</th>\n",
              "      <td>[[1077.9397, 666.84686], [856.4423, 1137.0732]...</td>\n",
              "      <td>[2.9513416, 1.5935696, 4.8110423, 0.96409255, ...</td>\n",
              "      <td>[[-4.927397, 0.8475409], [-0.11385684, 4.99870...</td>\n",
              "      <td>[[1077.9397, 666.84686, -4.927397, 0.8475409],...</td>\n",
              "    </tr>\n",
              "    <tr>\n",
              "      <th>1</th>\n",
              "      <td>[[1073.0123, 667.6944], [856.3285, 1142.072], ...</td>\n",
              "      <td>[2.9859188, 1.5935696, 4.8110423, 0.96409255, ...</td>\n",
              "      <td>[[-4.9457974, 0.7338834], [-0.11385684, 4.9987...</td>\n",
              "      <td>[[1073.0123, 667.6944, -4.9457974, 0.7338834],...</td>\n",
              "    </tr>\n",
              "    <tr>\n",
              "      <th>2</th>\n",
              "      <td>[[1068.0665, 668.4283], [856.2146, 1147.0707],...</td>\n",
              "      <td>[3.0014527, 1.5935696, 4.8110423, 0.96409255, ...</td>\n",
              "      <td>[[-4.954386, 0.6736986], [-0.11385684, 4.99870...</td>\n",
              "      <td>[[1068.0665, 668.4283, -4.954386, 0.6736986], ...</td>\n",
              "    </tr>\n",
              "    <tr>\n",
              "      <th>3</th>\n",
              "      <td>[[1063.112, 669.102], [856.10077, 1152.0693], ...</td>\n",
              "      <td>[3.0109863, 1.5935696, 4.8110423, 0.96409255, ...</td>\n",
              "      <td>[[-4.9596305, 0.6340109], [-0.11385684, 4.9987...</td>\n",
              "      <td>[[1063.112, 669.102, -4.9596305, 0.6340109], [...</td>\n",
              "    </tr>\n",
              "    <tr>\n",
              "      <th>4</th>\n",
              "      <td>[[1058.1525, 669.736], [855.9869, 1157.0681], ...</td>\n",
              "      <td>[3.0177057, 1.5935696, 4.8110423, 0.96409255, ...</td>\n",
              "      <td>[[-4.963271, 0.6048854], [-0.11385684, 4.99870...</td>\n",
              "      <td>[[1058.1525, 669.736, -4.963271, 0.6048854], [...</td>\n",
              "    </tr>\n",
              "  </tbody>\n",
              "</table>\n",
              "</div>\n",
              "      <button class=\"colab-df-convert\" onclick=\"convertToInteractive('df-a65ad6fc-5e31-4806-8df6-c82851e4228c')\"\n",
              "              title=\"Convert this dataframe to an interactive table.\"\n",
              "              style=\"display:none;\">\n",
              "        \n",
              "  <svg xmlns=\"http://www.w3.org/2000/svg\" height=\"24px\"viewBox=\"0 0 24 24\"\n",
              "       width=\"24px\">\n",
              "    <path d=\"M0 0h24v24H0V0z\" fill=\"none\"/>\n",
              "    <path d=\"M18.56 5.44l.94 2.06.94-2.06 2.06-.94-2.06-.94-.94-2.06-.94 2.06-2.06.94zm-11 1L8.5 8.5l.94-2.06 2.06-.94-2.06-.94L8.5 2.5l-.94 2.06-2.06.94zm10 10l.94 2.06.94-2.06 2.06-.94-2.06-.94-.94-2.06-.94 2.06-2.06.94z\"/><path d=\"M17.41 7.96l-1.37-1.37c-.4-.4-.92-.59-1.43-.59-.52 0-1.04.2-1.43.59L10.3 9.45l-7.72 7.72c-.78.78-.78 2.05 0 2.83L4 21.41c.39.39.9.59 1.41.59.51 0 1.02-.2 1.41-.59l7.78-7.78 2.81-2.81c.8-.78.8-2.07 0-2.86zM5.41 20L4 18.59l7.72-7.72 1.47 1.35L5.41 20z\"/>\n",
              "  </svg>\n",
              "      </button>\n",
              "      \n",
              "  <style>\n",
              "    .colab-df-container {\n",
              "      display:flex;\n",
              "      flex-wrap:wrap;\n",
              "      gap: 12px;\n",
              "    }\n",
              "\n",
              "    .colab-df-convert {\n",
              "      background-color: #E8F0FE;\n",
              "      border: none;\n",
              "      border-radius: 50%;\n",
              "      cursor: pointer;\n",
              "      display: none;\n",
              "      fill: #1967D2;\n",
              "      height: 32px;\n",
              "      padding: 0 0 0 0;\n",
              "      width: 32px;\n",
              "    }\n",
              "\n",
              "    .colab-df-convert:hover {\n",
              "      background-color: #E2EBFA;\n",
              "      box-shadow: 0px 1px 2px rgba(60, 64, 67, 0.3), 0px 1px 3px 1px rgba(60, 64, 67, 0.15);\n",
              "      fill: #174EA6;\n",
              "    }\n",
              "\n",
              "    [theme=dark] .colab-df-convert {\n",
              "      background-color: #3B4455;\n",
              "      fill: #D2E3FC;\n",
              "    }\n",
              "\n",
              "    [theme=dark] .colab-df-convert:hover {\n",
              "      background-color: #434B5C;\n",
              "      box-shadow: 0px 1px 3px 1px rgba(0, 0, 0, 0.15);\n",
              "      filter: drop-shadow(0px 1px 2px rgba(0, 0, 0, 0.3));\n",
              "      fill: #FFFFFF;\n",
              "    }\n",
              "  </style>\n",
              "\n",
              "      <script>\n",
              "        const buttonEl =\n",
              "          document.querySelector('#df-a65ad6fc-5e31-4806-8df6-c82851e4228c button.colab-df-convert');\n",
              "        buttonEl.style.display =\n",
              "          google.colab.kernel.accessAllowed ? 'block' : 'none';\n",
              "\n",
              "        async function convertToInteractive(key) {\n",
              "          const element = document.querySelector('#df-a65ad6fc-5e31-4806-8df6-c82851e4228c');\n",
              "          const dataTable =\n",
              "            await google.colab.kernel.invokeFunction('convertToInteractive',\n",
              "                                                     [key], {});\n",
              "          if (!dataTable) return;\n",
              "\n",
              "          const docLinkHtml = 'Like what you see? Visit the ' +\n",
              "            '<a target=\"_blank\" href=https://colab.research.google.com/notebooks/data_table.ipynb>data table notebook</a>'\n",
              "            + ' to learn more about interactive tables.';\n",
              "          element.innerHTML = '';\n",
              "          dataTable['output_type'] = 'display_data';\n",
              "          await google.colab.output.renderOutput(dataTable, element);\n",
              "          const docLink = document.createElement('div');\n",
              "          docLink.innerHTML = docLinkHtml;\n",
              "          element.appendChild(docLink);\n",
              "        }\n",
              "      </script>\n",
              "    </div>\n",
              "  </div>\n",
              "  "
            ]
          },
          "metadata": {},
          "execution_count": 80
        }
      ]
    },
    {
      "cell_type": "code",
      "source": [
        "a = 0"
      ],
      "metadata": {
        "id": "xWvLHO7UQEDF"
      },
      "execution_count": 81,
      "outputs": []
    },
    {
      "cell_type": "code",
      "source": [
        "x = []\n",
        "y = []\n",
        "\n",
        "for i in range(50):\n",
        "  x.append(df.iloc[i].trajectory[a][0])\n",
        "  y.append(df.iloc[i].trajectory[a][1])\n",
        "\n",
        "%matplotlib inline\n",
        "print(len(x))\n",
        "plt.plot(x,y)\n",
        "plt.grid()\n",
        "plt.show()"
      ],
      "metadata": {
        "id": "YkThR2-XPBAN",
        "outputId": "1304ebc1-7f96-4d75-f261-d15de77b2e39",
        "colab": {
          "base_uri": "https://localhost:8080/",
          "height": 282
        }
      },
      "execution_count": 82,
      "outputs": [
        {
          "output_type": "stream",
          "name": "stdout",
          "text": [
            "50\n"
          ]
        },
        {
          "output_type": "display_data",
          "data": {
            "text/plain": [
              "<Figure size 432x288 with 1 Axes>"
            ],
            "image/png": "[encoded data removed]"
          },
          "metadata": {
            "needs_background": "light"
          }
        }
      ]
    },
    {
      "cell_type": "code",
      "source": [
        "x[0], y[0]"
      ],
      "metadata": {
        "id": "zpcwEPhmTGAh",
        "outputId": "608dc056-8234-4808-d404-f6f9ff29192c",
        "colab": {
          "base_uri": "https://localhost:8080/"
        }
      },
      "execution_count": 83,
      "outputs": [
        {
          "output_type": "execute_result",
          "data": {
            "text/plain": [
              "(DeviceArray(1077.9397, dtype=float32), DeviceArray(666.84686, dtype=float32))"
            ]
          },
          "metadata": {},
          "execution_count": 83
        }
      ]
    },
    {
      "cell_type": "code",
      "source": [
        "data = []\n",
        "for w in range(len(df)):\n",
        "  \n",
        "  state = np.array(df.R[w])\n",
        "  D = list()\n",
        "  for a,i in enumerate(state):\n",
        "    d= []\n",
        "    for b,j in enumerate(state):\n",
        "      eDistance = math.hypot(i[0] - j[0], i[1] - j[1])\n",
        "      if a == b:\n",
        "        d.append(0)\n",
        "      elif int(eDistance) <= 200:\n",
        "        d.append(1)\n",
        "      else:\n",
        "        d.append(0)\n",
        "    D.append(d)\n",
        "\n",
        "  data.append(np.array(D))\n",
        "edge_data = np.array(data)\n",
        "#all_data = np.array(list(df.trajectory.transpose()))\n",
        "all_data = df.trajectory.to_numpy()\n",
        "\n",
        "adj_array = []\n",
        "#print(edge_data.shape)\n",
        "for time_step in range(len(edge_data)):\n",
        "  edge = []\n",
        "  for i in range(len(edge_data[0])):\n",
        "    edge = edge + list(list(edge_data[time_step][i][:i])+list(edge_data[time_step][i][i+1:]))\n",
        "    \n",
        "  #print(len(edge[0].shape))\n",
        "  adj_array.append(edge)\n",
        "\n",
        "edge_data = np.array(adj_array)"
      ],
      "metadata": {
        "id": "DvNzNXDsmHrD"
      },
      "execution_count": 102,
      "outputs": []
    },
    {
      "cell_type": "code",
      "source": [
        "df.trajectory[0][0]"
      ],
      "metadata": {
        "id": "94sdfFg7Ubuc",
        "outputId": "2bc0f7de-52ee-459e-ff1f-980fa6671466",
        "colab": {
          "base_uri": "https://localhost:8080/"
        }
      },
      "execution_count": 107,
      "outputs": [
        {
          "output_type": "execute_result",
          "data": {
            "text/plain": [
              "[DeviceArray(1077.9397, dtype=float32),\n",
              " DeviceArray(666.84686, dtype=float32),\n",
              " DeviceArray(-4.927397, dtype=float32),\n",
              " DeviceArray(0.8475409, dtype=float32)]"
            ]
          },
          "metadata": {},
          "execution_count": 107
        }
      ]
    },
    {
      "cell_type": "code",
      "source": [
        "all_data[0][0]"
      ],
      "metadata": {
        "id": "DVoEcq7AUZYO",
        "outputId": "067361cd-7395-46c4-8563-37e79103232d",
        "colab": {
          "base_uri": "https://localhost:8080/"
        }
      },
      "execution_count": 108,
      "outputs": [
        {
          "output_type": "execute_result",
          "data": {
            "text/plain": [
              "[DeviceArray(1077.9397, dtype=float32),\n",
              " DeviceArray(666.84686, dtype=float32),\n",
              " DeviceArray(-4.927397, dtype=float32),\n",
              " DeviceArray(0.8475409, dtype=float32)]"
            ]
          },
          "metadata": {},
          "execution_count": 108
        }
      ]
    },
    {
      "cell_type": "code",
      "source": [
        "x = []\n",
        "y = []\n",
        "for time_step in range(50):\n",
        "  x.append(all_data[time_step][a][0])\n",
        "  y.append(all_data[time_step][a][1])\n",
        "\n",
        "%matplotlib inline\n",
        "print(len(x))\n",
        "plt.plot(x,y)\n",
        "plt.grid()\n",
        "plt.show()"
      ],
      "metadata": {
        "id": "ijp9wCSyURHS",
        "outputId": "f5d6e3b2-d10a-49df-d163-c60378ec7bdf",
        "colab": {
          "base_uri": "https://localhost:8080/",
          "height": 282
        }
      },
      "execution_count": 103,
      "outputs": [
        {
          "output_type": "stream",
          "name": "stdout",
          "text": [
            "50\n"
          ]
        },
        {
          "output_type": "display_data",
          "data": {
            "text/plain": [
              "<Figure size 432x288 with 1 Axes>"
            ],
            "image/png": "[encoded data removed]"
          },
          "metadata": {
            "needs_background": "light"
          }
        }
      ]
    },
    {
      "cell_type": "code",
      "source": [
        "all_data = np.stack(all_data)\n",
        "train_data = torch.FloatTensor(all_data[:params['num_train']])\n",
        "val_data = torch.FloatTensor(all_data[params['num_train']:params['num_train']+params['num_val']])\n",
        "test_data = torch.FloatTensor(all_data[params['num_train']+params['num_val']:params['num_train']+params['num_val']+params['num_test']])\n",
        "\n",
        "train_edges = torch.FloatTensor(edge_data[:params['num_train']])\n",
        "val_edges = torch.FloatTensor(edge_data[params['num_train']:params['num_train']+params['num_val']])\n",
        "test_edges = torch.FloatTensor(edge_data[params['num_train']+params['num_val']:params['num_train']+params['num_val']+params['num_test']])"
      ],
      "metadata": {
        "id": "sMqcjpLRea24"
      },
      "execution_count": 101,
      "outputs": []
    },
    {
      "cell_type": "code",
      "source": [
        "del all_data, df,edge_data, data"
      ],
      "metadata": {
        "id": "d9nZE2UU9tCL"
      },
      "execution_count": 72,
      "outputs": []
    },
    {
      "cell_type": "code",
      "source": [
        "print(\"Train Shape:\", train_data.shape,\"\\n\", \n",
        "       \"Val Shape:\", val_data.shape,\"\\n\",\n",
        "      \"Test Shape:\", test_data.shape)"
      ],
      "metadata": {
        "colab": {
          "base_uri": "https://localhost:8080/"
        },
        "id": "4UGCd5PmDRff",
        "outputId": "a2e71057-a377-4bab-e5de-87af3dbdf77f"
      },
      "execution_count": 92,
      "outputs": [
        {
          "output_type": "stream",
          "name": "stdout",
          "text": [
            "Train Shape: torch.Size([3000, 10, 4]) \n",
            " Val Shape: torch.Size([1000, 10, 4]) \n",
            " Test Shape: torch.Size([1000, 10, 4])\n"
          ]
        }
      ]
    },
    {
      "cell_type": "code",
      "source": [
        "x = []\n",
        "y = []\n",
        "for time_step in range(50):\n",
        "  x.append(train_data[time_step][a][1])\n",
        "  y.append(train_data[time_step][a][0])\n",
        "\n",
        "%matplotlib inline\n",
        "print(len(x))\n",
        "plt.plot(x,y)\n",
        "plt.grid()\n",
        "plt.show()"
      ],
      "metadata": {
        "id": "dv4lGXHKPdSw",
        "outputId": "9a1f20fd-2acd-4450-8735-d65487bec4bc",
        "colab": {
          "base_uri": "https://localhost:8080/",
          "height": 282
        }
      },
      "execution_count": 97,
      "outputs": [
        {
          "output_type": "stream",
          "name": "stdout",
          "text": [
            "50\n"
          ]
        },
        {
          "output_type": "display_data",
          "data": {
            "text/plain": [
              "<Figure size 432x288 with 1 Axes>"
            ],
            "image/png": "[encoded data removed]"
          },
          "metadata": {
            "needs_background": "light"
          }
        }
      ]
    },
    {
      "cell_type": "code",
      "source": [
        "x[0], y[0]"
      ],
      "metadata": {
        "id": "c4SkJNnKS_CG",
        "outputId": "0374db75-7e46-4b22-eea6-77898db6d655",
        "colab": {
          "base_uri": "https://localhost:8080/"
        }
      },
      "execution_count": 98,
      "outputs": [
        {
          "output_type": "execute_result",
          "data": {
            "text/plain": [
              "(tensor(1028.1074), tensor(655.5960))"
            ]
          },
          "metadata": {},
          "execution_count": 98
        }
      ]
    },
    {
      "cell_type": "code",
      "source": [
        "train_data = train_data.reshape([int(params[\"num_train\"]/50),50,10,4])\n",
        "val_data = val_data.reshape([int(params[\"num_val\"]/50),50,10,4])\n",
        "test_data = test_data.reshape([int(params[\"num_test\"]/50),50,10,4])\n",
        "\n",
        "train_edges = train_edges.reshape([int(params['num_train']/50),50,90])\n",
        "val_edges = val_edges.reshape([int(params['num_val']/50),50,90])\n",
        "test_edges = test_edges.reshape([int(params['num_test']/50),50,90])"
      ],
      "metadata": {
        "id": "a5aGYElZbFo_"
      },
      "execution_count": 51,
      "outputs": []
    },
    {
      "cell_type": "code",
      "source": [
        "x = []\n",
        "y = []\n",
        "for time_step in range(50):\n",
        "  x.append(train_data[0][time_step][a][0])\n",
        "  y.append(train_data[0][time_step][a][1])\n",
        "\n",
        "%matplotlib inline\n",
        "plt.plot(x,y)\n",
        "plt.grid()\n",
        "plt.show()"
      ],
      "metadata": {
        "id": "N66MaMcFPg6x",
        "outputId": "57347949-ba94-4bd0-c6d7-23da6fe4b94c",
        "colab": {
          "base_uri": "https://localhost:8080/",
          "height": 265
        }
      },
      "execution_count": 52,
      "outputs": [
        {
          "output_type": "display_data",
          "data": {
            "text/plain": [
              "<Figure size 432x288 with 1 Axes>"
            ],
            "image/png": "[encoded data removed]"
          },
          "metadata": {
            "needs_background": "light"
          }
        }
      ]
    },
    {
      "cell_type": "code",
      "source": [
        "train_data = torch.nn.functional.normalize(train_data)\n",
        "val_data = torch.nn.functional.normalize(val_data)\n",
        "test_data = torch.nn.functional.normalize(test_data)"
      ],
      "metadata": {
        "id": "lRvZM3sW8hCa"
      },
      "execution_count": 53,
      "outputs": []
    },
    {
      "cell_type": "code",
      "source": [
        "x = []\n",
        "y = []\n",
        "for time_step in range(50):\n",
        "  x.append(train_data[0][time_step][a][0])\n",
        "  y.append(train_data[0][time_step][a][1])\n",
        "%matplotlib inline\n",
        "plt.plot(x,y)\n",
        "plt.grid()\n",
        "plt.show()"
      ],
      "metadata": {
        "id": "gwopC0PTPi_Q",
        "outputId": "a068b410-8366-492c-92dc-ddbfedda13b8",
        "colab": {
          "base_uri": "https://localhost:8080/",
          "height": 265
        }
      },
      "execution_count": 54,
      "outputs": [
        {
          "output_type": "display_data",
          "data": {
            "text/plain": [
              "<Figure size 432x288 with 1 Axes>"
            ],
            "image/png": "[encoded data removed]"
          },
          "metadata": {
            "needs_background": "light"
          }
        }
      ]
    },
    {
      "cell_type": "code",
      "source": [
        "DATA = []\n",
        "\n",
        "for i in range(train_data.shape[0]):\n",
        "  DATA.append({'inputs':train_data[i].reshape([1,50,10,4]),'edges':train_edges[i].reshape([1,50,90])})\n",
        "\n",
        "VAL = []\n",
        "\n",
        "for i in range(val_data.shape[0]):\n",
        "  VAL.append({'inputs':val_data[i].reshape([1,50,10,4]),'edges':val_edges[i].reshape([1,50,90])})\n",
        "\n",
        "TEST = []\n",
        "\n",
        "for i in range(test_data.shape[0]):\n",
        "  TEST.append({'inputs':test_data[i].reshape([1,50,10,4]),'edges':test_edges[i].reshape([1,50,90])})"
      ],
      "metadata": {
        "id": "rw95XbyRx3XM"
      },
      "execution_count": 55,
      "outputs": []
    },
    {
      "cell_type": "code",
      "source": [
        "x = []\n",
        "y = []\n",
        "for time_step in range(50):\n",
        "  x.append(DATA[0]['inputs'][0][time_step][a][0])\n",
        "  y.append(DATA[0]['inputs'][0][time_step][a][1])\n",
        "%matplotlib inline\n",
        "plt.plot(x,y)\n",
        "plt.grid()\n",
        "plt.show()"
      ],
      "metadata": {
        "id": "j56FIhjsPl49",
        "outputId": "f3d70c16-d559-4267-e85f-2dc9092e6bed",
        "colab": {
          "base_uri": "https://localhost:8080/",
          "height": 265
        }
      },
      "execution_count": 56,
      "outputs": [
        {
          "output_type": "display_data",
          "data": {
            "text/plain": [
              "<Figure size 432x288 with 1 Axes>"
            ],
            "image/png": "[encoded data removed]"
          },
          "metadata": {
            "needs_background": "light"
          }
        }
      ]
    },
    {
      "cell_type": "markdown",
      "source": [
        "Build Model"
      ],
      "metadata": {
        "id": "ShgCZ5FdsCDG"
      }
    },
    {
      "cell_type": "code",
      "source": [
        "def build_model(params):\n",
        "    if params['model_type'] == 'RNN':\n",
        "        model = SingleRNNBaseline(params)\n",
        "        print(\"dNRI MODEL: \",model)\n",
        "    if params['load_best_model']:\n",
        "        print(\"LOADING BEST MODEL\")\n",
        "        path = os.path.join(params['working_dir'], 'best_model')\n",
        "        model.load(path)\n",
        "    elif params['load_model']:\n",
        "        print(\"LOADING MODEL FROM SPECIFIED PATH\")\n",
        "        model.load(params['load_model'])\n",
        "    if params['gpu']:\n",
        "        model.cuda()\n",
        "    return model"
      ],
      "metadata": {
        "id": "rzUdzq4oWlju"
      },
      "execution_count": 15,
      "outputs": []
    },
    {
      "cell_type": "code",
      "source": [
        "params['mode'] = 'train'"
      ],
      "metadata": {
        "id": "-E3E-OTMJNJs"
      },
      "execution_count": 16,
      "outputs": []
    },
    {
      "cell_type": "code",
      "source": [
        "model = build_model(params)\n",
        "if params['mode'] == 'train':\n",
        "    with build_writers(params['working_dir']) as (train_writer, val_writer):\n",
        "        result = train(model, DATA, VAL, params, train_writer, val_writer)\n",
        "\n",
        "elif params['mode'] == 'eval':\n",
        "    test_data = TEST\n",
        "    forward_pred = 50 - params['test_burn_in_steps']\n",
        "    test_mse  = eval_forward_prediction(model, test_data, params['test_burn_in_steps'], forward_pred, params)\n",
        "    #path = os.path.join(params['working_dir'], params['error_out_name']%params['test_burn_in_steps'])\n",
        "    #np.save(path, test_mse.cpu().numpy())\n",
        "    test_mse_1 = test_mse[0].item()\n",
        "    #test_mse_15 = test_mse[14].item()\n",
        "    test_mse_10 = test_mse[9].item()\n",
        "    print(\"FORWARD PRED RESULTS:\")\n",
        "    print(\"\\t1 STEP: \",test_mse_1)\n",
        "    #print(\"\\t15 STEP: \",test_mse_15)\n",
        "    print(\"\\t25 STEP: \",test_mse_10)\n",
        "\n",
        "\n",
        "    f1, all_acc, acc_0, acc_1, edges = eval_edges(model, VAL, params)\n",
        "    print(\"Val Edge results:\")\n",
        "    print(\"\\tF1: \",f1)\n",
        "    print(\"\\tAll predicted edge accuracy: \",all_acc)\n",
        "    print(\"\\tFirst Edge Acc: \",acc_0)\n",
        "    print(\"\\tSecond Edge Acc: \",acc_1)\n",
        "    #out_dir = os.path.join(params['working_dir'], 'preds')\n",
        "    #os.makedirs(out_dir, exist_ok=True)\n",
        "    #out_path = os.path.join(out_dir, 'encoder_edges.npy')\n",
        "    #np.save(out_path, edges.numpy())\n",
        "\n",
        "    plot_sample(model, test_data, params['test_burn_in_steps'], params)\n",
        "\n",
        "elif params['mode'] == 'record_predictions':\n",
        "    model.eval()\n",
        "    burn_in = params['test_burn_in_steps']\n",
        "    forward_pred = 50 - params['test_burn_in_steps']\n",
        "    test_data = TEST\n",
        "    if params['subject_ind'] == -1:\n",
        "        val_data_loader = DataLoader(test_data, batch_size=params['batch_size'])\n",
        "        all_predictions = []\n",
        "        all_edges = []\n",
        "        for batch_ind,batch in enumerate(val_data_loader):\n",
        "            print(\"BATCH %d of %d\"%(batch_ind+1, len(val_data_loader)))\n",
        "            inputs = batch['inputs']\n",
        "            if params['gpu']:\n",
        "                inputs = inputs.cuda(non_blocking=True)\n",
        "            with torch.no_grad():\n",
        "                predictions, edges = model.predict_future(inputs[:, :burn_in], forward_pred, return_edges=True, return_everything=True)\n",
        "                all_predictions.append(predictions)\n",
        "                all_edges.append(edges)\n",
        "        if params['error_suffix'] is not None:\n",
        "            out_path = os.path.join(params['working_dir'], 'preds/', 'all_test_subjects_%s.npy'%params['error_suffix'])\n",
        "        else:\n",
        "            out_path = os.path.join(params['working_dir'], 'preds/', 'all_test_subjects.npy')\n",
        "\n",
        "        predictions = torch.cat(all_predictions, dim=0)\n",
        "        edges = torch.cat(all_edges, dim=0)\n",
        "\n",
        "    else:\n",
        "        data = test_data[params['subject_ind']]\n",
        "        inputs = data['inputs'].unsqueeze(0)\n",
        "        if params['gpu']:\n",
        "            inputs = inputs.cuda(non_blocking=True)\n",
        "        with torch.no_grad():\n",
        "            predictions, edges = model.predict_future(inputs[:, :burn_in], forward_pred, return_edges=True, return_everything=True)\n",
        "            predictions = predictions.squeeze(0)\n",
        "            edges = edges.squeeze(0)\n",
        "        out_path = os.path.join(params['working_dir'], 'preds/', 'subject_%d.npy'%args.subject_ind)\n",
        "    tmp_dir = os.path.join(params['working_dir'], 'preds/')\n",
        "    if not os.path.exists(tmp_dir):\n",
        "        os.makedirs(tmp_dir)\n",
        "    torch.save([predictions.cpu(), edges.cpu()], out_path)\n"
      ],
      "metadata": {
        "colab": {
          "base_uri": "https://localhost:8080/"
        },
        "id": "tvqz0fqwYhEp",
        "outputId": "701d665b-b045-460d-cb0f-681fe28b8e5c"
      },
      "execution_count": 17,
      "outputs": [
        {
          "output_type": "stream",
          "name": "stdout",
          "text": [
            "dNRI MODEL:  SingleRNNBaseline(\n",
            "  (rnn): LSTMCell(4, 256)\n",
            "  (out): Sequential(\n",
            "    (0): Linear(in_features=256, out_features=256, bias=True)\n",
            "    (1): ReLU(inplace=True)\n",
            "    (2): Dropout(p=0.0, inplace=False)\n",
            "    (3): Linear(in_features=256, out_features=256, bias=True)\n",
            "    (4): ReLU(inplace=True)\n",
            "    (5): Dropout(p=0.0, inplace=False)\n",
            "    (6): Linear(in_features=256, out_features=4, bias=True)\n",
            "  )\n",
            ")\n",
            "EPOCH 1 0\n",
            "BEST VAL RESULT. SAVING MODEL...\n",
            "EPOCH 1 EVAL: \n",
            "\tCURRENT VAL LOSS: 2001370.281250\n",
            "\tBEST VAL LOSS:    2001370.281250\n",
            "\tBEST VAL EPOCH:   1\n",
            "EPOCH 2 3.4120376110076904\n",
            "BEST VAL RESULT. SAVING MODEL...\n",
            "EPOCH 2 EVAL: \n",
            "\tCURRENT VAL LOSS: 616698.333984\n",
            "\tBEST VAL LOSS:    616698.333984\n",
            "\tBEST VAL EPOCH:   2\n",
            "EPOCH 3 3.2251837253570557\n",
            "BEST VAL RESULT. SAVING MODEL...\n",
            "EPOCH 3 EVAL: \n",
            "\tCURRENT VAL LOSS: 114055.852539\n",
            "\tBEST VAL LOSS:    114055.852539\n",
            "\tBEST VAL EPOCH:   3\n",
            "EPOCH 4 3.1994152069091797\n",
            "EPOCH 4 EVAL: \n",
            "\tCURRENT VAL LOSS: 260482.850586\n",
            "\tBEST VAL LOSS:    114055.852539\n",
            "\tBEST VAL EPOCH:   3\n",
            "EPOCH 5 3.2247073650360107\n",
            "EPOCH 5 EVAL: \n",
            "\tCURRENT VAL LOSS: 667847.478516\n",
            "\tBEST VAL LOSS:    114055.852539\n",
            "\tBEST VAL EPOCH:   3\n",
            "EPOCH 6 3.261780261993408\n",
            "EPOCH 6 EVAL: \n",
            "\tCURRENT VAL LOSS: 972434.664062\n",
            "\tBEST VAL LOSS:    114055.852539\n",
            "\tBEST VAL EPOCH:   3\n",
            "EPOCH 7 3.2146875858306885\n",
            "EPOCH 7 EVAL: \n",
            "\tCURRENT VAL LOSS: 1031744.894531\n",
            "\tBEST VAL LOSS:    114055.852539\n",
            "\tBEST VAL EPOCH:   3\n",
            "EPOCH 8 3.2260825634002686\n",
            "EPOCH 8 EVAL: \n",
            "\tCURRENT VAL LOSS: 882934.312500\n",
            "\tBEST VAL LOSS:    114055.852539\n",
            "\tBEST VAL EPOCH:   3\n",
            "EPOCH 9 3.2513959407806396\n",
            "EPOCH 9 EVAL: \n",
            "\tCURRENT VAL LOSS: 630895.667969\n",
            "\tBEST VAL LOSS:    114055.852539\n",
            "\tBEST VAL EPOCH:   3\n",
            "EPOCH 10 3.2283082008361816\n",
            "EPOCH 10 EVAL: \n",
            "\tCURRENT VAL LOSS: 376467.861328\n",
            "\tBEST VAL LOSS:    114055.852539\n",
            "\tBEST VAL EPOCH:   3\n",
            "EPOCH 11 3.20902943611145\n",
            "EPOCH 11 EVAL: \n",
            "\tCURRENT VAL LOSS: 189850.456543\n",
            "\tBEST VAL LOSS:    114055.852539\n",
            "\tBEST VAL EPOCH:   3\n",
            "EPOCH 12 3.359726905822754\n",
            "BEST VAL RESULT. SAVING MODEL...\n",
            "EPOCH 12 EVAL: \n",
            "\tCURRENT VAL LOSS: 98342.084473\n",
            "\tBEST VAL LOSS:    98342.084473\n",
            "\tBEST VAL EPOCH:   12\n",
            "EPOCH 13 3.226091146469116\n",
            "BEST VAL RESULT. SAVING MODEL...\n",
            "EPOCH 13 EVAL: \n",
            "\tCURRENT VAL LOSS: 92176.213379\n",
            "\tBEST VAL LOSS:    92176.213379\n",
            "\tBEST VAL EPOCH:   13\n",
            "EPOCH 14 3.2061855792999268\n",
            "EPOCH 14 EVAL: \n",
            "\tCURRENT VAL LOSS: 140635.999512\n",
            "\tBEST VAL LOSS:    92176.213379\n",
            "\tBEST VAL EPOCH:   13\n",
            "EPOCH 15 3.301546335220337\n",
            "EPOCH 15 EVAL: \n",
            "\tCURRENT VAL LOSS: 205857.464844\n",
            "\tBEST VAL LOSS:    92176.213379\n",
            "\tBEST VAL EPOCH:   13\n",
            "EPOCH 16 3.713667154312134\n",
            "EPOCH 16 EVAL: \n",
            "\tCURRENT VAL LOSS: 257069.337891\n",
            "\tBEST VAL LOSS:    92176.213379\n",
            "\tBEST VAL EPOCH:   13\n",
            "EPOCH 17 3.606419324874878\n",
            "EPOCH 17 EVAL: \n",
            "\tCURRENT VAL LOSS: 276023.148438\n",
            "\tBEST VAL LOSS:    92176.213379\n",
            "\tBEST VAL EPOCH:   13\n",
            "EPOCH 18 3.2456071376800537\n",
            "EPOCH 18 EVAL: \n",
            "\tCURRENT VAL LOSS: 261176.531250\n",
            "\tBEST VAL LOSS:    92176.213379\n",
            "\tBEST VAL EPOCH:   13\n",
            "EPOCH 19 3.2691283226013184\n",
            "EPOCH 19 EVAL: \n",
            "\tCURRENT VAL LOSS: 220795.685547\n",
            "\tBEST VAL LOSS:    92176.213379\n",
            "\tBEST VAL EPOCH:   13\n",
            "EPOCH 20 3.2703733444213867\n",
            "EPOCH 20 EVAL: \n",
            "\tCURRENT VAL LOSS: 171217.210449\n",
            "\tBEST VAL LOSS:    92176.213379\n",
            "\tBEST VAL EPOCH:   13\n",
            "EPOCH 21 3.1916167736053467\n",
            "EPOCH 21 EVAL: \n",
            "\tCURRENT VAL LOSS: 125897.074219\n",
            "\tBEST VAL LOSS:    92176.213379\n",
            "\tBEST VAL EPOCH:   13\n",
            "EPOCH 22 3.1514954566955566\n",
            "EPOCH 22 EVAL: \n",
            "\tCURRENT VAL LOSS: 95149.332031\n",
            "\tBEST VAL LOSS:    92176.213379\n",
            "\tBEST VAL EPOCH:   13\n",
            "EPOCH 23 3.2153947353363037\n",
            "BEST VAL RESULT. SAVING MODEL...\n",
            "EPOCH 23 EVAL: \n",
            "\tCURRENT VAL LOSS: 84210.789795\n",
            "\tBEST VAL LOSS:    84210.789795\n",
            "\tBEST VAL EPOCH:   23\n",
            "EPOCH 24 3.214431047439575\n",
            "EPOCH 24 EVAL: \n",
            "\tCURRENT VAL LOSS: 92015.129395\n",
            "\tBEST VAL LOSS:    84210.789795\n",
            "\tBEST VAL EPOCH:   23\n",
            "EPOCH 25 3.228484869003296\n",
            "EPOCH 25 EVAL: \n",
            "\tCURRENT VAL LOSS: 112353.757324\n",
            "\tBEST VAL LOSS:    84210.789795\n",
            "\tBEST VAL EPOCH:   23\n",
            "EPOCH 26 3.1825814247131348\n",
            "EPOCH 26 EVAL: \n",
            "\tCURRENT VAL LOSS: 136365.145508\n",
            "\tBEST VAL LOSS:    84210.789795\n",
            "\tBEST VAL EPOCH:   23\n",
            "EPOCH 27 3.216390609741211\n",
            "EPOCH 27 EVAL: \n",
            "\tCURRENT VAL LOSS: 155979.091797\n",
            "\tBEST VAL LOSS:    84210.789795\n",
            "\tBEST VAL EPOCH:   23\n",
            "EPOCH 28 3.2100331783294678\n",
            "EPOCH 28 EVAL: \n",
            "\tCURRENT VAL LOSS: 164843.982910\n",
            "\tBEST VAL LOSS:    84210.789795\n",
            "\tBEST VAL EPOCH:   23\n",
            "EPOCH 29 3.217242479324341\n",
            "EPOCH 29 EVAL: \n",
            "\tCURRENT VAL LOSS: 162128.971191\n",
            "\tBEST VAL LOSS:    84210.789795\n",
            "\tBEST VAL EPOCH:   23\n",
            "EPOCH 30 3.274803638458252\n",
            "EPOCH 30 EVAL: \n",
            "\tCURRENT VAL LOSS: 148922.523438\n",
            "\tBEST VAL LOSS:    84210.789795\n",
            "\tBEST VAL EPOCH:   23\n",
            "EPOCH 31 3.2346744537353516\n",
            "EPOCH 31 EVAL: \n",
            "\tCURRENT VAL LOSS: 129646.389648\n",
            "\tBEST VAL LOSS:    84210.789795\n",
            "\tBEST VAL EPOCH:   23\n",
            "EPOCH 32 3.258901357650757\n",
            "EPOCH 32 EVAL: \n",
            "\tCURRENT VAL LOSS: 110230.982910\n",
            "\tBEST VAL LOSS:    84210.789795\n",
            "\tBEST VAL EPOCH:   23\n",
            "EPOCH 33 3.2246005535125732\n",
            "EPOCH 33 EVAL: \n",
            "\tCURRENT VAL LOSS: 95164.062988\n",
            "\tBEST VAL LOSS:    84210.789795\n",
            "\tBEST VAL EPOCH:   23\n",
            "EPOCH 34 3.221078872680664\n",
            "EPOCH 34 EVAL: \n",
            "\tCURRENT VAL LOSS: 86350.540283\n",
            "\tBEST VAL LOSS:    84210.789795\n",
            "\tBEST VAL EPOCH:   23\n",
            "EPOCH 35 3.180011510848999\n",
            "BEST VAL RESULT. SAVING MODEL...\n",
            "EPOCH 35 EVAL: \n",
            "\tCURRENT VAL LOSS: 83404.515381\n",
            "\tBEST VAL LOSS:    83404.515381\n",
            "\tBEST VAL EPOCH:   35\n",
            "EPOCH 36 3.1948280334472656\n",
            "EPOCH 36 EVAL: \n",
            "\tCURRENT VAL LOSS: 84721.887451\n",
            "\tBEST VAL LOSS:    83404.515381\n",
            "\tBEST VAL EPOCH:   35\n",
            "EPOCH 37 3.2537481784820557\n",
            "EPOCH 37 EVAL: \n",
            "\tCURRENT VAL LOSS: 88009.638184\n",
            "\tBEST VAL LOSS:    83404.515381\n",
            "\tBEST VAL EPOCH:   35\n",
            "EPOCH 38 3.114044427871704\n",
            "EPOCH 38 EVAL: \n",
            "\tCURRENT VAL LOSS: 90914.908203\n",
            "\tBEST VAL LOSS:    83404.515381\n",
            "\tBEST VAL EPOCH:   35\n",
            "EPOCH 39 3.158842086791992\n",
            "EPOCH 39 EVAL: \n",
            "\tCURRENT VAL LOSS: 91768.455078\n",
            "\tBEST VAL LOSS:    83404.515381\n",
            "\tBEST VAL EPOCH:   35\n",
            "EPOCH 40 3.211430788040161\n",
            "EPOCH 40 EVAL: \n",
            "\tCURRENT VAL LOSS: 90290.561035\n",
            "\tBEST VAL LOSS:    83404.515381\n",
            "\tBEST VAL EPOCH:   35\n",
            "EPOCH 41 3.1691455841064453\n",
            "EPOCH 41 EVAL: \n",
            "\tCURRENT VAL LOSS: 87339.414551\n",
            "\tBEST VAL LOSS:    83404.515381\n",
            "\tBEST VAL EPOCH:   35\n",
            "EPOCH 42 3.2128772735595703\n",
            "EPOCH 42 EVAL: \n",
            "\tCURRENT VAL LOSS: 84249.133789\n",
            "\tBEST VAL LOSS:    83404.515381\n",
            "\tBEST VAL EPOCH:   35\n",
            "EPOCH 43 3.1918740272521973\n",
            "BEST VAL RESULT. SAVING MODEL...\n",
            "EPOCH 43 EVAL: \n",
            "\tCURRENT VAL LOSS: 82255.664062\n",
            "\tBEST VAL LOSS:    82255.664062\n",
            "\tBEST VAL EPOCH:   43\n",
            "EPOCH 44 3.9002270698547363\n",
            "BEST VAL RESULT. SAVING MODEL...\n",
            "EPOCH 44 EVAL: \n",
            "\tCURRENT VAL LOSS: 82148.113281\n",
            "\tBEST VAL LOSS:    82148.113281\n",
            "\tBEST VAL EPOCH:   44\n",
            "EPOCH 45 3.083479642868042\n",
            "EPOCH 45 EVAL: \n",
            "\tCURRENT VAL LOSS: 84008.136230\n",
            "\tBEST VAL LOSS:    82148.113281\n",
            "\tBEST VAL EPOCH:   44\n",
            "EPOCH 46 3.131211519241333\n",
            "EPOCH 46 EVAL: \n",
            "\tCURRENT VAL LOSS: 86944.486816\n",
            "\tBEST VAL LOSS:    82148.113281\n",
            "\tBEST VAL EPOCH:   44\n",
            "EPOCH 47 3.1048011779785156\n",
            "EPOCH 47 EVAL: \n",
            "\tCURRENT VAL LOSS: 89944.420898\n",
            "\tBEST VAL LOSS:    82148.113281\n",
            "\tBEST VAL EPOCH:   44\n",
            "EPOCH 48 3.1303932666778564\n",
            "EPOCH 48 EVAL: \n",
            "\tCURRENT VAL LOSS: 92276.006348\n",
            "\tBEST VAL LOSS:    82148.113281\n",
            "\tBEST VAL EPOCH:   44\n",
            "EPOCH 49 3.119582414627075\n",
            "EPOCH 49 EVAL: \n",
            "\tCURRENT VAL LOSS: 92927.932617\n",
            "\tBEST VAL LOSS:    82148.113281\n",
            "\tBEST VAL EPOCH:   44\n",
            "EPOCH 50 3.113670825958252\n",
            "EPOCH 50 EVAL: \n",
            "\tCURRENT VAL LOSS: 92365.820801\n",
            "\tBEST VAL LOSS:    82148.113281\n",
            "\tBEST VAL EPOCH:   44\n",
            "EPOCH 51 3.1659204959869385\n",
            "EPOCH 51 EVAL: \n",
            "\tCURRENT VAL LOSS: 90423.250977\n",
            "\tBEST VAL LOSS:    82148.113281\n",
            "\tBEST VAL EPOCH:   44\n",
            "EPOCH 52 3.0939271450042725\n",
            "EPOCH 52 EVAL: \n",
            "\tCURRENT VAL LOSS: 87988.835693\n",
            "\tBEST VAL LOSS:    82148.113281\n",
            "\tBEST VAL EPOCH:   44\n",
            "EPOCH 53 3.1476025581359863\n",
            "EPOCH 53 EVAL: \n",
            "\tCURRENT VAL LOSS: 85655.209961\n",
            "\tBEST VAL LOSS:    82148.113281\n",
            "\tBEST VAL EPOCH:   44\n",
            "EPOCH 54 3.105013847351074\n",
            "EPOCH 54 EVAL: \n",
            "\tCURRENT VAL LOSS: 83561.806885\n",
            "\tBEST VAL LOSS:    82148.113281\n",
            "\tBEST VAL EPOCH:   44\n",
            "EPOCH 55 3.159977912902832\n",
            "EPOCH 55 EVAL: \n",
            "\tCURRENT VAL LOSS: 82195.466309\n",
            "\tBEST VAL LOSS:    82148.113281\n",
            "\tBEST VAL EPOCH:   44\n",
            "EPOCH 56 3.1693689823150635\n",
            "BEST VAL RESULT. SAVING MODEL...\n",
            "EPOCH 56 EVAL: \n",
            "\tCURRENT VAL LOSS: 81729.977295\n",
            "\tBEST VAL LOSS:    81729.977295\n",
            "\tBEST VAL EPOCH:   56\n",
            "EPOCH 57 3.1508519649505615\n",
            "EPOCH 57 EVAL: \n",
            "\tCURRENT VAL LOSS: 81853.960938\n",
            "\tBEST VAL LOSS:    81729.977295\n",
            "\tBEST VAL EPOCH:   56\n",
            "EPOCH 58 3.1150400638580322\n",
            "EPOCH 58 EVAL: \n",
            "\tCURRENT VAL LOSS: 82159.493652\n",
            "\tBEST VAL LOSS:    81729.977295\n",
            "\tBEST VAL EPOCH:   56\n",
            "EPOCH 59 3.1209659576416016\n",
            "EPOCH 59 EVAL: \n",
            "\tCURRENT VAL LOSS: 82353.161133\n",
            "\tBEST VAL LOSS:    81729.977295\n",
            "\tBEST VAL EPOCH:   56\n",
            "EPOCH 60 3.146540641784668\n",
            "EPOCH 60 EVAL: \n",
            "\tCURRENT VAL LOSS: 82278.712402\n",
            "\tBEST VAL LOSS:    81729.977295\n",
            "\tBEST VAL EPOCH:   56\n",
            "EPOCH 61 3.2073845863342285\n",
            "EPOCH 61 EVAL: \n",
            "\tCURRENT VAL LOSS: 82104.678955\n",
            "\tBEST VAL LOSS:    81729.977295\n",
            "\tBEST VAL EPOCH:   56\n",
            "EPOCH 62 3.6425514221191406\n",
            "EPOCH 62 EVAL: \n",
            "\tCURRENT VAL LOSS: 82095.798340\n",
            "\tBEST VAL LOSS:    81729.977295\n",
            "\tBEST VAL EPOCH:   56\n",
            "EPOCH 63 3.5214591026306152\n",
            "EPOCH 63 EVAL: \n",
            "\tCURRENT VAL LOSS: 82481.969971\n",
            "\tBEST VAL LOSS:    81729.977295\n",
            "\tBEST VAL EPOCH:   56\n",
            "EPOCH 64 3.174067258834839\n",
            "EPOCH 64 EVAL: \n",
            "\tCURRENT VAL LOSS: 83192.400391\n",
            "\tBEST VAL LOSS:    81729.977295\n",
            "\tBEST VAL EPOCH:   56\n",
            "EPOCH 65 3.2766897678375244\n",
            "EPOCH 65 EVAL: \n",
            "\tCURRENT VAL LOSS: 83965.628662\n",
            "\tBEST VAL LOSS:    81729.977295\n",
            "\tBEST VAL EPOCH:   56\n",
            "EPOCH 66 3.208693265914917\n",
            "EPOCH 66 EVAL: \n",
            "\tCURRENT VAL LOSS: 84481.599121\n",
            "\tBEST VAL LOSS:    81729.977295\n",
            "\tBEST VAL EPOCH:   56\n",
            "EPOCH 67 3.2160983085632324\n",
            "EPOCH 67 EVAL: \n",
            "\tCURRENT VAL LOSS: 84605.326904\n",
            "\tBEST VAL LOSS:    81729.977295\n",
            "\tBEST VAL EPOCH:   56\n",
            "EPOCH 68 3.236924886703491\n",
            "EPOCH 68 EVAL: \n",
            "\tCURRENT VAL LOSS: 84295.684326\n",
            "\tBEST VAL LOSS:    81729.977295\n",
            "\tBEST VAL EPOCH:   56\n",
            "EPOCH 69 3.1652944087982178\n",
            "EPOCH 69 EVAL: \n",
            "\tCURRENT VAL LOSS: 83738.027588\n",
            "\tBEST VAL LOSS:    81729.977295\n",
            "\tBEST VAL EPOCH:   56\n",
            "EPOCH 70 3.1977956295013428\n",
            "EPOCH 70 EVAL: \n",
            "\tCURRENT VAL LOSS: 83122.289795\n",
            "\tBEST VAL LOSS:    81729.977295\n",
            "\tBEST VAL EPOCH:   56\n",
            "EPOCH 71 3.138688564300537\n",
            "EPOCH 71 EVAL: \n",
            "\tCURRENT VAL LOSS: 82608.164551\n",
            "\tBEST VAL LOSS:    81729.977295\n",
            "\tBEST VAL EPOCH:   56\n",
            "EPOCH 72 3.1434760093688965\n",
            "EPOCH 72 EVAL: \n",
            "\tCURRENT VAL LOSS: 82132.303467\n",
            "\tBEST VAL LOSS:    81729.977295\n",
            "\tBEST VAL EPOCH:   56\n",
            "EPOCH 73 3.1217753887176514\n",
            "EPOCH 73 EVAL: \n",
            "\tCURRENT VAL LOSS: 81783.420410\n",
            "\tBEST VAL LOSS:    81729.977295\n",
            "\tBEST VAL EPOCH:   56\n",
            "EPOCH 74 3.1809184551239014\n",
            "BEST VAL RESULT. SAVING MODEL...\n",
            "EPOCH 74 EVAL: \n",
            "\tCURRENT VAL LOSS: 81567.691650\n",
            "\tBEST VAL LOSS:    81567.691650\n",
            "\tBEST VAL EPOCH:   74\n",
            "EPOCH 75 3.1418540477752686\n",
            "BEST VAL RESULT. SAVING MODEL...\n",
            "EPOCH 75 EVAL: \n",
            "\tCURRENT VAL LOSS: 81526.401611\n",
            "\tBEST VAL LOSS:    81526.401611\n",
            "\tBEST VAL EPOCH:   75\n",
            "EPOCH 76 3.1729869842529297\n",
            "EPOCH 76 EVAL: \n",
            "\tCURRENT VAL LOSS: 81694.108398\n",
            "\tBEST VAL LOSS:    81526.401611\n",
            "\tBEST VAL EPOCH:   75\n",
            "EPOCH 77 3.169018268585205\n",
            "EPOCH 77 EVAL: \n",
            "\tCURRENT VAL LOSS: 82053.673828\n",
            "\tBEST VAL LOSS:    81526.401611\n",
            "\tBEST VAL EPOCH:   75\n",
            "EPOCH 78 3.139204978942871\n",
            "EPOCH 78 EVAL: \n",
            "\tCURRENT VAL LOSS: 82495.621338\n",
            "\tBEST VAL LOSS:    81526.401611\n",
            "\tBEST VAL EPOCH:   75\n",
            "EPOCH 79 3.1528408527374268\n",
            "EPOCH 79 EVAL: \n",
            "\tCURRENT VAL LOSS: 82832.502441\n",
            "\tBEST VAL LOSS:    81526.401611\n",
            "\tBEST VAL EPOCH:   75\n",
            "EPOCH 80 3.133659839630127\n",
            "EPOCH 80 EVAL: \n",
            "\tCURRENT VAL LOSS: 82915.092773\n",
            "\tBEST VAL LOSS:    81526.401611\n",
            "\tBEST VAL EPOCH:   75\n",
            "EPOCH 81 3.1650378704071045\n",
            "EPOCH 81 EVAL: \n",
            "\tCURRENT VAL LOSS: 82748.232910\n",
            "\tBEST VAL LOSS:    81526.401611\n",
            "\tBEST VAL EPOCH:   75\n",
            "EPOCH 82 3.132768154144287\n",
            "EPOCH 82 EVAL: \n",
            "\tCURRENT VAL LOSS: 82446.853271\n",
            "\tBEST VAL LOSS:    81526.401611\n",
            "\tBEST VAL EPOCH:   75\n",
            "EPOCH 83 3.1788196563720703\n",
            "EPOCH 83 EVAL: \n",
            "\tCURRENT VAL LOSS: 82133.833496\n",
            "\tBEST VAL LOSS:    81526.401611\n",
            "\tBEST VAL EPOCH:   75\n",
            "EPOCH 84 3.1484110355377197\n",
            "EPOCH 84 EVAL: \n",
            "\tCURRENT VAL LOSS: 81885.173340\n",
            "\tBEST VAL LOSS:    81526.401611\n",
            "\tBEST VAL EPOCH:   75\n",
            "EPOCH 85 3.1452271938323975\n",
            "EPOCH 85 EVAL: \n",
            "\tCURRENT VAL LOSS: 81730.781494\n",
            "\tBEST VAL LOSS:    81526.401611\n",
            "\tBEST VAL EPOCH:   75\n",
            "EPOCH 86 3.1415343284606934\n",
            "EPOCH 86 EVAL: \n",
            "\tCURRENT VAL LOSS: 81655.244385\n",
            "\tBEST VAL LOSS:    81526.401611\n",
            "\tBEST VAL EPOCH:   75\n",
            "EPOCH 87 3.2347707748413086\n",
            "EPOCH 87 EVAL: \n",
            "\tCURRENT VAL LOSS: 81623.325195\n",
            "\tBEST VAL LOSS:    81526.401611\n",
            "\tBEST VAL EPOCH:   75\n",
            "EPOCH 88 3.1401870250701904\n",
            "EPOCH 88 EVAL: \n",
            "\tCURRENT VAL LOSS: 81641.760010\n",
            "\tBEST VAL LOSS:    81526.401611\n",
            "\tBEST VAL EPOCH:   75\n",
            "EPOCH 89 3.1906628608703613\n",
            "EPOCH 89 EVAL: \n",
            "\tCURRENT VAL LOSS: 81728.420898\n",
            "\tBEST VAL LOSS:    81526.401611\n",
            "\tBEST VAL EPOCH:   75\n",
            "EPOCH 90 3.17800235748291\n",
            "EPOCH 90 EVAL: \n",
            "\tCURRENT VAL LOSS: 81891.032227\n",
            "\tBEST VAL LOSS:    81526.401611\n",
            "\tBEST VAL EPOCH:   75\n",
            "EPOCH 91 3.186089277267456\n",
            "EPOCH 91 EVAL: \n",
            "\tCURRENT VAL LOSS: 82025.417725\n",
            "\tBEST VAL LOSS:    81526.401611\n",
            "\tBEST VAL EPOCH:   75\n",
            "EPOCH 92 3.156940460205078\n",
            "EPOCH 92 EVAL: \n",
            "\tCURRENT VAL LOSS: 82050.868896\n",
            "\tBEST VAL LOSS:    81526.401611\n",
            "\tBEST VAL EPOCH:   75\n",
            "EPOCH 93 3.1791675090789795\n",
            "EPOCH 93 EVAL: \n",
            "\tCURRENT VAL LOSS: 81827.691650\n",
            "\tBEST VAL LOSS:    81526.401611\n",
            "\tBEST VAL EPOCH:   75\n",
            "EPOCH 94 3.174851655960083\n",
            "EPOCH 94 EVAL: \n",
            "\tCURRENT VAL LOSS: 81574.100830\n",
            "\tBEST VAL LOSS:    81526.401611\n",
            "\tBEST VAL EPOCH:   75\n",
            "EPOCH 95 3.12849760055542\n",
            "BEST VAL RESULT. SAVING MODEL...\n",
            "EPOCH 95 EVAL: \n",
            "\tCURRENT VAL LOSS: 81445.817383\n",
            "\tBEST VAL LOSS:    81445.817383\n",
            "\tBEST VAL EPOCH:   95\n",
            "EPOCH 96 3.1310627460479736\n",
            "BEST VAL RESULT. SAVING MODEL...\n",
            "EPOCH 96 EVAL: \n",
            "\tCURRENT VAL LOSS: 81393.116943\n",
            "\tBEST VAL LOSS:    81393.116943\n",
            "\tBEST VAL EPOCH:   96\n",
            "EPOCH 97 3.096097469329834\n",
            "EPOCH 97 EVAL: \n",
            "\tCURRENT VAL LOSS: 81425.298584\n",
            "\tBEST VAL LOSS:    81393.116943\n",
            "\tBEST VAL EPOCH:   96\n",
            "EPOCH 98 3.1503238677978516\n",
            "EPOCH 98 EVAL: \n",
            "\tCURRENT VAL LOSS: 81520.851074\n",
            "\tBEST VAL LOSS:    81393.116943\n",
            "\tBEST VAL EPOCH:   96\n",
            "EPOCH 99 3.1475749015808105\n",
            "EPOCH 99 EVAL: \n",
            "\tCURRENT VAL LOSS: 81664.149902\n",
            "\tBEST VAL LOSS:    81393.116943\n",
            "\tBEST VAL EPOCH:   96\n",
            "EPOCH 100 3.2155473232269287\n",
            "EPOCH 100 EVAL: \n",
            "\tCURRENT VAL LOSS: 81672.393555\n",
            "\tBEST VAL LOSS:    81393.116943\n",
            "\tBEST VAL EPOCH:   96\n"
          ]
        }
      ]
    },
    {
      "cell_type": "code",
      "source": [
        "#model.predict(TEST[0])"
      ],
      "metadata": {
        "id": "drhlBtf1MvKy"
      },
      "execution_count": 18,
      "outputs": []
    },
    {
      "cell_type": "code",
      "source": [
        "%matplotlib inline\n",
        "plt.plot(result)\n",
        "plt.show()"
      ],
      "metadata": {
        "colab": {
          "base_uri": "https://localhost:8080/",
          "height": 276
        },
        "id": "MEaTSzgFx1rH",
        "outputId": "763bc893-9db4-4144-a449-03e30329c5ba"
      },
      "execution_count": 19,
      "outputs": [
        {
          "output_type": "display_data",
          "data": {
            "text/plain": [
              "<Figure size 432x288 with 1 Axes>"
            ],
            "image/png": "[encoded data removed]"
          },
          "metadata": {
            "needs_background": "light"
          }
        }
      ]
    },
    {
      "cell_type": "code",
      "source": [
        "model_inputs = TEST[0]['inputs'][:, :40]\n",
        "model_preds = model.predict_future(model_inputs, 10)\n",
        "a = 2\n",
        "x = []\n",
        "y = []\n",
        "\n",
        "for i in range(0,10):\n",
        "  x.append(float(model_preds[0][i][a][0]))\n",
        "  y.append(float(model_preds[0][i][a][1]))\n",
        "\n",
        "\n",
        "\n",
        "p = []\n",
        "q = []\n",
        "\n",
        "for i in range(0,10):\n",
        "  p.append(TEST[0]['inputs'][:,:-10][0][i][a][0])\n",
        "  q.append(TEST[0]['inputs'][:,:-10][0][i][a][1])\n",
        "\n"
      ],
      "metadata": {
        "id": "tNiA7bYdPg8f"
      },
      "execution_count": 20,
      "outputs": []
    },
    {
      "cell_type": "code",
      "source": [
        "plt.plot(x,y)"
      ],
      "metadata": {
        "id": "-7dILq4yPmbr",
        "outputId": "bebb5bfa-3243-4b43-c9ca-0e47330b0d32",
        "colab": {
          "base_uri": "https://localhost:8080/",
          "height": 282
        }
      },
      "execution_count": 21,
      "outputs": [
        {
          "output_type": "execute_result",
          "data": {
            "text/plain": [
              "[<matplotlib.lines.Line2D at 0x7f10881dc750>]"
            ]
          },
          "metadata": {},
          "execution_count": 21
        },
        {
          "output_type": "display_data",
          "data": {
            "text/plain": [
              "<Figure size 432x288 with 1 Axes>"
            ],
            "image/png": "[encoded data removed]"
          },
          "metadata": {
            "needs_background": "light"
          }
        }
      ]
    },
    {
      "cell_type": "code",
      "source": [
        "plt.plot(p,q)"
      ],
      "metadata": {
        "id": "AcR9i6T3PoZ-",
        "outputId": "d62d7dbe-da08-407b-ff50-dc6ecef53d6e",
        "colab": {
          "base_uri": "https://localhost:8080/",
          "height": 282
        }
      },
      "execution_count": 22,
      "outputs": [
        {
          "output_type": "execute_result",
          "data": {
            "text/plain": [
              "[<matplotlib.lines.Line2D at 0x7f1088090450>]"
            ]
          },
          "metadata": {},
          "execution_count": 22
        },
        {
          "output_type": "display_data",
          "data": {
            "text/plain": [
              "<Figure size 432x288 with 1 Axes>"
            ],
            "image/png": "[encoded data removed]"
          },
          "metadata": {
            "needs_background": "light"
          }
        }
      ]
    },
    {
      "cell_type": "markdown",
      "source": [
        "VGAE Jax"
      ],
      "metadata": {
        "id": "i5-lp7bUtNH8"
      }
    }
  ]
}