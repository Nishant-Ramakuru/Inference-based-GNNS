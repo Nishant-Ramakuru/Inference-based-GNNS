{
  "nbformat": 4,
  "nbformat_minor": 0,
  "metadata": {
    "colab": {
      "name": "Untitled1.ipynb",
      "provenance": [],
      "include_colab_link": true
    },
    "kernelspec": {
      "name": "python3",
      "display_name": "Python 3"
    },
    "language_info": {
      "name": "python"
    },
    "accelerator": "GPU",
    "gpuClass": "standard"
  },
  "cells": [
    {
      "cell_type": "markdown",
      "metadata": {
        "id": "view-in-github",
        "colab_type": "text"
      },
      "source": [
        "<a href=\"https://colab.research.google.com/github/Nishant-Ramakuru/Inference-based-GNNS/blob/main/simulations/models.ipynb\" target=\"_parent\"><img src=\"https://colab.research.google.com/assets/colab-badge.svg\" alt=\"Open In Colab\"/></a>"
      ]
    },
    {
      "cell_type": "code",
      "source": [
        "#Import Functions\n",
        "\n",
        "from torch.utils.tensorboard import SummaryWriter\n",
        "from torch.utils.data import DataLoader\n",
        "import torch\n",
        "import matplotlib\n",
        "matplotlib.use('Agg')\n",
        "import matplotlib.pyplot as plt\n",
        "import matplotlib.animation as animation\n",
        "import matplotlib.colors as mcolors\n",
        "import numpy as np\n",
        "import torch.nn.functional as F\n",
        "import torch.nn as nn\n",
        "import random\n",
        "from torch.utils.data import Dataset\n",
        "import argparse, os, time\n",
        "from torch.nn import init\n",
        "import math\n",
        "import networkx as nx\n",
        "import pandas as pd\n",
        "import os "
      ],
      "metadata": {
        "id": "8Tm6GblxoZWs"
      },
      "execution_count": 1,
      "outputs": []
    },
    {
      "cell_type": "code",
      "source": [
        "from google.colab import drive\n",
        "drive.mount('/content/drive/')"
      ],
      "metadata": {
        "colab": {
          "base_uri": "https://localhost:8080/"
        },
        "id": "uYXmvpJedOnr",
        "outputId": "438696aa-1e90-4e34-fbdf-a2f684cbadcf"
      },
      "execution_count": 2,
      "outputs": [
        {
          "output_type": "stream",
          "name": "stdout",
          "text": [
            "Mounted at /content/drive/\n"
          ]
        }
      ]
    },
    {
      "cell_type": "code",
      "source": [
        "import sys\n",
        "sys.path.append('/content/drive/MyDrive/GNNs')\n",
        "from utils_functions import *\n",
        "from models import RecurrentBaseline, SingleRNNBaseline, JointRNNBaseline, FullyConnectedBaseline, DNRI, RefMLPEncoder, GraphRNNDecoder, RecurrentBaseline_DynamicVars, FullyConnectedBaseline_DynamicVars, BaseNRI,DNRI_DynamicVars"
      ],
      "metadata": {
        "id": "7YSfCkQxQG6E"
      },
      "execution_count": 3,
      "outputs": []
    },
    {
      "cell_type": "markdown",
      "source": [
        "Dataset"
      ],
      "metadata": {
        "id": "kfqJoGAgpd_Y"
      }
    },
    {
      "cell_type": "code",
      "source": [
        "df = pd.read_pickle(\"/content/drive/MyDrive/GNNs/boids_buffer_10_15k.csv\")"
      ],
      "metadata": {
        "id": "XXXXqOdbc1as",
        "colab": {
          "base_uri": "https://localhost:8080/"
        },
        "outputId": "d48b4674-0d7b-4526-c2d6-ca1bde49dc53"
      },
      "execution_count": 4,
      "outputs": [
        {
          "output_type": "stream",
          "name": "stderr",
          "text": [
            "WARNING:absl:No GPU/TPU found, falling back to CPU. (Set TF_CPP_MIN_LOG_LEVEL=0 and rerun for more info.)\n"
          ]
        }
      ]
    },
    {
      "cell_type": "code",
      "source": [
        "df.shape"
      ],
      "metadata": {
        "colab": {
          "base_uri": "https://localhost:8080/"
        },
        "id": "Eo0__BlW4zLO",
        "outputId": "6f031bef-9c31-4267-a37d-3ddb5a138112"
      },
      "execution_count": 5,
      "outputs": [
        {
          "output_type": "execute_result",
          "data": {
            "text/plain": [
              "(15000, 4)"
            ]
          },
          "metadata": {},
          "execution_count": 5
        }
      ]
    },
    {
      "cell_type": "code",
      "source": [
        "df.head()"
      ],
      "metadata": {
        "colab": {
          "base_uri": "https://localhost:8080/",
          "height": 337
        },
        "id": "Sx9crDBZdld5",
        "outputId": "1320ad3f-f074-4ab0-bbd5-872df0805814"
      },
      "execution_count": 6,
      "outputs": [
        {
          "output_type": "execute_result",
          "data": {
            "text/plain": [
              "                                                   R  \\\n",
              "0  [[707.02014, 803.3247], [872.8785, 992.9619], ...   \n",
              "1  [[705.57416, 798.53864], [876.0066, 989.0613],...   \n",
              "2  [[704.2475, 793.71796], [879.1347, 985.16064],...   \n",
              "3  [[702.98267, 788.88055], [882.26276, 981.25995...   \n",
              "4  [[701.7574, 784.033], [885.39087, 977.3593], [...   \n",
              "\n",
              "                                               theta  \\\n",
              "0  [4.3974066, 5.3883123, 1.890375, 5.7133555, 3....   \n",
              "1  [4.4348707, 5.3883123, 0.7724528, 5.7133555, 3...   \n",
              "2  [4.4514513, 5.3883123, 0.743052, 5.7133555, 3....   \n",
              "3  [4.461328, 5.3883123, 0.7353079, 5.7133555, 3....   \n",
              "4  [4.468065, 5.3883123, 0.7278318, 5.7133555, 3....   \n",
              "\n",
              "                                            velocity  \\\n",
              "0  [[-2.0450733, -4.497138], [3.1280887, -3.90064...   \n",
              "1  [[-1.446004, -4.786043], [3.1280887, -3.900648...   \n",
              "2  [[-1.3266804, -4.8207207], [3.1280887, -3.9006...   \n",
              "3  [[-1.2648168, -4.8373585], [3.1280887, -3.9006...   \n",
              "4  [[-1.2252507, -4.8475423], [3.1280887, -3.9006...   \n",
              "\n",
              "                                          trajectory  \n",
              "0  [[707.02014, 803.3247, -2.0450733, -4.497138],...  \n",
              "1  [[705.57416, 798.53864, -1.446004, -4.786043],...  \n",
              "2  [[704.2475, 793.71796, -1.3266804, -4.8207207]...  \n",
              "3  [[702.98267, 788.88055, -1.2648168, -4.8373585...  \n",
              "4  [[701.7574, 784.033, -1.2252507, -4.8475423], ...  "
            ],
            "text/html": [
              "\n",
              "  <div id=\"df-bd3e2131-3d2b-4fa9-9ba1-929c65998161\">\n",
              "    <div class=\"colab-df-container\">\n",
              "      <div>\n",
              "<style scoped>\n",
              "    .dataframe tbody tr th:only-of-type {\n",
              "        vertical-align: middle;\n",
              "    }\n",
              "\n",
              "    .dataframe tbody tr th {\n",
              "        vertical-align: top;\n",
              "    }\n",
              "\n",
              "    .dataframe thead th {\n",
              "        text-align: right;\n",
              "    }\n",
              "</style>\n",
              "<table border=\"1\" class=\"dataframe\">\n",
              "  <thead>\n",
              "    <tr style=\"text-align: right;\">\n",
              "      <th></th>\n",
              "      <th>R</th>\n",
              "      <th>theta</th>\n",
              "      <th>velocity</th>\n",
              "      <th>trajectory</th>\n",
              "    </tr>\n",
              "  </thead>\n",
              "  <tbody>\n",
              "    <tr>\n",
              "      <th>0</th>\n",
              "      <td>[[707.02014, 803.3247], [872.8785, 992.9619], ...</td>\n",
              "      <td>[4.3974066, 5.3883123, 1.890375, 5.7133555, 3....</td>\n",
              "      <td>[[-2.0450733, -4.497138], [3.1280887, -3.90064...</td>\n",
              "      <td>[[707.02014, 803.3247, -2.0450733, -4.497138],...</td>\n",
              "    </tr>\n",
              "    <tr>\n",
              "      <th>1</th>\n",
              "      <td>[[705.57416, 798.53864], [876.0066, 989.0613],...</td>\n",
              "      <td>[4.4348707, 5.3883123, 0.7724528, 5.7133555, 3...</td>\n",
              "      <td>[[-1.446004, -4.786043], [3.1280887, -3.900648...</td>\n",
              "      <td>[[705.57416, 798.53864, -1.446004, -4.786043],...</td>\n",
              "    </tr>\n",
              "    <tr>\n",
              "      <th>2</th>\n",
              "      <td>[[704.2475, 793.71796], [879.1347, 985.16064],...</td>\n",
              "      <td>[4.4514513, 5.3883123, 0.743052, 5.7133555, 3....</td>\n",
              "      <td>[[-1.3266804, -4.8207207], [3.1280887, -3.9006...</td>\n",
              "      <td>[[704.2475, 793.71796, -1.3266804, -4.8207207]...</td>\n",
              "    </tr>\n",
              "    <tr>\n",
              "      <th>3</th>\n",
              "      <td>[[702.98267, 788.88055], [882.26276, 981.25995...</td>\n",
              "      <td>[4.461328, 5.3883123, 0.7353079, 5.7133555, 3....</td>\n",
              "      <td>[[-1.2648168, -4.8373585], [3.1280887, -3.9006...</td>\n",
              "      <td>[[702.98267, 788.88055, -1.2648168, -4.8373585...</td>\n",
              "    </tr>\n",
              "    <tr>\n",
              "      <th>4</th>\n",
              "      <td>[[701.7574, 784.033], [885.39087, 977.3593], [...</td>\n",
              "      <td>[4.468065, 5.3883123, 0.7278318, 5.7133555, 3....</td>\n",
              "      <td>[[-1.2252507, -4.8475423], [3.1280887, -3.9006...</td>\n",
              "      <td>[[701.7574, 784.033, -1.2252507, -4.8475423], ...</td>\n",
              "    </tr>\n",
              "  </tbody>\n",
              "</table>\n",
              "</div>\n",
              "      <button class=\"colab-df-convert\" onclick=\"convertToInteractive('df-bd3e2131-3d2b-4fa9-9ba1-929c65998161')\"\n",
              "              title=\"Convert this dataframe to an interactive table.\"\n",
              "              style=\"display:none;\">\n",
              "        \n",
              "  <svg xmlns=\"http://www.w3.org/2000/svg\" height=\"24px\"viewBox=\"0 0 24 24\"\n",
              "       width=\"24px\">\n",
              "    <path d=\"M0 0h24v24H0V0z\" fill=\"none\"/>\n",
              "    <path d=\"M18.56 5.44l.94 2.06.94-2.06 2.06-.94-2.06-.94-.94-2.06-.94 2.06-2.06.94zm-11 1L8.5 8.5l.94-2.06 2.06-.94-2.06-.94L8.5 2.5l-.94 2.06-2.06.94zm10 10l.94 2.06.94-2.06 2.06-.94-2.06-.94-.94-2.06-.94 2.06-2.06.94z\"/><path d=\"M17.41 7.96l-1.37-1.37c-.4-.4-.92-.59-1.43-.59-.52 0-1.04.2-1.43.59L10.3 9.45l-7.72 7.72c-.78.78-.78 2.05 0 2.83L4 21.41c.39.39.9.59 1.41.59.51 0 1.02-.2 1.41-.59l7.78-7.78 2.81-2.81c.8-.78.8-2.07 0-2.86zM5.41 20L4 18.59l7.72-7.72 1.47 1.35L5.41 20z\"/>\n",
              "  </svg>\n",
              "      </button>\n",
              "      \n",
              "  <style>\n",
              "    .colab-df-container {\n",
              "      display:flex;\n",
              "      flex-wrap:wrap;\n",
              "      gap: 12px;\n",
              "    }\n",
              "\n",
              "    .colab-df-convert {\n",
              "      background-color: #E8F0FE;\n",
              "      border: none;\n",
              "      border-radius: 50%;\n",
              "      cursor: pointer;\n",
              "      display: none;\n",
              "      fill: #1967D2;\n",
              "      height: 32px;\n",
              "      padding: 0 0 0 0;\n",
              "      width: 32px;\n",
              "    }\n",
              "\n",
              "    .colab-df-convert:hover {\n",
              "      background-color: #E2EBFA;\n",
              "      box-shadow: 0px 1px 2px rgba(60, 64, 67, 0.3), 0px 1px 3px 1px rgba(60, 64, 67, 0.15);\n",
              "      fill: #174EA6;\n",
              "    }\n",
              "\n",
              "    [theme=dark] .colab-df-convert {\n",
              "      background-color: #3B4455;\n",
              "      fill: #D2E3FC;\n",
              "    }\n",
              "\n",
              "    [theme=dark] .colab-df-convert:hover {\n",
              "      background-color: #434B5C;\n",
              "      box-shadow: 0px 1px 3px 1px rgba(0, 0, 0, 0.15);\n",
              "      filter: drop-shadow(0px 1px 2px rgba(0, 0, 0, 0.3));\n",
              "      fill: #FFFFFF;\n",
              "    }\n",
              "  </style>\n",
              "\n",
              "      <script>\n",
              "        const buttonEl =\n",
              "          document.querySelector('#df-bd3e2131-3d2b-4fa9-9ba1-929c65998161 button.colab-df-convert');\n",
              "        buttonEl.style.display =\n",
              "          google.colab.kernel.accessAllowed ? 'block' : 'none';\n",
              "\n",
              "        async function convertToInteractive(key) {\n",
              "          const element = document.querySelector('#df-bd3e2131-3d2b-4fa9-9ba1-929c65998161');\n",
              "          const dataTable =\n",
              "            await google.colab.kernel.invokeFunction('convertToInteractive',\n",
              "                                                     [key], {});\n",
              "          if (!dataTable) return;\n",
              "\n",
              "          const docLinkHtml = 'Like what you see? Visit the ' +\n",
              "            '<a target=\"_blank\" href=https://colab.research.google.com/notebooks/data_table.ipynb>data table notebook</a>'\n",
              "            + ' to learn more about interactive tables.';\n",
              "          element.innerHTML = '';\n",
              "          dataTable['output_type'] = 'display_data';\n",
              "          await google.colab.output.renderOutput(dataTable, element);\n",
              "          const docLink = document.createElement('div');\n",
              "          docLink.innerHTML = docLinkHtml;\n",
              "          element.appendChild(docLink);\n",
              "        }\n",
              "      </script>\n",
              "    </div>\n",
              "  </div>\n",
              "  "
            ]
          },
          "metadata": {},
          "execution_count": 6
        }
      ]
    },
    {
      "cell_type": "markdown",
      "source": [
        "Parameters"
      ],
      "metadata": {
        "id": "1kxH7lSHpbAE"
      }
    },
    {
      "cell_type": "code",
      "source": [
        "params = {}\n",
        "tau = 1\n",
        "params['use_adam'] = True\n",
        "params['test_burn_in_steps'] =40\n",
        "params['num_time_steps'] = 50\n",
        "params['data_path']= '/content/MyDrive/GNNs'\n",
        "params['num_train'] = 2000\n",
        "params['num_val'] = 500\n",
        "params['num_test']= 500\n",
        "params['load_model'] = False\n",
        "params['load_best_model'] = False\n",
        "params['model_type'] = 'RNN'\n",
        "#params['graph_type'] = ['static', 'dynamic']\n",
        "params['graph_type'] = 'dynamic'\n",
        "params['encoder_no_factor'] = True\n",
        "params['num_epochs'] = 100\n",
        "params['num_vars'] = params['num_agents'] = 10\n",
        "params['input_noise_type'] = 'none'\n",
        "params['input_size'] = 4\n",
        "params['nll_loss_type'] = 'gaussian'\n",
        "params['prior_variance'] = 5e-5\n",
        "params['batch_size'] = 64\n",
        "params['val_batch_size'] = 64\n",
        "params['accumulate_steps'] = 40\n",
        "params['num_edge_types'] = 1\n",
        "params['encoder_dropout'] = 0.0\n",
        "params['encoder_hidden'] = 256\n",
        "params['encoder_rnn_hidden'] = 64\n",
        "params['encoder_rnn_type'] = 'lstm'\n",
        "params['decoder_rnn_type'] = 'lstm'\n",
        "params['encoder_mlp_num_layers'] = 1\n",
        "params['encoder_mlp_hidden'] = 256\n",
        "params['prior_num_layers'] = 1\n",
        "params['prior_hidden_size'] = 256\n",
        "params['gpu'] = False\n",
        "params['decoder_hidden'] = 256\n",
        "params['skip_first'] = False\n",
        "params['decoder_dropout'] = 0.0\n",
        "params['decoder_type'] = None\n",
        "params['lr'] = 5e-4\n",
        "params['mode'] = \"train\"\n",
        "\n",
        "params['working_dir'] =params['output_dir'] =  ('/content/MyDrive/GNNs')"
      ],
      "metadata": {
        "id": "hu42uHhigCwW"
      },
      "execution_count": 7,
      "outputs": []
    },
    {
      "cell_type": "code",
      "source": [
        "agent = 9"
      ],
      "metadata": {
        "id": "xWvLHO7UQEDF"
      },
      "execution_count": 8,
      "outputs": []
    },
    {
      "cell_type": "code",
      "source": [
        "x = []\n",
        "y = []\n",
        "\n",
        "for i in range(50):\n",
        "  x.append(df.trajectory[i][agent][0])\n",
        "  y.append(df.trajectory[i][agent][1])\n",
        "\n",
        "%matplotlib inline\n",
        "print(len(x))\n",
        "plt.plot(x,y)\n",
        "plt.grid()\n",
        "plt.show()"
      ],
      "metadata": {
        "colab": {
          "base_uri": "https://localhost:8080/",
          "height": 282
        },
        "id": "YkThR2-XPBAN",
        "outputId": "b067e19d-afee-4790-9e78-e790b9a73df2"
      },
      "execution_count": 9,
      "outputs": [
        {
          "output_type": "stream",
          "name": "stdout",
          "text": [
            "50\n"
          ]
        },
        {
          "output_type": "display_data",
          "data": {
            "text/plain": [
              "<Figure size 432x288 with 1 Axes>"
            ],
            "image/png": "[encoded data removed]"
          },
          "metadata": {
            "needs_background": "light"
          }
        }
      ]
    },
    {
      "cell_type": "code",
      "source": [
        "data = []\n",
        "for w in range(len(df)):\n",
        "  \n",
        "  state = np.array(df.R[w])\n",
        "  D = list()\n",
        "  for a,i in enumerate(state):\n",
        "    d= []\n",
        "    for b,j in enumerate(state):\n",
        "      eDistance = math.hypot(i[0] - j[0], i[1] - j[1])\n",
        "      if a == b:\n",
        "        d.append(0)\n",
        "      elif int(eDistance) <= 200:\n",
        "        d.append(1)\n",
        "      else:\n",
        "        d.append(0)\n",
        "    D.append(d)\n",
        "\n",
        "  data.append(np.array(D))\n",
        "edge_data = np.array(data)\n",
        "#all_data = np.array(list(df.trajectory.transpose()))\n",
        "all_data = df.trajectory.to_numpy()\n",
        "\n",
        "adj_array = []\n",
        "#print(edge_data.shape)\n",
        "for time_step in range(len(edge_data)):\n",
        "  edge = []\n",
        "  for i in range(len(edge_data[0])):\n",
        "    edge = edge + list(list(edge_data[time_step][i][:i])+list(edge_data[time_step][i][i+1:]))\n",
        "    \n",
        "  #print(len(edge[0].shape))\n",
        "  adj_array.append(edge)\n",
        "\n",
        "edge_data = np.array(adj_array)"
      ],
      "metadata": {
        "id": "DvNzNXDsmHrD"
      },
      "execution_count": 10,
      "outputs": []
    },
    {
      "cell_type": "code",
      "source": [
        "x = []\n",
        "y = []\n",
        "for i in range(50):\n",
        "  x.append(all_data[i][agent][0])\n",
        "  y.append(all_data[i][agent][1])\n",
        "\n",
        "%matplotlib inline\n",
        "print(len(x))\n",
        "plt.plot(x,y)\n",
        "plt.grid()\n",
        "plt.show()"
      ],
      "metadata": {
        "colab": {
          "base_uri": "https://localhost:8080/",
          "height": 282
        },
        "id": "ijp9wCSyURHS",
        "outputId": "e142ffa6-c531-46cc-a240-7ee5c823389e"
      },
      "execution_count": 11,
      "outputs": [
        {
          "output_type": "stream",
          "name": "stdout",
          "text": [
            "50\n"
          ]
        },
        {
          "output_type": "display_data",
          "data": {
            "text/plain": [
              "<Figure size 432x288 with 1 Axes>"
            ],
            "image/png": "[encoded data removed]"
          },
          "metadata": {
            "needs_background": "light"
          }
        }
      ]
    },
    {
      "cell_type": "code",
      "source": [
        "all_data = np.stack(all_data)\n",
        "train_data = torch.FloatTensor(all_data[:params['num_train']])\n",
        "val_data = torch.FloatTensor(all_data[params['num_train']:params['num_train']+params['num_val']])\n",
        "test_data = torch.FloatTensor(all_data[params['num_train']+params['num_val']:params['num_train']+params['num_val']+params['num_test']])\n",
        "\n",
        "train_edges = torch.FloatTensor(edge_data[:params['num_train']])\n",
        "val_edges = torch.FloatTensor(edge_data[params['num_train']:params['num_train']+params['num_val']])\n",
        "test_edges = torch.FloatTensor(edge_data[params['num_train']+params['num_val']:params['num_train']+params['num_val']+params['num_test']])"
      ],
      "metadata": {
        "id": "sMqcjpLRea24"
      },
      "execution_count": 12,
      "outputs": []
    },
    {
      "cell_type": "code",
      "source": [
        "del all_data, df,edge_data, data"
      ],
      "metadata": {
        "id": "d9nZE2UU9tCL"
      },
      "execution_count": 13,
      "outputs": []
    },
    {
      "cell_type": "code",
      "source": [
        "print(\"Train Shape:\", train_data.shape,\"\\n\", \n",
        "       \"Val Shape:\", val_data.shape,\"\\n\",\n",
        "      \"Test Shape:\", test_data.shape)"
      ],
      "metadata": {
        "colab": {
          "base_uri": "https://localhost:8080/"
        },
        "id": "4UGCd5PmDRff",
        "outputId": "2b69d68c-e4b0-4abe-b0af-362856951f2c"
      },
      "execution_count": 14,
      "outputs": [
        {
          "output_type": "stream",
          "name": "stdout",
          "text": [
            "Train Shape: torch.Size([2000, 10, 4]) \n",
            " Val Shape: torch.Size([500, 10, 4]) \n",
            " Test Shape: torch.Size([500, 10, 4])\n"
          ]
        }
      ]
    },
    {
      "cell_type": "code",
      "source": [
        "x = []\n",
        "y = []\n",
        "for time_step in range(50):\n",
        "  x.append(train_data[time_step][agent][0])\n",
        "  y.append(train_data[time_step][agent][1])\n",
        "\n",
        "%matplotlib inline\n",
        "print(len(x))\n",
        "plt.plot(x,y)\n",
        "plt.grid()\n",
        "plt.show()"
      ],
      "metadata": {
        "colab": {
          "base_uri": "https://localhost:8080/",
          "height": 282
        },
        "id": "dv4lGXHKPdSw",
        "outputId": "a3747cf9-ceca-4783-f8b3-5547b51bdaf3"
      },
      "execution_count": 15,
      "outputs": [
        {
          "output_type": "stream",
          "name": "stdout",
          "text": [
            "50\n"
          ]
        },
        {
          "output_type": "display_data",
          "data": {
            "text/plain": [
              "<Figure size 432x288 with 1 Axes>"
            ],
            "image/png": "[encoded data removed]"
          },
          "metadata": {
            "needs_background": "light"
          }
        }
      ]
    },
    {
      "cell_type": "code",
      "source": [
        "train_data = train_data.reshape([int(params[\"num_train\"]/50),50,10,4])\n",
        "val_data = val_data.reshape([int(params[\"num_val\"]/50),50,10,4])\n",
        "test_data = test_data.reshape([int(params[\"num_test\"]/50),50,10,4])\n",
        "\n",
        "train_edges = train_edges.reshape([int(params['num_train']/50),50,90])\n",
        "val_edges = val_edges.reshape([int(params['num_val']/50),50,90])\n",
        "test_edges = test_edges.reshape([int(params['num_test']/50),50,90])"
      ],
      "metadata": {
        "id": "a5aGYElZbFo_"
      },
      "execution_count": 16,
      "outputs": []
    },
    {
      "cell_type": "code",
      "source": [
        "x = []\n",
        "y = []\n",
        "for time_step in range(50):\n",
        "  x.append(train_data[0][time_step][agent][0])\n",
        "  y.append(train_data[0][time_step][agent][1])\n",
        "\n",
        "%matplotlib inline\n",
        "plt.plot(x,y)\n",
        "plt.grid()\n",
        "plt.show()"
      ],
      "metadata": {
        "colab": {
          "base_uri": "https://localhost:8080/",
          "height": 265
        },
        "id": "N66MaMcFPg6x",
        "outputId": "40c9cdee-156e-46ed-e467-5647bc523db8"
      },
      "execution_count": 17,
      "outputs": [
        {
          "output_type": "display_data",
          "data": {
            "text/plain": [
              "<Figure size 432x288 with 1 Axes>"
            ],
            "image/png": "[encoded data removed]"
          },
          "metadata": {
            "needs_background": "light"
          }
        }
      ]
    },
    {
      "cell_type": "code",
      "source": [
        "train_data = torch.nn.functional.normalize(train_data)\n",
        "val_data = torch.nn.functional.normalize(val_data)\n",
        "test_data = torch.nn.functional.normalize(test_data)"
      ],
      "metadata": {
        "id": "lRvZM3sW8hCa"
      },
      "execution_count": 18,
      "outputs": []
    },
    {
      "cell_type": "code",
      "source": [
        "x = []\n",
        "y = []\n",
        "for time_step in range(50):\n",
        "  x.append(train_data[0][time_step][agent][0])\n",
        "  y.append(train_data[0][time_step][agent][1])\n",
        "%matplotlib inline\n",
        "plt.plot(x,y)\n",
        "plt.grid()\n",
        "plt.show()"
      ],
      "metadata": {
        "colab": {
          "base_uri": "https://localhost:8080/",
          "height": 265
        },
        "id": "gwopC0PTPi_Q",
        "outputId": "7a1aa2d7-ac23-41ed-bb1f-da6fe5cbfc42"
      },
      "execution_count": 19,
      "outputs": [
        {
          "output_type": "display_data",
          "data": {
            "text/plain": [
              "<Figure size 432x288 with 1 Axes>"
            ],
            "image/png": "[encoded data removed]"
          },
          "metadata": {
            "needs_background": "light"
          }
        }
      ]
    },
    {
      "cell_type": "code",
      "source": [
        "DATA = []\n",
        "\n",
        "for i in range(train_data.shape[0]):\n",
        "  DATA.append({'inputs':train_data[i].reshape([1,50,10,4]),'edges':train_edges[i].reshape([1,50,90])})\n",
        "\n",
        "VAL = []\n",
        "\n",
        "for i in range(val_data.shape[0]):\n",
        "  VAL.append({'inputs':val_data[i].reshape([1,50,10,4]),'edges':val_edges[i].reshape([1,50,90])})\n",
        "\n",
        "TEST = []\n",
        "\n",
        "for i in range(test_data.shape[0]):\n",
        "  TEST.append({'inputs':test_data[i].reshape([1,50,10,4]),'edges':test_edges[i].reshape([1,50,90])})"
      ],
      "metadata": {
        "id": "rw95XbyRx3XM"
      },
      "execution_count": 20,
      "outputs": []
    },
    {
      "cell_type": "code",
      "source": [
        "x = []\n",
        "y = []\n",
        "for time_step in range(50):\n",
        "  x.append(DATA[0]['inputs'][0][time_step][a][0])\n",
        "  y.append(DATA[0]['inputs'][0][time_step][a][1])\n",
        "%matplotlib inline\n",
        "plt.plot(x,y)\n",
        "plt.grid()\n",
        "plt.show()"
      ],
      "metadata": {
        "colab": {
          "base_uri": "https://localhost:8080/",
          "height": 265
        },
        "id": "j56FIhjsPl49",
        "outputId": "6d915e67-1820-4ab4-c7a6-ac9b64aa5cfd"
      },
      "execution_count": 21,
      "outputs": [
        {
          "output_type": "display_data",
          "data": {
            "text/plain": [
              "<Figure size 432x288 with 1 Axes>"
            ],
            "image/png": "[encoded data removed]"
          },
          "metadata": {
            "needs_background": "light"
          }
        }
      ]
    },
    {
      "cell_type": "code",
      "source": [
        "model_types = [#RecurrentBaseline,\n",
        "               #DNRI,\n",
        "               SingleRNNBaseline,\n",
        "               JointRNNBaseline,\n",
        "               FullyConnectedBaseline,\n",
        "               DNRI,\n",
        "               #GraphRNNDecoder,\n",
        "               #RecurrentBaseline_DynamicVars,\n",
        "               #FullyConnectedBaseline_DynamicVars,\n",
        "               #BaseNRI, \n",
        "               #DNRI_DynamicVars\n",
        "               ]"
      ],
      "metadata": {
        "id": "Ms-NFC5so5Vp"
      },
      "execution_count": 22,
      "outputs": []
    },
    {
      "cell_type": "code",
      "source": [
        "#model_types =[DNRI]"
      ],
      "metadata": {
        "id": "DYX4IsFft4SK"
      },
      "execution_count": 23,
      "outputs": []
    },
    {
      "cell_type": "markdown",
      "source": [
        "Build Model"
      ],
      "metadata": {
        "id": "ShgCZ5FdsCDG"
      }
    },
    {
      "cell_type": "code",
      "source": [
        "def build_model(params,model_type):\n",
        "  model = model_type(params)\n",
        "  print(\"################################\", type(model).__name__, \"################################################\")\n",
        "  #print(\"################################################################################\")\n",
        "  #print(params['model_type'])\n",
        "  if params['load_best_model']:\n",
        "      print(\"LOADING BEST MODEL\")\n",
        "      path = os.path.join(params['working_dir'], 'best_model')\n",
        "      model.load(path)\n",
        "  elif params['load_model']:\n",
        "      print(\"LOADING MODEL FROM SPECIFIED PATH\")\n",
        "      model.load(params['load_model'])\n",
        "  if params['gpu']:\n",
        "      model.cuda()\n",
        "  return model"
      ],
      "metadata": {
        "id": "rzUdzq4oWlju"
      },
      "execution_count": 24,
      "outputs": []
    },
    {
      "cell_type": "code",
      "source": [
        "params['mode'] = 'train'\n",
        "params['num_epochs'] = 30"
      ],
      "metadata": {
        "id": "-E3E-OTMJNJs"
      },
      "execution_count": 25,
      "outputs": []
    },
    {
      "cell_type": "code",
      "source": [
        "#params['model_type'] = model_name\n",
        "metrics = {}\n",
        "for model_type in model_types:\n",
        "  model = build_model(params,model_type)\n",
        "  if params['mode'] == 'train':\n",
        "      with build_writers(params['working_dir']) as (train_writer, val_writer):\n",
        "          result = train(model, DATA, VAL, params, train_writer, val_writer)\n",
        "          \n",
        "  metrics[str(type(model).__name__)] = result\n",
        "  "
      ],
      "metadata": {
        "colab": {
          "base_uri": "https://localhost:8080/"
        },
        "id": "tvqz0fqwYhEp",
        "outputId": "c4cfdc95-df86-48d3-85a0-d633dc9785aa"
      },
      "execution_count": 26,
      "outputs": [
        {
          "output_type": "stream",
          "name": "stdout",
          "text": [
            "################################ SingleRNNBaseline ################################################\n",
            "EPOCH 1 \tCURRENT VAL LOSS: 943499.3984375 \tBEST VAL EPOCH: 1\n",
            "EPOCH 2 \tCURRENT VAL LOSS: 325957.4140625 \tBEST VAL EPOCH: 2\n",
            "EPOCH 3 \tCURRENT VAL LOSS: 65017.5849609375 \tBEST VAL EPOCH: 3\n",
            "EPOCH 4 \tCURRENT VAL LOSS: 82609.01953125 \tBEST VAL EPOCH: 3\n",
            "EPOCH 5 \tCURRENT VAL LOSS: 235461.00390625 \tBEST VAL EPOCH: 3\n",
            "EPOCH 6 \tCURRENT VAL LOSS: 377222.32421875 \tBEST VAL EPOCH: 3\n",
            "EPOCH 7 \tCURRENT VAL LOSS: 425883.796875 \tBEST VAL EPOCH: 3\n",
            "EPOCH 8 \tCURRENT VAL LOSS: 382346.39453125 \tBEST VAL EPOCH: 3\n",
            "EPOCH 9 \tCURRENT VAL LOSS: 286645.720703125 \tBEST VAL EPOCH: 3\n",
            "EPOCH 10 \tCURRENT VAL LOSS: 180596.70703125 \tBEST VAL EPOCH: 3\n",
            "EPOCH 11 \tCURRENT VAL LOSS: 93679.908203125 \tBEST VAL EPOCH: 3\n",
            "EPOCH 12 \tCURRENT VAL LOSS: 41223.78759765625 \tBEST VAL EPOCH: 12\n",
            "EPOCH 13 \tCURRENT VAL LOSS: 25891.278869628906 \tBEST VAL EPOCH: 13\n",
            "EPOCH 14 \tCURRENT VAL LOSS: 39955.716064453125 \tBEST VAL EPOCH: 13\n",
            "EPOCH 15 \tCURRENT VAL LOSS: 69691.9970703125 \tBEST VAL EPOCH: 13\n",
            "EPOCH 16 \tCURRENT VAL LOSS: 100267.84130859375 \tBEST VAL EPOCH: 13\n",
            "EPOCH 17 \tCURRENT VAL LOSS: 120287.4033203125 \tBEST VAL EPOCH: 13\n",
            "EPOCH 18 \tCURRENT VAL LOSS: 124474.64453125 \tBEST VAL EPOCH: 13\n",
            "EPOCH 19 \tCURRENT VAL LOSS: 113645.751953125 \tBEST VAL EPOCH: 13\n",
            "EPOCH 20 \tCURRENT VAL LOSS: 92753.15478515625 \tBEST VAL EPOCH: 13\n",
            "EPOCH 21 \tCURRENT VAL LOSS: 68371.0673828125 \tBEST VAL EPOCH: 13\n",
            "EPOCH 22 \tCURRENT VAL LOSS: 46502.841064453125 \tBEST VAL EPOCH: 13\n",
            "EPOCH 23 \tCURRENT VAL LOSS: 31259.062866210938 \tBEST VAL EPOCH: 13\n",
            "EPOCH 24 \tCURRENT VAL LOSS: 24433.185424804688 \tBEST VAL EPOCH: 24\n",
            "EPOCH 25 \tCURRENT VAL LOSS: 25579.97528076172 \tBEST VAL EPOCH: 24\n",
            "EPOCH 26 \tCURRENT VAL LOSS: 32337.734497070312 \tBEST VAL EPOCH: 24\n",
            "EPOCH 27 \tCURRENT VAL LOSS: 41445.579345703125 \tBEST VAL EPOCH: 24\n",
            "EPOCH 28 \tCURRENT VAL LOSS: 49276.03564453125 \tBEST VAL EPOCH: 24\n",
            "EPOCH 29 \tCURRENT VAL LOSS: 53045.29296875 \tBEST VAL EPOCH: 24\n",
            "EPOCH 30 \tCURRENT VAL LOSS: 51606.530029296875 \tBEST VAL EPOCH: 24\n",
            "################################ JointRNNBaseline ################################################\n",
            "EPOCH 1 \tCURRENT VAL LOSS: 4795415.5 \tBEST VAL EPOCH: 1\n",
            "EPOCH 2 \tCURRENT VAL LOSS: 3945728.0 \tBEST VAL EPOCH: 2\n",
            "EPOCH 3 \tCURRENT VAL LOSS: 3206066.875 \tBEST VAL EPOCH: 3\n",
            "EPOCH 4 \tCURRENT VAL LOSS: 2560567.0 \tBEST VAL EPOCH: 4\n",
            "EPOCH 5 \tCURRENT VAL LOSS: 2004149.28125 \tBEST VAL EPOCH: 5\n",
            "EPOCH 6 \tCURRENT VAL LOSS: 1534644.46875 \tBEST VAL EPOCH: 6\n",
            "EPOCH 7 \tCURRENT VAL LOSS: 1142559.3828125 \tBEST VAL EPOCH: 7\n",
            "EPOCH 8 \tCURRENT VAL LOSS: 823044.375 \tBEST VAL EPOCH: 8\n",
            "EPOCH 9 \tCURRENT VAL LOSS: 577928.3515625 \tBEST VAL EPOCH: 9\n",
            "EPOCH 10 \tCURRENT VAL LOSS: 406231.546875 \tBEST VAL EPOCH: 10\n",
            "EPOCH 11 \tCURRENT VAL LOSS: 300213.267578125 \tBEST VAL EPOCH: 11\n",
            "EPOCH 12 \tCURRENT VAL LOSS: 247409.849609375 \tBEST VAL EPOCH: 12\n",
            "EPOCH 13 \tCURRENT VAL LOSS: 231289.53125 \tBEST VAL EPOCH: 13\n",
            "EPOCH 14 \tCURRENT VAL LOSS: 235965.57421875 \tBEST VAL EPOCH: 13\n",
            "EPOCH 15 \tCURRENT VAL LOSS: 246544.771484375 \tBEST VAL EPOCH: 13\n",
            "EPOCH 16 \tCURRENT VAL LOSS: 252519.48046875 \tBEST VAL EPOCH: 13\n",
            "EPOCH 17 \tCURRENT VAL LOSS: 249401.2578125 \tBEST VAL EPOCH: 13\n",
            "EPOCH 18 \tCURRENT VAL LOSS: 235716.70703125 \tBEST VAL EPOCH: 13\n",
            "EPOCH 19 \tCURRENT VAL LOSS: 214000.220703125 \tBEST VAL EPOCH: 19\n",
            "EPOCH 20 \tCURRENT VAL LOSS: 188947.654296875 \tBEST VAL EPOCH: 20\n",
            "EPOCH 21 \tCURRENT VAL LOSS: 164755.3759765625 \tBEST VAL EPOCH: 21\n",
            "EPOCH 22 \tCURRENT VAL LOSS: 144132.6904296875 \tBEST VAL EPOCH: 22\n",
            "EPOCH 23 \tCURRENT VAL LOSS: 127127.9326171875 \tBEST VAL EPOCH: 23\n",
            "EPOCH 24 \tCURRENT VAL LOSS: 113362.134765625 \tBEST VAL EPOCH: 24\n",
            "EPOCH 25 \tCURRENT VAL LOSS: 102090.65234375 \tBEST VAL EPOCH: 25\n",
            "EPOCH 26 \tCURRENT VAL LOSS: 92345.15771484375 \tBEST VAL EPOCH: 26\n",
            "EPOCH 27 \tCURRENT VAL LOSS: 83421.42626953125 \tBEST VAL EPOCH: 27\n",
            "EPOCH 28 \tCURRENT VAL LOSS: 75192.5166015625 \tBEST VAL EPOCH: 28\n",
            "EPOCH 29 \tCURRENT VAL LOSS: 67630.314453125 \tBEST VAL EPOCH: 29\n",
            "EPOCH 30 \tCURRENT VAL LOSS: 60700.8974609375 \tBEST VAL EPOCH: 30\n",
            "Using learned recurrent interaction net decoder.\n",
            "################################ FullyConnectedBaseline ################################################\n",
            "EPOCH 1 \tCURRENT VAL LOSS: 735467.12109375 \tBEST VAL EPOCH: 1\n",
            "EPOCH 2 \tCURRENT VAL LOSS: 2466999.046875 \tBEST VAL EPOCH: 1\n",
            "EPOCH 3 \tCURRENT VAL LOSS: 1904364.5 \tBEST VAL EPOCH: 1\n",
            "EPOCH 4 \tCURRENT VAL LOSS: 298583.17578125 \tBEST VAL EPOCH: 4\n",
            "EPOCH 5 \tCURRENT VAL LOSS: 223767.853515625 \tBEST VAL EPOCH: 5\n",
            "EPOCH 6 \tCURRENT VAL LOSS: 607605.29296875 \tBEST VAL EPOCH: 5\n",
            "EPOCH 7 \tCURRENT VAL LOSS: 486042.99609375 \tBEST VAL EPOCH: 5\n",
            "EPOCH 8 \tCURRENT VAL LOSS: 171829.2412109375 \tBEST VAL EPOCH: 8\n",
            "EPOCH 9 \tCURRENT VAL LOSS: 31997.601806640625 \tBEST VAL EPOCH: 9\n",
            "EPOCH 10 \tCURRENT VAL LOSS: 118673.724609375 \tBEST VAL EPOCH: 9\n",
            "EPOCH 11 \tCURRENT VAL LOSS: 186526.1640625 \tBEST VAL EPOCH: 9\n",
            "EPOCH 12 \tCURRENT VAL LOSS: 166076.8037109375 \tBEST VAL EPOCH: 9\n",
            "EPOCH 13 \tCURRENT VAL LOSS: 92194.22802734375 \tBEST VAL EPOCH: 9\n",
            "EPOCH 14 \tCURRENT VAL LOSS: 28248.412353515625 \tBEST VAL EPOCH: 14\n",
            "EPOCH 15 \tCURRENT VAL LOSS: 47060.52490234375 \tBEST VAL EPOCH: 14\n",
            "EPOCH 16 \tCURRENT VAL LOSS: 103118.0927734375 \tBEST VAL EPOCH: 14\n",
            "EPOCH 17 \tCURRENT VAL LOSS: 119408.8271484375 \tBEST VAL EPOCH: 14\n",
            "EPOCH 18 \tCURRENT VAL LOSS: 89595.955078125 \tBEST VAL EPOCH: 14\n",
            "EPOCH 19 \tCURRENT VAL LOSS: 42741.55078125 \tBEST VAL EPOCH: 14\n",
            "EPOCH 20 \tCURRENT VAL LOSS: 21942.379150390625 \tBEST VAL EPOCH: 20\n",
            "EPOCH 21 \tCURRENT VAL LOSS: 40023.51513671875 \tBEST VAL EPOCH: 20\n",
            "EPOCH 22 \tCURRENT VAL LOSS: 66665.5166015625 \tBEST VAL EPOCH: 20\n",
            "EPOCH 23 \tCURRENT VAL LOSS: 74617.41796875 \tBEST VAL EPOCH: 20\n",
            "EPOCH 24 \tCURRENT VAL LOSS: 58525.560302734375 \tBEST VAL EPOCH: 20\n",
            "EPOCH 25 \tCURRENT VAL LOSS: 31278.799682617188 \tBEST VAL EPOCH: 20\n",
            "EPOCH 26 \tCURRENT VAL LOSS: 20244.155700683594 \tBEST VAL EPOCH: 26\n",
            "EPOCH 27 \tCURRENT VAL LOSS: 29495.918823242188 \tBEST VAL EPOCH: 26\n",
            "EPOCH 28 \tCURRENT VAL LOSS: 39398.92626953125 \tBEST VAL EPOCH: 26\n",
            "EPOCH 29 \tCURRENT VAL LOSS: 36597.77099609375 \tBEST VAL EPOCH: 26\n",
            "EPOCH 30 \tCURRENT VAL LOSS: 26050.490844726562 \tBEST VAL EPOCH: 26\n",
            "Using learned recurrent interaction net decoder.\n",
            "################################ DNRI ################################################\n",
            "EPOCH 1 \tCURRENT VAL LOSS: 1178632.796875 \tBEST VAL EPOCH: 1\n",
            "EPOCH 2 \tCURRENT VAL LOSS: 1696718.609375 \tBEST VAL EPOCH: 1\n",
            "EPOCH 3 \tCURRENT VAL LOSS: 1983100.59375 \tBEST VAL EPOCH: 1\n",
            "EPOCH 4 \tCURRENT VAL LOSS: 665825.27734375 \tBEST VAL EPOCH: 4\n",
            "EPOCH 5 \tCURRENT VAL LOSS: 87071.0126953125 \tBEST VAL EPOCH: 5\n",
            "EPOCH 6 \tCURRENT VAL LOSS: 283474.98046875 \tBEST VAL EPOCH: 5\n",
            "EPOCH 7 \tCURRENT VAL LOSS: 451763.609375 \tBEST VAL EPOCH: 5\n",
            "EPOCH 8 \tCURRENT VAL LOSS: 409682.69140625 \tBEST VAL EPOCH: 5\n",
            "EPOCH 9 \tCURRENT VAL LOSS: 233577.634765625 \tBEST VAL EPOCH: 5\n",
            "EPOCH 10 \tCURRENT VAL LOSS: 59735.357421875 \tBEST VAL EPOCH: 10\n",
            "EPOCH 11 \tCURRENT VAL LOSS: 63326.21826171875 \tBEST VAL EPOCH: 10\n",
            "EPOCH 12 \tCURRENT VAL LOSS: 154853.255859375 \tBEST VAL EPOCH: 10\n",
            "EPOCH 13 \tCURRENT VAL LOSS: 175055.3427734375 \tBEST VAL EPOCH: 10\n",
            "EPOCH 14 \tCURRENT VAL LOSS: 112658.77001953125 \tBEST VAL EPOCH: 10\n",
            "EPOCH 15 \tCURRENT VAL LOSS: 49536.87707519531 \tBEST VAL EPOCH: 15\n",
            "EPOCH 16 \tCURRENT VAL LOSS: 50097.796875 \tBEST VAL EPOCH: 15\n",
            "EPOCH 17 \tCURRENT VAL LOSS: 87729.56103515625 \tBEST VAL EPOCH: 15\n",
            "EPOCH 18 \tCURRENT VAL LOSS: 103608.5849609375 \tBEST VAL EPOCH: 15\n",
            "EPOCH 19 \tCURRENT VAL LOSS: 86939.15576171875 \tBEST VAL EPOCH: 15\n",
            "EPOCH 20 \tCURRENT VAL LOSS: 53261.86181640625 \tBEST VAL EPOCH: 15\n",
            "EPOCH 21 \tCURRENT VAL LOSS: 36328.35314941406 \tBEST VAL EPOCH: 21\n",
            "EPOCH 22 \tCURRENT VAL LOSS: 49386.76708984375 \tBEST VAL EPOCH: 21\n",
            "EPOCH 23 \tCURRENT VAL LOSS: 68849.50634765625 \tBEST VAL EPOCH: 21\n",
            "EPOCH 24 \tCURRENT VAL LOSS: 65375.10986328125 \tBEST VAL EPOCH: 21\n",
            "EPOCH 25 \tCURRENT VAL LOSS: 47489.71630859375 \tBEST VAL EPOCH: 21\n",
            "EPOCH 26 \tCURRENT VAL LOSS: 32975.708068847656 \tBEST VAL EPOCH: 26\n",
            "EPOCH 27 \tCURRENT VAL LOSS: 31183.207275390625 \tBEST VAL EPOCH: 27\n",
            "EPOCH 28 \tCURRENT VAL LOSS: 34777.92443847656 \tBEST VAL EPOCH: 27\n",
            "EPOCH 29 \tCURRENT VAL LOSS: 37050.74426269531 \tBEST VAL EPOCH: 27\n",
            "EPOCH 30 \tCURRENT VAL LOSS: 37671.903076171875 \tBEST VAL EPOCH: 27\n"
          ]
        }
      ]
    },
    {
      "cell_type": "code",
      "source": [
        "%matplotlib inline\n",
        "for i in range(len(metrics)):\n",
        "  plt.plot(list(metrics.values())[i], label = list(metrics.keys())[i])\n",
        "plt.legend()\n",
        "plt.show()"
      ],
      "metadata": {
        "colab": {
          "base_uri": "https://localhost:8080/",
          "height": 276
        },
        "id": "MEaTSzgFx1rH",
        "outputId": "0e4d5a15-5103-4175-f78a-cd4ffa5420d9"
      },
      "execution_count": 27,
      "outputs": [
        {
          "output_type": "display_data",
          "data": {
            "text/plain": [
              "<Figure size 432x288 with 1 Axes>"
            ],
            "image/png": "[encoded data removed]"
          },
          "metadata": {
            "needs_background": "light"
          }
        }
      ]
    },
    {
      "cell_type": "code",
      "source": [
        "model_inputs = TEST[0]['inputs'][:, :40]\n",
        "model_preds = model.predict_future(model_inputs, 10)\n",
        "agent = 6\n",
        "x = []\n",
        "y = []\n",
        "\n",
        "for i in range(0,10):\n",
        "  x.append(float(model_preds[0][i][agent][0]))\n",
        "  y.append(float(model_preds[0][i][agent][1]))\n",
        "\n",
        "\n",
        "\n",
        "p = []\n",
        "q = []\n",
        "\n",
        "for i in range(0,10):\n",
        "  p.append(float(TEST[0]['inputs'][:,:-10][0][i][agent][0]))\n",
        "  q.append(float(TEST[0]['inputs'][:,:-10][0][i][agent][1]))\n",
        "\n"
      ],
      "metadata": {
        "id": "tNiA7bYdPg8f"
      },
      "execution_count": 28,
      "outputs": []
    },
    {
      "cell_type": "code",
      "source": [
        "plt.scatter(p,q)\n",
        "plt.grid()"
      ],
      "metadata": {
        "id": "AcR9i6T3PoZ-",
        "colab": {
          "base_uri": "https://localhost:8080/",
          "height": 268
        },
        "outputId": "3ed3b9e8-1dc3-46f6-d5c7-25bc3901b6a0"
      },
      "execution_count": 29,
      "outputs": [
        {
          "output_type": "display_data",
          "data": {
            "text/plain": [
              "<Figure size 432x288 with 1 Axes>"
            ],
            "image/png": "[encoded data removed]"
          },
          "metadata": {
            "needs_background": "light"
          }
        }
      ]
    },
    {
      "cell_type": "code",
      "source": [
        "plt.scatter(x,y)\n",
        "plt.grid()"
      ],
      "metadata": {
        "id": "bB73KL-Jb8F2",
        "outputId": "bcf54f14-03d5-4a65-c0ec-ed7370785234",
        "colab": {
          "base_uri": "https://localhost:8080/",
          "height": 265
        }
      },
      "execution_count": 30,
      "outputs": [
        {
          "output_type": "display_data",
          "data": {
            "text/plain": [
              "<Figure size 432x288 with 1 Axes>"
            ],
            "image/png": "[encoded data removed]"
          },
          "metadata": {
            "needs_background": "light"
          }
        }
      ]
    },
    {
      "cell_type": "code",
      "source": [
        "plt.plot(x,y)\n",
        "plt.plot(p,q)\n",
        "plt.grid()"
      ],
      "metadata": {
        "id": "-7dILq4yPmbr",
        "colab": {
          "base_uri": "https://localhost:8080/",
          "height": 265
        },
        "outputId": "16cc9fa0-a140-42b5-d6b8-878fe1e8fdfd"
      },
      "execution_count": 31,
      "outputs": [
        {
          "output_type": "display_data",
          "data": {
            "text/plain": [
              "<Figure size 432x288 with 1 Axes>"
            ],
            "image/png": "[encoded data removed]"
          },
          "metadata": {
            "needs_background": "light"
          }
        }
      ]
    }
  ]
}