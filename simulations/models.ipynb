{
  "nbformat": 4,
  "nbformat_minor": 0,
  "metadata": {
    "colab": {
      "name": "Untitled1.ipynb",
      "provenance": [],
      "include_colab_link": true
    },
    "kernelspec": {
      "name": "python3",
      "display_name": "Python 3"
    },
    "language_info": {
      "name": "python"
    },
    "accelerator": "GPU",
    "gpuClass": "standard"
  },
  "cells": [
    {
      "cell_type": "markdown",
      "metadata": {
        "id": "view-in-github",
        "colab_type": "text"
      },
      "source": [
        "<a href=\"https://colab.research.google.com/github/Nishant-Ramakuru/Inference-based-GNNS/blob/main/simulations/models.ipynb\" target=\"_parent\"><img src=\"https://colab.research.google.com/assets/colab-badge.svg\" alt=\"Open In Colab\"/></a>"
      ]
    },
    {
      "cell_type": "code",
      "source": [
        "#Import Functions\n",
        "\n",
        "from torch.utils.tensorboard import SummaryWriter\n",
        "from torch.utils.data import DataLoader\n",
        "import torch\n",
        "import matplotlib\n",
        "matplotlib.use('Agg')\n",
        "import matplotlib.pyplot as plt\n",
        "import matplotlib.animation as animation\n",
        "import matplotlib.colors as mcolors\n",
        "import numpy as np\n",
        "import torch.nn.functional as F\n",
        "import torch.nn as nn\n",
        "import random\n",
        "from torch.utils.data import Dataset\n",
        "import argparse, os, time\n",
        "from torch.nn import init\n",
        "import math\n",
        "import networkx as nx\n",
        "import pandas as pd\n",
        "import os "
      ],
      "metadata": {
        "id": "8Tm6GblxoZWs"
      },
      "execution_count": 2,
      "outputs": []
    },
    {
      "cell_type": "code",
      "source": [
        "from google.colab import drive\n",
        "drive.mount('/content/drive/')"
      ],
      "metadata": {
        "colab": {
          "base_uri": "https://localhost:8080/"
        },
        "id": "uYXmvpJedOnr",
        "outputId": "ed577fc2-99ff-4a6b-8887-ae5fa8493ecb"
      },
      "execution_count": 3,
      "outputs": [
        {
          "output_type": "stream",
          "name": "stdout",
          "text": [
            "Mounted at /content/drive/\n"
          ]
        }
      ]
    },
    {
      "cell_type": "code",
      "source": [
        "import sys\n",
        "sys.path.append('/content/drive/MyDrive/GNNs')\n",
        "\n",
        "from utils_functions import *\n",
        "from models import RecurrentBaseline, SingleRNNBaseline, JointRNNBaseline, FullyConnectedBaseline, DNRI, RefMLPEncoder, GraphRNNDecoder, RecurrentBaseline_DynamicVars, FullyConnectedBaseline_DynamicVars, BaseNRI,DNRI_DynamicVars"
      ],
      "metadata": {
        "id": "7YSfCkQxQG6E"
      },
      "execution_count": 4,
      "outputs": []
    },
    {
      "cell_type": "markdown",
      "source": [
        "Dataset"
      ],
      "metadata": {
        "id": "kfqJoGAgpd_Y"
      }
    },
    {
      "cell_type": "code",
      "source": [
        "df = pd.read_pickle(\"/content/drive/MyDrive/GNNs/boids_buffer_10_15k.csv\")"
      ],
      "metadata": {
        "id": "XXXXqOdbc1as"
      },
      "execution_count": 5,
      "outputs": []
    },
    {
      "cell_type": "code",
      "source": [
        "df.shape"
      ],
      "metadata": {
        "colab": {
          "base_uri": "https://localhost:8080/"
        },
        "id": "Eo0__BlW4zLO",
        "outputId": "f2d7294e-899d-499e-8e8c-ba9397776a25"
      },
      "execution_count": 6,
      "outputs": [
        {
          "output_type": "execute_result",
          "data": {
            "text/plain": [
              "(15000, 4)"
            ]
          },
          "metadata": {},
          "execution_count": 6
        }
      ]
    },
    {
      "cell_type": "code",
      "source": [
        "df.head()"
      ],
      "metadata": {
        "colab": {
          "base_uri": "https://localhost:8080/",
          "height": 206
        },
        "id": "Sx9crDBZdld5",
        "outputId": "325b7b26-037e-4184-bb42-e0d1c3cc6d25"
      },
      "execution_count": 7,
      "outputs": [
        {
          "output_type": "execute_result",
          "data": {
            "text/plain": [
              "                                                   R  \\\n",
              "0  [[707.02014, 803.3247], [872.8785, 992.9619], ...   \n",
              "1  [[705.57416, 798.53864], [876.0066, 989.0613],...   \n",
              "2  [[704.2475, 793.71796], [879.1347, 985.16064],...   \n",
              "3  [[702.98267, 788.88055], [882.26276, 981.25995...   \n",
              "4  [[701.7574, 784.033], [885.39087, 977.3593], [...   \n",
              "\n",
              "                                               theta  \\\n",
              "0  [4.3974066, 5.3883123, 1.890375, 5.7133555, 3....   \n",
              "1  [4.4348707, 5.3883123, 0.7724528, 5.7133555, 3...   \n",
              "2  [4.4514513, 5.3883123, 0.743052, 5.7133555, 3....   \n",
              "3  [4.461328, 5.3883123, 0.7353079, 5.7133555, 3....   \n",
              "4  [4.468065, 5.3883123, 0.7278318, 5.7133555, 3....   \n",
              "\n",
              "                                            velocity  \\\n",
              "0  [[-2.0450733, -4.497138], [3.1280887, -3.90064...   \n",
              "1  [[-1.446004, -4.786043], [3.1280887, -3.900648...   \n",
              "2  [[-1.3266804, -4.8207207], [3.1280887, -3.9006...   \n",
              "3  [[-1.2648168, -4.8373585], [3.1280887, -3.9006...   \n",
              "4  [[-1.2252507, -4.8475423], [3.1280887, -3.9006...   \n",
              "\n",
              "                                          trajectory  \n",
              "0  [[707.02014, 803.3247, -2.0450733, -4.497138],...  \n",
              "1  [[705.57416, 798.53864, -1.446004, -4.786043],...  \n",
              "2  [[704.2475, 793.71796, -1.3266804, -4.8207207]...  \n",
              "3  [[702.98267, 788.88055, -1.2648168, -4.8373585...  \n",
              "4  [[701.7574, 784.033, -1.2252507, -4.8475423], ...  "
            ],
            "text/html": [
              "\n",
              "  <div id=\"df-1b664598-64d9-46be-ae70-be9092173168\">\n",
              "    <div class=\"colab-df-container\">\n",
              "      <div>\n",
              "<style scoped>\n",
              "    .dataframe tbody tr th:only-of-type {\n",
              "        vertical-align: middle;\n",
              "    }\n",
              "\n",
              "    .dataframe tbody tr th {\n",
              "        vertical-align: top;\n",
              "    }\n",
              "\n",
              "    .dataframe thead th {\n",
              "        text-align: right;\n",
              "    }\n",
              "</style>\n",
              "<table border=\"1\" class=\"dataframe\">\n",
              "  <thead>\n",
              "    <tr style=\"text-align: right;\">\n",
              "      <th></th>\n",
              "      <th>R</th>\n",
              "      <th>theta</th>\n",
              "      <th>velocity</th>\n",
              "      <th>trajectory</th>\n",
              "    </tr>\n",
              "  </thead>\n",
              "  <tbody>\n",
              "    <tr>\n",
              "      <th>0</th>\n",
              "      <td>[[707.02014, 803.3247], [872.8785, 992.9619], ...</td>\n",
              "      <td>[4.3974066, 5.3883123, 1.890375, 5.7133555, 3....</td>\n",
              "      <td>[[-2.0450733, -4.497138], [3.1280887, -3.90064...</td>\n",
              "      <td>[[707.02014, 803.3247, -2.0450733, -4.497138],...</td>\n",
              "    </tr>\n",
              "    <tr>\n",
              "      <th>1</th>\n",
              "      <td>[[705.57416, 798.53864], [876.0066, 989.0613],...</td>\n",
              "      <td>[4.4348707, 5.3883123, 0.7724528, 5.7133555, 3...</td>\n",
              "      <td>[[-1.446004, -4.786043], [3.1280887, -3.900648...</td>\n",
              "      <td>[[705.57416, 798.53864, -1.446004, -4.786043],...</td>\n",
              "    </tr>\n",
              "    <tr>\n",
              "      <th>2</th>\n",
              "      <td>[[704.2475, 793.71796], [879.1347, 985.16064],...</td>\n",
              "      <td>[4.4514513, 5.3883123, 0.743052, 5.7133555, 3....</td>\n",
              "      <td>[[-1.3266804, -4.8207207], [3.1280887, -3.9006...</td>\n",
              "      <td>[[704.2475, 793.71796, -1.3266804, -4.8207207]...</td>\n",
              "    </tr>\n",
              "    <tr>\n",
              "      <th>3</th>\n",
              "      <td>[[702.98267, 788.88055], [882.26276, 981.25995...</td>\n",
              "      <td>[4.461328, 5.3883123, 0.7353079, 5.7133555, 3....</td>\n",
              "      <td>[[-1.2648168, -4.8373585], [3.1280887, -3.9006...</td>\n",
              "      <td>[[702.98267, 788.88055, -1.2648168, -4.8373585...</td>\n",
              "    </tr>\n",
              "    <tr>\n",
              "      <th>4</th>\n",
              "      <td>[[701.7574, 784.033], [885.39087, 977.3593], [...</td>\n",
              "      <td>[4.468065, 5.3883123, 0.7278318, 5.7133555, 3....</td>\n",
              "      <td>[[-1.2252507, -4.8475423], [3.1280887, -3.9006...</td>\n",
              "      <td>[[701.7574, 784.033, -1.2252507, -4.8475423], ...</td>\n",
              "    </tr>\n",
              "  </tbody>\n",
              "</table>\n",
              "</div>\n",
              "      <button class=\"colab-df-convert\" onclick=\"convertToInteractive('df-1b664598-64d9-46be-ae70-be9092173168')\"\n",
              "              title=\"Convert this dataframe to an interactive table.\"\n",
              "              style=\"display:none;\">\n",
              "        \n",
              "  <svg xmlns=\"http://www.w3.org/2000/svg\" height=\"24px\"viewBox=\"0 0 24 24\"\n",
              "       width=\"24px\">\n",
              "    <path d=\"M0 0h24v24H0V0z\" fill=\"none\"/>\n",
              "    <path d=\"M18.56 5.44l.94 2.06.94-2.06 2.06-.94-2.06-.94-.94-2.06-.94 2.06-2.06.94zm-11 1L8.5 8.5l.94-2.06 2.06-.94-2.06-.94L8.5 2.5l-.94 2.06-2.06.94zm10 10l.94 2.06.94-2.06 2.06-.94-2.06-.94-.94-2.06-.94 2.06-2.06.94z\"/><path d=\"M17.41 7.96l-1.37-1.37c-.4-.4-.92-.59-1.43-.59-.52 0-1.04.2-1.43.59L10.3 9.45l-7.72 7.72c-.78.78-.78 2.05 0 2.83L4 21.41c.39.39.9.59 1.41.59.51 0 1.02-.2 1.41-.59l7.78-7.78 2.81-2.81c.8-.78.8-2.07 0-2.86zM5.41 20L4 18.59l7.72-7.72 1.47 1.35L5.41 20z\"/>\n",
              "  </svg>\n",
              "      </button>\n",
              "      \n",
              "  <style>\n",
              "    .colab-df-container {\n",
              "      display:flex;\n",
              "      flex-wrap:wrap;\n",
              "      gap: 12px;\n",
              "    }\n",
              "\n",
              "    .colab-df-convert {\n",
              "      background-color: #E8F0FE;\n",
              "      border: none;\n",
              "      border-radius: 50%;\n",
              "      cursor: pointer;\n",
              "      display: none;\n",
              "      fill: #1967D2;\n",
              "      height: 32px;\n",
              "      padding: 0 0 0 0;\n",
              "      width: 32px;\n",
              "    }\n",
              "\n",
              "    .colab-df-convert:hover {\n",
              "      background-color: #E2EBFA;\n",
              "      box-shadow: 0px 1px 2px rgba(60, 64, 67, 0.3), 0px 1px 3px 1px rgba(60, 64, 67, 0.15);\n",
              "      fill: #174EA6;\n",
              "    }\n",
              "\n",
              "    [theme=dark] .colab-df-convert {\n",
              "      background-color: #3B4455;\n",
              "      fill: #D2E3FC;\n",
              "    }\n",
              "\n",
              "    [theme=dark] .colab-df-convert:hover {\n",
              "      background-color: #434B5C;\n",
              "      box-shadow: 0px 1px 3px 1px rgba(0, 0, 0, 0.15);\n",
              "      filter: drop-shadow(0px 1px 2px rgba(0, 0, 0, 0.3));\n",
              "      fill: #FFFFFF;\n",
              "    }\n",
              "  </style>\n",
              "\n",
              "      <script>\n",
              "        const buttonEl =\n",
              "          document.querySelector('#df-1b664598-64d9-46be-ae70-be9092173168 button.colab-df-convert');\n",
              "        buttonEl.style.display =\n",
              "          google.colab.kernel.accessAllowed ? 'block' : 'none';\n",
              "\n",
              "        async function convertToInteractive(key) {\n",
              "          const element = document.querySelector('#df-1b664598-64d9-46be-ae70-be9092173168');\n",
              "          const dataTable =\n",
              "            await google.colab.kernel.invokeFunction('convertToInteractive',\n",
              "                                                     [key], {});\n",
              "          if (!dataTable) return;\n",
              "\n",
              "          const docLinkHtml = 'Like what you see? Visit the ' +\n",
              "            '<a target=\"_blank\" href=https://colab.research.google.com/notebooks/data_table.ipynb>data table notebook</a>'\n",
              "            + ' to learn more about interactive tables.';\n",
              "          element.innerHTML = '';\n",
              "          dataTable['output_type'] = 'display_data';\n",
              "          await google.colab.output.renderOutput(dataTable, element);\n",
              "          const docLink = document.createElement('div');\n",
              "          docLink.innerHTML = docLinkHtml;\n",
              "          element.appendChild(docLink);\n",
              "        }\n",
              "      </script>\n",
              "    </div>\n",
              "  </div>\n",
              "  "
            ]
          },
          "metadata": {},
          "execution_count": 7
        }
      ]
    },
    {
      "cell_type": "markdown",
      "source": [
        "Parameters"
      ],
      "metadata": {
        "id": "1kxH7lSHpbAE"
      }
    },
    {
      "cell_type": "code",
      "source": [
        "params = {}\n",
        "tau = 1\n",
        "params['use_adam'] = True\n",
        "params['test_burn_in_steps'] =10\n",
        "params['num_time_steps'] = 50\n",
        "params['data_path']= '/content/MyDrive/GNNs'\n",
        "params['num_train'] = 5000\n",
        "params['num_val'] = 2500\n",
        "params['num_test']= 2500\n",
        "params['load_model'] = False\n",
        "params['load_best_model'] = False\n",
        "params['model_type'] = 'RNN'\n",
        "#params['graph_type'] = ['static', 'dynamic']\n",
        "params['graph_type'] = 'dynamic'\n",
        "params['encoder_no_factor'] = True\n",
        "params['num_epochs'] = 100\n",
        "params['num_vars'] = params['num_agents'] = 10\n",
        "params['input_noise_type'] = 'none'\n",
        "params['input_size'] = 4\n",
        "params['nll_loss_type'] = 'gaussian'\n",
        "params['prior_variance'] = 5e-5\n",
        "params['batch_size'] = 64\n",
        "params['val_batch_size'] = 64\n",
        "params['accumulate_steps'] = 40\n",
        "params['num_edge_types'] = 1\n",
        "params['encoder_dropout'] = 0.0\n",
        "params['encoder_hidden'] = 256\n",
        "params['encoder_rnn_hidden'] = 64\n",
        "params['encoder_rnn_type'] = 'lstm'\n",
        "params['decoder_rnn_type'] = 'lstm'\n",
        "params['encoder_mlp_num_layers'] = 1\n",
        "params['encoder_mlp_hidden'] = 256\n",
        "params['prior_num_layers'] = 1\n",
        "params['prior_hidden_size'] = 256\n",
        "params['gpu'] = False\n",
        "params['decoder_hidden'] = 256\n",
        "params['skip_first'] = False\n",
        "params['decoder_dropout'] = 0.0\n",
        "params['decoder_type'] = None\n",
        "params['lr'] = 5e-4\n",
        "params['mode'] = \"train\"\n",
        "\n",
        "params['working_dir'] =params['output_dir'] =  ('/content/MyDrive/GNNs')"
      ],
      "metadata": {
        "id": "hu42uHhigCwW"
      },
      "execution_count": 8,
      "outputs": []
    },
    {
      "cell_type": "code",
      "source": [
        "agent = 9"
      ],
      "metadata": {
        "id": "xWvLHO7UQEDF"
      },
      "execution_count": 9,
      "outputs": []
    },
    {
      "cell_type": "code",
      "source": [
        "x = []\n",
        "y = []\n",
        "\n",
        "for i in range(50):\n",
        "  x.append(df.trajectory[i][agent][0])\n",
        "  y.append(df.trajectory[i][agent][1])\n",
        "\n",
        "%matplotlib inline\n",
        "print(len(x))\n",
        "plt.plot(x,y)\n",
        "plt.grid()\n",
        "plt.show()"
      ],
      "metadata": {
        "colab": {
          "base_uri": "https://localhost:8080/",
          "height": 282
        },
        "id": "YkThR2-XPBAN",
        "outputId": "04b86660-3368-4f93-e670-5e084475835a"
      },
      "execution_count": 10,
      "outputs": [
        {
          "output_type": "stream",
          "name": "stdout",
          "text": [
            "50\n"
          ]
        },
        {
          "output_type": "display_data",
          "data": {
            "text/plain": [
              "<Figure size 432x288 with 1 Axes>"
            ],
            "image/png": "[encoded data removed]"
          },
          "metadata": {
            "needs_background": "light"
          }
        }
      ]
    },
    {
      "cell_type": "code",
      "source": [
        "data = []\n",
        "for w in range(len(df)):\n",
        "  \n",
        "  state = np.array(df.R[w])\n",
        "  D = list()\n",
        "  for a,i in enumerate(state):\n",
        "    d= []\n",
        "    for b,j in enumerate(state):\n",
        "      eDistance = math.hypot(i[0] - j[0], i[1] - j[1])\n",
        "      if a == b:\n",
        "        d.append(0)\n",
        "      elif int(eDistance) <= 45:\n",
        "        d.append(1)\n",
        "      else:\n",
        "        d.append(0)\n",
        "    D.append(d)\n",
        "\n",
        "  data.append(np.array(D))\n",
        "edge_data = np.array(data)\n",
        "#all_data = np.array(list(df.trajectory.transpose()))\n",
        "all_data = df.trajectory.to_numpy()\n",
        "\n",
        "adj_array = []\n",
        "#print(edge_data.shape)\n",
        "for time_step in range(len(edge_data)):\n",
        "  edge = []\n",
        "  for i in range(len(edge_data[0])):\n",
        "    edge = edge + list(list(edge_data[time_step][i][:i])+list(edge_data[time_step][i][i+1:]))\n",
        "    \n",
        "  #print(len(edge[0].shape))\n",
        "  adj_array.append(edge)\n",
        "\n",
        "edge_data = np.array(adj_array)"
      ],
      "metadata": {
        "id": "DvNzNXDsmHrD"
      },
      "execution_count": 11,
      "outputs": []
    },
    {
      "cell_type": "code",
      "source": [
        "x = []\n",
        "y = []\n",
        "for i in range(50):\n",
        "  x.append(all_data[i][agent][0])\n",
        "  y.append(all_data[i][agent][1])\n",
        "\n",
        "%matplotlib inline\n",
        "print(len(x))\n",
        "plt.plot(x,y)\n",
        "plt.grid()\n",
        "plt.show()"
      ],
      "metadata": {
        "colab": {
          "base_uri": "https://localhost:8080/",
          "height": 282
        },
        "id": "ijp9wCSyURHS",
        "outputId": "ef69254a-b286-4da0-b415-15569229a03b"
      },
      "execution_count": 12,
      "outputs": [
        {
          "output_type": "stream",
          "name": "stdout",
          "text": [
            "50\n"
          ]
        },
        {
          "output_type": "display_data",
          "data": {
            "text/plain": [
              "<Figure size 432x288 with 1 Axes>"
            ],
            "image/png": "[encoded data removed]"
          },
          "metadata": {
            "needs_background": "light"
          }
        }
      ]
    },
    {
      "cell_type": "code",
      "source": [
        "all_data = np.stack(all_data)\n",
        "train_data = torch.FloatTensor(all_data[:params['num_train']])\n",
        "val_data = torch.FloatTensor(all_data[params['num_train']:params['num_train']+params['num_val']])\n",
        "test_data = torch.FloatTensor(all_data[params['num_train']+params['num_val']:params['num_train']+params['num_val']+params['num_test']])\n",
        "\n",
        "train_edges = torch.FloatTensor(edge_data[:params['num_train']])\n",
        "val_edges = torch.FloatTensor(edge_data[params['num_train']:params['num_train']+params['num_val']])\n",
        "test_edges = torch.FloatTensor(edge_data[params['num_train']+params['num_val']:params['num_train']+params['num_val']+params['num_test']])"
      ],
      "metadata": {
        "id": "sMqcjpLRea24"
      },
      "execution_count": 13,
      "outputs": []
    },
    {
      "cell_type": "code",
      "source": [
        "del all_data, df,edge_data, data"
      ],
      "metadata": {
        "id": "d9nZE2UU9tCL"
      },
      "execution_count": 14,
      "outputs": []
    },
    {
      "cell_type": "code",
      "source": [
        "print(\"Train Shape:\", train_data.shape,\"\\n\", \n",
        "       \"Val Shape:\", val_data.shape,\"\\n\",\n",
        "      \"Test Shape:\", test_data.shape)"
      ],
      "metadata": {
        "colab": {
          "base_uri": "https://localhost:8080/"
        },
        "id": "4UGCd5PmDRff",
        "outputId": "049cc2b9-6e55-4703-ef17-9a406eb884d3"
      },
      "execution_count": 15,
      "outputs": [
        {
          "output_type": "stream",
          "name": "stdout",
          "text": [
            "Train Shape: torch.Size([5000, 10, 4]) \n",
            " Val Shape: torch.Size([2500, 10, 4]) \n",
            " Test Shape: torch.Size([2500, 10, 4])\n"
          ]
        }
      ]
    },
    {
      "cell_type": "code",
      "source": [
        "x = []\n",
        "y = []\n",
        "for time_step in range(50):\n",
        "  x.append(train_data[time_step][agent][0])\n",
        "  y.append(train_data[time_step][agent][1])\n",
        "\n",
        "%matplotlib inline\n",
        "print(len(x))\n",
        "plt.plot(x,y)\n",
        "plt.grid()\n",
        "plt.show()"
      ],
      "metadata": {
        "colab": {
          "base_uri": "https://localhost:8080/",
          "height": 282
        },
        "id": "dv4lGXHKPdSw",
        "outputId": "ba019174-bf1f-4078-e50d-c03e127d577e"
      },
      "execution_count": 16,
      "outputs": [
        {
          "output_type": "stream",
          "name": "stdout",
          "text": [
            "50\n"
          ]
        },
        {
          "output_type": "display_data",
          "data": {
            "text/plain": [
              "<Figure size 432x288 with 1 Axes>"
            ],
            "image/png": "[encoded data removed]"
          },
          "metadata": {
            "needs_background": "light"
          }
        }
      ]
    },
    {
      "cell_type": "code",
      "source": [
        "train_data = train_data.reshape([int(params[\"num_train\"]/50),50,10,4])\n",
        "val_data = val_data.reshape([int(params[\"num_val\"]/50),50,10,4])\n",
        "test_data = test_data.reshape([int(params[\"num_test\"]/50),50,10,4])\n",
        "\n",
        "train_edges = train_edges.reshape([int(params['num_train']/50),50,90])\n",
        "val_edges = val_edges.reshape([int(params['num_val']/50),50,90])\n",
        "test_edges = test_edges.reshape([int(params['num_test']/50),50,90])"
      ],
      "metadata": {
        "id": "a5aGYElZbFo_"
      },
      "execution_count": 17,
      "outputs": []
    },
    {
      "cell_type": "code",
      "source": [
        "x = []\n",
        "y = []\n",
        "for time_step in range(50):\n",
        "  x.append(train_data[0][time_step][agent][0])\n",
        "  y.append(train_data[0][time_step][agent][1])\n",
        "\n",
        "%matplotlib inline\n",
        "plt.plot(x,y)\n",
        "plt.grid()\n",
        "plt.show()"
      ],
      "metadata": {
        "colab": {
          "base_uri": "https://localhost:8080/",
          "height": 265
        },
        "id": "N66MaMcFPg6x",
        "outputId": "9cfe2e39-b268-40c0-9f8d-e0a7c8819f34"
      },
      "execution_count": 18,
      "outputs": [
        {
          "output_type": "display_data",
          "data": {
            "text/plain": [
              "<Figure size 432x288 with 1 Axes>"
            ],
            "image/png": "[encoded data removed]"
          },
          "metadata": {
            "needs_background": "light"
          }
        }
      ]
    },
    {
      "cell_type": "code",
      "source": [
        "train_data = torch.nn.functional.normalize(train_data)\n",
        "val_data = torch.nn.functional.normalize(val_data)\n",
        "test_data = torch.nn.functional.normalize(test_data)"
      ],
      "metadata": {
        "id": "lRvZM3sW8hCa"
      },
      "execution_count": 19,
      "outputs": []
    },
    {
      "cell_type": "code",
      "source": [
        "x = []\n",
        "y = []\n",
        "for time_step in range(50):\n",
        "  x.append(train_data[0][time_step][agent][0])\n",
        "  y.append(train_data[0][time_step][agent][1])\n",
        "%matplotlib inline\n",
        "plt.plot(x,y)\n",
        "plt.grid()\n",
        "plt.show()"
      ],
      "metadata": {
        "colab": {
          "base_uri": "https://localhost:8080/",
          "height": 265
        },
        "id": "gwopC0PTPi_Q",
        "outputId": "2d3f6b24-5310-4ae4-e04b-f18bad41999f"
      },
      "execution_count": 20,
      "outputs": [
        {
          "output_type": "display_data",
          "data": {
            "text/plain": [
              "<Figure size 432x288 with 1 Axes>"
            ],
            "image/png": "[encoded data removed]"
          },
          "metadata": {
            "needs_background": "light"
          }
        }
      ]
    },
    {
      "cell_type": "code",
      "source": [
        "DATA = []\n",
        "\n",
        "for i in range(train_data.shape[0]):\n",
        "  DATA.append({'inputs':train_data[i].reshape([1,50,10,4]),'edges':train_edges[i].reshape([1,50,90])})\n",
        "\n",
        "VAL = []\n",
        "\n",
        "for i in range(val_data.shape[0]):\n",
        "  VAL.append({'inputs':val_data[i].reshape([1,50,10,4]),'edges':val_edges[i].reshape([1,50,90])})\n",
        "\n",
        "TEST = []\n",
        "\n",
        "for i in range(test_data.shape[0]):\n",
        "  TEST.append({'inputs':test_data[i].reshape([1,50,10,4]),'edges':test_edges[i].reshape([1,50,90])})"
      ],
      "metadata": {
        "id": "rw95XbyRx3XM"
      },
      "execution_count": 21,
      "outputs": []
    },
    {
      "cell_type": "code",
      "source": [
        "x = []\n",
        "y = []\n",
        "for time_step in range(50):\n",
        "  x.append(DATA[0]['inputs'][0][time_step][a][0])\n",
        "  y.append(DATA[0]['inputs'][0][time_step][a][1])\n",
        "%matplotlib inline\n",
        "plt.plot(x,y)\n",
        "plt.grid()\n",
        "plt.show()"
      ],
      "metadata": {
        "colab": {
          "base_uri": "https://localhost:8080/",
          "height": 265
        },
        "id": "j56FIhjsPl49",
        "outputId": "9832e329-0b02-47b0-c16e-43d75310aa80"
      },
      "execution_count": 22,
      "outputs": [
        {
          "output_type": "display_data",
          "data": {
            "text/plain": [
              "<Figure size 432x288 with 1 Axes>"
            ],
            "image/png": "[encoded data removed]"
          },
          "metadata": {
            "needs_background": "light"
          }
        }
      ]
    },
    {
      "cell_type": "code",
      "source": [
        "model_types = [SingleRNNBaseline,\n",
        "               JointRNNBaseline,\n",
        "               FullyConnectedBaseline,\n",
        "               DNRI,\n",
        "               BaseNRI \n",
        "               ]"
      ],
      "metadata": {
        "id": "Ms-NFC5so5Vp"
      },
      "execution_count": 30,
      "outputs": []
    },
    {
      "cell_type": "markdown",
      "source": [
        "Build Model"
      ],
      "metadata": {
        "id": "ShgCZ5FdsCDG"
      }
    },
    {
      "cell_type": "code",
      "source": [
        "def build_model(params,model_type):\n",
        "  model = model_type(params)\n",
        "  print(\"################################\", type(model).__name__, \"################################################\")\n",
        "  #print(\"################################################################################\")\n",
        "  #print(params['model_type'])\n",
        "  if params['load_best_model']:\n",
        "      print(\"LOADING BEST MODEL\")\n",
        "      path = os.path.join(params['working_dir'], 'best_model')\n",
        "      model.load(path)\n",
        "  elif params['load_model']:\n",
        "      print(\"LOADING MODEL FROM SPECIFIED PATH\")\n",
        "      model.load(params['load_model'])\n",
        "  if params['gpu']:\n",
        "      model.cuda()\n",
        "  return model"
      ],
      "metadata": {
        "id": "rzUdzq4oWlju"
      },
      "execution_count": 31,
      "outputs": []
    },
    {
      "cell_type": "code",
      "source": [
        "params['mode'] = 'train'\n",
        "params['num_epochs'] = 50\n",
        "params['test_burn_in_steps'] =40\n",
        "params['input_time_steps'] = 50"
      ],
      "metadata": {
        "id": "-E3E-OTMJNJs"
      },
      "execution_count": 32,
      "outputs": []
    },
    {
      "cell_type": "code",
      "source": [
        "#params['model_type'] = model_name\n",
        "metrics = {}\n",
        "for model_type in model_types:\n",
        "  model = build_model(params,model_type)\n",
        "  if params['mode'] == 'train':\n",
        "      with build_writers(params['working_dir']) as (train_writer, val_writer):\n",
        "          result = train(model, DATA, VAL, params, train_writer, val_writer)\n",
        "                                                                   \n",
        "  metrics[str(type(model).__name__)] = result\n",
        "  "
      ],
      "metadata": {
        "colab": {
          "base_uri": "https://localhost:8080/"
        },
        "id": "tvqz0fqwYhEp",
        "outputId": "39dad564-cb3a-4e5c-fb92-607b15931a1d"
      },
      "execution_count": 33,
      "outputs": [
        {
          "output_type": "stream",
          "name": "stdout",
          "text": [
            "################################ SingleRNNBaseline ################################################\n",
            "EPOCH 1 \tCURRENT VAL LOSS: 19888480.9375 \tBEST VAL EPOCH: -1\n",
            "EPOCH 2 \tCURRENT VAL LOSS: 6067530.1953125 \tBEST VAL EPOCH: 2\n",
            "EPOCH 3 \tCURRENT VAL LOSS: 608286.2431640625 \tBEST VAL EPOCH: 3\n",
            "EPOCH 4 \tCURRENT VAL LOSS: 1659790.2890625 \tBEST VAL EPOCH: 3\n",
            "EPOCH 5 \tCURRENT VAL LOSS: 4389783.3359375 \tBEST VAL EPOCH: 3\n",
            "EPOCH 6 \tCURRENT VAL LOSS: 4872676.0859375 \tBEST VAL EPOCH: 3\n",
            "EPOCH 7 \tCURRENT VAL LOSS: 3342638.43359375 \tBEST VAL EPOCH: 3\n",
            "EPOCH 8 \tCURRENT VAL LOSS: 1445509.013671875 \tBEST VAL EPOCH: 3\n",
            "EPOCH 9 \tCURRENT VAL LOSS: 312330.77294921875 \tBEST VAL EPOCH: 9\n",
            "EPOCH 10 \tCURRENT VAL LOSS: 131951.42547607422 \tBEST VAL EPOCH: 10\n",
            "EPOCH 11 \tCURRENT VAL LOSS: 494505.890625 \tBEST VAL EPOCH: 10\n",
            "EPOCH 12 \tCURRENT VAL LOSS: 876623.900390625 \tBEST VAL EPOCH: 10\n",
            "EPOCH 13 \tCURRENT VAL LOSS: 987038.4404296875 \tBEST VAL EPOCH: 10\n",
            "EPOCH 14 \tCURRENT VAL LOSS: 814548.5380859375 \tBEST VAL EPOCH: 10\n",
            "EPOCH 15 \tCURRENT VAL LOSS: 506525.84814453125 \tBEST VAL EPOCH: 10\n",
            "EPOCH 16 \tCURRENT VAL LOSS: 233109.11596679688 \tBEST VAL EPOCH: 10\n",
            "EPOCH 17 \tCURRENT VAL LOSS: 104146.08770751953 \tBEST VAL EPOCH: 17\n",
            "EPOCH 18 \tCURRENT VAL LOSS: 128792.1591796875 \tBEST VAL EPOCH: 17\n",
            "EPOCH 19 \tCURRENT VAL LOSS: 221256.51245117188 \tBEST VAL EPOCH: 17\n",
            "EPOCH 20 \tCURRENT VAL LOSS: 271994.8195800781 \tBEST VAL EPOCH: 17\n",
            "EPOCH 21 \tCURRENT VAL LOSS: 241391.2099609375 \tBEST VAL EPOCH: 17\n",
            "EPOCH 22 \tCURRENT VAL LOSS: 166517.45373535156 \tBEST VAL EPOCH: 17\n",
            "EPOCH 23 \tCURRENT VAL LOSS: 105831.2885131836 \tBEST VAL EPOCH: 17\n",
            "EPOCH 24 \tCURRENT VAL LOSS: 92384.16958618164 \tBEST VAL EPOCH: 24\n",
            "EPOCH 25 \tCURRENT VAL LOSS: 116189.4934387207 \tBEST VAL EPOCH: 24\n",
            "EPOCH 26 \tCURRENT VAL LOSS: 137122.4649658203 \tBEST VAL EPOCH: 24\n",
            "EPOCH 27 \tCURRENT VAL LOSS: 130404.224609375 \tBEST VAL EPOCH: 24\n",
            "EPOCH 28 \tCURRENT VAL LOSS: 107004.62362670898 \tBEST VAL EPOCH: 24\n",
            "EPOCH 29 \tCURRENT VAL LOSS: 90564.77445220947 \tBEST VAL EPOCH: 29\n",
            "EPOCH 30 \tCURRENT VAL LOSS: 90612.43425750732 \tBEST VAL EPOCH: 29\n",
            "EPOCH 31 \tCURRENT VAL LOSS: 97757.27558898926 \tBEST VAL EPOCH: 29\n",
            "EPOCH 32 \tCURRENT VAL LOSS: 98651.7448425293 \tBEST VAL EPOCH: 29\n",
            "EPOCH 33 \tCURRENT VAL LOSS: 92550.87730407715 \tBEST VAL EPOCH: 29\n",
            "EPOCH 34 \tCURRENT VAL LOSS: 86833.19594573975 \tBEST VAL EPOCH: 34\n",
            "EPOCH 35 \tCURRENT VAL LOSS: 87156.96199798584 \tBEST VAL EPOCH: 34\n",
            "EPOCH 36 \tCURRENT VAL LOSS: 89866.70901489258 \tBEST VAL EPOCH: 34\n",
            "EPOCH 37 \tCURRENT VAL LOSS: 89456.55853271484 \tBEST VAL EPOCH: 34\n",
            "EPOCH 38 \tCURRENT VAL LOSS: 86953.81703186035 \tBEST VAL EPOCH: 34\n",
            "EPOCH 39 \tCURRENT VAL LOSS: 85597.7783126831 \tBEST VAL EPOCH: 39\n",
            "EPOCH 40 \tCURRENT VAL LOSS: 84974.68235778809 \tBEST VAL EPOCH: 40\n",
            "EPOCH 41 \tCURRENT VAL LOSS: 84400.49507141113 \tBEST VAL EPOCH: 41\n",
            "EPOCH 42 \tCURRENT VAL LOSS: 84150.81819915771 \tBEST VAL EPOCH: 42\n",
            "EPOCH 43 \tCURRENT VAL LOSS: 84173.62530517578 \tBEST VAL EPOCH: 42\n",
            "EPOCH 44 \tCURRENT VAL LOSS: 84431.20243835449 \tBEST VAL EPOCH: 42\n",
            "EPOCH 45 \tCURRENT VAL LOSS: 83973.62398529053 \tBEST VAL EPOCH: 45\n",
            "EPOCH 46 \tCURRENT VAL LOSS: 83172.32151031494 \tBEST VAL EPOCH: 46\n",
            "EPOCH 47 \tCURRENT VAL LOSS: 82812.72522735596 \tBEST VAL EPOCH: 47\n",
            "EPOCH 48 \tCURRENT VAL LOSS: 82487.66078186035 \tBEST VAL EPOCH: 48\n",
            "EPOCH 49 \tCURRENT VAL LOSS: 82050.42268371582 \tBEST VAL EPOCH: 49\n",
            "EPOCH 50 \tCURRENT VAL LOSS: 81924.7315750122 \tBEST VAL EPOCH: 50\n",
            "################################ JointRNNBaseline ################################################\n",
            "EPOCH 1 \tCURRENT VAL LOSS: 12576747.015625 \tBEST VAL EPOCH: -1\n",
            "EPOCH 2 \tCURRENT VAL LOSS: 7694340.375 \tBEST VAL EPOCH: 2\n",
            "EPOCH 3 \tCURRENT VAL LOSS: 4217941.6328125 \tBEST VAL EPOCH: 3\n",
            "EPOCH 4 \tCURRENT VAL LOSS: 1927502.701171875 \tBEST VAL EPOCH: 4\n",
            "EPOCH 5 \tCURRENT VAL LOSS: 799122.939453125 \tBEST VAL EPOCH: 5\n",
            "EPOCH 6 \tCURRENT VAL LOSS: 657741.166015625 \tBEST VAL EPOCH: 6\n",
            "EPOCH 7 \tCURRENT VAL LOSS: 875704.5341796875 \tBEST VAL EPOCH: 6\n",
            "EPOCH 8 \tCURRENT VAL LOSS: 933385.783203125 \tBEST VAL EPOCH: 6\n",
            "EPOCH 9 \tCURRENT VAL LOSS: 785447.9423828125 \tBEST VAL EPOCH: 6\n",
            "EPOCH 10 \tCURRENT VAL LOSS: 576530.1318359375 \tBEST VAL EPOCH: 10\n",
            "EPOCH 11 \tCURRENT VAL LOSS: 409246.134765625 \tBEST VAL EPOCH: 11\n",
            "EPOCH 12 \tCURRENT VAL LOSS: 303180.6748046875 \tBEST VAL EPOCH: 12\n",
            "EPOCH 13 \tCURRENT VAL LOSS: 244042.06103515625 \tBEST VAL EPOCH: 13\n",
            "EPOCH 14 \tCURRENT VAL LOSS: 215347.39111328125 \tBEST VAL EPOCH: 14\n",
            "EPOCH 15 \tCURRENT VAL LOSS: 206097.5255126953 \tBEST VAL EPOCH: 15\n",
            "EPOCH 16 \tCURRENT VAL LOSS: 204979.81787109375 \tBEST VAL EPOCH: 16\n",
            "EPOCH 17 \tCURRENT VAL LOSS: 200400.744140625 \tBEST VAL EPOCH: 17\n",
            "EPOCH 18 \tCURRENT VAL LOSS: 184639.08728027344 \tBEST VAL EPOCH: 18\n",
            "EPOCH 19 \tCURRENT VAL LOSS: 161877.74975585938 \tBEST VAL EPOCH: 19\n",
            "EPOCH 20 \tCURRENT VAL LOSS: 142898.51007080078 \tBEST VAL EPOCH: 20\n",
            "EPOCH 21 \tCURRENT VAL LOSS: 131087.4764404297 \tBEST VAL EPOCH: 21\n",
            "EPOCH 22 \tCURRENT VAL LOSS: 123198.03411865234 \tBEST VAL EPOCH: 22\n",
            "EPOCH 23 \tCURRENT VAL LOSS: 116016.51794433594 \tBEST VAL EPOCH: 23\n",
            "EPOCH 24 \tCURRENT VAL LOSS: 109871.28576660156 \tBEST VAL EPOCH: 24\n",
            "EPOCH 25 \tCURRENT VAL LOSS: 106145.2981262207 \tBEST VAL EPOCH: 25\n",
            "EPOCH 26 \tCURRENT VAL LOSS: 104946.53631591797 \tBEST VAL EPOCH: 26\n",
            "EPOCH 27 \tCURRENT VAL LOSS: 104882.33850097656 \tBEST VAL EPOCH: 27\n",
            "EPOCH 28 \tCURRENT VAL LOSS: 104741.99992370605 \tBEST VAL EPOCH: 28\n",
            "EPOCH 29 \tCURRENT VAL LOSS: 104287.02592468262 \tBEST VAL EPOCH: 29\n",
            "EPOCH 30 \tCURRENT VAL LOSS: 103696.48629760742 \tBEST VAL EPOCH: 30\n",
            "EPOCH 31 \tCURRENT VAL LOSS: 103200.28228759766 \tBEST VAL EPOCH: 31\n",
            "EPOCH 32 \tCURRENT VAL LOSS: 102798.51405334473 \tBEST VAL EPOCH: 32\n",
            "EPOCH 33 \tCURRENT VAL LOSS: 102309.63548278809 \tBEST VAL EPOCH: 33\n",
            "EPOCH 34 \tCURRENT VAL LOSS: 101589.7953338623 \tBEST VAL EPOCH: 34\n",
            "EPOCH 35 \tCURRENT VAL LOSS: 100695.22640991211 \tBEST VAL EPOCH: 35\n",
            "EPOCH 36 \tCURRENT VAL LOSS: 99834.19414520264 \tBEST VAL EPOCH: 36\n",
            "EPOCH 37 \tCURRENT VAL LOSS: 99128.92785644531 \tBEST VAL EPOCH: 37\n",
            "EPOCH 38 \tCURRENT VAL LOSS: 98646.05212402344 \tBEST VAL EPOCH: 38\n",
            "EPOCH 39 \tCURRENT VAL LOSS: 98449.49279785156 \tBEST VAL EPOCH: 39\n",
            "EPOCH 40 \tCURRENT VAL LOSS: 98420.3249206543 \tBEST VAL EPOCH: 40\n",
            "EPOCH 41 \tCURRENT VAL LOSS: 98380.14817810059 \tBEST VAL EPOCH: 41\n",
            "EPOCH 42 \tCURRENT VAL LOSS: 98244.77347564697 \tBEST VAL EPOCH: 42\n",
            "EPOCH 43 \tCURRENT VAL LOSS: 98121.75959777832 \tBEST VAL EPOCH: 43\n",
            "EPOCH 44 \tCURRENT VAL LOSS: 98094.4467010498 \tBEST VAL EPOCH: 44\n",
            "EPOCH 45 \tCURRENT VAL LOSS: 98063.18159484863 \tBEST VAL EPOCH: 45\n",
            "EPOCH 46 \tCURRENT VAL LOSS: 97925.38152313232 \tBEST VAL EPOCH: 46\n",
            "EPOCH 47 \tCURRENT VAL LOSS: 97694.43506622314 \tBEST VAL EPOCH: 47\n",
            "EPOCH 48 \tCURRENT VAL LOSS: 97435.62315368652 \tBEST VAL EPOCH: 48\n",
            "EPOCH 49 \tCURRENT VAL LOSS: 97170.24617004395 \tBEST VAL EPOCH: 49\n",
            "EPOCH 50 \tCURRENT VAL LOSS: 96923.41957092285 \tBEST VAL EPOCH: 50\n",
            "Using learned recurrent interaction net decoder.\n",
            "################################ FullyConnectedBaseline ################################################\n",
            "EPOCH 1 \tCURRENT VAL LOSS: 2893870.765625 \tBEST VAL EPOCH: 1\n",
            "EPOCH 2 \tCURRENT VAL LOSS: 1227006.8203125 \tBEST VAL EPOCH: 2\n",
            "EPOCH 3 \tCURRENT VAL LOSS: 1226465.6025390625 \tBEST VAL EPOCH: 3\n",
            "EPOCH 4 \tCURRENT VAL LOSS: 330307.25146484375 \tBEST VAL EPOCH: 4\n",
            "EPOCH 5 \tCURRENT VAL LOSS: 642570.283203125 \tBEST VAL EPOCH: 4\n",
            "EPOCH 6 \tCURRENT VAL LOSS: 491631.23583984375 \tBEST VAL EPOCH: 4\n",
            "EPOCH 7 \tCURRENT VAL LOSS: 153076.02014160156 \tBEST VAL EPOCH: 7\n",
            "EPOCH 8 \tCURRENT VAL LOSS: 420206.716796875 \tBEST VAL EPOCH: 7\n",
            "EPOCH 9 \tCURRENT VAL LOSS: 202504.36254882812 \tBEST VAL EPOCH: 7\n",
            "EPOCH 10 \tCURRENT VAL LOSS: 145716.72131347656 \tBEST VAL EPOCH: 10\n",
            "EPOCH 11 \tCURRENT VAL LOSS: 260717.26879882812 \tBEST VAL EPOCH: 10\n",
            "EPOCH 12 \tCURRENT VAL LOSS: 112462.78112792969 \tBEST VAL EPOCH: 12\n",
            "EPOCH 13 \tCURRENT VAL LOSS: 148340.84033203125 \tBEST VAL EPOCH: 12\n",
            "EPOCH 14 \tCURRENT VAL LOSS: 121686.55676269531 \tBEST VAL EPOCH: 12\n",
            "EPOCH 15 \tCURRENT VAL LOSS: 97814.21838378906 \tBEST VAL EPOCH: 15\n",
            "EPOCH 16 \tCURRENT VAL LOSS: 112718.99096679688 \tBEST VAL EPOCH: 15\n",
            "EPOCH 17 \tCURRENT VAL LOSS: 102916.08758544922 \tBEST VAL EPOCH: 15\n",
            "EPOCH 18 \tCURRENT VAL LOSS: 87562.97961425781 \tBEST VAL EPOCH: 18\n",
            "EPOCH 19 \tCURRENT VAL LOSS: 95981.25247192383 \tBEST VAL EPOCH: 18\n",
            "EPOCH 20 \tCURRENT VAL LOSS: 77279.07125854492 \tBEST VAL EPOCH: 20\n",
            "EPOCH 21 \tCURRENT VAL LOSS: 79253.92533874512 \tBEST VAL EPOCH: 20\n",
            "EPOCH 22 \tCURRENT VAL LOSS: 75238.9486694336 \tBEST VAL EPOCH: 22\n",
            "EPOCH 23 \tCURRENT VAL LOSS: 73081.33198547363 \tBEST VAL EPOCH: 23\n",
            "EPOCH 24 \tCURRENT VAL LOSS: 76993.22596740723 \tBEST VAL EPOCH: 23\n",
            "EPOCH 25 \tCURRENT VAL LOSS: 69399.70504760742 \tBEST VAL EPOCH: 25\n",
            "EPOCH 26 \tCURRENT VAL LOSS: 71613.25077056885 \tBEST VAL EPOCH: 25\n",
            "EPOCH 27 \tCURRENT VAL LOSS: 66785.58805084229 \tBEST VAL EPOCH: 27\n",
            "EPOCH 28 \tCURRENT VAL LOSS: 66824.72129821777 \tBEST VAL EPOCH: 27\n",
            "EPOCH 29 \tCURRENT VAL LOSS: 66129.98342895508 \tBEST VAL EPOCH: 29\n",
            "EPOCH 30 \tCURRENT VAL LOSS: 64028.87812805176 \tBEST VAL EPOCH: 30\n",
            "EPOCH 31 \tCURRENT VAL LOSS: 62806.74108886719 \tBEST VAL EPOCH: 31\n",
            "EPOCH 32 \tCURRENT VAL LOSS: 61888.91890716553 \tBEST VAL EPOCH: 32\n",
            "EPOCH 33 \tCURRENT VAL LOSS: 62135.523765563965 \tBEST VAL EPOCH: 32\n",
            "EPOCH 34 \tCURRENT VAL LOSS: 60931.96871185303 \tBEST VAL EPOCH: 34\n",
            "EPOCH 35 \tCURRENT VAL LOSS: 60076.451919555664 \tBEST VAL EPOCH: 35\n",
            "EPOCH 36 \tCURRENT VAL LOSS: 59768.64267730713 \tBEST VAL EPOCH: 36\n",
            "EPOCH 37 \tCURRENT VAL LOSS: 59513.22441101074 \tBEST VAL EPOCH: 37\n",
            "EPOCH 38 \tCURRENT VAL LOSS: 58898.305000305176 \tBEST VAL EPOCH: 38\n",
            "EPOCH 39 \tCURRENT VAL LOSS: 58441.91313171387 \tBEST VAL EPOCH: 39\n",
            "EPOCH 40 \tCURRENT VAL LOSS: 58107.64496612549 \tBEST VAL EPOCH: 40\n",
            "EPOCH 41 \tCURRENT VAL LOSS: 58369.613288879395 \tBEST VAL EPOCH: 40\n",
            "EPOCH 42 \tCURRENT VAL LOSS: 57918.6106338501 \tBEST VAL EPOCH: 42\n",
            "EPOCH 43 \tCURRENT VAL LOSS: 57600.24662399292 \tBEST VAL EPOCH: 43\n",
            "EPOCH 44 \tCURRENT VAL LOSS: 57253.736698150635 \tBEST VAL EPOCH: 44\n",
            "EPOCH 45 \tCURRENT VAL LOSS: 57272.97592544556 \tBEST VAL EPOCH: 44\n",
            "EPOCH 46 \tCURRENT VAL LOSS: 56751.573223114014 \tBEST VAL EPOCH: 46\n",
            "EPOCH 47 \tCURRENT VAL LOSS: 56504.68479156494 \tBEST VAL EPOCH: 47\n",
            "EPOCH 48 \tCURRENT VAL LOSS: 56222.92081451416 \tBEST VAL EPOCH: 48\n",
            "EPOCH 49 \tCURRENT VAL LOSS: 56041.647369384766 \tBEST VAL EPOCH: 49\n",
            "EPOCH 50 \tCURRENT VAL LOSS: 55689.11220550537 \tBEST VAL EPOCH: 50\n",
            "Using learned recurrent interaction net decoder.\n",
            "################################ DNRI ################################################\n",
            "EPOCH 1 \tCURRENT VAL LOSS: 6624825.765625 \tBEST VAL EPOCH: 1\n",
            "EPOCH 2 \tCURRENT VAL LOSS: 7843624.828125 \tBEST VAL EPOCH: 1\n",
            "EPOCH 3 \tCURRENT VAL LOSS: 699998.109375 \tBEST VAL EPOCH: 3\n",
            "EPOCH 4 \tCURRENT VAL LOSS: 3143243.21875 \tBEST VAL EPOCH: 3\n",
            "EPOCH 5 \tCURRENT VAL LOSS: 423635.43017578125 \tBEST VAL EPOCH: 5\n",
            "EPOCH 6 \tCURRENT VAL LOSS: 466520.3388671875 \tBEST VAL EPOCH: 5\n",
            "EPOCH 7 \tCURRENT VAL LOSS: 628977.828125 \tBEST VAL EPOCH: 5\n",
            "EPOCH 8 \tCURRENT VAL LOSS: 172725.72888183594 \tBEST VAL EPOCH: 8\n",
            "EPOCH 9 \tCURRENT VAL LOSS: 240736.60546875 \tBEST VAL EPOCH: 8\n",
            "EPOCH 10 \tCURRENT VAL LOSS: 313890.09716796875 \tBEST VAL EPOCH: 8\n",
            "EPOCH 11 \tCURRENT VAL LOSS: 143080.0428466797 \tBEST VAL EPOCH: 11\n",
            "EPOCH 12 \tCURRENT VAL LOSS: 137051.61352539062 \tBEST VAL EPOCH: 12\n",
            "EPOCH 13 \tCURRENT VAL LOSS: 189921.8525390625 \tBEST VAL EPOCH: 12\n",
            "EPOCH 14 \tCURRENT VAL LOSS: 104104.76306152344 \tBEST VAL EPOCH: 14\n",
            "EPOCH 15 \tCURRENT VAL LOSS: 127247.28448486328 \tBEST VAL EPOCH: 14\n",
            "EPOCH 16 \tCURRENT VAL LOSS: 126728.57019042969 \tBEST VAL EPOCH: 14\n",
            "EPOCH 17 \tCURRENT VAL LOSS: 93335.00396728516 \tBEST VAL EPOCH: 17\n",
            "EPOCH 18 \tCURRENT VAL LOSS: 89403.81823730469 \tBEST VAL EPOCH: 18\n",
            "EPOCH 19 \tCURRENT VAL LOSS: 85396.455078125 \tBEST VAL EPOCH: 19\n",
            "EPOCH 20 \tCURRENT VAL LOSS: 81429.10133361816 \tBEST VAL EPOCH: 20\n",
            "EPOCH 21 \tCURRENT VAL LOSS: 92523.61782836914 \tBEST VAL EPOCH: 20\n",
            "EPOCH 22 \tCURRENT VAL LOSS: 92008.89665222168 \tBEST VAL EPOCH: 20\n",
            "EPOCH 23 \tCURRENT VAL LOSS: 83059.72974395752 \tBEST VAL EPOCH: 20\n",
            "EPOCH 24 \tCURRENT VAL LOSS: 76613.7650680542 \tBEST VAL EPOCH: 24\n",
            "EPOCH 25 \tCURRENT VAL LOSS: 72132.219871521 \tBEST VAL EPOCH: 25\n",
            "EPOCH 26 \tCURRENT VAL LOSS: 70061.04259490967 \tBEST VAL EPOCH: 26\n",
            "EPOCH 27 \tCURRENT VAL LOSS: 69757.77989959717 \tBEST VAL EPOCH: 27\n",
            "EPOCH 28 \tCURRENT VAL LOSS: 67597.27094268799 \tBEST VAL EPOCH: 28\n",
            "EPOCH 29 \tCURRENT VAL LOSS: 64936.17100524902 \tBEST VAL EPOCH: 29\n",
            "EPOCH 30 \tCURRENT VAL LOSS: 64016.45790100098 \tBEST VAL EPOCH: 30\n",
            "EPOCH 31 \tCURRENT VAL LOSS: 66233.50745391846 \tBEST VAL EPOCH: 30\n",
            "EPOCH 32 \tCURRENT VAL LOSS: 62954.03462219238 \tBEST VAL EPOCH: 32\n",
            "EPOCH 33 \tCURRENT VAL LOSS: 62562.93972015381 \tBEST VAL EPOCH: 33\n",
            "EPOCH 34 \tCURRENT VAL LOSS: 62654.62594604492 \tBEST VAL EPOCH: 33\n",
            "EPOCH 35 \tCURRENT VAL LOSS: 61093.80375671387 \tBEST VAL EPOCH: 35\n",
            "EPOCH 36 \tCURRENT VAL LOSS: 60954.52410888672 \tBEST VAL EPOCH: 36\n",
            "EPOCH 37 \tCURRENT VAL LOSS: 59890.29108428955 \tBEST VAL EPOCH: 37\n",
            "EPOCH 38 \tCURRENT VAL LOSS: 59077.969299316406 \tBEST VAL EPOCH: 38\n",
            "EPOCH 39 \tCURRENT VAL LOSS: 58836.74848937988 \tBEST VAL EPOCH: 39\n",
            "EPOCH 40 \tCURRENT VAL LOSS: 58346.30097198486 \tBEST VAL EPOCH: 40\n",
            "EPOCH 41 \tCURRENT VAL LOSS: 58178.81407928467 \tBEST VAL EPOCH: 41\n",
            "EPOCH 42 \tCURRENT VAL LOSS: 57563.01705169678 \tBEST VAL EPOCH: 42\n",
            "EPOCH 43 \tCURRENT VAL LOSS: 57024.42771148682 \tBEST VAL EPOCH: 43\n",
            "EPOCH 44 \tCURRENT VAL LOSS: 56940.028244018555 \tBEST VAL EPOCH: 44\n",
            "EPOCH 45 \tCURRENT VAL LOSS: 56646.471366882324 \tBEST VAL EPOCH: 45\n",
            "EPOCH 46 \tCURRENT VAL LOSS: 56596.81984710693 \tBEST VAL EPOCH: 46\n",
            "EPOCH 47 \tCURRENT VAL LOSS: 56472.885093688965 \tBEST VAL EPOCH: 47\n",
            "EPOCH 48 \tCURRENT VAL LOSS: 56242.02714538574 \tBEST VAL EPOCH: 48\n",
            "EPOCH 49 \tCURRENT VAL LOSS: 56141.5876121521 \tBEST VAL EPOCH: 49\n",
            "EPOCH 50 \tCURRENT VAL LOSS: 55978.30460739136 \tBEST VAL EPOCH: 50\n",
            "Using learned recurrent interaction net decoder.\n",
            "Using MLP encoder.\n",
            "USING UNIFORM PRIOR\n",
            "################################ BaseNRI ################################################\n",
            "EPOCH 1 \tCURRENT VAL LOSS: 12521491.984375 \tBEST VAL EPOCH: -1\n",
            "EPOCH 2 \tCURRENT VAL LOSS: 537921.2734375 \tBEST VAL EPOCH: 2\n",
            "EPOCH 3 \tCURRENT VAL LOSS: 9738047.8125 \tBEST VAL EPOCH: 2\n",
            "EPOCH 4 \tCURRENT VAL LOSS: 2720097.4609375 \tBEST VAL EPOCH: 2\n",
            "EPOCH 5 \tCURRENT VAL LOSS: 1221651.646484375 \tBEST VAL EPOCH: 2\n",
            "EPOCH 6 \tCURRENT VAL LOSS: 3240734.4375 \tBEST VAL EPOCH: 2\n",
            "EPOCH 7 \tCURRENT VAL LOSS: 175965.6865234375 \tBEST VAL EPOCH: 7\n",
            "EPOCH 8 \tCURRENT VAL LOSS: 1015502.6953125 \tBEST VAL EPOCH: 7\n",
            "EPOCH 9 \tCURRENT VAL LOSS: 1138719.17578125 \tBEST VAL EPOCH: 7\n",
            "EPOCH 10 \tCURRENT VAL LOSS: 384926.78564453125 \tBEST VAL EPOCH: 7\n",
            "EPOCH 11 \tCURRENT VAL LOSS: 238299.62622070312 \tBEST VAL EPOCH: 7\n",
            "EPOCH 12 \tCURRENT VAL LOSS: 453088.62451171875 \tBEST VAL EPOCH: 7\n",
            "EPOCH 13 \tCURRENT VAL LOSS: 137918.0185546875 \tBEST VAL EPOCH: 13\n",
            "EPOCH 14 \tCURRENT VAL LOSS: 233060.55859375 \tBEST VAL EPOCH: 13\n",
            "EPOCH 15 \tCURRENT VAL LOSS: 403596.74072265625 \tBEST VAL EPOCH: 13\n",
            "EPOCH 16 \tCURRENT VAL LOSS: 216976.38500976562 \tBEST VAL EPOCH: 13\n",
            "EPOCH 17 \tCURRENT VAL LOSS: 101327.33752441406 \tBEST VAL EPOCH: 17\n",
            "EPOCH 18 \tCURRENT VAL LOSS: 170841.1103515625 \tBEST VAL EPOCH: 17\n",
            "EPOCH 19 \tCURRENT VAL LOSS: 121644.1181640625 \tBEST VAL EPOCH: 17\n",
            "EPOCH 20 \tCURRENT VAL LOSS: 89702.9580078125 \tBEST VAL EPOCH: 20\n",
            "EPOCH 21 \tCURRENT VAL LOSS: 135405.02362060547 \tBEST VAL EPOCH: 20\n",
            "EPOCH 22 \tCURRENT VAL LOSS: 97965.76260375977 \tBEST VAL EPOCH: 20\n",
            "EPOCH 23 \tCURRENT VAL LOSS: 91845.63177490234 \tBEST VAL EPOCH: 20\n",
            "EPOCH 24 \tCURRENT VAL LOSS: 72337.43447875977 \tBEST VAL EPOCH: 24\n",
            "EPOCH 25 \tCURRENT VAL LOSS: 91202.52705383301 \tBEST VAL EPOCH: 24\n",
            "EPOCH 26 \tCURRENT VAL LOSS: 84313.83587646484 \tBEST VAL EPOCH: 24\n",
            "EPOCH 27 \tCURRENT VAL LOSS: 68467.57096862793 \tBEST VAL EPOCH: 27\n",
            "EPOCH 28 \tCURRENT VAL LOSS: 72094.84169006348 \tBEST VAL EPOCH: 27\n",
            "EPOCH 29 \tCURRENT VAL LOSS: 67486.3140411377 \tBEST VAL EPOCH: 29\n",
            "EPOCH 30 \tCURRENT VAL LOSS: 74903.58145141602 \tBEST VAL EPOCH: 29\n",
            "EPOCH 31 \tCURRENT VAL LOSS: 67057.36332702637 \tBEST VAL EPOCH: 31\n",
            "EPOCH 32 \tCURRENT VAL LOSS: 66388.01989746094 \tBEST VAL EPOCH: 32\n",
            "EPOCH 33 \tCURRENT VAL LOSS: 63322.11644744873 \tBEST VAL EPOCH: 33\n",
            "EPOCH 34 \tCURRENT VAL LOSS: 63727.680419921875 \tBEST VAL EPOCH: 33\n",
            "EPOCH 35 \tCURRENT VAL LOSS: 64051.81161117554 \tBEST VAL EPOCH: 33\n",
            "EPOCH 36 \tCURRENT VAL LOSS: 63346.98972320557 \tBEST VAL EPOCH: 33\n",
            "EPOCH 37 \tCURRENT VAL LOSS: 64111.24366378784 \tBEST VAL EPOCH: 33\n",
            "EPOCH 38 \tCURRENT VAL LOSS: 62868.93716812134 \tBEST VAL EPOCH: 38\n",
            "EPOCH 39 \tCURRENT VAL LOSS: 62297.9048538208 \tBEST VAL EPOCH: 39\n",
            "EPOCH 40 \tCURRENT VAL LOSS: 61156.43362426758 \tBEST VAL EPOCH: 40\n",
            "EPOCH 41 \tCURRENT VAL LOSS: 61180.268981933594 \tBEST VAL EPOCH: 40\n",
            "EPOCH 42 \tCURRENT VAL LOSS: 60400.50322723389 \tBEST VAL EPOCH: 42\n",
            "EPOCH 43 \tCURRENT VAL LOSS: 59812.18376159668 \tBEST VAL EPOCH: 43\n",
            "EPOCH 44 \tCURRENT VAL LOSS: 59207.52235412598 \tBEST VAL EPOCH: 44\n",
            "EPOCH 45 \tCURRENT VAL LOSS: 58464.37631225586 \tBEST VAL EPOCH: 45\n",
            "EPOCH 46 \tCURRENT VAL LOSS: 58106.68795013428 \tBEST VAL EPOCH: 46\n",
            "EPOCH 47 \tCURRENT VAL LOSS: 57554.16907501221 \tBEST VAL EPOCH: 47\n",
            "EPOCH 48 \tCURRENT VAL LOSS: 57090.70404815674 \tBEST VAL EPOCH: 48\n",
            "EPOCH 49 \tCURRENT VAL LOSS: 56666.445892333984 \tBEST VAL EPOCH: 49\n",
            "EPOCH 50 \tCURRENT VAL LOSS: 56679.069763183594 \tBEST VAL EPOCH: 49\n"
          ]
        }
      ]
    },
    {
      "cell_type": "code",
      "source": [
        "%matplotlib inline\n",
        "for i in range(len(metrics)):\n",
        "  plt.plot(list(metrics.values())[i], label = list(metrics.keys())[i])\n",
        "plt.legend()\n",
        "plt.show()"
      ],
      "metadata": {
        "colab": {
          "base_uri": "https://localhost:8080/",
          "height": 276
        },
        "id": "MEaTSzgFx1rH",
        "outputId": "3fa94cba-ce03-4041-a45d-b5e84ae2653e"
      },
      "execution_count": 34,
      "outputs": [
        {
          "output_type": "display_data",
          "data": {
            "text/plain": [
              "<Figure size 432x288 with 1 Axes>"
            ],
            "image/png": "[encoded data removed]"
          },
          "metadata": {
            "needs_background": "light"
          }
        }
      ]
    },
    {
      "cell_type": "code",
      "source": [
        "%matplotlib inline\n",
        "for i in range(len(metrics)):\n",
        "  plt.plot(list(metrics.values())[i], label = list(metrics.keys())[i])\n",
        "plt.legend()\n",
        "plt.show()"
      ],
      "metadata": {
        "id": "OtYn3gpDWr5N",
        "outputId": "9324344d-4146-4f89-dea2-6444c870471d",
        "colab": {
          "base_uri": "https://localhost:8080/",
          "height": 276
        }
      },
      "execution_count": 28,
      "outputs": [
        {
          "output_type": "display_data",
          "data": {
            "text/plain": [
              "<Figure size 432x288 with 1 Axes>"
            ],
            "image/png": "[encoded data removed]"
          },
          "metadata": {
            "needs_background": "light"
          }
        }
      ]
    },
    {
      "cell_type": "code",
      "source": [
        "dd"
      ],
      "metadata": {
        "id": "58w7mi88D2-_",
        "outputId": "77baeeb8-682f-490f-afd7-350cdd73a9ea",
        "colab": {
          "base_uri": "https://localhost:8080/",
          "height": 165
        }
      },
      "execution_count": 29,
      "outputs": [
        {
          "output_type": "error",
          "ename": "NameError",
          "evalue": "ignored",
          "traceback": [
            "\u001b[0;31m---------------------------------------------------------------------------\u001b[0m",
            "\u001b[0;31mNameError\u001b[0m                                 Traceback (most recent call last)",
            "\u001b[0;32m<ipython-input-29-06f342d4bc0b>\u001b[0m in \u001b[0;36m<module>\u001b[0;34m\u001b[0m\n\u001b[0;32m----> 1\u001b[0;31m \u001b[0mdd\u001b[0m\u001b[0;34m\u001b[0m\u001b[0;34m\u001b[0m\u001b[0m\n\u001b[0m",
            "\u001b[0;31mNameError\u001b[0m: name 'dd' is not defined"
          ]
        }
      ]
    },
    {
      "cell_type": "code",
      "source": [
        "model_inputs = TEST[0]['inputs'][:, :40]\n",
        "model_preds = model.predict_future(model_inputs, 10)\n",
        "agent = 6\n",
        "x = []\n",
        "y = []\n",
        "\n",
        "for i in range(0,10):\n",
        "  x.append(float(model_preds[0][i][agent][0]))\n",
        "  y.append(float(model_preds[0][i][agent][1]))\n",
        "\n",
        "\n",
        "\n",
        "p = []\n",
        "q = []\n",
        "\n",
        "for i in range(0,10):\n",
        "  p.append(float(TEST[0]['inputs'][:,:-10][0][i][agent][0]))\n",
        "  q.append(float(TEST[0]['inputs'][:,:-10][0][i][agent][1]))\n",
        "\n"
      ],
      "metadata": {
        "id": "tNiA7bYdPg8f"
      },
      "execution_count": null,
      "outputs": []
    },
    {
      "cell_type": "code",
      "source": [
        "plt.scatter(p,q)\n",
        "plt.grid()"
      ],
      "metadata": {
        "id": "AcR9i6T3PoZ-"
      },
      "execution_count": null,
      "outputs": []
    },
    {
      "cell_type": "code",
      "source": [
        "plt.scatter(x,y)\n",
        "plt.grid()"
      ],
      "metadata": {
        "id": "bB73KL-Jb8F2"
      },
      "execution_count": null,
      "outputs": []
    },
    {
      "cell_type": "code",
      "source": [
        "plt.plot(x,y)\n",
        "plt.plot(p,q)\n",
        "plt.grid()"
      ],
      "metadata": {
        "id": "-7dILq4yPmbr"
      },
      "execution_count": null,
      "outputs": []
    }
  ]
}