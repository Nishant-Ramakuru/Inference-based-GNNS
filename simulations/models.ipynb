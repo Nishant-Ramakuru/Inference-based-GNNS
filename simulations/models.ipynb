{
  "nbformat": 4,
  "nbformat_minor": 0,
  "metadata": {
    "colab": {
      "name": "Untitled1.ipynb",
      "provenance": [],
      "include_colab_link": true
    },
    "kernelspec": {
      "name": "python3",
      "display_name": "Python 3"
    },
    "language_info": {
      "name": "python"
    },
    "accelerator": "GPU",
    "gpuClass": "standard"
  },
  "cells": [
    {
      "cell_type": "markdown",
      "metadata": {
        "id": "view-in-github",
        "colab_type": "text"
      },
      "source": [
        "<a href=\"https://colab.research.google.com/github/Nishant-Ramakuru/Inference-based-GNNS/blob/main/simulations/models.ipynb\" target=\"_parent\"><img src=\"https://colab.research.google.com/assets/colab-badge.svg\" alt=\"Open In Colab\"/></a>"
      ]
    },
    {
      "cell_type": "code",
      "source": [
        "#Import Functions\n",
        "\n",
        "from torch.utils.tensorboard import SummaryWriter\n",
        "from torch.utils.data import DataLoader\n",
        "import torch\n",
        "import matplotlib\n",
        "matplotlib.use('Agg')\n",
        "import matplotlib.pyplot as plt\n",
        "import matplotlib.animation as animation\n",
        "import matplotlib.colors as mcolors\n",
        "import numpy as np\n",
        "import torch.nn.functional as F\n",
        "import torch.nn as nn\n",
        "import random\n",
        "from torch.utils.data import Dataset\n",
        "import argparse, os, time\n",
        "from torch.nn import init\n",
        "import math\n",
        "import networkx as nx\n",
        "import pandas as pd\n",
        "import os "
      ],
      "metadata": {
        "id": "8Tm6GblxoZWs"
      },
      "execution_count": 1,
      "outputs": []
    },
    {
      "cell_type": "code",
      "source": [
        "from google.colab import drive\n",
        "drive.mount('/content/drive/')"
      ],
      "metadata": {
        "colab": {
          "base_uri": "https://localhost:8080/"
        },
        "id": "uYXmvpJedOnr",
        "outputId": "76d1a53d-53de-4c6d-a9db-831af4f22c86"
      },
      "execution_count": 2,
      "outputs": [
        {
          "output_type": "stream",
          "name": "stdout",
          "text": [
            "Drive already mounted at /content/drive/; to attempt to forcibly remount, call drive.mount(\"/content/drive/\", force_remount=True).\n"
          ]
        }
      ]
    },
    {
      "cell_type": "code",
      "source": [
        "import sys\n",
        "sys.path.append('/content/drive/MyDrive/GNNs')\n",
        "\n",
        "from utils_functions import *\n",
        "from models import RecurrentBaseline, SingleRNNBaseline, JointRNNBaseline, FullyConnectedBaseline, DNRI, RefMLPEncoder, GraphRNNDecoder, RecurrentBaseline_DynamicVars, FullyConnectedBaseline_DynamicVars, BaseNRI,DNRI_DynamicVars"
      ],
      "metadata": {
        "id": "7YSfCkQxQG6E"
      },
      "execution_count": 3,
      "outputs": []
    },
    {
      "cell_type": "markdown",
      "source": [
        "Dataset"
      ],
      "metadata": {
        "id": "kfqJoGAgpd_Y"
      }
    },
    {
      "cell_type": "code",
      "source": [
        "df = pd.read_pickle(\"/content/drive/MyDrive/GNNs/boids_buffer_10_15k.csv\")"
      ],
      "metadata": {
        "id": "XXXXqOdbc1as"
      },
      "execution_count": 4,
      "outputs": []
    },
    {
      "cell_type": "code",
      "source": [
        "df.shape"
      ],
      "metadata": {
        "colab": {
          "base_uri": "https://localhost:8080/"
        },
        "id": "Eo0__BlW4zLO",
        "outputId": "9d4d5913-ceff-49b8-da01-662b7c6c4620"
      },
      "execution_count": 5,
      "outputs": [
        {
          "output_type": "execute_result",
          "data": {
            "text/plain": [
              "(15000, 4)"
            ]
          },
          "metadata": {},
          "execution_count": 5
        }
      ]
    },
    {
      "cell_type": "code",
      "source": [
        "df.head()"
      ],
      "metadata": {
        "colab": {
          "base_uri": "https://localhost:8080/",
          "height": 206
        },
        "id": "Sx9crDBZdld5",
        "outputId": "33b899a1-562b-4910-a860-65211e696618"
      },
      "execution_count": 6,
      "outputs": [
        {
          "output_type": "execute_result",
          "data": {
            "text/plain": [
              "                                                   R  \\\n",
              "0  [[707.02014, 803.3247], [872.8785, 992.9619], ...   \n",
              "1  [[705.57416, 798.53864], [876.0066, 989.0613],...   \n",
              "2  [[704.2475, 793.71796], [879.1347, 985.16064],...   \n",
              "3  [[702.98267, 788.88055], [882.26276, 981.25995...   \n",
              "4  [[701.7574, 784.033], [885.39087, 977.3593], [...   \n",
              "\n",
              "                                               theta  \\\n",
              "0  [4.3974066, 5.3883123, 1.890375, 5.7133555, 3....   \n",
              "1  [4.4348707, 5.3883123, 0.7724528, 5.7133555, 3...   \n",
              "2  [4.4514513, 5.3883123, 0.743052, 5.7133555, 3....   \n",
              "3  [4.461328, 5.3883123, 0.7353079, 5.7133555, 3....   \n",
              "4  [4.468065, 5.3883123, 0.7278318, 5.7133555, 3....   \n",
              "\n",
              "                                            velocity  \\\n",
              "0  [[-2.0450733, -4.497138], [3.1280887, -3.90064...   \n",
              "1  [[-1.446004, -4.786043], [3.1280887, -3.900648...   \n",
              "2  [[-1.3266804, -4.8207207], [3.1280887, -3.9006...   \n",
              "3  [[-1.2648168, -4.8373585], [3.1280887, -3.9006...   \n",
              "4  [[-1.2252507, -4.8475423], [3.1280887, -3.9006...   \n",
              "\n",
              "                                          trajectory  \n",
              "0  [[707.02014, 803.3247, -2.0450733, -4.497138],...  \n",
              "1  [[705.57416, 798.53864, -1.446004, -4.786043],...  \n",
              "2  [[704.2475, 793.71796, -1.3266804, -4.8207207]...  \n",
              "3  [[702.98267, 788.88055, -1.2648168, -4.8373585...  \n",
              "4  [[701.7574, 784.033, -1.2252507, -4.8475423], ...  "
            ],
            "text/html": [
              "\n",
              "  <div id=\"df-6cd0f89f-052b-4525-844c-a3e8cfd72448\">\n",
              "    <div class=\"colab-df-container\">\n",
              "      <div>\n",
              "<style scoped>\n",
              "    .dataframe tbody tr th:only-of-type {\n",
              "        vertical-align: middle;\n",
              "    }\n",
              "\n",
              "    .dataframe tbody tr th {\n",
              "        vertical-align: top;\n",
              "    }\n",
              "\n",
              "    .dataframe thead th {\n",
              "        text-align: right;\n",
              "    }\n",
              "</style>\n",
              "<table border=\"1\" class=\"dataframe\">\n",
              "  <thead>\n",
              "    <tr style=\"text-align: right;\">\n",
              "      <th></th>\n",
              "      <th>R</th>\n",
              "      <th>theta</th>\n",
              "      <th>velocity</th>\n",
              "      <th>trajectory</th>\n",
              "    </tr>\n",
              "  </thead>\n",
              "  <tbody>\n",
              "    <tr>\n",
              "      <th>0</th>\n",
              "      <td>[[707.02014, 803.3247], [872.8785, 992.9619], ...</td>\n",
              "      <td>[4.3974066, 5.3883123, 1.890375, 5.7133555, 3....</td>\n",
              "      <td>[[-2.0450733, -4.497138], [3.1280887, -3.90064...</td>\n",
              "      <td>[[707.02014, 803.3247, -2.0450733, -4.497138],...</td>\n",
              "    </tr>\n",
              "    <tr>\n",
              "      <th>1</th>\n",
              "      <td>[[705.57416, 798.53864], [876.0066, 989.0613],...</td>\n",
              "      <td>[4.4348707, 5.3883123, 0.7724528, 5.7133555, 3...</td>\n",
              "      <td>[[-1.446004, -4.786043], [3.1280887, -3.900648...</td>\n",
              "      <td>[[705.57416, 798.53864, -1.446004, -4.786043],...</td>\n",
              "    </tr>\n",
              "    <tr>\n",
              "      <th>2</th>\n",
              "      <td>[[704.2475, 793.71796], [879.1347, 985.16064],...</td>\n",
              "      <td>[4.4514513, 5.3883123, 0.743052, 5.7133555, 3....</td>\n",
              "      <td>[[-1.3266804, -4.8207207], [3.1280887, -3.9006...</td>\n",
              "      <td>[[704.2475, 793.71796, -1.3266804, -4.8207207]...</td>\n",
              "    </tr>\n",
              "    <tr>\n",
              "      <th>3</th>\n",
              "      <td>[[702.98267, 788.88055], [882.26276, 981.25995...</td>\n",
              "      <td>[4.461328, 5.3883123, 0.7353079, 5.7133555, 3....</td>\n",
              "      <td>[[-1.2648168, -4.8373585], [3.1280887, -3.9006...</td>\n",
              "      <td>[[702.98267, 788.88055, -1.2648168, -4.8373585...</td>\n",
              "    </tr>\n",
              "    <tr>\n",
              "      <th>4</th>\n",
              "      <td>[[701.7574, 784.033], [885.39087, 977.3593], [...</td>\n",
              "      <td>[4.468065, 5.3883123, 0.7278318, 5.7133555, 3....</td>\n",
              "      <td>[[-1.2252507, -4.8475423], [3.1280887, -3.9006...</td>\n",
              "      <td>[[701.7574, 784.033, -1.2252507, -4.8475423], ...</td>\n",
              "    </tr>\n",
              "  </tbody>\n",
              "</table>\n",
              "</div>\n",
              "      <button class=\"colab-df-convert\" onclick=\"convertToInteractive('df-6cd0f89f-052b-4525-844c-a3e8cfd72448')\"\n",
              "              title=\"Convert this dataframe to an interactive table.\"\n",
              "              style=\"display:none;\">\n",
              "        \n",
              "  <svg xmlns=\"http://www.w3.org/2000/svg\" height=\"24px\"viewBox=\"0 0 24 24\"\n",
              "       width=\"24px\">\n",
              "    <path d=\"M0 0h24v24H0V0z\" fill=\"none\"/>\n",
              "    <path d=\"M18.56 5.44l.94 2.06.94-2.06 2.06-.94-2.06-.94-.94-2.06-.94 2.06-2.06.94zm-11 1L8.5 8.5l.94-2.06 2.06-.94-2.06-.94L8.5 2.5l-.94 2.06-2.06.94zm10 10l.94 2.06.94-2.06 2.06-.94-2.06-.94-.94-2.06-.94 2.06-2.06.94z\"/><path d=\"M17.41 7.96l-1.37-1.37c-.4-.4-.92-.59-1.43-.59-.52 0-1.04.2-1.43.59L10.3 9.45l-7.72 7.72c-.78.78-.78 2.05 0 2.83L4 21.41c.39.39.9.59 1.41.59.51 0 1.02-.2 1.41-.59l7.78-7.78 2.81-2.81c.8-.78.8-2.07 0-2.86zM5.41 20L4 18.59l7.72-7.72 1.47 1.35L5.41 20z\"/>\n",
              "  </svg>\n",
              "      </button>\n",
              "      \n",
              "  <style>\n",
              "    .colab-df-container {\n",
              "      display:flex;\n",
              "      flex-wrap:wrap;\n",
              "      gap: 12px;\n",
              "    }\n",
              "\n",
              "    .colab-df-convert {\n",
              "      background-color: #E8F0FE;\n",
              "      border: none;\n",
              "      border-radius: 50%;\n",
              "      cursor: pointer;\n",
              "      display: none;\n",
              "      fill: #1967D2;\n",
              "      height: 32px;\n",
              "      padding: 0 0 0 0;\n",
              "      width: 32px;\n",
              "    }\n",
              "\n",
              "    .colab-df-convert:hover {\n",
              "      background-color: #E2EBFA;\n",
              "      box-shadow: 0px 1px 2px rgba(60, 64, 67, 0.3), 0px 1px 3px 1px rgba(60, 64, 67, 0.15);\n",
              "      fill: #174EA6;\n",
              "    }\n",
              "\n",
              "    [theme=dark] .colab-df-convert {\n",
              "      background-color: #3B4455;\n",
              "      fill: #D2E3FC;\n",
              "    }\n",
              "\n",
              "    [theme=dark] .colab-df-convert:hover {\n",
              "      background-color: #434B5C;\n",
              "      box-shadow: 0px 1px 3px 1px rgba(0, 0, 0, 0.15);\n",
              "      filter: drop-shadow(0px 1px 2px rgba(0, 0, 0, 0.3));\n",
              "      fill: #FFFFFF;\n",
              "    }\n",
              "  </style>\n",
              "\n",
              "      <script>\n",
              "        const buttonEl =\n",
              "          document.querySelector('#df-6cd0f89f-052b-4525-844c-a3e8cfd72448 button.colab-df-convert');\n",
              "        buttonEl.style.display =\n",
              "          google.colab.kernel.accessAllowed ? 'block' : 'none';\n",
              "\n",
              "        async function convertToInteractive(key) {\n",
              "          const element = document.querySelector('#df-6cd0f89f-052b-4525-844c-a3e8cfd72448');\n",
              "          const dataTable =\n",
              "            await google.colab.kernel.invokeFunction('convertToInteractive',\n",
              "                                                     [key], {});\n",
              "          if (!dataTable) return;\n",
              "\n",
              "          const docLinkHtml = 'Like what you see? Visit the ' +\n",
              "            '<a target=\"_blank\" href=https://colab.research.google.com/notebooks/data_table.ipynb>data table notebook</a>'\n",
              "            + ' to learn more about interactive tables.';\n",
              "          element.innerHTML = '';\n",
              "          dataTable['output_type'] = 'display_data';\n",
              "          await google.colab.output.renderOutput(dataTable, element);\n",
              "          const docLink = document.createElement('div');\n",
              "          docLink.innerHTML = docLinkHtml;\n",
              "          element.appendChild(docLink);\n",
              "        }\n",
              "      </script>\n",
              "    </div>\n",
              "  </div>\n",
              "  "
            ]
          },
          "metadata": {},
          "execution_count": 6
        }
      ]
    },
    {
      "cell_type": "markdown",
      "source": [
        "Parameters"
      ],
      "metadata": {
        "id": "1kxH7lSHpbAE"
      }
    },
    {
      "cell_type": "code",
      "source": [
        "params = {}\n",
        "tau = 1\n",
        "params['use_adam'] = True\n",
        "params['test_burn_in_steps'] =10\n",
        "params['num_time_steps'] = 50\n",
        "params['data_path']= '/content/MyDrive/GNNs'\n",
        "params['num_train'] = 5000\n",
        "params['num_val'] = 2500\n",
        "params['num_test']= 2500\n",
        "params['load_model'] = False\n",
        "params['load_best_model'] = False\n",
        "params['model_type'] = 'RNN'\n",
        "#params['graph_type'] = ['static', 'dynamic']\n",
        "params['graph_type'] = 'dynamic'\n",
        "params['encoder_no_factor'] = True\n",
        "params['num_epochs'] = 100\n",
        "params['num_vars'] = params['num_agents'] = 10\n",
        "params['input_noise_type'] = 'none'\n",
        "params['input_size'] = 4\n",
        "params['nll_loss_type'] = 'gaussian'\n",
        "params['prior_variance'] = 5e-5\n",
        "params['batch_size'] = 64\n",
        "params['val_batch_size'] = 64\n",
        "params['accumulate_steps'] = 40\n",
        "params['num_edge_types'] = 1\n",
        "params['encoder_dropout'] = 0.0\n",
        "params['encoder_hidden'] = 256\n",
        "params['encoder_rnn_hidden'] = 64\n",
        "params['encoder_rnn_type'] = 'lstm'\n",
        "params['decoder_rnn_type'] = 'lstm'\n",
        "params['encoder_mlp_num_layers'] = 1\n",
        "params['encoder_mlp_hidden'] = 256\n",
        "params['prior_num_layers'] = 1\n",
        "params['prior_hidden_size'] = 256\n",
        "params['gpu'] = False\n",
        "params['decoder_hidden'] = 256\n",
        "params['skip_first'] = False\n",
        "params['decoder_dropout'] = 0.0\n",
        "params['decoder_type'] = None\n",
        "params['lr'] = 5e-4\n",
        "params['mode'] = \"train\"\n",
        "\n",
        "params['working_dir'] =params['output_dir'] =  ('/content/MyDrive/GNNs')"
      ],
      "metadata": {
        "id": "hu42uHhigCwW"
      },
      "execution_count": 7,
      "outputs": []
    },
    {
      "cell_type": "code",
      "source": [
        "agent = 9"
      ],
      "metadata": {
        "id": "xWvLHO7UQEDF"
      },
      "execution_count": 8,
      "outputs": []
    },
    {
      "cell_type": "code",
      "source": [
        "x = []\n",
        "y = []\n",
        "\n",
        "for i in range(50):\n",
        "  x.append(df.trajectory[5000+i][agent][0])\n",
        "  y.append(df.trajectory[5000+i][agent][1])\n",
        "\n",
        "%matplotlib inline\n",
        "print(len(x))\n",
        "plt.plot(x,y)\n",
        "plt.grid()\n",
        "plt.show()"
      ],
      "metadata": {
        "colab": {
          "base_uri": "https://localhost:8080/",
          "height": 282
        },
        "id": "YkThR2-XPBAN",
        "outputId": "6e05f017-cf79-4d37-a911-d39263308410"
      },
      "execution_count": 9,
      "outputs": [
        {
          "output_type": "stream",
          "name": "stdout",
          "text": [
            "50\n"
          ]
        },
        {
          "output_type": "display_data",
          "data": {
            "text/plain": [
              "<Figure size 432x288 with 1 Axes>"
            ],
            "image/png": "[encoded data removed]"
          },
          "metadata": {
            "needs_background": "light"
          }
        }
      ]
    },
    {
      "cell_type": "code",
      "source": [
        "data = []\n",
        "for w in range(len(df)):\n",
        "  \n",
        "  state = np.array(df.R[w])\n",
        "  D = list()\n",
        "  for a,i in enumerate(state):\n",
        "    d= []\n",
        "    for b,j in enumerate(state):\n",
        "      eDistance = math.hypot(i[0] - j[0], i[1] - j[1])\n",
        "      if a == b:\n",
        "        d.append(0)\n",
        "      elif int(eDistance) <= 45:\n",
        "        d.append(1)\n",
        "      else:\n",
        "        d.append(0)\n",
        "    D.append(d)\n",
        "\n",
        "  data.append(np.array(D))\n",
        "edge_data = np.array(data)\n",
        "#all_data = np.array(list(df.trajectory.transpose()))\n",
        "all_data = df.trajectory.to_numpy()\n",
        "\n",
        "adj_array = []\n",
        "#print(edge_data.shape)\n",
        "for time_step in range(len(edge_data)):\n",
        "  edge = []\n",
        "  for i in range(len(edge_data[0])):\n",
        "    edge = edge + list(list(edge_data[time_step][i][:i])+list(edge_data[time_step][i][i+1:]))\n",
        "    \n",
        "  #print(len(edge[0].shape))\n",
        "  adj_array.append(edge)\n",
        "\n",
        "edge_data = np.array(adj_array)"
      ],
      "metadata": {
        "id": "DvNzNXDsmHrD"
      },
      "execution_count": 10,
      "outputs": []
    },
    {
      "cell_type": "code",
      "source": [
        "x = []\n",
        "y = []\n",
        "for i in range(50):\n",
        "  x.append(all_data[5000+i][agent][0])\n",
        "  y.append(all_data[5000+i][agent][1])\n",
        "\n",
        "%matplotlib inline\n",
        "print(len(x))\n",
        "plt.plot(x,y)\n",
        "plt.grid()\n",
        "plt.show()"
      ],
      "metadata": {
        "colab": {
          "base_uri": "https://localhost:8080/",
          "height": 282
        },
        "id": "ijp9wCSyURHS",
        "outputId": "b3ab692c-e340-44fb-ea7f-58af78f71ac5"
      },
      "execution_count": 11,
      "outputs": [
        {
          "output_type": "stream",
          "name": "stdout",
          "text": [
            "50\n"
          ]
        },
        {
          "output_type": "display_data",
          "data": {
            "text/plain": [
              "<Figure size 432x288 with 1 Axes>"
            ],
            "image/png": "[encoded data removed]"
          },
          "metadata": {
            "needs_background": "light"
          }
        }
      ]
    },
    {
      "cell_type": "code",
      "source": [
        "all_data = np.stack(all_data)\n",
        "train_data = torch.FloatTensor(all_data[:params['num_train']])\n",
        "val_data = torch.FloatTensor(all_data[params['num_train']:params['num_train']+params['num_val']])\n",
        "test_data = torch.FloatTensor(all_data[params['num_train']+params['num_val']:params['num_train']+params['num_val']+params['num_test']])\n",
        "\n",
        "train_edges = torch.FloatTensor(edge_data[:params['num_train']])\n",
        "val_edges = torch.FloatTensor(edge_data[params['num_train']:params['num_train']+params['num_val']])\n",
        "test_edges = torch.FloatTensor(edge_data[params['num_train']+params['num_val']:params['num_train']+params['num_val']+params['num_test']])"
      ],
      "metadata": {
        "id": "sMqcjpLRea24"
      },
      "execution_count": 12,
      "outputs": []
    },
    {
      "cell_type": "code",
      "source": [
        "del all_data, df,edge_data, data"
      ],
      "metadata": {
        "id": "d9nZE2UU9tCL"
      },
      "execution_count": 13,
      "outputs": []
    },
    {
      "cell_type": "code",
      "source": [
        "print(\"Train Shape:\", train_data.shape,\"\\n\", \n",
        "       \"Val Shape:\", val_data.shape,\"\\n\",\n",
        "      \"Test Shape:\", test_data.shape)"
      ],
      "metadata": {
        "colab": {
          "base_uri": "https://localhost:8080/"
        },
        "id": "4UGCd5PmDRff",
        "outputId": "b125fd5e-9243-48c1-b02b-25c0f9f187be"
      },
      "execution_count": 14,
      "outputs": [
        {
          "output_type": "stream",
          "name": "stdout",
          "text": [
            "Train Shape: torch.Size([5000, 10, 4]) \n",
            " Val Shape: torch.Size([2500, 10, 4]) \n",
            " Test Shape: torch.Size([2500, 10, 4])\n"
          ]
        }
      ]
    },
    {
      "cell_type": "code",
      "source": [
        "x = []\n",
        "y = []\n",
        "for time_step in range(50):\n",
        "  x.append(val_data[time_step][agent][0])\n",
        "  y.append(val_data[time_step][agent][1])\n",
        "\n",
        "%matplotlib inline\n",
        "print(len(x))\n",
        "plt.plot(x,y)\n",
        "plt.grid()\n",
        "plt.show()"
      ],
      "metadata": {
        "colab": {
          "base_uri": "https://localhost:8080/",
          "height": 282
        },
        "id": "dv4lGXHKPdSw",
        "outputId": "d8d4c019-c1f1-4a5c-d7e1-200e36fe0951"
      },
      "execution_count": 15,
      "outputs": [
        {
          "output_type": "stream",
          "name": "stdout",
          "text": [
            "50\n"
          ]
        },
        {
          "output_type": "display_data",
          "data": {
            "text/plain": [
              "<Figure size 432x288 with 1 Axes>"
            ],
            "image/png": "[encoded data removed]"
          },
          "metadata": {
            "needs_background": "light"
          }
        }
      ]
    },
    {
      "cell_type": "code",
      "source": [
        "train_data = train_data.reshape([int(params[\"num_train\"]/50),50,10,4])\n",
        "val_data = val_data.reshape([int(params[\"num_val\"]/50),50,10,4])\n",
        "test_data = test_data.reshape([int(params[\"num_test\"]/50),50,10,4])\n",
        "\n",
        "train_edges = train_edges.reshape([int(params['num_train']/50),50,90])\n",
        "val_edges = val_edges.reshape([int(params['num_val']/50),50,90])\n",
        "test_edges = test_edges.reshape([int(params['num_test']/50),50,90])"
      ],
      "metadata": {
        "id": "a5aGYElZbFo_"
      },
      "execution_count": 16,
      "outputs": []
    },
    {
      "cell_type": "code",
      "source": [
        "x = []\n",
        "y = []\n",
        "for time_step in range(50):\n",
        "  x.append(val_data[0][time_step][agent][0])\n",
        "  y.append(val_data[0][time_step][agent][1])\n",
        "\n",
        "%matplotlib inline\n",
        "plt.plot(x,y)\n",
        "plt.grid()\n",
        "plt.show()"
      ],
      "metadata": {
        "colab": {
          "base_uri": "https://localhost:8080/",
          "height": 265
        },
        "id": "N66MaMcFPg6x",
        "outputId": "f1261bef-2914-461f-9597-a914a7530186"
      },
      "execution_count": 17,
      "outputs": [
        {
          "output_type": "display_data",
          "data": {
            "text/plain": [
              "<Figure size 432x288 with 1 Axes>"
            ],
            "image/png": "[encoded data removed]"
          },
          "metadata": {
            "needs_background": "light"
          }
        }
      ]
    },
    {
      "cell_type": "code",
      "source": [
        "train_data = torch.nn.functional.normalize(train_data)\n",
        "val_data = torch.nn.functional.normalize(val_data)\n",
        "test_data = torch.nn.functional.normalize(test_data)"
      ],
      "metadata": {
        "id": "lRvZM3sW8hCa"
      },
      "execution_count": 18,
      "outputs": []
    },
    {
      "cell_type": "code",
      "source": [
        "x = []\n",
        "y = []\n",
        "for time_step in range(50):\n",
        "  x.append(val_data[0][time_step][agent][0])\n",
        "  y.append(val_data[0][time_step][agent][1])\n",
        "%matplotlib inline\n",
        "plt.plot(x,y)\n",
        "plt.grid()\n",
        "plt.show()"
      ],
      "metadata": {
        "colab": {
          "base_uri": "https://localhost:8080/",
          "height": 265
        },
        "id": "gwopC0PTPi_Q",
        "outputId": "7be011c7-6b32-4c0e-ed18-6dc482f4724e"
      },
      "execution_count": 19,
      "outputs": [
        {
          "output_type": "display_data",
          "data": {
            "text/plain": [
              "<Figure size 432x288 with 1 Axes>"
            ],
            "image/png": "[encoded data removed]"
          },
          "metadata": {
            "needs_background": "light"
          }
        }
      ]
    },
    {
      "cell_type": "code",
      "source": [
        "DATA = []\n",
        "\n",
        "for i in range(train_data.shape[0]):\n",
        "  DATA.append({'inputs':train_data[i].reshape([1,50,10,4]),'edges':train_edges[i].reshape([1,50,90])})\n",
        "\n",
        "VAL = []\n",
        "\n",
        "for i in range(val_data.shape[0]):\n",
        "  VAL.append({'inputs':val_data[i].reshape([1,50,10,4]),'edges':val_edges[i].reshape([1,50,90])})\n",
        "\n",
        "TEST = []\n",
        "\n",
        "for i in range(test_data.shape[0]):\n",
        "  TEST.append({'inputs':test_data[i].reshape([1,50,10,4]),'edges':test_edges[i].reshape([1,50,90])})"
      ],
      "metadata": {
        "id": "rw95XbyRx3XM"
      },
      "execution_count": 20,
      "outputs": []
    },
    {
      "cell_type": "code",
      "source": [
        "x = []\n",
        "y = []\n",
        "for time_step in range(50):\n",
        "  x.append(VAL[0]['inputs'][0][time_step][a][0])\n",
        "  y.append(VAL[0]['inputs'][0][time_step][a][1])\n",
        "%matplotlib inline\n",
        "plt.plot(x,y)\n",
        "plt.grid()\n",
        "plt.show()"
      ],
      "metadata": {
        "colab": {
          "base_uri": "https://localhost:8080/",
          "height": 265
        },
        "id": "j56FIhjsPl49",
        "outputId": "a5e0a36e-d1d8-4984-cbeb-df1246e7854b"
      },
      "execution_count": 21,
      "outputs": [
        {
          "output_type": "display_data",
          "data": {
            "text/plain": [
              "<Figure size 432x288 with 1 Axes>"
            ],
            "image/png": "[encoded data removed]"
          },
          "metadata": {
            "needs_background": "light"
          }
        }
      ]
    },
    {
      "cell_type": "code",
      "source": [
        "model_types = [#SingleRNNBaseline,\n",
        "               #JointRNNBaseline,\n",
        "               #FullyConnectedBaseline,\n",
        "               DNRI,\n",
        "               #BaseNRI \n",
        "               ]"
      ],
      "metadata": {
        "id": "Ms-NFC5so5Vp"
      },
      "execution_count": 37,
      "outputs": []
    },
    {
      "cell_type": "markdown",
      "source": [
        "Build Model"
      ],
      "metadata": {
        "id": "ShgCZ5FdsCDG"
      }
    },
    {
      "cell_type": "code",
      "source": [
        "def build_model(params,model_type):\n",
        "  model = model_type(params)\n",
        "  print(\"################################\", type(model).__name__, \"################################################\")\n",
        "  #print(\"################################################################################\")\n",
        "  #print(params['model_type'])\n",
        "  if params['load_best_model']:\n",
        "      print(\"LOADING BEST MODEL\")\n",
        "      path = os.path.join(params['working_dir'], 'best_model')\n",
        "      model.load(path)\n",
        "  elif params['load_model']:\n",
        "      print(\"LOADING MODEL FROM SPECIFIED PATH\")\n",
        "      model.load(params['load_model'])\n",
        "  if params['gpu']:\n",
        "      model.cuda()\n",
        "  return model"
      ],
      "metadata": {
        "id": "rzUdzq4oWlju"
      },
      "execution_count": 33,
      "outputs": []
    },
    {
      "cell_type": "code",
      "source": [
        "params['mode'] = 'train'\n",
        "params['num_epochs'] = 100\n",
        "params['test_burn_in_steps'] =40\n",
        "params['input_time_steps'] = 50"
      ],
      "metadata": {
        "id": "-E3E-OTMJNJs"
      },
      "execution_count": 38,
      "outputs": []
    },
    {
      "cell_type": "code",
      "source": [
        "#params['model_type'] = model_name\n",
        "metrics = {}\n",
        "for model_type in model_types:\n",
        "  model = build_model(params,model_type)\n",
        "  if params['mode'] == 'train':\n",
        "      with build_writers(params['working_dir']) as (train_writer, val_writer):\n",
        "          result = train(model, DATA, VAL, params, train_writer, val_writer)\n",
        "                                                                   \n",
        "  metrics[str(type(model).__name__)] = result\n",
        "  "
      ],
      "metadata": {
        "colab": {
          "base_uri": "https://localhost:8080/"
        },
        "id": "tvqz0fqwYhEp",
        "outputId": "e8f64dfd-d065-4db2-eabc-c5cae5ddbb2a"
      },
      "execution_count": null,
      "outputs": [
        {
          "output_type": "stream",
          "name": "stdout",
          "text": [
            "Using learned recurrent interaction net decoder.\n",
            "################################ DNRI ################################################\n",
            "EPOCH 1 \tCURRENT VAL LOSS: 2499567.73046875 \tBEST VAL EPOCH: 1\n",
            "EPOCH 2 \tCURRENT VAL LOSS: 7476037.5859375 \tBEST VAL EPOCH: 1\n",
            "EPOCH 3 \tCURRENT VAL LOSS: 1583710.775390625 \tBEST VAL EPOCH: 3\n",
            "EPOCH 4 \tCURRENT VAL LOSS: 1043360.7724609375 \tBEST VAL EPOCH: 4\n",
            "EPOCH 5 \tCURRENT VAL LOSS: 1768561.853515625 \tBEST VAL EPOCH: 4\n",
            "EPOCH 6 \tCURRENT VAL LOSS: 732244.2822265625 \tBEST VAL EPOCH: 6\n",
            "EPOCH 7 \tCURRENT VAL LOSS: 181290.9482421875 \tBEST VAL EPOCH: 7\n",
            "EPOCH 8 \tCURRENT VAL LOSS: 591378.4868164062 \tBEST VAL EPOCH: 7\n",
            "EPOCH 9 \tCURRENT VAL LOSS: 273325.3537597656 \tBEST VAL EPOCH: 7\n",
            "EPOCH 10 \tCURRENT VAL LOSS: 102386.80960083008 \tBEST VAL EPOCH: 10\n",
            "EPOCH 11 \tCURRENT VAL LOSS: 247422.11279296875 \tBEST VAL EPOCH: 10\n",
            "EPOCH 12 \tCURRENT VAL LOSS: 232901.33276367188 \tBEST VAL EPOCH: 10\n",
            "EPOCH 13 \tCURRENT VAL LOSS: 106102.28015136719 \tBEST VAL EPOCH: 10\n",
            "EPOCH 14 \tCURRENT VAL LOSS: 136556.57556152344 \tBEST VAL EPOCH: 10\n",
            "EPOCH 15 \tCURRENT VAL LOSS: 157966.4506225586 \tBEST VAL EPOCH: 10\n",
            "EPOCH 16 \tCURRENT VAL LOSS: 99120.44125366211 \tBEST VAL EPOCH: 16\n",
            "EPOCH 17 \tCURRENT VAL LOSS: 99470.89476013184 \tBEST VAL EPOCH: 16\n",
            "EPOCH 18 \tCURRENT VAL LOSS: 118383.10125732422 \tBEST VAL EPOCH: 16\n"
          ]
        }
      ]
    },
    {
      "cell_type": "code",
      "source": [
        "%matplotlib inline\n",
        "for i in range(len(metrics)):\n",
        "  plt.plot(list(metrics.values())[i], label = list(metrics.keys())[i])\n",
        "plt.legend()\n",
        "plt.show()"
      ],
      "metadata": {
        "colab": {
          "base_uri": "https://localhost:8080/",
          "height": 276
        },
        "id": "MEaTSzgFx1rH",
        "outputId": "6b644610-ed7d-453e-c347-f7d5f3e5e1f8"
      },
      "execution_count": 36,
      "outputs": [
        {
          "output_type": "display_data",
          "data": {
            "text/plain": [
              "<Figure size 432x288 with 1 Axes>"
            ],
            "image/png": "[encoded data removed]"
          },
          "metadata": {
            "needs_background": "light"
          }
        }
      ]
    },
    {
      "cell_type": "code",
      "source": [
        "%matplotlib inline\n",
        "for i in range(len(metrics)):\n",
        "  plt.plot(list(metrics.values())[i], label = list(metrics.keys())[i])\n",
        "plt.legend()\n",
        "plt.show()"
      ],
      "metadata": {
        "id": "OtYn3gpDWr5N",
        "outputId": "29ba9244-229e-4424-9de6-63d84a1a2fb9",
        "colab": {
          "base_uri": "https://localhost:8080/",
          "height": 276
        }
      },
      "execution_count": 28,
      "outputs": [
        {
          "output_type": "display_data",
          "data": {
            "text/plain": [
              "<Figure size 432x288 with 1 Axes>"
            ],
            "image/png": "[encoded data removed]"
          },
          "metadata": {
            "needs_background": "light"
          }
        }
      ]
    },
    {
      "cell_type": "code",
      "source": [
        "dd"
      ],
      "metadata": {
        "id": "58w7mi88D2-_",
        "outputId": "3a359807-faf7-4a4c-8704-cafca3ab2d6c",
        "colab": {
          "base_uri": "https://localhost:8080/",
          "height": 165
        }
      },
      "execution_count": 29,
      "outputs": [
        {
          "output_type": "error",
          "ename": "NameError",
          "evalue": "ignored",
          "traceback": [
            "\u001b[0;31m---------------------------------------------------------------------------\u001b[0m",
            "\u001b[0;31mNameError\u001b[0m                                 Traceback (most recent call last)",
            "\u001b[0;32m<ipython-input-29-06f342d4bc0b>\u001b[0m in \u001b[0;36m<module>\u001b[0;34m\u001b[0m\n\u001b[0;32m----> 1\u001b[0;31m \u001b[0mdd\u001b[0m\u001b[0;34m\u001b[0m\u001b[0;34m\u001b[0m\u001b[0m\n\u001b[0m",
            "\u001b[0;31mNameError\u001b[0m: name 'dd' is not defined"
          ]
        }
      ]
    },
    {
      "cell_type": "code",
      "source": [
        "model_inputs = TEST[0]['inputs'][:, :40]\n",
        "model_preds = model.predict_future(model_inputs, 10)\n",
        "agent = 6\n",
        "x = []\n",
        "y = []\n",
        "\n",
        "for i in range(0,10):\n",
        "  x.append(float(model_preds[0][i][agent][0]))\n",
        "  y.append(float(model_preds[0][i][agent][1]))\n",
        "\n",
        "\n",
        "\n",
        "p = []\n",
        "q = []\n",
        "\n",
        "for i in range(0,10):\n",
        "  p.append(float(TEST[0]['inputs'][:,:-10][0][i][agent][0]))\n",
        "  q.append(float(TEST[0]['inputs'][:,:-10][0][i][agent][1]))\n",
        "\n"
      ],
      "metadata": {
        "id": "tNiA7bYdPg8f"
      },
      "execution_count": null,
      "outputs": []
    },
    {
      "cell_type": "code",
      "source": [
        "plt.scatter(p,q)\n",
        "plt.grid()"
      ],
      "metadata": {
        "id": "AcR9i6T3PoZ-"
      },
      "execution_count": null,
      "outputs": []
    },
    {
      "cell_type": "code",
      "source": [
        "plt.scatter(x,y)\n",
        "plt.grid()"
      ],
      "metadata": {
        "id": "bB73KL-Jb8F2"
      },
      "execution_count": null,
      "outputs": []
    },
    {
      "cell_type": "code",
      "source": [
        "plt.plot(x,y)\n",
        "plt.plot(p,q)\n",
        "plt.grid()"
      ],
      "metadata": {
        "id": "-7dILq4yPmbr"
      },
      "execution_count": null,
      "outputs": []
    }
  ]
}