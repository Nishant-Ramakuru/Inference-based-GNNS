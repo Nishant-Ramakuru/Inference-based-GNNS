{
  "nbformat": 4,
  "nbformat_minor": 0,
  "metadata": {
    "colab": {
      "name": "Untitled1.ipynb",
      "provenance": [],
      "include_colab_link": true
    },
    "kernelspec": {
      "name": "python3",
      "display_name": "Python 3"
    },
    "language_info": {
      "name": "python"
    },
    "accelerator": "GPU",
    "gpuClass": "standard"
  },
  "cells": [
    {
      "cell_type": "markdown",
      "metadata": {
        "id": "view-in-github",
        "colab_type": "text"
      },
      "source": [
        "<a href=\"https://colab.research.google.com/github/Nishant-Ramakuru/Inference-based-GNNS/blob/main/simulations/models.ipynb\" target=\"_parent\"><img src=\"https://colab.research.google.com/assets/colab-badge.svg\" alt=\"Open In Colab\"/></a>"
      ]
    },
    {
      "cell_type": "code",
      "source": [
        "#Import Functions\n",
        "\n",
        "from torch.utils.tensorboard import SummaryWriter\n",
        "from torch.utils.data import DataLoader\n",
        "import torch\n",
        "import matplotlib\n",
        "matplotlib.use('Agg')\n",
        "import matplotlib.pyplot as plt\n",
        "import matplotlib.animation as animation\n",
        "import matplotlib.colors as mcolors\n",
        "import numpy as np\n",
        "import torch.nn.functional as F\n",
        "import torch.nn as nn\n",
        "import random\n",
        "from torch.utils.data import Dataset\n",
        "import argparse, os, time\n",
        "from torch.nn import init\n",
        "import math\n",
        "import networkx as nx\n",
        "import pandas as pd\n",
        "import os "
      ],
      "metadata": {
        "id": "8Tm6GblxoZWs"
      },
      "execution_count": 1,
      "outputs": []
    },
    {
      "cell_type": "code",
      "source": [
        "from google.colab import drive\n",
        "drive.mount('/content/drive/')"
      ],
      "metadata": {
        "colab": {
          "base_uri": "https://localhost:8080/"
        },
        "id": "uYXmvpJedOnr",
        "outputId": "5834e0f0-6014-4398-d689-df3330695ed7"
      },
      "execution_count": 2,
      "outputs": [
        {
          "output_type": "stream",
          "name": "stdout",
          "text": [
            "Mounted at /content/drive/\n"
          ]
        }
      ]
    },
    {
      "cell_type": "code",
      "source": [
        "import sys\n",
        "sys.path.append('/content/drive/MyDrive/GNNs')\n",
        "from utils_functions import *\n",
        "from models import RecurrentBaseline, SingleRNNBaseline, JointRNNBaseline, FullyConnectedBaseline, DNRI, RefMLPEncoder, GraphRNNDecoder, RecurrentBaseline_DynamicVars, FullyConnectedBaseline_DynamicVars, BaseNRI,DNRI_DynamicVars"
      ],
      "metadata": {
        "id": "7YSfCkQxQG6E"
      },
      "execution_count": 3,
      "outputs": []
    },
    {
      "cell_type": "markdown",
      "source": [
        "Dataset"
      ],
      "metadata": {
        "id": "kfqJoGAgpd_Y"
      }
    },
    {
      "cell_type": "code",
      "source": [
        "df = pd.read_pickle(\"/content/drive/MyDrive/GNNs/boids_buffer_10_15k.csv\")"
      ],
      "metadata": {
        "id": "XXXXqOdbc1as",
        "colab": {
          "base_uri": "https://localhost:8080/"
        },
        "outputId": "67b1f1da-3858-408d-a38f-915b73057b32"
      },
      "execution_count": 4,
      "outputs": [
        {
          "output_type": "stream",
          "name": "stderr",
          "text": [
            "WARNING:absl:No GPU/TPU found, falling back to CPU. (Set TF_CPP_MIN_LOG_LEVEL=0 and rerun for more info.)\n"
          ]
        }
      ]
    },
    {
      "cell_type": "code",
      "source": [
        "df.shape"
      ],
      "metadata": {
        "colab": {
          "base_uri": "https://localhost:8080/"
        },
        "id": "Eo0__BlW4zLO",
        "outputId": "d7718103-3edf-45f2-b977-f42227681d9e"
      },
      "execution_count": 5,
      "outputs": [
        {
          "output_type": "execute_result",
          "data": {
            "text/plain": [
              "(15000, 4)"
            ]
          },
          "metadata": {},
          "execution_count": 5
        }
      ]
    },
    {
      "cell_type": "code",
      "source": [
        "df.head()"
      ],
      "metadata": {
        "colab": {
          "base_uri": "https://localhost:8080/",
          "height": 206
        },
        "id": "Sx9crDBZdld5",
        "outputId": "88587fa7-b626-4797-9a5a-2525c4dbb0e8"
      },
      "execution_count": 6,
      "outputs": [
        {
          "output_type": "execute_result",
          "data": {
            "text/plain": [
              "                                                   R  \\\n",
              "0  [[707.02014, 803.3247], [872.8785, 992.9619], ...   \n",
              "1  [[705.57416, 798.53864], [876.0066, 989.0613],...   \n",
              "2  [[704.2475, 793.71796], [879.1347, 985.16064],...   \n",
              "3  [[702.98267, 788.88055], [882.26276, 981.25995...   \n",
              "4  [[701.7574, 784.033], [885.39087, 977.3593], [...   \n",
              "\n",
              "                                               theta  \\\n",
              "0  [4.3974066, 5.3883123, 1.890375, 5.7133555, 3....   \n",
              "1  [4.4348707, 5.3883123, 0.7724528, 5.7133555, 3...   \n",
              "2  [4.4514513, 5.3883123, 0.743052, 5.7133555, 3....   \n",
              "3  [4.461328, 5.3883123, 0.7353079, 5.7133555, 3....   \n",
              "4  [4.468065, 5.3883123, 0.7278318, 5.7133555, 3....   \n",
              "\n",
              "                                            velocity  \\\n",
              "0  [[-2.0450733, -4.497138], [3.1280887, -3.90064...   \n",
              "1  [[-1.446004, -4.786043], [3.1280887, -3.900648...   \n",
              "2  [[-1.3266804, -4.8207207], [3.1280887, -3.9006...   \n",
              "3  [[-1.2648168, -4.8373585], [3.1280887, -3.9006...   \n",
              "4  [[-1.2252507, -4.8475423], [3.1280887, -3.9006...   \n",
              "\n",
              "                                          trajectory  \n",
              "0  [[707.02014, 803.3247, -2.0450733, -4.497138],...  \n",
              "1  [[705.57416, 798.53864, -1.446004, -4.786043],...  \n",
              "2  [[704.2475, 793.71796, -1.3266804, -4.8207207]...  \n",
              "3  [[702.98267, 788.88055, -1.2648168, -4.8373585...  \n",
              "4  [[701.7574, 784.033, -1.2252507, -4.8475423], ...  "
            ],
            "text/html": [
              "\n",
              "  <div id=\"df-52ffa8f4-e84d-4c06-9739-90513ee74c6b\">\n",
              "    <div class=\"colab-df-container\">\n",
              "      <div>\n",
              "<style scoped>\n",
              "    .dataframe tbody tr th:only-of-type {\n",
              "        vertical-align: middle;\n",
              "    }\n",
              "\n",
              "    .dataframe tbody tr th {\n",
              "        vertical-align: top;\n",
              "    }\n",
              "\n",
              "    .dataframe thead th {\n",
              "        text-align: right;\n",
              "    }\n",
              "</style>\n",
              "<table border=\"1\" class=\"dataframe\">\n",
              "  <thead>\n",
              "    <tr style=\"text-align: right;\">\n",
              "      <th></th>\n",
              "      <th>R</th>\n",
              "      <th>theta</th>\n",
              "      <th>velocity</th>\n",
              "      <th>trajectory</th>\n",
              "    </tr>\n",
              "  </thead>\n",
              "  <tbody>\n",
              "    <tr>\n",
              "      <th>0</th>\n",
              "      <td>[[707.02014, 803.3247], [872.8785, 992.9619], ...</td>\n",
              "      <td>[4.3974066, 5.3883123, 1.890375, 5.7133555, 3....</td>\n",
              "      <td>[[-2.0450733, -4.497138], [3.1280887, -3.90064...</td>\n",
              "      <td>[[707.02014, 803.3247, -2.0450733, -4.497138],...</td>\n",
              "    </tr>\n",
              "    <tr>\n",
              "      <th>1</th>\n",
              "      <td>[[705.57416, 798.53864], [876.0066, 989.0613],...</td>\n",
              "      <td>[4.4348707, 5.3883123, 0.7724528, 5.7133555, 3...</td>\n",
              "      <td>[[-1.446004, -4.786043], [3.1280887, -3.900648...</td>\n",
              "      <td>[[705.57416, 798.53864, -1.446004, -4.786043],...</td>\n",
              "    </tr>\n",
              "    <tr>\n",
              "      <th>2</th>\n",
              "      <td>[[704.2475, 793.71796], [879.1347, 985.16064],...</td>\n",
              "      <td>[4.4514513, 5.3883123, 0.743052, 5.7133555, 3....</td>\n",
              "      <td>[[-1.3266804, -4.8207207], [3.1280887, -3.9006...</td>\n",
              "      <td>[[704.2475, 793.71796, -1.3266804, -4.8207207]...</td>\n",
              "    </tr>\n",
              "    <tr>\n",
              "      <th>3</th>\n",
              "      <td>[[702.98267, 788.88055], [882.26276, 981.25995...</td>\n",
              "      <td>[4.461328, 5.3883123, 0.7353079, 5.7133555, 3....</td>\n",
              "      <td>[[-1.2648168, -4.8373585], [3.1280887, -3.9006...</td>\n",
              "      <td>[[702.98267, 788.88055, -1.2648168, -4.8373585...</td>\n",
              "    </tr>\n",
              "    <tr>\n",
              "      <th>4</th>\n",
              "      <td>[[701.7574, 784.033], [885.39087, 977.3593], [...</td>\n",
              "      <td>[4.468065, 5.3883123, 0.7278318, 5.7133555, 3....</td>\n",
              "      <td>[[-1.2252507, -4.8475423], [3.1280887, -3.9006...</td>\n",
              "      <td>[[701.7574, 784.033, -1.2252507, -4.8475423], ...</td>\n",
              "    </tr>\n",
              "  </tbody>\n",
              "</table>\n",
              "</div>\n",
              "      <button class=\"colab-df-convert\" onclick=\"convertToInteractive('df-52ffa8f4-e84d-4c06-9739-90513ee74c6b')\"\n",
              "              title=\"Convert this dataframe to an interactive table.\"\n",
              "              style=\"display:none;\">\n",
              "        \n",
              "  <svg xmlns=\"http://www.w3.org/2000/svg\" height=\"24px\"viewBox=\"0 0 24 24\"\n",
              "       width=\"24px\">\n",
              "    <path d=\"M0 0h24v24H0V0z\" fill=\"none\"/>\n",
              "    <path d=\"M18.56 5.44l.94 2.06.94-2.06 2.06-.94-2.06-.94-.94-2.06-.94 2.06-2.06.94zm-11 1L8.5 8.5l.94-2.06 2.06-.94-2.06-.94L8.5 2.5l-.94 2.06-2.06.94zm10 10l.94 2.06.94-2.06 2.06-.94-2.06-.94-.94-2.06-.94 2.06-2.06.94z\"/><path d=\"M17.41 7.96l-1.37-1.37c-.4-.4-.92-.59-1.43-.59-.52 0-1.04.2-1.43.59L10.3 9.45l-7.72 7.72c-.78.78-.78 2.05 0 2.83L4 21.41c.39.39.9.59 1.41.59.51 0 1.02-.2 1.41-.59l7.78-7.78 2.81-2.81c.8-.78.8-2.07 0-2.86zM5.41 20L4 18.59l7.72-7.72 1.47 1.35L5.41 20z\"/>\n",
              "  </svg>\n",
              "      </button>\n",
              "      \n",
              "  <style>\n",
              "    .colab-df-container {\n",
              "      display:flex;\n",
              "      flex-wrap:wrap;\n",
              "      gap: 12px;\n",
              "    }\n",
              "\n",
              "    .colab-df-convert {\n",
              "      background-color: #E8F0FE;\n",
              "      border: none;\n",
              "      border-radius: 50%;\n",
              "      cursor: pointer;\n",
              "      display: none;\n",
              "      fill: #1967D2;\n",
              "      height: 32px;\n",
              "      padding: 0 0 0 0;\n",
              "      width: 32px;\n",
              "    }\n",
              "\n",
              "    .colab-df-convert:hover {\n",
              "      background-color: #E2EBFA;\n",
              "      box-shadow: 0px 1px 2px rgba(60, 64, 67, 0.3), 0px 1px 3px 1px rgba(60, 64, 67, 0.15);\n",
              "      fill: #174EA6;\n",
              "    }\n",
              "\n",
              "    [theme=dark] .colab-df-convert {\n",
              "      background-color: #3B4455;\n",
              "      fill: #D2E3FC;\n",
              "    }\n",
              "\n",
              "    [theme=dark] .colab-df-convert:hover {\n",
              "      background-color: #434B5C;\n",
              "      box-shadow: 0px 1px 3px 1px rgba(0, 0, 0, 0.15);\n",
              "      filter: drop-shadow(0px 1px 2px rgba(0, 0, 0, 0.3));\n",
              "      fill: #FFFFFF;\n",
              "    }\n",
              "  </style>\n",
              "\n",
              "      <script>\n",
              "        const buttonEl =\n",
              "          document.querySelector('#df-52ffa8f4-e84d-4c06-9739-90513ee74c6b button.colab-df-convert');\n",
              "        buttonEl.style.display =\n",
              "          google.colab.kernel.accessAllowed ? 'block' : 'none';\n",
              "\n",
              "        async function convertToInteractive(key) {\n",
              "          const element = document.querySelector('#df-52ffa8f4-e84d-4c06-9739-90513ee74c6b');\n",
              "          const dataTable =\n",
              "            await google.colab.kernel.invokeFunction('convertToInteractive',\n",
              "                                                     [key], {});\n",
              "          if (!dataTable) return;\n",
              "\n",
              "          const docLinkHtml = 'Like what you see? Visit the ' +\n",
              "            '<a target=\"_blank\" href=https://colab.research.google.com/notebooks/data_table.ipynb>data table notebook</a>'\n",
              "            + ' to learn more about interactive tables.';\n",
              "          element.innerHTML = '';\n",
              "          dataTable['output_type'] = 'display_data';\n",
              "          await google.colab.output.renderOutput(dataTable, element);\n",
              "          const docLink = document.createElement('div');\n",
              "          docLink.innerHTML = docLinkHtml;\n",
              "          element.appendChild(docLink);\n",
              "        }\n",
              "      </script>\n",
              "    </div>\n",
              "  </div>\n",
              "  "
            ]
          },
          "metadata": {},
          "execution_count": 6
        }
      ]
    },
    {
      "cell_type": "markdown",
      "source": [
        "Parameters"
      ],
      "metadata": {
        "id": "1kxH7lSHpbAE"
      }
    },
    {
      "cell_type": "code",
      "source": [
        "params = {}\n",
        "tau = 1\n",
        "params['use_adam'] = True\n",
        "params['test_burn_in_steps'] =40\n",
        "params['num_time_steps'] = 50\n",
        "params['data_path']= '/content/MyDrive/GNNs'\n",
        "params['num_train'] = 5000\n",
        "params['num_val'] = 2500\n",
        "params['num_test']= 2500\n",
        "params['load_model'] = False\n",
        "params['load_best_model'] = False\n",
        "params['model_type'] = 'RNN'\n",
        "#params['graph_type'] = ['static', 'dynamic']\n",
        "params['graph_type'] = 'dynamic'\n",
        "params['encoder_no_factor'] = True\n",
        "params['num_epochs'] = 100\n",
        "params['num_vars'] = params['num_agents'] = 10\n",
        "params['input_noise_type'] = 'none'\n",
        "params['input_size'] = 4\n",
        "params['nll_loss_type'] = 'gaussian'\n",
        "params['prior_variance'] = 5e-5\n",
        "params['batch_size'] = 64\n",
        "params['val_batch_size'] = 64\n",
        "params['accumulate_steps'] = 40\n",
        "params['num_edge_types'] = 1\n",
        "params['encoder_dropout'] = 0.0\n",
        "params['encoder_hidden'] = 256\n",
        "params['encoder_rnn_hidden'] = 64\n",
        "params['encoder_rnn_type'] = 'lstm'\n",
        "params['decoder_rnn_type'] = 'lstm'\n",
        "params['encoder_mlp_num_layers'] = 1\n",
        "params['encoder_mlp_hidden'] = 256\n",
        "params['prior_num_layers'] = 1\n",
        "params['prior_hidden_size'] = 256\n",
        "params['gpu'] = False\n",
        "params['decoder_hidden'] = 256\n",
        "params['skip_first'] = False\n",
        "params['decoder_dropout'] = 0.0\n",
        "params['decoder_type'] = None\n",
        "params['lr'] = 5e-4\n",
        "params['mode'] = \"train\"\n",
        "\n",
        "params['working_dir'] =params['output_dir'] =  ('/content/MyDrive/GNNs')"
      ],
      "metadata": {
        "id": "hu42uHhigCwW"
      },
      "execution_count": 7,
      "outputs": []
    },
    {
      "cell_type": "code",
      "source": [
        "agent = 9"
      ],
      "metadata": {
        "id": "xWvLHO7UQEDF"
      },
      "execution_count": 8,
      "outputs": []
    },
    {
      "cell_type": "code",
      "source": [
        "x = []\n",
        "y = []\n",
        "\n",
        "for i in range(50):\n",
        "  x.append(df.trajectory[5000+i][agent][0])\n",
        "  y.append(df.trajectory[5000+i][agent][1])\n",
        "\n",
        "%matplotlib inline\n",
        "print(len(x))\n",
        "plt.plot(x,y)\n",
        "plt.grid()\n",
        "plt.show()"
      ],
      "metadata": {
        "colab": {
          "base_uri": "https://localhost:8080/",
          "height": 282
        },
        "id": "YkThR2-XPBAN",
        "outputId": "6868169d-7e21-4741-a857-3da36dfdf3b2"
      },
      "execution_count": 11,
      "outputs": [
        {
          "output_type": "stream",
          "name": "stdout",
          "text": [
            "50\n"
          ]
        },
        {
          "output_type": "display_data",
          "data": {
            "text/plain": [
              "<Figure size 432x288 with 1 Axes>"
            ],
            "image/png": "[encoded data removed]"
          },
          "metadata": {
            "needs_background": "light"
          }
        }
      ]
    },
    {
      "cell_type": "code",
      "source": [
        "data = []\n",
        "for w in range(len(df)):\n",
        "  \n",
        "  state = np.array(df.R[w])\n",
        "  D = list()\n",
        "  for a,i in enumerate(state):\n",
        "    d= []\n",
        "    for b,j in enumerate(state):\n",
        "      eDistance = math.hypot(i[0] - j[0], i[1] - j[1])\n",
        "      if a == b:\n",
        "        d.append(0)\n",
        "      elif int(eDistance) <= 45:\n",
        "        d.append(1)\n",
        "      else:\n",
        "        d.append(0)\n",
        "    D.append(d)\n",
        "\n",
        "  data.append(np.array(D))\n",
        "edge_data = np.array(data)\n",
        "#all_data = np.array(list(df.trajectory.transpose()))\n",
        "all_data = df.trajectory.to_numpy()\n",
        "\n",
        "adj_array = []\n",
        "#print(edge_data.shape)\n",
        "for time_step in range(len(edge_data)):\n",
        "  edge = []\n",
        "  for i in range(len(edge_data[0])):\n",
        "    edge = edge + list(list(edge_data[time_step][i][:i])+list(edge_data[time_step][i][i+1:]))\n",
        "    \n",
        "  #print(len(edge[0].shape))\n",
        "  adj_array.append(edge)\n",
        "\n",
        "edge_data = np.array(adj_array)"
      ],
      "metadata": {
        "id": "DvNzNXDsmHrD"
      },
      "execution_count": 27,
      "outputs": []
    },
    {
      "cell_type": "code",
      "source": [
        "x = []\n",
        "y = []\n",
        "for i in range(50):\n",
        "  x.append(all_data[5000+i][agent][0])\n",
        "  y.append(all_data[5000+i][agent][1])\n",
        "\n",
        "%matplotlib inline\n",
        "print(len(x))\n",
        "plt.plot(x,y)\n",
        "plt.grid()\n",
        "plt.show()"
      ],
      "metadata": {
        "colab": {
          "base_uri": "https://localhost:8080/",
          "height": 282
        },
        "id": "ijp9wCSyURHS",
        "outputId": "c33d39e0-0a89-4ae3-cd5a-d85742a49aa6"
      },
      "execution_count": 28,
      "outputs": [
        {
          "output_type": "stream",
          "name": "stdout",
          "text": [
            "50\n"
          ]
        },
        {
          "output_type": "display_data",
          "data": {
            "text/plain": [
              "<Figure size 432x288 with 1 Axes>"
            ],
            "image/png": "[encoded data removed]"
          },
          "metadata": {
            "needs_background": "light"
          }
        }
      ]
    },
    {
      "cell_type": "code",
      "source": [
        "all_data = np.stack(all_data)\n",
        "train_data = torch.FloatTensor(all_data[:params['num_train']])\n",
        "val_data = torch.FloatTensor(all_data[params['num_train']:params['num_train']+params['num_val']])\n",
        "test_data = torch.FloatTensor(all_data[params['num_train']+params['num_val']:params['num_train']+params['num_val']+params['num_test']])\n",
        "\n",
        "train_edges = torch.FloatTensor(edge_data[:params['num_train']])\n",
        "val_edges = torch.FloatTensor(edge_data[params['num_train']:params['num_train']+params['num_val']])\n",
        "test_edges = torch.FloatTensor(edge_data[params['num_train']+params['num_val']:params['num_train']+params['num_val']+params['num_test']])"
      ],
      "metadata": {
        "id": "sMqcjpLRea24"
      },
      "execution_count": 29,
      "outputs": []
    },
    {
      "cell_type": "code",
      "source": [
        "del all_data, df,edge_data, data"
      ],
      "metadata": {
        "id": "d9nZE2UU9tCL"
      },
      "execution_count": 30,
      "outputs": []
    },
    {
      "cell_type": "code",
      "source": [
        "print(\"Train Shape:\", train_data.shape,\"\\n\", \n",
        "       \"Val Shape:\", val_data.shape,\"\\n\",\n",
        "      \"Test Shape:\", test_data.shape)"
      ],
      "metadata": {
        "colab": {
          "base_uri": "https://localhost:8080/"
        },
        "id": "4UGCd5PmDRff",
        "outputId": "f03a7013-d4d1-494c-f7c2-2ac5c747f88f"
      },
      "execution_count": 31,
      "outputs": [
        {
          "output_type": "stream",
          "name": "stdout",
          "text": [
            "Train Shape: torch.Size([5000, 10, 4]) \n",
            " Val Shape: torch.Size([2500, 10, 4]) \n",
            " Test Shape: torch.Size([2500, 10, 4])\n"
          ]
        }
      ]
    },
    {
      "cell_type": "code",
      "source": [
        "x = []\n",
        "y = []\n",
        "for time_step in range(50):\n",
        "  x.append(val_data[time_step][agent][0])\n",
        "  y.append(val_data[time_step][agent][1])\n",
        "\n",
        "%matplotlib inline\n",
        "print(len(x))\n",
        "plt.plot(x,y)\n",
        "plt.grid()\n",
        "plt.show()"
      ],
      "metadata": {
        "colab": {
          "base_uri": "https://localhost:8080/",
          "height": 282
        },
        "id": "dv4lGXHKPdSw",
        "outputId": "cbd37375-c90e-45f2-a239-cb1c68dc06e7"
      },
      "execution_count": 32,
      "outputs": [
        {
          "output_type": "stream",
          "name": "stdout",
          "text": [
            "50\n"
          ]
        },
        {
          "output_type": "display_data",
          "data": {
            "text/plain": [
              "<Figure size 432x288 with 1 Axes>"
            ],
            "image/png": "[encoded data removed]"
          },
          "metadata": {
            "needs_background": "light"
          }
        }
      ]
    },
    {
      "cell_type": "code",
      "source": [
        "train_data = train_data.reshape([int(params[\"num_train\"]/50),50,10,4])\n",
        "val_data = val_data.reshape([int(params[\"num_val\"]/50),50,10,4])\n",
        "test_data = test_data.reshape([int(params[\"num_test\"]/50),50,10,4])\n",
        "\n",
        "train_edges = train_edges.reshape([int(params['num_train']/50),50,90])\n",
        "val_edges = val_edges.reshape([int(params['num_val']/50),50,90])\n",
        "test_edges = test_edges.reshape([int(params['num_test']/50),50,90])"
      ],
      "metadata": {
        "id": "a5aGYElZbFo_"
      },
      "execution_count": 33,
      "outputs": []
    },
    {
      "cell_type": "code",
      "source": [
        "x = []\n",
        "y = []\n",
        "for time_step in range(50):\n",
        "  x.append(val_data[0][time_step][agent][0])\n",
        "  y.append(val_data[0][time_step][agent][1])\n",
        "\n",
        "%matplotlib inline\n",
        "plt.plot(x,y)\n",
        "plt.grid()\n",
        "plt.show()"
      ],
      "metadata": {
        "colab": {
          "base_uri": "https://localhost:8080/",
          "height": 265
        },
        "id": "N66MaMcFPg6x",
        "outputId": "c421b35b-4999-4c9d-cef2-1da894fc9aad"
      },
      "execution_count": 34,
      "outputs": [
        {
          "output_type": "display_data",
          "data": {
            "text/plain": [
              "<Figure size 432x288 with 1 Axes>"
            ],
            "image/png": "[encoded data removed]"
          },
          "metadata": {
            "needs_background": "light"
          }
        }
      ]
    },
    {
      "cell_type": "code",
      "source": [
        "train_data = torch.nn.functional.normalize(train_data)\n",
        "val_data = torch.nn.functional.normalize(val_data)\n",
        "test_data = torch.nn.functional.normalize(test_data)"
      ],
      "metadata": {
        "id": "lRvZM3sW8hCa"
      },
      "execution_count": 35,
      "outputs": []
    },
    {
      "cell_type": "code",
      "source": [
        "x = []\n",
        "y = []\n",
        "for time_step in range(50):\n",
        "  x.append(val_data[0][time_step][agent][0])\n",
        "  y.append(val_data[0][time_step][agent][1])\n",
        "%matplotlib inline\n",
        "plt.plot(x,y)\n",
        "plt.grid()\n",
        "plt.show()"
      ],
      "metadata": {
        "colab": {
          "base_uri": "https://localhost:8080/",
          "height": 265
        },
        "id": "gwopC0PTPi_Q",
        "outputId": "8f081bf1-3e87-469e-c888-36bccbc75eb1"
      },
      "execution_count": 36,
      "outputs": [
        {
          "output_type": "display_data",
          "data": {
            "text/plain": [
              "<Figure size 432x288 with 1 Axes>"
            ],
            "image/png": "[encoded data removed]"
          },
          "metadata": {
            "needs_background": "light"
          }
        }
      ]
    },
    {
      "cell_type": "code",
      "source": [
        "DATA = []\n",
        "\n",
        "for i in range(train_data.shape[0]):\n",
        "  DATA.append({'inputs':train_data[i].reshape([1,50,10,4]),'edges':train_edges[i].reshape([1,50,90])})\n",
        "\n",
        "VAL = []\n",
        "\n",
        "for i in range(val_data.shape[0]):\n",
        "  VAL.append({'inputs':val_data[i].reshape([1,50,10,4]),'edges':val_edges[i].reshape([1,50,90])})\n",
        "\n",
        "TEST = []\n",
        "\n",
        "for i in range(test_data.shape[0]):\n",
        "  TEST.append({'inputs':test_data[i].reshape([1,50,10,4]),'edges':test_edges[i].reshape([1,50,90])})"
      ],
      "metadata": {
        "id": "rw95XbyRx3XM"
      },
      "execution_count": 37,
      "outputs": []
    },
    {
      "cell_type": "code",
      "source": [
        "x = []\n",
        "y = []\n",
        "for time_step in range(50):\n",
        "  x.append(VAL[0]['inputs'][0][time_step][a][0])\n",
        "  y.append(VAL[0]['inputs'][0][time_step][a][1])\n",
        "%matplotlib inline\n",
        "plt.plot(x,y)\n",
        "plt.grid()\n",
        "plt.show()"
      ],
      "metadata": {
        "colab": {
          "base_uri": "https://localhost:8080/",
          "height": 265
        },
        "id": "j56FIhjsPl49",
        "outputId": "6fced538-dcbd-4225-c9d9-54d0d0811e53"
      },
      "execution_count": 38,
      "outputs": [
        {
          "output_type": "display_data",
          "data": {
            "text/plain": [
              "<Figure size 432x288 with 1 Axes>"
            ],
            "image/png": "[encoded data removed]"
          },
          "metadata": {
            "needs_background": "light"
          }
        }
      ]
    },
    {
      "cell_type": "code",
      "source": [
        "model_types = [#RecurrentBaseline,\n",
        "               #DNRI,\n",
        "               #SingleRNNBaseline,\n",
        "               #JointRNNBaseline,\n",
        "               #FullyConnectedBaseline,\n",
        "               DNRI,\n",
        "               #GraphRNNDecoder,\n",
        "               #RecurrentBaseline_DynamicVars,\n",
        "               #FullyConnectedBaseline_DynamicVars,\n",
        "               #BaseNRI, \n",
        "               #DNRI_DynamicVars\n",
        "               ]"
      ],
      "metadata": {
        "id": "Ms-NFC5so5Vp"
      },
      "execution_count": 39,
      "outputs": []
    },
    {
      "cell_type": "code",
      "source": [
        "#model_types =[DNRI]"
      ],
      "metadata": {
        "id": "DYX4IsFft4SK"
      },
      "execution_count": 40,
      "outputs": []
    },
    {
      "cell_type": "markdown",
      "source": [
        "Build Model"
      ],
      "metadata": {
        "id": "ShgCZ5FdsCDG"
      }
    },
    {
      "cell_type": "code",
      "source": [
        "def build_model(params,model_type):\n",
        "  model = model_type(params)\n",
        "  print(\"################################\", type(model).__name__, \"################################################\")\n",
        "  #print(\"################################################################################\")\n",
        "  #print(params['model_type'])\n",
        "  if params['load_best_model']:\n",
        "      print(\"LOADING BEST MODEL\")\n",
        "      path = os.path.join(params['working_dir'], 'best_model')\n",
        "      model.load(path)\n",
        "  elif params['load_model']:\n",
        "      print(\"LOADING MODEL FROM SPECIFIED PATH\")\n",
        "      model.load(params['load_model'])\n",
        "  if params['gpu']:\n",
        "      model.cuda()\n",
        "  return model"
      ],
      "metadata": {
        "id": "rzUdzq4oWlju"
      },
      "execution_count": 41,
      "outputs": []
    },
    {
      "cell_type": "code",
      "source": [
        "params['mode'] = 'train'\n",
        "params['num_epochs'] = 50"
      ],
      "metadata": {
        "id": "-E3E-OTMJNJs"
      },
      "execution_count": 43,
      "outputs": []
    },
    {
      "cell_type": "code",
      "source": [
        "#params['model_type'] = model_name\n",
        "metrics = {}\n",
        "for model_type in model_types:\n",
        "  model = build_model(params,model_type)\n",
        "  if params['mode'] == 'train':\n",
        "      with build_writers(params['working_dir']) as (train_writer, val_writer):\n",
        "          result = train(model, DATA, VAL, params, train_writer, val_writer)\n",
        "          \n",
        "  metrics[str(type(model).__name__)] = result\n",
        "  "
      ],
      "metadata": {
        "colab": {
          "base_uri": "https://localhost:8080/"
        },
        "id": "tvqz0fqwYhEp",
        "outputId": "0d6ee9bb-04cb-48e5-d4c9-cb158ce46724"
      },
      "execution_count": 44,
      "outputs": [
        {
          "output_type": "stream",
          "name": "stdout",
          "text": [
            "Using learned recurrent interaction net decoder.\n",
            "################################ DNRI ################################################\n",
            "EPOCH 1 \tCURRENT VAL LOSS: 3131232.87109375 \tBEST VAL EPOCH: 1\n",
            "EPOCH 2 \tCURRENT VAL LOSS: 374266.6096191406 \tBEST VAL EPOCH: 2\n",
            "EPOCH 3 \tCURRENT VAL LOSS: 1966064.9921875 \tBEST VAL EPOCH: 2\n",
            "EPOCH 4 \tCURRENT VAL LOSS: 465183.02099609375 \tBEST VAL EPOCH: 2\n",
            "EPOCH 5 \tCURRENT VAL LOSS: 1244615.8046875 \tBEST VAL EPOCH: 2\n",
            "EPOCH 6 \tCURRENT VAL LOSS: 856843.4921875 \tBEST VAL EPOCH: 2\n",
            "EPOCH 7 \tCURRENT VAL LOSS: 266456.5078125 \tBEST VAL EPOCH: 7\n",
            "EPOCH 8 \tCURRENT VAL LOSS: 730706.8408203125 \tBEST VAL EPOCH: 7\n",
            "EPOCH 9 \tCURRENT VAL LOSS: 584281.7705078125 \tBEST VAL EPOCH: 7\n",
            "EPOCH 10 \tCURRENT VAL LOSS: 126889.68933105469 \tBEST VAL EPOCH: 10\n",
            "EPOCH 11 \tCURRENT VAL LOSS: 307256.23095703125 \tBEST VAL EPOCH: 10\n",
            "EPOCH 12 \tCURRENT VAL LOSS: 293909.5849609375 \tBEST VAL EPOCH: 10\n",
            "EPOCH 13 \tCURRENT VAL LOSS: 115303.60766601562 \tBEST VAL EPOCH: 13\n",
            "EPOCH 14 \tCURRENT VAL LOSS: 305473.81298828125 \tBEST VAL EPOCH: 13\n",
            "EPOCH 15 \tCURRENT VAL LOSS: 108328.93096923828 \tBEST VAL EPOCH: 15\n",
            "EPOCH 16 \tCURRENT VAL LOSS: 104839.06408691406 \tBEST VAL EPOCH: 16\n",
            "EPOCH 17 \tCURRENT VAL LOSS: 117940.04479980469 \tBEST VAL EPOCH: 16\n",
            "EPOCH 18 \tCURRENT VAL LOSS: 103627.63204956055 \tBEST VAL EPOCH: 18\n",
            "EPOCH 19 \tCURRENT VAL LOSS: 119452.08459472656 \tBEST VAL EPOCH: 18\n",
            "EPOCH 20 \tCURRENT VAL LOSS: 125000.75448608398 \tBEST VAL EPOCH: 18\n",
            "EPOCH 21 \tCURRENT VAL LOSS: 86793.50186157227 \tBEST VAL EPOCH: 21\n",
            "EPOCH 22 \tCURRENT VAL LOSS: 94133.08807373047 \tBEST VAL EPOCH: 21\n",
            "EPOCH 23 \tCURRENT VAL LOSS: 94990.21740722656 \tBEST VAL EPOCH: 21\n",
            "EPOCH 24 \tCURRENT VAL LOSS: 95419.41137695312 \tBEST VAL EPOCH: 21\n",
            "EPOCH 25 \tCURRENT VAL LOSS: 77916.58908081055 \tBEST VAL EPOCH: 25\n",
            "EPOCH 26 \tCURRENT VAL LOSS: 76924.78172302246 \tBEST VAL EPOCH: 26\n",
            "EPOCH 27 \tCURRENT VAL LOSS: 75788.37733459473 \tBEST VAL EPOCH: 27\n",
            "EPOCH 28 \tCURRENT VAL LOSS: 79135.43783569336 \tBEST VAL EPOCH: 27\n",
            "EPOCH 29 \tCURRENT VAL LOSS: 73846.96946716309 \tBEST VAL EPOCH: 29\n",
            "EPOCH 30 \tCURRENT VAL LOSS: 73073.25126647949 \tBEST VAL EPOCH: 30\n",
            "EPOCH 31 \tCURRENT VAL LOSS: 69270.35632324219 \tBEST VAL EPOCH: 31\n",
            "EPOCH 32 \tCURRENT VAL LOSS: 73311.27517700195 \tBEST VAL EPOCH: 31\n",
            "EPOCH 33 \tCURRENT VAL LOSS: 67566.23007202148 \tBEST VAL EPOCH: 33\n",
            "EPOCH 34 \tCURRENT VAL LOSS: 66625.36521148682 \tBEST VAL EPOCH: 34\n",
            "EPOCH 35 \tCURRENT VAL LOSS: 64776.94836425781 \tBEST VAL EPOCH: 35\n",
            "EPOCH 36 \tCURRENT VAL LOSS: 66073.1381225586 \tBEST VAL EPOCH: 35\n",
            "EPOCH 37 \tCURRENT VAL LOSS: 63311.6706237793 \tBEST VAL EPOCH: 37\n",
            "EPOCH 38 \tCURRENT VAL LOSS: 62811.0122756958 \tBEST VAL EPOCH: 38\n",
            "EPOCH 39 \tCURRENT VAL LOSS: 62716.99026489258 \tBEST VAL EPOCH: 39\n",
            "EPOCH 40 \tCURRENT VAL LOSS: 61695.9204788208 \tBEST VAL EPOCH: 40\n",
            "EPOCH 41 \tCURRENT VAL LOSS: 60978.035736083984 \tBEST VAL EPOCH: 41\n",
            "EPOCH 42 \tCURRENT VAL LOSS: 60772.39909362793 \tBEST VAL EPOCH: 42\n",
            "EPOCH 43 \tCURRENT VAL LOSS: 61364.07409667969 \tBEST VAL EPOCH: 42\n",
            "EPOCH 44 \tCURRENT VAL LOSS: 61452.39197540283 \tBEST VAL EPOCH: 42\n",
            "EPOCH 45 \tCURRENT VAL LOSS: 59519.19744873047 \tBEST VAL EPOCH: 45\n",
            "EPOCH 46 \tCURRENT VAL LOSS: 59848.98038482666 \tBEST VAL EPOCH: 45\n",
            "EPOCH 47 \tCURRENT VAL LOSS: 59673.22635650635 \tBEST VAL EPOCH: 45\n",
            "EPOCH 48 \tCURRENT VAL LOSS: 58905.67118835449 \tBEST VAL EPOCH: 48\n",
            "EPOCH 49 \tCURRENT VAL LOSS: 58233.58374786377 \tBEST VAL EPOCH: 49\n",
            "EPOCH 50 \tCURRENT VAL LOSS: 57767.560218811035 \tBEST VAL EPOCH: 50\n"
          ]
        }
      ]
    },
    {
      "cell_type": "code",
      "source": [
        "%matplotlib inline\n",
        "for i in range(len(metrics)):\n",
        "  plt.plot(list(metrics.values())[i], label = list(metrics.keys())[i])\n",
        "plt.legend()\n",
        "plt.show()"
      ],
      "metadata": {
        "colab": {
          "base_uri": "https://localhost:8080/",
          "height": 276
        },
        "id": "MEaTSzgFx1rH",
        "outputId": "0b9734d0-ee56-4f67-f1ae-1eafd182845e"
      },
      "execution_count": 45,
      "outputs": [
        {
          "output_type": "display_data",
          "data": {
            "text/plain": [
              "<Figure size 432x288 with 1 Axes>"
            ],
            "image/png": "[encoded data removed]"
          },
          "metadata": {
            "needs_background": "light"
          }
        }
      ]
    },
    {
      "cell_type": "code",
      "source": [
        "dd"
      ],
      "metadata": {
        "id": "58w7mi88D2-_",
        "outputId": "eb923821-ad4b-4d93-b704-3adb949c2bb4",
        "colab": {
          "base_uri": "https://localhost:8080/",
          "height": 165
        }
      },
      "execution_count": 28,
      "outputs": [
        {
          "output_type": "error",
          "ename": "NameError",
          "evalue": "ignored",
          "traceback": [
            "\u001b[0;31m---------------------------------------------------------------------------\u001b[0m",
            "\u001b[0;31mNameError\u001b[0m                                 Traceback (most recent call last)",
            "\u001b[0;32m<ipython-input-28-06f342d4bc0b>\u001b[0m in \u001b[0;36m<module>\u001b[0;34m\u001b[0m\n\u001b[0;32m----> 1\u001b[0;31m \u001b[0mdd\u001b[0m\u001b[0;34m\u001b[0m\u001b[0;34m\u001b[0m\u001b[0m\n\u001b[0m",
            "\u001b[0;31mNameError\u001b[0m: name 'dd' is not defined"
          ]
        }
      ]
    },
    {
      "cell_type": "code",
      "source": [
        "model_inputs = TEST[0]['inputs'][:, :40]\n",
        "model_preds = model.predict_future(model_inputs, 10)\n",
        "agent = 6\n",
        "x = []\n",
        "y = []\n",
        "\n",
        "for i in range(0,10):\n",
        "  x.append(float(model_preds[0][i][agent][0]))\n",
        "  y.append(float(model_preds[0][i][agent][1]))\n",
        "\n",
        "\n",
        "\n",
        "p = []\n",
        "q = []\n",
        "\n",
        "for i in range(0,10):\n",
        "  p.append(float(TEST[0]['inputs'][:,:-10][0][i][agent][0]))\n",
        "  q.append(float(TEST[0]['inputs'][:,:-10][0][i][agent][1]))\n",
        "\n"
      ],
      "metadata": {
        "id": "tNiA7bYdPg8f"
      },
      "execution_count": null,
      "outputs": []
    },
    {
      "cell_type": "code",
      "source": [
        "plt.scatter(p,q)\n",
        "plt.grid()"
      ],
      "metadata": {
        "id": "AcR9i6T3PoZ-"
      },
      "execution_count": null,
      "outputs": []
    },
    {
      "cell_type": "code",
      "source": [
        "plt.scatter(x,y)\n",
        "plt.grid()"
      ],
      "metadata": {
        "id": "bB73KL-Jb8F2"
      },
      "execution_count": null,
      "outputs": []
    },
    {
      "cell_type": "code",
      "source": [
        "plt.plot(x,y)\n",
        "plt.plot(p,q)\n",
        "plt.grid()"
      ],
      "metadata": {
        "id": "-7dILq4yPmbr"
      },
      "execution_count": null,
      "outputs": []
    }
  ]
}