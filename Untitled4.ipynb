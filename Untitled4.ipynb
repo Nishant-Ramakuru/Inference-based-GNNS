{
  "nbformat": 4,
  "nbformat_minor": 0,
  "metadata": {
    "colab": {
      "name": "Untitled4.ipynb",
      "provenance": [],
      "authorship_tag": "ABX9TyOE3JE1tn4MBSZEzxyblLzK",
      "include_colab_link": true
    },
    "kernelspec": {
      "name": "python3",
      "display_name": "Python 3"
    },
    "language_info": {
      "name": "python"
    }
  },
  "cells": [
    {
      "cell_type": "markdown",
      "metadata": {
        "id": "view-in-github",
        "colab_type": "text"
      },
      "source": [
        "<a href=\"https://colab.research.google.com/github/Nishant-Ramakuru/Inference-based-GNNS/blob/main/Untitled4.ipynb\" target=\"_parent\"><img src=\"https://colab.research.google.com/assets/colab-badge.svg\" alt=\"Open In Colab\"/></a>"
      ]
    },
    {
      "cell_type": "code",
      "execution_count": null,
      "metadata": {
        "id": "sho3YQ82-xwt"
      },
      "outputs": [],
      "source": [
        "import time \n",
        "import numpy\n",
        "import argparse\n",
        "\n",
        "import numpy as np\n",
        "import matplotlib.pyplot as plt\n",
        "import time\n",
        "\n",
        "from data.synthetic_sim import ChargedParticlesSim, SpringSim"
      ]
    },
    {
      "cell_type": "code",
      "source": [
        "simmulation_type = {'springs': 'springs',\n",
        "                    'charged':'charged'}\n",
        "\n",
        "N_train = 50000\n",
        "N_val = 10000\n",
        "N_test = 10000\n",
        "traj_length = 5000\n",
        "traj_length_test = 10000\n",
        "sampling_freq = 100\n",
        "number_of_agents = 5"
      ],
      "metadata": {
        "id": "FPvwneF5_bBK"
      },
      "execution_count": null,
      "outputs": []
    },
    {
      "cell_type": "code",
      "source": [
        "sim = Springs(noise_var = 0.0, n_balls = number_of_agents)"
      ],
      "metadata": {
        "id": "u_X8yCj3_-gn"
      },
      "execution_count": null,
      "outputs": []
    },
    {
      "cell_type": "code",
      "source": [
        "def generate_dataset(num_sims,length,sample_freq):\n",
        "  loc_all = list()\n",
        "  vel_all = list()\n",
        "  edges_all = list()\n",
        "\n",
        "  for i in range(num_sims):\n",
        "    t= time.time()\n",
        "    loc,vel, edges = sim.sample_trajectory(T= traj_length, sample_freq = sampling_freq)\n",
        "\n",
        "    if i % 100 == 0:\n",
        "      print()\n",
        "    loc_all.append(loc)\n",
        "    vel_all.append(vel)\n",
        "    edges_all.append(edges)\n",
        "\n",
        "  loc_all = np.stack(loc_all)\n",
        "\n",
        "  vel_all = np.stack(vel_all)\n",
        "  edges_all = np.stack(edges_all)\n",
        "\n",
        "  return loc_all, vel_all, edges_all"
      ],
      "metadata": {
        "id": "8Vo1x8E-AG14"
      },
      "execution_count": 1,
      "outputs": []
    },
    {
      "cell_type": "code",
      "source": [
        "loc_train, vel_train, edges_train = generate_dataset(N_train, traj_length, sampling_freq)\n"
      ],
      "metadata": {
        "id": "dor1kn4RBI0A"
      },
      "execution_count": null,
      "outputs": []
    },
    {
      "cell_type": "code",
      "source": [
        "suffix = 'springs'"
      ],
      "metadata": {
        "id": "cqkDm076Bdbl"
      },
      "execution_count": null,
      "outputs": []
    },
    {
      "cell_type": "code",
      "source": [
        "np.save('loc_train' + suffix + '.npy',loc_train)\n",
        "np.save('vel_train' + suffix + '.npy',vel_train)\n"
      ],
      "metadata": {
        "id": "Z_FtGUCPBjU-"
      },
      "execution_count": null,
      "outputs": []
    },
    {
      "cell_type": "code",
      "source": [
        ""
      ],
      "metadata": {
        "id": "l3DycuygB4sQ"
      },
      "execution_count": null,
      "outputs": []
    }
  ]
}