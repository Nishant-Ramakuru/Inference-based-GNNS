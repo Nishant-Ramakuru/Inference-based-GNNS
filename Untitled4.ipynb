{
  "nbformat": 4,
  "nbformat_minor": 0,
  "metadata": {
    "colab": {
      "name": "Untitled4.ipynb",
      "provenance": [],
      "authorship_tag": "ABX9TyOqNxW0J1RFxTUYlL+xdmjI",
      "include_colab_link": true
    },
    "kernelspec": {
      "name": "python3",
      "display_name": "Python 3"
    },
    "language_info": {
      "name": "python"
    }
  },
  "cells": [
    {
      "cell_type": "markdown",
      "metadata": {
        "id": "view-in-github",
        "colab_type": "text"
      },
      "source": [
        "<a href=\"https://colab.research.google.com/github/Nishant-Ramakuru/Inference-based-GNNS/blob/main/Untitled4.ipynb\" target=\"_parent\"><img src=\"https://colab.research.google.com/assets/colab-badge.svg\" alt=\"Open In Colab\"/></a>"
      ]
    },
    {
      "cell_type": "code",
      "execution_count": 4,
      "metadata": {
        "id": "sho3YQ82-xwt"
      },
      "outputs": [],
      "source": [
        "import time \n",
        "import numpy\n",
        "import argparse\n",
        "\n",
        "import numpy as np\n",
        "import matplotlib.pyplot as plt\n",
        "import time\n",
        "import pandas as pd\n",
        "\n",
        "#from data.synthetic_sim import ChargedParticlesSim, SpringSim"
      ]
    },
    {
      "cell_type": "code",
      "source": [
        "dataframe = pd.read_csv('boids_buffer.csv')"
      ],
      "metadata": {
        "id": "pb51ZO2Sw3vu"
      },
      "execution_count": 27,
      "outputs": []
    },
    {
      "cell_type": "code",
      "source": [
        "dataframe.shape"
      ],
      "metadata": {
        "colab": {
          "base_uri": "https://localhost:8080/"
        },
        "id": "xR1jUFS6xFvk",
        "outputId": "2e1032d1-f64c-4ff8-db8a-ca24aebb3497"
      },
      "execution_count": 28,
      "outputs": [
        {
          "output_type": "execute_result",
          "data": {
            "text/plain": [
              "(800, 2)"
            ]
          },
          "metadata": {},
          "execution_count": 28
        }
      ]
    },
    {
      "cell_type": "code",
      "source": [
        "dataframe.head(1)"
      ],
      "metadata": {
        "colab": {
          "base_uri": "https://localhost:8080/",
          "height": 81
        },
        "id": "xDnJ8Ss5xlAq",
        "outputId": "2022cb67-392d-418e-c664-d142d12685be"
      },
      "execution_count": 29,
      "outputs": [
        {
          "output_type": "execute_result",
          "data": {
            "text/plain": [
              "   Unnamed: 0                                              boids\n",
              "0           0  Boids(R=DeviceArray([[1227.0511064 , 1811.9666..."
            ],
            "text/html": [
              "\n",
              "  <div id=\"df-77265eba-69b7-4cfd-8a0b-682629625d53\">\n",
              "    <div class=\"colab-df-container\">\n",
              "      <div>\n",
              "<style scoped>\n",
              "    .dataframe tbody tr th:only-of-type {\n",
              "        vertical-align: middle;\n",
              "    }\n",
              "\n",
              "    .dataframe tbody tr th {\n",
              "        vertical-align: top;\n",
              "    }\n",
              "\n",
              "    .dataframe thead th {\n",
              "        text-align: right;\n",
              "    }\n",
              "</style>\n",
              "<table border=\"1\" class=\"dataframe\">\n",
              "  <thead>\n",
              "    <tr style=\"text-align: right;\">\n",
              "      <th></th>\n",
              "      <th>Unnamed: 0</th>\n",
              "      <th>boids</th>\n",
              "    </tr>\n",
              "  </thead>\n",
              "  <tbody>\n",
              "    <tr>\n",
              "      <th>0</th>\n",
              "      <td>0</td>\n",
              "      <td>Boids(R=DeviceArray([[1227.0511064 , 1811.9666...</td>\n",
              "    </tr>\n",
              "  </tbody>\n",
              "</table>\n",
              "</div>\n",
              "      <button class=\"colab-df-convert\" onclick=\"convertToInteractive('df-77265eba-69b7-4cfd-8a0b-682629625d53')\"\n",
              "              title=\"Convert this dataframe to an interactive table.\"\n",
              "              style=\"display:none;\">\n",
              "        \n",
              "  <svg xmlns=\"http://www.w3.org/2000/svg\" height=\"24px\"viewBox=\"0 0 24 24\"\n",
              "       width=\"24px\">\n",
              "    <path d=\"M0 0h24v24H0V0z\" fill=\"none\"/>\n",
              "    <path d=\"M18.56 5.44l.94 2.06.94-2.06 2.06-.94-2.06-.94-.94-2.06-.94 2.06-2.06.94zm-11 1L8.5 8.5l.94-2.06 2.06-.94-2.06-.94L8.5 2.5l-.94 2.06-2.06.94zm10 10l.94 2.06.94-2.06 2.06-.94-2.06-.94-.94-2.06-.94 2.06-2.06.94z\"/><path d=\"M17.41 7.96l-1.37-1.37c-.4-.4-.92-.59-1.43-.59-.52 0-1.04.2-1.43.59L10.3 9.45l-7.72 7.72c-.78.78-.78 2.05 0 2.83L4 21.41c.39.39.9.59 1.41.59.51 0 1.02-.2 1.41-.59l7.78-7.78 2.81-2.81c.8-.78.8-2.07 0-2.86zM5.41 20L4 18.59l7.72-7.72 1.47 1.35L5.41 20z\"/>\n",
              "  </svg>\n",
              "      </button>\n",
              "      \n",
              "  <style>\n",
              "    .colab-df-container {\n",
              "      display:flex;\n",
              "      flex-wrap:wrap;\n",
              "      gap: 12px;\n",
              "    }\n",
              "\n",
              "    .colab-df-convert {\n",
              "      background-color: #E8F0FE;\n",
              "      border: none;\n",
              "      border-radius: 50%;\n",
              "      cursor: pointer;\n",
              "      display: none;\n",
              "      fill: #1967D2;\n",
              "      height: 32px;\n",
              "      padding: 0 0 0 0;\n",
              "      width: 32px;\n",
              "    }\n",
              "\n",
              "    .colab-df-convert:hover {\n",
              "      background-color: #E2EBFA;\n",
              "      box-shadow: 0px 1px 2px rgba(60, 64, 67, 0.3), 0px 1px 3px 1px rgba(60, 64, 67, 0.15);\n",
              "      fill: #174EA6;\n",
              "    }\n",
              "\n",
              "    [theme=dark] .colab-df-convert {\n",
              "      background-color: #3B4455;\n",
              "      fill: #D2E3FC;\n",
              "    }\n",
              "\n",
              "    [theme=dark] .colab-df-convert:hover {\n",
              "      background-color: #434B5C;\n",
              "      box-shadow: 0px 1px 3px 1px rgba(0, 0, 0, 0.15);\n",
              "      filter: drop-shadow(0px 1px 2px rgba(0, 0, 0, 0.3));\n",
              "      fill: #FFFFFF;\n",
              "    }\n",
              "  </style>\n",
              "\n",
              "      <script>\n",
              "        const buttonEl =\n",
              "          document.querySelector('#df-77265eba-69b7-4cfd-8a0b-682629625d53 button.colab-df-convert');\n",
              "        buttonEl.style.display =\n",
              "          google.colab.kernel.accessAllowed ? 'block' : 'none';\n",
              "\n",
              "        async function convertToInteractive(key) {\n",
              "          const element = document.querySelector('#df-77265eba-69b7-4cfd-8a0b-682629625d53');\n",
              "          const dataTable =\n",
              "            await google.colab.kernel.invokeFunction('convertToInteractive',\n",
              "                                                     [key], {});\n",
              "          if (!dataTable) return;\n",
              "\n",
              "          const docLinkHtml = 'Like what you see? Visit the ' +\n",
              "            '<a target=\"_blank\" href=https://colab.research.google.com/notebooks/data_table.ipynb>data table notebook</a>'\n",
              "            + ' to learn more about interactive tables.';\n",
              "          element.innerHTML = '';\n",
              "          dataTable['output_type'] = 'display_data';\n",
              "          await google.colab.output.renderOutput(dataTable, element);\n",
              "          const docLink = document.createElement('div');\n",
              "          docLink.innerHTML = docLinkHtml;\n",
              "          element.appendChild(docLink);\n",
              "        }\n",
              "      </script>\n",
              "    </div>\n",
              "  </div>\n",
              "  "
            ]
          },
          "metadata": {},
          "execution_count": 29
        }
      ]
    },
    {
      "cell_type": "code",
      "source": [
        "df['boids'][0].theta"
      ],
      "metadata": {
        "colab": {
          "base_uri": "https://localhost:8080/",
          "height": 165
        },
        "id": "eA0RNsb5xYkj",
        "outputId": "dde7f0f4-11a7-48a5-f6c9-6e3f8537b9a6"
      },
      "execution_count": 31,
      "outputs": [
        {
          "output_type": "error",
          "ename": "NameError",
          "evalue": "ignored",
          "traceback": [
            "\u001b[0;31m---------------------------------------------------------------------------\u001b[0m",
            "\u001b[0;31mNameError\u001b[0m                                 Traceback (most recent call last)",
            "\u001b[0;32m<ipython-input-31-b1ccf9d6fc80>\u001b[0m in \u001b[0;36m<module>\u001b[0;34m()\u001b[0m\n\u001b[0;32m----> 1\u001b[0;31m \u001b[0mdf\u001b[0m\u001b[0;34m[\u001b[0m\u001b[0;34m'boids'\u001b[0m\u001b[0;34m]\u001b[0m\u001b[0;34m[\u001b[0m\u001b[0;36m0\u001b[0m\u001b[0;34m]\u001b[0m\u001b[0;34m.\u001b[0m\u001b[0mtheta\u001b[0m\u001b[0;34m\u001b[0m\u001b[0;34m\u001b[0m\u001b[0m\n\u001b[0m",
            "\u001b[0;31mNameError\u001b[0m: name 'df' is not defined"
          ]
        }
      ]
    },
    {
      "cell_type": "code",
      "source": [
        "simmulation_type = {'springs': 'springs',\n",
        "                    'charged':'charged'}\n",
        "\n",
        "N_train = 50000\n",
        "N_val = 10000\n",
        "N_test = 10000\n",
        "traj_length = 5000\n",
        "traj_length_test = 10000\n",
        "sampling_freq = 100\n",
        "number_of_agents = 5"
      ],
      "metadata": {
        "id": "FPvwneF5_bBK"
      },
      "execution_count": null,
      "outputs": []
    },
    {
      "cell_type": "code",
      "source": [
        "sim = Springs(noise_var = 0.0, n_balls = number_of_agents)"
      ],
      "metadata": {
        "id": "u_X8yCj3_-gn"
      },
      "execution_count": null,
      "outputs": []
    },
    {
      "cell_type": "code",
      "source": [
        "def generate_dataset(num_sims,length,sample_freq):\n",
        "  loc_all = list()\n",
        "  vel_all = list()\n",
        "  edges_all = list()\n",
        "\n",
        "  for i in range(num_sims):\n",
        "    t= time.time()\n",
        "    loc,vel, edges = sim.sample_trajectory(T= traj_length, sample_freq = sampling_freq)\n",
        "\n",
        "    if i % 100 == 0:\n",
        "      print()\n",
        "    loc_all.append(loc)\n",
        "    vel_all.append(vel)\n",
        "    edges_all.append(edges)\n",
        "\n",
        "  loc_all = np.stack(loc_all)\n",
        "\n",
        "  vel_all = np.stack(vel_all)\n",
        "  edges_all = np.stack(edges_all)\n",
        "\n",
        "  return loc_all, vel_all, edges_all"
      ],
      "metadata": {
        "id": "8Vo1x8E-AG14"
      },
      "execution_count": null,
      "outputs": []
    },
    {
      "cell_type": "code",
      "source": [
        "loc_train, vel_train, edges_train = generate_dataset(N_train, traj_length, sampling_freq)\n"
      ],
      "metadata": {
        "id": "dor1kn4RBI0A"
      },
      "execution_count": null,
      "outputs": []
    },
    {
      "cell_type": "code",
      "source": [
        "suffix = 'springs'"
      ],
      "metadata": {
        "id": "cqkDm076Bdbl"
      },
      "execution_count": null,
      "outputs": []
    },
    {
      "cell_type": "code",
      "source": [
        "np.save('loc_train' + suffix + '.npy',loc_train)\n",
        "np.save('vel_train' + suffix + '.npy',vel_train)\n"
      ],
      "metadata": {
        "id": "Z_FtGUCPBjU-"
      },
      "execution_count": null,
      "outputs": []
    },
    {
      "cell_type": "code",
      "source": [
        "from future import division\n",
        "from future import print_function\n",
        "import time\n",
        "import argparse\n",
        "import pickle\n",
        "import os\n",
        "import torch.optim as optim\n",
        "from torch.optim import lr_scheduler\n",
        "#from utils import\n",
        "from modules import"
      ],
      "metadata": {
        "id": "l3DycuygB4sQ",
        "colab": {
          "base_uri": "https://localhost:8080/",
          "height": 130
        },
        "outputId": "faaaf9af-9a04-4319-ced0-6608a8dc93cc"
      },
      "execution_count": 35,
      "outputs": [
        {
          "output_type": "error",
          "ename": "SyntaxError",
          "evalue": "ignored",
          "traceback": [
            "\u001b[0;36m  File \u001b[0;32m\"<ipython-input-35-5cd538ddbced>\"\u001b[0;36m, line \u001b[0;32m9\u001b[0m\n\u001b[0;31m    from utils import\u001b[0m\n\u001b[0m                     ^\u001b[0m\n\u001b[0;31mSyntaxError\u001b[0m\u001b[0;31m:\u001b[0m invalid syntax\n"
          ]
        }
      ]
    },
    {
      "cell_type": "code",
      "source": [
        "CUDA = False\n",
        "seed= 42\n",
        "epochs = 500\n",
        "batch_size = 128\n",
        "alpha= 0.0005\n",
        "number_of_hidden_layers =512\n",
        "number_of_agents = 5\n",
        "number_of_edge_types = 2\n",
        "encoder_types = {'mlp':'mlp', 'cnn': ' cnn'}"
      ],
      "metadata": {
        "id": "RPHdLNLq5-_P"
      },
      "execution_count": 40,
      "outputs": []
    },
    {
      "cell_type": "code",
      "source": [
        "factor = False\n",
        "dropout = 0.5\n",
        "log_interval= 10\n",
        "edge_types = 2\n",
        "dims=4\n",
        "timesteps = 49\n",
        "alpha_decay = 200\n",
        "gamma = 0.5\n",
        "edge_types = 12"
      ],
      "metadata": {
        "id": "gXEnXIrq6TqO"
      },
      "execution_count": 41,
      "outputs": []
    },
    {
      "cell_type": "code",
      "source": [
        "Simtype ={}"
      ],
      "metadata": {
        "id": "y1rvEmP06V5o"
      },
      "execution_count": null,
      "outputs": []
    },
    {
      "cell_type": "code",
      "source": [
        "encoder = encoder_types['cnn']\n",
        "train_loader, valid_loader, test_loader, loc_max, loc_min, vel_max, vel_min  = load_data(batch_size, simulation_type['springs'])"
      ],
      "metadata": {
        "colab": {
          "base_uri": "https://localhost:8080/",
          "height": 183
        },
        "id": "D-xrHQ156YKw",
        "outputId": "0f5b1132-0838-4cfa-a672-d71868eec498"
      },
      "execution_count": 43,
      "outputs": [
        {
          "output_type": "error",
          "ename": "NameError",
          "evalue": "ignored",
          "traceback": [
            "\u001b[0;31m---------------------------------------------------------------------------\u001b[0m",
            "\u001b[0;31mNameError\u001b[0m                                 Traceback (most recent call last)",
            "\u001b[0;32m<ipython-input-43-5e052b0b707d>\u001b[0m in \u001b[0;36m<module>\u001b[0;34m()\u001b[0m\n\u001b[1;32m      1\u001b[0m \u001b[0mencoder\u001b[0m \u001b[0;34m=\u001b[0m \u001b[0mencoder_types\u001b[0m\u001b[0;34m[\u001b[0m\u001b[0;34m'cnn'\u001b[0m\u001b[0;34m]\u001b[0m\u001b[0;34m\u001b[0m\u001b[0;34m\u001b[0m\u001b[0m\n\u001b[0;32m----> 2\u001b[0;31m \u001b[0mtrain_loader\u001b[0m\u001b[0;34m,\u001b[0m \u001b[0mvalid_loader\u001b[0m\u001b[0;34m,\u001b[0m \u001b[0mtest_loader\u001b[0m\u001b[0;34m,\u001b[0m \u001b[0mloc_max\u001b[0m\u001b[0;34m,\u001b[0m \u001b[0mloc_min\u001b[0m\u001b[0;34m,\u001b[0m \u001b[0mvel_max\u001b[0m\u001b[0;34m,\u001b[0m \u001b[0mvel_min\u001b[0m  \u001b[0;34m=\u001b[0m \u001b[0mload_data\u001b[0m\u001b[0;34m(\u001b[0m\u001b[0mbatch_size\u001b[0m\u001b[0;34m,\u001b[0m \u001b[0msimulation_type\u001b[0m\u001b[0;34m[\u001b[0m\u001b[0;34m'springs'\u001b[0m\u001b[0;34m]\u001b[0m\u001b[0;34m)\u001b[0m\u001b[0;34m\u001b[0m\u001b[0;34m\u001b[0m\u001b[0m\n\u001b[0m",
            "\u001b[0;31mNameError\u001b[0m: name 'load_data' is not defined"
          ]
        }
      ]
    },
    {
      "cell_type": "code",
      "source": [
        "loc_max, loc_min, vel_max, vel_min = load_data\n",
        "\n",
        "off_diag = np.ones([number_of_agents, number_of_agents]) np.eye (number_of_agents)\n",
        "\n",
        "rel_rec=np.array(encode_onehot(np.where(off_diag)[0]), dtype=np.float32)\n",
        "\n",
        "rel_send= np.array(encode_onehot(np.where(off_diag) [1]), dtype=np.float32)\n",
        "\n",
        "rel_rec = torch.FloatTensor(rel_rec)\n",
        "\n",
        "rel_send = torch.FloatTensor (rel_send)\n",
        "\n",
        "if encoder 'mlp':\n",
        "\n",
        "  model = MLPEncoder(timesteps_dims, number_of_hidden_layers, edge_types,dropout, factor)\n",
        "\n",
        "elif encoder - 'cnn':\n",
        "\n",
        "  model = CNNEncoder(dims, number_of_hidden_layers, edge_types, dropout, factor)\n",
        "\n",
        "  optimizer = optim.Adam(model.parameters (), lr-alpha) scheduler Ir_scheduler.StepLR(optimizer, step_size-alpha_decay, gamma-gamma)\n",
        "\n",
        "#Linear indices of an upper triangular mx, used for Loss calculation triu_indices get_triu_offdiag indices (number_of_agents)\n",
        "\n",
        "if CUDA:\n",
        "\n",
        "  model.cuda()\n",
        "\n",
        "  rel rec rel_rec.cuda()\n",
        "\n",
        "  rel_send rel_send.cuda()\n",
        "\n",
        "H\n",
        "\n",
        "triu_indices triu_indices.cuda()\n",
        "\n",
        "rel_rec Variable(rel_rec) rel_send Variable(rel_send)\n",
        "\n",
        "best_model_params\n",
        "\n",
        "= model.state_dict()"
      ],
      "metadata": {
        "id": "BT-4UoQ76dd3"
      },
      "execution_count": null,
      "outputs": []
    },
    {
      "cell_type": "code",
      "source": [
        "model.parameters"
      ],
      "metadata": {
        "id": "f-GqD6Ww6gBE"
      },
      "execution_count": null,
      "outputs": []
    },
    {
      "cell_type": "code",
      "source": [
        "def train(epoch, best_val_accuracy):\n",
        "\n",
        "t = time.time() loss_train []\n",
        "\n",
        "acc_train = [ loss_val = []\n",
        "\n",
        "acc_val = [] model.train()\n",
        "\n",
        "scheduler.step() for batch_idx, (data, target) in enumerate (train_loader): if CUDA:\n",
        "\n",
        "data, target data.cuda(), target.cuda() data, target = Variable(data), Variable(target) optimizer.zero_grad()\n",
        "\n",
        "output = model(data, rel_rec, rel_send)\n",
        "\n",
        "# Flatten batch dim\n",
        "\n",
        "output = output.view(-1, number_of_edge_types)\n",
        "\n",
        "target target.view(-1) loss F.cross_entropy (output, target)\n",
        "\n",
        "loss.backward() optimizer.step()\n",
        "\n",
        "pred output.data.max(1, keepdim=True) [1] correct = pred.eq(target.data.view_as (pred)).cpu().sum() acc correct / pred.size(0)\n",
        "\n",
        "loss_train.append(loss.data) acc_train.append(acc)\n",
        "\n",
        "model.eval()\n",
        "\n",
        "for batch_idx, (data, target) in enumerate(valid_loader):\n",
        "\n",
        "if CUDA: data, target data.cuda(), target.cuda() data, target - Variable(data, volatile-True), Variable(\n",
        "\n",
        "target, volatile-True) output model(data, rel_rec, rel_send)\n",
        "\n",
        "# Flatten batch dim\n",
        "\n",
        "output output.view(-1, number_of_edge_types) target target.view(-1)"
      ],
      "metadata": {
        "id": "HmJMIXw66j2T"
      },
      "execution_count": null,
      "outputs": []
    },
    {
      "cell_type": "code",
      "source": [
        "for batch_idx, (data, target) in enumerate(valid_loader):\n",
        "\n",
        "if CUDA: data, target data.cuda(), target.cuda()\n",
        "\n",
        "data, target Variable(data, volatile=True), Variable(\n",
        "\n",
        "target, volatile=True)\n",
        "\n",
        "output model(data, rel_rec, rel_send)\n",
        "\n",
        "# Flatten batch dim\n",
        "\n",
        "output = output.view(-1, number_of_edge_types) target = target.view(-1)\n",
        "\n",
        "loss F.cross_entropy (output, target)\n",
        "\n",
        "pred output.data.max(1, keepdim=True) [1] correct pred.eq(target.data.view_as (pred)).cpu().sum()\n",
        "\n",
        "acc = correct / pred.size(0)\n",
        "\n",
        "loss_val.append(loss.data) acc_val.append(acc)\n",
        "\n",
        "print('Epoch: {:04d}'.format(epoch),\n",
        "\n",
        "'loss_train: {:.10f).format(np.mean(loss_train)), 'acc_train: (:.10f).format(np.mean (acc_train)),\n",
        "\n",
        "'loss_val: :.10f}'.format(np.mean (loss_val)), if save_folder and np.mean (acc_val) best_val_accuracy: 'time: :.4f)s'.format(time.time() t), file-log)\n",
        "\n",
        "'acc_val: :.10f).format(np.mean (acc_val)), 'time: :.4f)s'.format(time.time() - t))\n",
        "\n",
        "torch.save(model.state_dict(), 'cnn.pt') print('Best model so far, saving...')\n",
        "\n",
        "print('Epoch: {:04d)'.format(epoch),\n",
        "\n",
        "'loss_train: :.10f).format(np.mean(loss_train)), 'acc_train: {:.10f).format(np.mean(acc_train)),\n",
        "\n",
        "'loss_val: (:.10f}'.format(np.mean (loss_val)), 'acc_val: (:.10f).format(np.mean (acc_val)),\n",
        "\n",
        "log.flush() return np.mean(acc_val)"
      ],
      "metadata": {
        "id": "k77geSGS6ng8"
      },
      "execution_count": null,
      "outputs": []
    },
    {
      "cell_type": "code",
      "source": [
        "def test():\n",
        "\n",
        "t = time.time()\n",
        "\n",
        "loss_test = [] acc_test = []\n",
        "\n",
        "model.eval()\n",
        "\n",
        "model.load_state_dict(torch.load('cnn.pt'))\n",
        "\n",
        "for batch_idx, (data, target) in enumerate(test_loader):\n",
        "\n",
        "if CUDA:\n",
        "\n",
        "data, target = data.cuda(), target.cuda() data, target Variable(data, volatile-True), Variable(\n",
        "\n",
        "target, volatile=True)\n",
        "\n",
        "# Limit to same Length as train sequence\n",
        "\n",
        "data= data[:,:, :timesteps, :].contiguous() output = model(data, rel_rec, rel_send)\n",
        "\n",
        "# Flatten batch dim\n",
        "\n",
        "output output.view(-1, number_of_edge_types) target target.view(-1)\n",
        "\n",
        "loss F.cross_entropy (output, target)\n",
        "\n",
        "pred output.data.max(1, keepdim-True) [1]\n",
        "\n",
        "correct pred.eq(target.data.view_as (pred)).cpu().sum() acc correct / pred.size(0)\n",
        "\n",
        "loss_test.append(loss.data) acc_test.append(acc)\n",
        "\n",
        "print('\n",
        "\n",
        "print(\" -Testing\n",
        "\n",
        "print(\"\n",
        "\n",
        "print('loss_test: {:.10f)'.format(np.mean(loss_test)),\n",
        "\n",
        "'acc_test: {:.10f).format(np.mean(acc_test)))\n",
        "\n",
        "if save_folder:\n",
        "\n",
        "print( file-log) file-log) -Testing\n",
        "\n",
        "print(\"\n",
        "\n",
        "print( , file-log) print('loss_test: {:.10f}'.format(np.mean(loss_test)),\n",
        "\n",
        "acc_test: (:.10f).format(np.mean(acc_test)), file-log)\n",
        "\n",
        "log.flush() return np.mean (acc_test)"
      ],
      "metadata": {
        "id": "uQNB8dzF6qxm"
      },
      "execution_count": null,
      "outputs": []
    },
    {
      "cell_type": "code",
      "source": [
        "epochs = 5\n",
        "\n",
        "log file = os.path.join('log.txt')\n",
        "\n",
        "log = open(log file, 'w')\n",
        "\n",
        "[17]:\n",
        "\n",
        "[18]:\n",
        "\n",
        "# Train model\n",
        "\n",
        "t_total time.time()\n",
        "\n",
        "best_val_accuracy = -1.\n",
        "\n",
        "best_epoch 0\n",
        "\n",
        "for epoch in range(epochs):\n",
        "\n",
        "val_acc = train (epoch, best_val_accuracy) if val_acc > best_val_accuracy:\n",
        "\n",
        "best_val_accuracy = val_acc\n",
        "\n",
        "best_epoch= epoch\n",
        "\n",
        "print(\"Optimization Finished!\")\n",
        "\n",
        "print(\"Best Epoch: {:04d}\".format(best_epoch))\n",
        "\n",
        "if save_folder:\n",
        "\n",
        "print(\"Best Epoch: {:04d}\".format(best_epoch), file-log) log.flush()"
      ],
      "metadata": {
        "id": "pYverUTq6tf0"
      },
      "execution_count": null,
      "outputs": []
    },
    {
      "cell_type": "code",
      "source": [
        "test()\n",
        "\n",
        "if log is not None:\n",
        "\n",
        "print(save_folder)\n",
        "\n",
        "log.close()\n",
        "\n",
        "print(\"Total time elapsed: {:.4f}s\".format(time.\n",
        "\n",
        "<ipython-input-15-91d3217fa04a>:10: UserWarning: data, target Variable(data, volatile=True), =\n",
        "\n",
        "---Testing-\n",
        "\n",
        "loss_test: 0.6945065260 acc_test: 0.4903646111 True\n",
        "\n",
        "Total time elapsed: 454.8647s\n",
        "\n",
        "[20]:\n",
        "\n",
        "for batch_idx, (data, target) in enumerate (train_1 data, target = Variable(data), Variable(target\n",
        "\n",
        "[22]: data.size()"
      ],
      "metadata": {
        "id": "T5djRHe_6xQJ"
      },
      "execution_count": null,
      "outputs": []
    }
  ]
}