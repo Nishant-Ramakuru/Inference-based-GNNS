{
  "nbformat": 4,
  "nbformat_minor": 0,
  "metadata": {
    "colab": {
      "provenance": [],
      "collapsed_sections": [],
      "include_colab_link": true
    },
    "kernelspec": {
      "name": "python3",
      "display_name": "Python 3"
    },
    "language_info": {
      "name": "python"
    }
  },
  "cells": [
    {
      "cell_type": "markdown",
      "metadata": {
        "id": "view-in-github",
        "colab_type": "text"
      },
      "source": [
        "<a href=\"https://colab.research.google.com/github/Nishant-Ramakuru/Inference-based-GNNS/blob/main/Predicting_Collective_Dynamics_w_GNN_Simulator.ipynb\" target=\"_parent\"><img src=\"https://colab.research.google.com/assets/colab-badge.svg\" alt=\"Open In Colab\"/></a>"
      ]
    },
    {
      "cell_type": "markdown",
      "source": [
        "## Simulator used to generate collective dynamics\n",
        "\n",
        "This simulator makes use of a JAX-MD library to create simple simulations of collective dynamics of active agents using GPU hardware and is fully differentiable. The first model uses a simple interaction potential such that agents maintain a minimal distance from each other and have an individual self-propulsion force. Additionally agents move stochastically such that their orientation is randomly determined. \n",
        "\n",
        "## TODO: \n",
        "\n",
        "- Output neighbour lists (as adjacency lists)\n",
        "- Extend to include alignment\n",
        "- Extend to include populations of agents\n",
        "- Extend to include novel interaction dynamics "
      ],
      "metadata": {
        "id": "g6MbpoHhKNiP"
      }
    },
    {
      "cell_type": "code",
      "execution_count": null,
      "metadata": {
        "colab": {
          "base_uri": "https://localhost:8080/"
        },
        "id": "LI5uP9wGIDGN",
        "outputId": "0c818781-1a98-4b24-df52-c6b54a931326"
      },
      "outputs": [
        {
          "output_type": "stream",
          "name": "stdout",
          "text": [
            "Looking in indexes: https://pypi.org/simple, https://us-python.pkg.dev/colab-wheels/public/simple/\n",
            "Requirement already satisfied: jax in /usr/local/lib/python3.7/dist-packages (0.3.17)\n",
            "Requirement already satisfied: numpy>=1.20 in /usr/local/lib/python3.7/dist-packages (from jax) (1.21.6)\n",
            "Requirement already satisfied: absl-py in /usr/local/lib/python3.7/dist-packages (from jax) (1.2.0)\n",
            "Requirement already satisfied: typing-extensions in /usr/local/lib/python3.7/dist-packages (from jax) (4.1.1)\n",
            "Requirement already satisfied: opt-einsum in /usr/local/lib/python3.7/dist-packages (from jax) (3.3.0)\n",
            "Requirement already satisfied: scipy>=1.5 in /usr/local/lib/python3.7/dist-packages (from jax) (1.7.3)\n",
            "Requirement already satisfied: etils[epath] in /usr/local/lib/python3.7/dist-packages (from jax) (0.7.1)\n",
            "Requirement already satisfied: zipp in /usr/local/lib/python3.7/dist-packages (from etils[epath]->jax) (3.8.1)\n",
            "Requirement already satisfied: importlib_resources in /usr/local/lib/python3.7/dist-packages (from etils[epath]->jax) (5.9.0)\n",
            "Looking in indexes: https://pypi.org/simple, https://us-python.pkg.dev/colab-wheels/public/simple/\n",
            "Requirement already satisfied: jax-md in /usr/local/lib/python3.7/dist-packages (0.2.0)\n",
            "Requirement already satisfied: numpy in /usr/local/lib/python3.7/dist-packages (from jax-md) (1.21.6)\n",
            "Requirement already satisfied: dataclasses in /usr/local/lib/python3.7/dist-packages (from jax-md) (0.6)\n",
            "Requirement already satisfied: dm-haiku>=0.0.2 in /usr/local/lib/python3.7/dist-packages (from jax-md) (0.0.8)\n",
            "Requirement already satisfied: jraph in /usr/local/lib/python3.7/dist-packages (from jax-md) (0.0.6.dev0)\n",
            "Requirement already satisfied: absl-py in /usr/local/lib/python3.7/dist-packages (from jax-md) (1.2.0)\n",
            "Requirement already satisfied: jaxlib>=0.1.52 in /usr/local/lib/python3.7/dist-packages (from jax-md) (0.3.15+cuda11.cudnn805)\n",
            "Requirement already satisfied: jax>=0.1.73 in /usr/local/lib/python3.7/dist-packages (from jax-md) (0.3.17)\n",
            "Requirement already satisfied: typing-extensions in /usr/local/lib/python3.7/dist-packages (from dm-haiku>=0.0.2->jax-md) (4.1.1)\n",
            "Requirement already satisfied: jmp>=0.0.2 in /usr/local/lib/python3.7/dist-packages (from dm-haiku>=0.0.2->jax-md) (0.0.2)\n",
            "Requirement already satisfied: tabulate>=0.8.9 in /usr/local/lib/python3.7/dist-packages (from dm-haiku>=0.0.2->jax-md) (0.8.10)\n",
            "Requirement already satisfied: scipy>=1.5 in /usr/local/lib/python3.7/dist-packages (from jax>=0.1.73->jax-md) (1.7.3)\n",
            "Requirement already satisfied: etils[epath] in /usr/local/lib/python3.7/dist-packages (from jax>=0.1.73->jax-md) (0.7.1)\n",
            "Requirement already satisfied: opt-einsum in /usr/local/lib/python3.7/dist-packages (from jax>=0.1.73->jax-md) (3.3.0)\n",
            "Requirement already satisfied: zipp in /usr/local/lib/python3.7/dist-packages (from etils[epath]->jax>=0.1.73->jax-md) (3.8.1)\n",
            "Requirement already satisfied: importlib_resources in /usr/local/lib/python3.7/dist-packages (from etils[epath]->jax>=0.1.73->jax-md) (5.9.0)\n"
          ]
        }
      ],
      "source": [
        "!pip install jax\n",
        "!pip install jax-md\n",
        "!pip install tqdm"
      ]
    },
    {
      "cell_type": "code",
      "source": [
        "import pickle\n",
        "\n",
        "import numpy as onp\n",
        "\n",
        "from jax.config import config ; config.update('jax_enable_x64', True) \n",
        "import jax.numpy as np \n",
        "from jax import random \n",
        "from jax import jit  \n",
        "from jax import lax  \n",
        "from jax import vmap \n",
        "\n",
        "import time \n",
        "from tqdm import tqdm\n",
        "from jax_md import space, smap, energy, minimize, quantity, simulate, partition,dataclasses\n",
        "from jax_md import util\n",
        "from collections import namedtuple \n",
        "from functools import partial \n",
        "from typing import Any, Callable, TypeVar, Union, Tuple, Dict, Optional"
      ],
      "metadata": {
        "colab": {
          "base_uri": "https://localhost:8080/"
        },
        "id": "BC0z4Z43INdL",
        "outputId": "db01c928-e4f5-4945-8d6c-858c371067ba"
      },
      "execution_count": null,
      "outputs": [
        {
          "output_type": "stream",
          "name": "stderr",
          "text": [
            "WARNING:absl:No GPU/TPU found, falling back to CPU. (Set TF_CPP_MIN_LOG_LEVEL=0 and rerun for more info.)\n"
          ]
        }
      ]
    },
    {
      "cell_type": "code",
      "source": [
        "def interaction_potential(dR, J_avoid, D_avoid, alpha):\n",
        "    dr = space.distance(dR) / D_avoid\n",
        "    return np.where(dr < 1., \n",
        "                    J_avoid / alpha * (1 - dr) ** alpha, \n",
        "                    0.)\n",
        "\n",
        "def energy_fn(state):\n",
        "    E_interact = partial(interaction_potential, J_avoid=25., D_avoid=30., alpha=3.)\n",
        "    E_interact = vmap(vmap(E_interact))\n",
        "\n",
        "    dR = space.map_product(displacement_fn)(state,state)\n",
        "\n",
        "    return 0.5 * np.sum(E_interact(dR))"
      ],
      "metadata": {
        "id": "eYVTUcwqI3Q7"
      },
      "execution_count": null,
      "outputs": []
    },
    {
      "cell_type": "code",
      "source": [
        "@dataclasses.dataclass\n",
        "class ActiveBrownianState:\n",
        "    \"\"\"A tuple containing state information for Brownian dynamics.\n",
        "\n",
        "    Attributes:\n",
        "    position: The current position of the particles. An ndarray of floats with\n",
        "      shape `[n, spatial_dimension]`.\n",
        "    mass: The mass of particles. Will either be a float or an ndarray of floats\n",
        "      with shape `[n]`.\n",
        "    rng: The current state of the random number generator.\n",
        "    \"\"\"\n",
        "    position: util.Array\n",
        "    theta: util.Array\n",
        "    rng: util.Array\n"
      ],
      "metadata": {
        "id": "Y2bS80-8I1AF"
      },
      "execution_count": null,
      "outputs": []
    },
    {
      "cell_type": "code",
      "source": [
        "T = TypeVar('T')\n",
        "InitFn = Callable[..., T]\n",
        "ApplyFn = Callable[[T], T]\n",
        "\n",
        "def activeBrownian(energy_or_force: Callable[..., util.Array],\n",
        "    shift: space.ShiftFn,\n",
        "    dt: float,\n",
        "    tau: float,\n",
        "    v0: float=0.1) -> Tuple[InitFn, ApplyFn]:\n",
        "    \"\"\"Simulation of active Brownian dynamics.\n",
        "\n",
        "    Simulates active Brownian dynamics which are synonymous with the overdamped\n",
        "    regime of Langevin dynamics with self-propulsion force. \n",
        "    Args:\n",
        "    energy_or_force: A function that produces either an energy or a force from\n",
        "    a set of particle positions specified as an ndarray of shape\n",
        "    `[n, spatial_dimension]`.\n",
        "    shift_fn: A function that displaces positions, `R`, by an amount `dR`.\n",
        "    Both `R` and `dR` should be ndarrays of shape `[n, spatial_dimension]`.\n",
        "    dt: Floating point number specifying the timescale (step size) of the\n",
        "    simulation.\n",
        "    tau: Floating point number specifying persistence timescale.\n",
        "    v0: Floating point number specifying active force.\n",
        "\n",
        "    Returns:\n",
        "        See above.\n",
        "    \"\"\"\n",
        "    # convert energy functions to forces\n",
        "    dt, tau, v0 = util.static_cast(dt, tau, v0)\n",
        "    force_fn = quantity.canonicalize_force(energy_or_force)\n",
        "    \n",
        "    def init_fn(R, theta, key):\n",
        "        return ActiveBrownianState(R, theta, key)  # pytype: disable=wrong-arg-count\n",
        "\n",
        "    @vmap\n",
        "    def normal(theta):\n",
        "        return np.array([np.cos(theta), np.sin(theta)])\n",
        "\n",
        "    def apply_fn(_, state, **kwargs):\n",
        "    \n",
        "        # Combine movement functionality into a `move` function.\n",
        "        R, theta, key = dataclasses.astuple(state)\n",
        "        \n",
        "        key, split = random.split(key)\n",
        "        eta = random.normal(split, theta.shape, theta.dtype)\n",
        "\n",
        "        F_int = force_fn(R)\n",
        "        \n",
        "        dR = dt * (v0*normal(theta)+ F_int)\n",
        "        R = shift(R, dR, **kwargs)\n",
        "        \n",
        "        theta = theta + (dt*util.f32(2)/tau)**(1/2) * eta\n",
        "\n",
        "        return ActiveBrownianState(R,theta,key)\n",
        "\n",
        "    return init_fn, apply_fn"
      ],
      "metadata": {
        "id": "fR5MnG17I_WJ"
      },
      "execution_count": null,
      "outputs": []
    },
    {
      "cell_type": "code",
      "source": [
        "# Create RNG state to draw random numbers\n",
        "key = random.PRNGKey(0)\n",
        "\n",
        "# Simulation Parameters:\n",
        "poly = 0.3\n",
        "box_size = 55.0\n",
        "Nparticles = 650 \n",
        "dt = 1e-2\n",
        "tau = 1\n",
        "v0 = 0.1\n",
        "dim = 2\n"
      ],
      "metadata": {
        "id": "JADvwU71JFHX"
      },
      "execution_count": null,
      "outputs": []
    },
    {
      "cell_type": "code",
      "source": [
        "# Define periodic boundary conditions.\n",
        "displacement_fn, shift_fn = space.periodic(box_size)\n",
        "\n",
        "# Define simulation function\n",
        "init_fn, apply_fn = activeBrownian(energy_fn, shift_fn, dt, tau, v0)\n"
      ],
      "metadata": {
        "id": "OW17ojHJJGKq"
      },
      "execution_count": null,
      "outputs": []
    },
    {
      "cell_type": "code",
      "source": [
        "# Initialize the particle positions, theta\n",
        "rng, R_rng, theta_rng = random.split(key, 3)\n",
        "\n",
        "R = box_size * random.uniform(R_rng, (Nparticles, dim))\n",
        "theta = random.uniform(theta_rng, (Nparticles,), maxval= 2.* np.pi)\n"
      ],
      "metadata": {
        "id": "SSVPrKeaJHRH"
      },
      "execution_count": null,
      "outputs": []
    },
    {
      "cell_type": "code",
      "source": [
        "state = init_fn(R, theta, key)\n"
      ],
      "metadata": {
        "id": "tIFgaZ8lJJGV"
      },
      "execution_count": null,
      "outputs": []
    },
    {
      "cell_type": "code",
      "source": [
        "state_buffer = []\n",
        "\n",
        "t0 = time.time() \n",
        "for i in tqdm(range(2)):\n",
        "    state = lax.fori_loop(0, 200, apply_fn, (state))\n",
        "    state_buffer.append(state.position)\n",
        "\n",
        "tend =time.time()"
      ],
      "metadata": {
        "colab": {
          "base_uri": "https://localhost:8080/"
        },
        "id": "a1aqVgGHJKbn",
        "outputId": "0e64cdff-80d2-4ce0-92a3-d4d337a3373a"
      },
      "execution_count": null,
      "outputs": [
        {
          "output_type": "stream",
          "name": "stderr",
          "text": [
            "100%|██████████| 2/2 [00:07<00:00,  3.92s/it]\n"
          ]
        }
      ]
    },
    {
      "cell_type": "code",
      "source": [],
      "metadata": {
        "id": "UMDnbNK6Jrnf"
      },
      "execution_count": null,
      "outputs": []
    }
  ]
}