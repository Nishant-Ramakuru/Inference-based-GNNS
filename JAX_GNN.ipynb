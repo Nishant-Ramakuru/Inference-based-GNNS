{
  "nbformat": 4,
  "nbformat_minor": 0,
  "metadata": {
    "colab": {
      "name": "JAX_GNN.ipynb",
      "provenance": [],
      "collapsed_sections": [],
      "mount_file_id": "1PaHyXHX6C0fL-kuK_1TlgERlKHGEDzCr",
      "authorship_tag": "ABX9TyPXlwK1GXUqw8lcHHowNmVD",
      "include_colab_link": true
    },
    "kernelspec": {
      "name": "python3",
      "display_name": "Python 3"
    },
    "language_info": {
      "name": "python"
    }
  },
  "cells": [
    {
      "cell_type": "markdown",
      "metadata": {
        "id": "view-in-github",
        "colab_type": "text"
      },
      "source": [
        "<a href=\"https://colab.research.google.com/github/Nishant-Ramakuru/Inference-based-GNNS/blob/main/JAX_GNN.ipynb\" target=\"_parent\"><img src=\"https://colab.research.google.com/assets/colab-badge.svg\" alt=\"Open In Colab\"/></a>"
      ]
    },
    {
      "cell_type": "code",
      "source": [
        "!pip install jraph\n",
        "! pip install git+https://github.com/deepmind/dm-haiku"
      ],
      "metadata": {
        "colab": {
          "base_uri": "https://localhost:8080/"
        },
        "id": "UwkigCYqHAEk",
        "outputId": "ac823249-5cd3-448c-e885-8aa040a1e98d"
      },
      "execution_count": 1,
      "outputs": [
        {
          "output_type": "stream",
          "name": "stdout",
          "text": [
            "Looking in indexes: https://pypi.org/simple, https://us-python.pkg.dev/colab-wheels/public/simple/\n",
            "Requirement already satisfied: jraph in /usr/local/lib/python3.7/dist-packages (0.0.5.dev0)\n",
            "Requirement already satisfied: numpy>=1.18.0 in /usr/local/lib/python3.7/dist-packages (from jraph) (1.21.6)\n",
            "Requirement already satisfied: jaxlib>=0.1.37 in /usr/local/lib/python3.7/dist-packages (from jraph) (0.3.14+cuda11.cudnn805)\n",
            "Requirement already satisfied: jax>=0.1.55 in /usr/local/lib/python3.7/dist-packages (from jraph) (0.3.14)\n",
            "Requirement already satisfied: scipy>=1.5 in /usr/local/lib/python3.7/dist-packages (from jax>=0.1.55->jraph) (1.7.3)\n",
            "Requirement already satisfied: typing-extensions in /usr/local/lib/python3.7/dist-packages (from jax>=0.1.55->jraph) (4.1.1)\n",
            "Requirement already satisfied: etils[epath] in /usr/local/lib/python3.7/dist-packages (from jax>=0.1.55->jraph) (0.6.0)\n",
            "Requirement already satisfied: opt-einsum in /usr/local/lib/python3.7/dist-packages (from jax>=0.1.55->jraph) (3.3.0)\n",
            "Requirement already satisfied: absl-py in /usr/local/lib/python3.7/dist-packages (from jax>=0.1.55->jraph) (1.2.0)\n",
            "Requirement already satisfied: flatbuffers<3.0,>=1.12 in /usr/local/lib/python3.7/dist-packages (from jaxlib>=0.1.37->jraph) (2.0)\n",
            "Requirement already satisfied: zipp in /usr/local/lib/python3.7/dist-packages (from etils[epath]->jax>=0.1.55->jraph) (3.8.1)\n",
            "Requirement already satisfied: importlib_resources in /usr/local/lib/python3.7/dist-packages (from etils[epath]->jax>=0.1.55->jraph) (5.8.0)\n",
            "Looking in indexes: https://pypi.org/simple, https://us-python.pkg.dev/colab-wheels/public/simple/\n",
            "Collecting git+https://github.com/deepmind/dm-haiku\n",
            "  Cloning https://github.com/deepmind/dm-haiku to /tmp/pip-req-build-g1ivwei1\n",
            "  Running command git clone -q https://github.com/deepmind/dm-haiku /tmp/pip-req-build-g1ivwei1\n",
            "Requirement already satisfied: absl-py>=0.7.1 in /usr/local/lib/python3.7/dist-packages (from dm-haiku==0.0.8.dev0) (1.2.0)\n",
            "Requirement already satisfied: jmp>=0.0.2 in /usr/local/lib/python3.7/dist-packages (from dm-haiku==0.0.8.dev0) (0.0.2)\n",
            "Requirement already satisfied: numpy>=1.18.0 in /usr/local/lib/python3.7/dist-packages (from dm-haiku==0.0.8.dev0) (1.21.6)\n",
            "Requirement already satisfied: tabulate>=0.8.9 in /usr/local/lib/python3.7/dist-packages (from dm-haiku==0.0.8.dev0) (0.8.10)\n",
            "Requirement already satisfied: typing_extensions in /usr/local/lib/python3.7/dist-packages (from dm-haiku==0.0.8.dev0) (4.1.1)\n"
          ]
        }
      ]
    },
    {
      "cell_type": "code",
      "source": [
        "!pip install optax"
      ],
      "metadata": {
        "colab": {
          "base_uri": "https://localhost:8080/"
        },
        "id": "NbnGUzRzIPUB",
        "outputId": "d1c7a8d0-d299-4f64-f6f0-b0807becbe00"
      },
      "execution_count": 2,
      "outputs": [
        {
          "output_type": "stream",
          "name": "stdout",
          "text": [
            "Looking in indexes: https://pypi.org/simple, https://us-python.pkg.dev/colab-wheels/public/simple/\n",
            "Requirement already satisfied: optax in /usr/local/lib/python3.7/dist-packages (0.1.3)\n",
            "Requirement already satisfied: chex>=0.0.4 in /usr/local/lib/python3.7/dist-packages (from optax) (0.1.3)\n",
            "Requirement already satisfied: absl-py>=0.7.1 in /usr/local/lib/python3.7/dist-packages (from optax) (1.2.0)\n",
            "Requirement already satisfied: jaxlib>=0.1.37 in /usr/local/lib/python3.7/dist-packages (from optax) (0.3.14+cuda11.cudnn805)\n",
            "Requirement already satisfied: jax>=0.1.55 in /usr/local/lib/python3.7/dist-packages (from optax) (0.3.14)\n",
            "Requirement already satisfied: numpy>=1.18.0 in /usr/local/lib/python3.7/dist-packages (from optax) (1.21.6)\n",
            "Requirement already satisfied: typing-extensions>=3.10.0 in /usr/local/lib/python3.7/dist-packages (from optax) (4.1.1)\n",
            "Requirement already satisfied: toolz>=0.9.0 in /usr/local/lib/python3.7/dist-packages (from chex>=0.0.4->optax) (0.12.0)\n",
            "Requirement already satisfied: dm-tree>=0.1.5 in /usr/local/lib/python3.7/dist-packages (from chex>=0.0.4->optax) (0.1.7)\n",
            "Requirement already satisfied: scipy>=1.5 in /usr/local/lib/python3.7/dist-packages (from jax>=0.1.55->optax) (1.7.3)\n",
            "Requirement already satisfied: etils[epath] in /usr/local/lib/python3.7/dist-packages (from jax>=0.1.55->optax) (0.6.0)\n",
            "Requirement already satisfied: opt-einsum in /usr/local/lib/python3.7/dist-packages (from jax>=0.1.55->optax) (3.3.0)\n",
            "Requirement already satisfied: flatbuffers<3.0,>=1.12 in /usr/local/lib/python3.7/dist-packages (from jaxlib>=0.1.37->optax) (2.0)\n",
            "Requirement already satisfied: importlib_resources in /usr/local/lib/python3.7/dist-packages (from etils[epath]->jax>=0.1.55->optax) (5.8.0)\n",
            "Requirement already satisfied: zipp in /usr/local/lib/python3.7/dist-packages (from etils[epath]->jax>=0.1.55->optax) (3.8.1)\n"
          ]
        }
      ]
    },
    {
      "cell_type": "code",
      "source": [
        "import jax\n",
        "import jax.numpy as jnp\n",
        "import jraph\n",
        "import networkx as nx\n",
        "import numpy as onp\n",
        "import haiku as hk\n",
        "import pickle\n",
        "\n",
        "import optax\n",
        "from sklearn.metrics import roc_auc_score\n",
        "#from absl import app, params, logging\n",
        "\n",
        "import functools\n",
        "from typing import List, Dict, Any, Tuple\n"
      ],
      "metadata": {
        "id": "_p7nr8ZRGXNV"
      },
      "execution_count": 3,
      "outputs": []
    },
    {
      "cell_type": "markdown",
      "source": [
        "Data"
      ],
      "metadata": {
        "id": "76MRJ0GyF869"
      }
    },
    {
      "cell_type": "code",
      "source": [
        "def load_dataset(path_to_dataset: str) -> jraph.GraphsTuple:\n",
        "  with open(path_to_dataset, 'rb') as f:\n",
        "      cora_ds = pickle.load(f)\n",
        "  return cora_ds\n",
        "\n",
        "def train_val_test_split_edges(graph: jraph.GraphsTuple,\n",
        "                               val_perc: float = 0.05,\n",
        "                               test_perc: float = 0.1):\n",
        "  \"\"\"Split edges in input graph into train, val and test splits.\n",
        "\n",
        "  For val and test sets, also include negative edges.\n",
        "  Based on torch_geometric.utils.train_test_split_edges.\n",
        "\n",
        "  JAX implementation based fully on:\n",
        "  https://github.com/deepmind/educational/blob/master/colabs/summer_schools/intro_to_graph_nets_tutorial_with_jraph.ipynb\n",
        "  \"\"\"\n",
        "  mask = graph.senders < graph.receivers\n",
        "  senders = graph.senders[mask]\n",
        "  receivers = graph.receivers[mask]\n",
        "  num_val = int(val_perc * senders.shape[0])\n",
        "  num_test = int(test_perc * senders.shape[0])\n",
        "  permuted_indices = onp.random.permutation(range(senders.shape[0]))\n",
        "  senders = senders[permuted_indices]\n",
        "  receivers = receivers[permuted_indices]\n",
        "  if graph.edges is not None:\n",
        "    edges = graph.edges[permuted_indices]\n",
        "\n",
        "  val_senders = senders[:num_val]\n",
        "  val_receivers = receivers[:num_val]\n",
        "  if graph.edges is not None:\n",
        "    val_edges = edges[:num_val]\n",
        "\n",
        "  test_senders = senders[num_val:num_val + num_test]\n",
        "  test_receivers = receivers[num_val:num_val + num_test]\n",
        "  if graph.edges is not None:\n",
        "    test_edges = edges[num_val:num_val + num_test]\n",
        "\n",
        "  train_senders = senders[num_val + num_test:]\n",
        "  train_receivers = receivers[num_val + num_test:]\n",
        "  train_edges = None\n",
        "  if graph.edges is not None:\n",
        "    train_edges = edges[num_val + num_test:]\n",
        "\n",
        "  # make training edges undirected by adding reverse edges back in\n",
        "  train_senders_undir = jnp.concatenate((train_senders, train_receivers))\n",
        "  train_receivers_undir = jnp.concatenate((train_receivers, train_senders))\n",
        "  train_senders = train_senders_undir\n",
        "  train_receivers = train_receivers_undir\n",
        "\n",
        "  # Negative edges.\n",
        "  num_nodes = graph.n_node[0]\n",
        "  # Create a negative adjacency mask, s.t. mask[i, j] = True iff edge i->j does\n",
        "  # not exist in the original graph.\n",
        "  neg_adj_mask = onp.ones((num_nodes, num_nodes), dtype=onp.uint8)\n",
        "  # upper triangular part\n",
        "  neg_adj_mask = onp.triu(neg_adj_mask, k=1)\n",
        "  neg_adj_mask[graph.senders, graph.receivers] = 0\n",
        "  neg_adj_mask = neg_adj_mask.astype(onp.bool)\n",
        "  neg_senders, neg_receivers = neg_adj_mask.nonzero()\n",
        "\n",
        "  perm = onp.random.permutation(range(len(neg_senders)))\n",
        "  neg_senders = neg_senders[perm]\n",
        "  neg_receivers = neg_receivers[perm]\n",
        "\n",
        "  val_neg_senders = neg_senders[:num_val]\n",
        "  val_neg_receivers = neg_receivers[:num_val]\n",
        "  test_neg_senders = neg_senders[num_val:num_val + num_test]\n",
        "  test_neg_receivers = neg_receivers[num_val:num_val + num_test]\n",
        "\n",
        "  train_graph = jraph.GraphsTuple(\n",
        "      nodes=graph.nodes,\n",
        "      edges=train_edges,\n",
        "      senders=train_senders,\n",
        "      receivers=train_receivers,\n",
        "      n_node=graph.n_node,\n",
        "      n_edge=jnp.array([len(train_senders)]),\n",
        "      globals=graph.globals)\n",
        "\n",
        "  return (\n",
        "    train_graph, neg_adj_mask, \n",
        "    val_senders, val_receivers, val_neg_senders, val_neg_receivers, \n",
        "    test_senders, test_receivers, test_neg_senders, test_neg_receivers)\n",
        "\n",
        "def negative_sampling(\n",
        "    graph: jraph.GraphsTuple, num_neg_samples: int,\n",
        "    key: jnp.DeviceArray) -> Tuple[jnp.DeviceArray, jnp.DeviceArray]:\n",
        "  \"\"\"Samples negative edges, i.e. edges that don't exist in the input graph.\n",
        "  \n",
        "  Based fully on:\n",
        "  https://github.com/deepmind/educational/blob/master/colabs/summer_schools/intro_to_graph_nets_tutorial_with_jraph.ipynb\n",
        "  \"\"\"\n",
        "  num_nodes = graph.n_node[0]\n",
        "  total_possible_edges = num_nodes**2\n",
        "  # convert 2D edge indices to 1D representation.\n",
        "  pos_idx = graph.senders * num_nodes + graph.receivers\n",
        "\n",
        "  # Percentage to oversample edges, so most likely will sample enough neg edges.\n",
        "  alpha = jnp.abs(1 / (1 - 1.1 *\n",
        "                       (graph.senders.shape[0] / total_possible_edges)))\n",
        "\n",
        "  perm = jax.random.randint(\n",
        "      key,\n",
        "      shape=(int(alpha * num_neg_samples),),\n",
        "      minval=0,\n",
        "      maxval=total_possible_edges,\n",
        "      dtype=jnp.uint32)\n",
        "\n",
        "  # mask where sampled edges are positive edges.\n",
        "  mask = jnp.isin(perm, pos_idx)\n",
        "  # remove positive edges.\n",
        "  perm = perm[~mask][:num_neg_samples]\n",
        "\n",
        "  # convert 1d back to 2d edge indices.\n",
        "  neg_senders = perm // num_nodes\n",
        "  neg_receivers = perm % num_nodes\n",
        "\n",
        "  return neg_senders, neg_receivers\n",
        "\n",
        "def convert_jraph_to_networkx_graph(jraph_graph: jraph.GraphsTuple) -> nx.Graph:\n",
        "  \"\"\"Converts a JAX GraphsTuple to a NetworkX graph.\n",
        "  \n",
        "  Based fully on: \n",
        "  https://github.com/deepmind/educational/blob/master/colabs/summer_schools/intro_to_graph_nets_tutorial_with_jraph.ipynb\n",
        "  \"\"\"\n",
        "  nodes, edges, receivers, senders, _, _, _ = jraph_graph\n",
        "  nx_graph = nx.DiGraph()\n",
        "  if nodes is None:\n",
        "    for n in range(jraph_graph.n_node[0]):\n",
        "      nx_graph.add_node(n)\n",
        "  else:\n",
        "    for n in range(jraph_graph.n_node[0]):\n",
        "      nx_graph.add_node(n, node_feature=nodes[n])\n",
        "  if edges is None:\n",
        "    for e in range(jraph_graph.n_edge[0]):\n",
        "      nx_graph.add_edge(int(senders[e]), int(receivers[e]))\n",
        "  else:\n",
        "    for e in range(jraph_graph.n_edge[0]):\n",
        "      nx_graph.add_edge(\n",
        "          int(senders[e]), int(receivers[e]), edge_feature=edges[e])\n",
        "  return nx_graph\n",
        "\n",
        "def compute_norm_and_weights(graph: jraph.GraphsTuple) -> Tuple[float, float]:\n",
        "  graph_n_node = graph.n_node.item()\n",
        "  graph_adj = nx.to_numpy_matrix(convert_jraph_to_networkx_graph(graph))\n",
        "  adj_sum = onp.sum(graph_adj)\n",
        "  pos_weight = float(graph_n_node**2 - adj_sum) / adj_sum\n",
        "  norm_adj = graph_n_node**2 / 2.0*(graph_n_node**2 - adj_sum)\n",
        "  return pos_weight, norm_adj"
      ],
      "metadata": {
        "id": "vJ3JvXcXF8Ry"
      },
      "execution_count": 36,
      "outputs": []
    },
    {
      "cell_type": "markdown",
      "source": [
        "Model"
      ],
      "metadata": {
        "id": "JyjBt9QvFmU9"
      }
    },
    {
      "cell_type": "code",
      "execution_count": 37,
      "metadata": {
        "id": "9qaU-ue5EbKv"
      },
      "outputs": [],
      "source": [
        "def vgae_encoder(graph: jraph.GraphsTuple,\n",
        "                 hidden_dim: int,\n",
        "                 latent_dim: int) -> Tuple[jraph.GraphsTuple, jraph.GraphsTuple]:\n",
        "  \"\"\"VGAE network definition.\"\"\"\n",
        "  graph = graph._replace(globals=jnp.zeros([graph.n_node.shape[0], 1]))\n",
        "  \n",
        "  @jraph.concatenated_args\n",
        "  def hidden_node_update_fn(feats: jnp.ndarray) -> jnp.ndarray:\n",
        "    \"\"\"Node update function for hidden layer.\"\"\"\n",
        "    net = hk.Sequential([hk.Linear(hidden_dim), jax.nn.relu])\n",
        "    return net(feats)\n",
        "\n",
        "  @jraph.concatenated_args\n",
        "  def latent_node_update_fn(feats: jnp.ndarray) -> jnp.ndarray:\n",
        "    \"\"\"Node update function for latent layer.\"\"\"\n",
        "    return hk.Linear(latent_dim)(feats)\n",
        "\n",
        "  net_hidden = jraph.GraphConvolution(\n",
        "    update_node_fn=hidden_node_update_fn,\n",
        "    add_self_edges=True\n",
        "  )\n",
        "  h = net_hidden(graph)\n",
        "  \n",
        "  net_mean = jraph.GraphConvolution(\n",
        "    update_node_fn=latent_node_update_fn,\n",
        "    add_self_edges=True\n",
        "  )\n",
        "  net_log_std = jraph.GraphConvolution(\n",
        "    update_node_fn=latent_node_update_fn,\n",
        "    add_self_edges=True\n",
        "  )\n",
        "  mean, log_std = net_mean(h), net_log_std(h)\n",
        "  return mean, log_std\n",
        "  \n",
        "\n",
        "def gae_encoder(graph: jraph.GraphsTuple,\n",
        "                hidden_dim: int,\n",
        "                latent_dim: int) -> jraph.GraphsTuple:\n",
        "  \"\"\"GAE network definition.\"\"\"\n",
        "  graph = graph._replace(globals=jnp.zeros([graph.n_node.shape[0], 1]))\n",
        "  \n",
        "  @jraph.concatenated_args\n",
        "  def node_update_fn(feats: jnp.ndarray) -> jnp.ndarray:\n",
        "    net = hk.Sequential([hk.Linear(hidden_dim), jax.nn.relu, hk.Linear(latent_dim)])\n",
        "    return net(feats)\n",
        "  \n",
        "  net = jraph.GraphConvolution(\n",
        "    update_node_fn=node_update_fn, \n",
        "    add_self_edges=True)\n",
        "  return net(graph)\n",
        "\n",
        "\n",
        "def inner_product_decode(pred_graph_nodes: jnp.ndarray, senders: jnp.ndarray,\n",
        "           receivers: jnp.ndarray) -> jnp.ndarray:\n",
        "  \"\"\"Given a set of candidate edges, take dot product of respective nodes.\n",
        "\n",
        "  Args:\n",
        "    pred_graph_nodes: input graph nodes Z.\n",
        "    senders: Senders of candidate edges.\n",
        "    receivers: Receivers of candidate edges.\n",
        "\n",
        "  Returns:\n",
        "    For each edge, computes dot product of the features of the two nodes.\n",
        "\n",
        "  \"\"\"\n",
        "  return jnp.squeeze(\n",
        "      jnp.sum(pred_graph_nodes[senders] * pred_graph_nodes[receivers], axis=1))"
      ]
    },
    {
      "cell_type": "markdown",
      "source": [
        "Loss"
      ],
      "metadata": {
        "id": "52lGL9tPFvtc"
      }
    },
    {
      "cell_type": "code",
      "source": [
        "def compute_vgae_loss(params: hk.Params, graph: jraph.GraphsTuple,\n",
        "                 senders: jnp.ndarray, receivers: jnp.ndarray,\n",
        "                 labels: jnp.ndarray,\n",
        "                 net: hk.Transformed, \n",
        "                 rng_key: jnp.ndarray) -> Tuple[jnp.ndarray, jnp.ndarray]:\n",
        "  \"\"\"Computes VGAE loss.\"\"\"\n",
        "  mean_graph, log_std_graph = net.apply(params, graph)\n",
        "  \n",
        "  mean, log_std = mean_graph.nodes, log_std_graph.nodes\n",
        "  eps = jax.random.normal(rng_key, mean.shape)\n",
        "  z = mean + eps * jnp.exp(log_std)\n",
        "  logits = inner_product_decode(z, senders, receivers)\n",
        "  \n",
        "  n_node = z.shape[0]\n",
        "  kld = 1.0/n_node * jnp.mean(compute_kl_gaussian(mean, log_std), axis=-1)\n",
        "  log_likelihood = compute_bce_with_logits_loss(logits, labels)\n",
        "  \n",
        "  loss = log_likelihood + kld  # want to maximize this quantity.\n",
        "  return loss, logits\n",
        "\n",
        "\n",
        "def compute_gae_loss(params: hk.Params, graph: jraph.GraphsTuple,\n",
        "                 senders: jnp.ndarray, receivers: jnp.ndarray,\n",
        "                 labels: jnp.ndarray,\n",
        "                 net: hk.Transformed) -> Tuple[jnp.ndarray, jnp.ndarray]:\n",
        "  \"\"\"Computes GAE loss.\"\"\"\n",
        "  pred_graph = net.apply(params, graph)\n",
        "  logits = inner_product_decode(pred_graph.nodes, senders, receivers)\n",
        "  loss = compute_bce_with_logits_loss(logits, labels)\n",
        "  return loss, logits\n",
        "\n",
        "\n",
        "def compute_bce_with_logits_loss(x: jnp.ndarray, y: jnp.ndarray) -> jnp.ndarray:\n",
        "  \"\"\"Computes binary cross-entropy with logits loss.\n",
        "\n",
        "  Combines sigmoid and BCE, and uses log-sum-exp trick for numerical stability.\n",
        "  See https://stackoverflow.com/a/66909858 if you want to learn more.\n",
        "\n",
        "  Args:\n",
        "    x: Predictions (logits).\n",
        "    y: Labels.\n",
        "\n",
        "  Returns:\n",
        "    Binary cross-entropy loss with mean aggregation.\n",
        "\n",
        "  \"\"\"\n",
        "  max_val = jnp.clip(-x, 0, None)\n",
        "  loss = x - x*y + max_val + jnp.log(jnp.exp(-max_val) + jnp.exp((-x-max_val)))\n",
        "  return jnp.mean(loss, axis=-1)\n",
        "\n",
        "\n",
        "def compute_weighted_bce_with_logits_loss(\n",
        "  x: jnp.ndarray, y: jnp.ndarray, weight: jnp.ndarray) -> jnp.ndarray:\n",
        "  \"\"\"Computes weighted binary cross-entropy with logits loss.\n",
        "\n",
        "  Combines sigmoid and BCE, and uses log-sum-exp trick for numerical stability.\n",
        "  See https://stackoverflow.com/a/66909858 if you want to learn more.\n",
        "\n",
        "  Args:\n",
        "    x: Predictions (logits).\n",
        "    y: Labels.\n",
        "\n",
        "  Returns:\n",
        "    Binary cross-entropy loss.\n",
        "\n",
        "  \"\"\"\n",
        "  max_val = jnp.clip(-x, 0, None)\n",
        "  loss = x - x*y + max_val + jnp.log(jnp.exp(-max_val) + jnp.exp((-x-max_val)))\n",
        "  loss = weight * loss\n",
        "  return jnp.mean(loss, axis=-1)\n",
        "\n",
        "\n",
        "def compute_kl_gaussian(mean: jnp.ndarray, log_std: jnp.ndarray) -> jnp.ndarray:\n",
        "    r\"\"\"Calculate KL divergence between given and standard gaussian distributions.\n",
        "\n",
        "    Args:\n",
        "        mean: feature matrix of the mean.\n",
        "        log_std: feature matrix of the log-covariance.\n",
        "\n",
        "    Returns:\n",
        "        A vector representing KL divergence of the two Gaussian distributions\n",
        "        of length |V| where V is the nodes in the graph.\n",
        "    \"\"\"\n",
        "    var = jnp.exp(log_std)\n",
        "    return 0.5 * jnp.sum(\n",
        "      -2*log_std - 1.0 + jnp.square(var) + jnp.square(mean), axis=-1)\n",
        "  \n",
        "  "
      ],
      "metadata": {
        "id": "pIlCPro1FeG4"
      },
      "execution_count": 38,
      "outputs": []
    },
    {
      "cell_type": "markdown",
      "source": [
        "Train"
      ],
      "metadata": {
        "id": "Ab545Dr8FtLe"
      }
    },
    {
      "cell_type": "code",
      "source": [
        "parameters = {}\n",
        "parameters['learning_rate'] = 1e-2 # 'Learning rate for the optimizer.')\n",
        "parameters['epochs'] =200 #, 'Number of training epochs.')\n",
        "parameters['hidden_dim'] =32 #, 'Hidden dimension in the AE.')\n",
        "parameters['latent_dim']= 16 #, 'Latent dimension in the AE.')\n",
        "parameters['random_seed'] =42 #, 'Random seed.')\n",
        "parameters['eval_frequency'] = 10 #, 'How often to evaluate the model.')\n",
        "parameters['is_vgae']= True #, 'Using Variational GAE vs vanilla GAE.')"
      ],
      "metadata": {
        "id": "4p8J3xVmJpTr"
      },
      "execution_count": 44,
      "outputs": []
    },
    {
      "cell_type": "code",
      "source": [
        "def compute_roc_auc_score(preds: jnp.ndarray,\n",
        "                          labels: jnp.ndarray) -> jnp.ndarray:\n",
        "  \"\"\"Computes roc auc (area under the curve) score for classification.\"\"\"\n",
        "  s = jax.nn.sigmoid(preds)\n",
        "  roc_auc = roc_auc_score(labels, s)\n",
        "  return roc_auc\n",
        "\n",
        "\n",
        "def train(dataset: List[Dict[str, Any]]) -> hk.Params:\n",
        "  \"\"\"Training loop.\"\"\"\n",
        "  key = jax.random.PRNGKey(parameters['random_seed'])\n",
        "  # Transform impure network to pure functions with hk.transform.\n",
        "  net_fn = vgae_encoder if parameters['is_vgae'] else gae_encoder\n",
        "  net_fn = functools.partial(\n",
        "    net_fn, hidden_dim=parameters['hidden_dim'], latent_dim=parameters['latent_dim'])\n",
        "  net = hk.without_apply_rng(hk.transform(net_fn))\n",
        "  \n",
        "  # Get a candidate graph and label to initialize the network.\n",
        "  graph = dataset[0]['input_graph']\n",
        "  train_graph, _, val_pos_s, val_pos_r, val_neg_s, val_neg_r, test_pos_s, \\\n",
        "      test_pos_r, test_neg_s, test_neg_r = train_val_test_split_edges(\n",
        "      graph)\n",
        "\n",
        "  # Prepare the validation and test data.\n",
        "  val_senders = jnp.concatenate((val_pos_s, val_neg_s))\n",
        "  val_receivers = jnp.concatenate((val_pos_r, val_neg_r))\n",
        "  val_labels = jnp.concatenate(\n",
        "      (jnp.ones(len(val_pos_s)), jnp.zeros(len(val_neg_s))))\n",
        "  test_senders = jnp.concatenate((test_pos_s, test_neg_s))\n",
        "  test_receivers = jnp.concatenate((test_pos_r, test_neg_r))\n",
        "  test_labels = jnp.concatenate(\n",
        "      (jnp.ones(len(test_pos_s)), jnp.zeros(len(test_neg_s))))\n",
        "  # Initialize the network.\n",
        "  key, param_key = jax.random.split(key)\n",
        "  params = net.init(param_key, train_graph)\n",
        "  # Initialize the optimizer.\n",
        "  opt_init, opt_update = optax.adam(parameters['learning_rate'])\n",
        "  opt_state = opt_init(params)\n",
        "  \n",
        "  if parameters['is_vgae']:\n",
        "    key, loss_key = jax.random.split(key)\n",
        "    loss_fn = functools.partial(compute_vgae_loss, rng_key=loss_key)\n",
        "  else:\n",
        "    loss_fn = compute_gae_loss\n",
        "  compute_loss_fn = functools.partial(loss_fn, net=net)\n",
        "  # We jit the computation of our loss, since this is the main computation.\n",
        "  compute_loss_fn = jax.jit(jax.value_and_grad(compute_loss_fn, has_aux=True))\n",
        "\n",
        "  key, *neg_sampling_keys = jax.random.split(key, parameters['epochs']+1)\n",
        "  for epoch in range(parameters['epochs']):\n",
        "    num_neg_samples = train_graph.senders.shape[0]\n",
        "    train_neg_senders, train_neg_receivers = negative_sampling(\n",
        "        train_graph, num_neg_samples=num_neg_samples, key=neg_sampling_keys[epoch])\n",
        "    train_senders = jnp.concatenate((train_graph.senders, train_neg_senders))\n",
        "    train_receivers = jnp.concatenate(\n",
        "        (train_graph.receivers, train_neg_receivers))\n",
        "    train_labels = jnp.concatenate(\n",
        "        (jnp.ones(len(train_graph.senders)), jnp.zeros(len(train_neg_senders))))\n",
        "  \n",
        "    (train_loss,\n",
        "     train_preds), grad = compute_loss_fn(params, train_graph, train_senders,\n",
        "                                          train_receivers, train_labels)\n",
        "\n",
        "    updates, opt_state = opt_update(grad, opt_state, params)\n",
        "    params = optax.apply_updates(params, updates)\n",
        "    if epoch % parameters['eval_frequency'] == 0 or epoch == (parameters['epochs'] - 1):\n",
        "      train_roc_auc = compute_roc_auc_score(train_preds, train_labels)\n",
        "      val_loss, val_preds = loss_fn(params, train_graph, val_senders,\n",
        "                                         val_receivers, val_labels, net)\n",
        "      val_roc_auc = compute_roc_auc_score(val_preds, val_labels)\n",
        "\n",
        "      print('epoch:' ,{epoch}, 'train_loss:', train_loss,\n",
        "            'train_roc_auc:', train_roc_auc, 'val_loss:', val_loss, \n",
        "            'val_roc_auc:', val_roc_auc)\n",
        "\n",
        "  test_loss, test_preds = loss_fn(params, train_graph, test_senders,\n",
        "                                       test_receivers, test_labels, net)\n",
        "  test_roc_auc = compute_roc_auc_score(test_preds, test_labels)\n",
        "  print('Training finished')\n",
        "  print('epoch:', epoch, 'test_loss:', test_loss, 'test_roc_auc:', test_roc_auc)\n",
        "  return params\n",
        "\n",
        "\n",
        "def main():\n",
        "    cora_ds = load_dataset('/content/drive/MyDrive/GNNs/cora.pickle')\n",
        "    result = train(cora_ds)\n",
        "    return result"
      ],
      "metadata": {
        "id": "TQNCbMD2E0Lm"
      },
      "execution_count": 54,
      "outputs": []
    },
    {
      "cell_type": "code",
      "source": [
        "r = main()"
      ],
      "metadata": {
        "colab": {
          "base_uri": "https://localhost:8080/"
        },
        "id": "7SHN07ZsOgcf",
        "outputId": "e3c6214d-f1f2-46ef-b69e-04db719ea83d"
      },
      "execution_count": 55,
      "outputs": [
        {
          "output_type": "stream",
          "name": "stderr",
          "text": [
            "/usr/local/lib/python3.7/dist-packages/ipykernel_launcher.py:58: DeprecationWarning: `np.bool` is a deprecated alias for the builtin `bool`. To silence this warning, use `bool` by itself. Doing this will not modify any behavior and is safe. If you specifically wanted the numpy scalar type, use `np.bool_` here.\n",
            "Deprecated in NumPy 1.20; for more details and guidance: https://numpy.org/devdocs/release/1.20.0-notes.html#deprecations\n"
          ]
        },
        {
          "output_type": "stream",
          "name": "stdout",
          "text": [
            "epoch: {0} train_loss: 1.6965516 train_roc_auc: 0.4998433136015709 val_loss: 1.142127 val_roc_auc: 0.5794647891396435\n",
            "epoch: {10} train_loss: 0.64306766 train_roc_auc: 0.8249659892214055 val_loss: 0.6516683 val_roc_auc: 0.7741618355043445\n",
            "epoch: {20} train_loss: 0.535142 train_roc_auc: 0.9202917772805121 val_loss: 0.57490355 val_roc_auc: 0.853532651910538\n",
            "epoch: {30} train_loss: 0.48549333 train_roc_auc: 0.954172728583412 val_loss: 0.5458938 val_roc_auc: 0.8773294394887883\n",
            "epoch: {40} train_loss: 0.46988064 train_roc_auc: 0.9673378613518003 val_loss: 0.52660614 val_roc_auc: 0.8943457329150342\n",
            "epoch: {50} train_loss: 0.4568999 train_roc_auc: 0.9757245678513669 val_loss: 0.51979077 val_roc_auc: 0.8992612297416473\n",
            "epoch: {60} train_loss: 0.4500796 train_roc_auc: 0.9815834649975692 val_loss: 0.507645 val_roc_auc: 0.9105524150992497\n",
            "epoch: {70} train_loss: 0.44443962 train_roc_auc: 0.9842953659749429 val_loss: 0.5100242 val_roc_auc: 0.9088175338663274\n",
            "epoch: {80} train_loss: 0.44432902 train_roc_auc: 0.9855655758393943 val_loss: 0.5084869 val_roc_auc: 0.9092801688617733\n",
            "epoch: {90} train_loss: 0.4361766 train_roc_auc: 0.9882914761245091 val_loss: 0.5099196 val_roc_auc: 0.9070537379461897\n",
            "epoch: {100} train_loss: 0.43520316 train_roc_auc: 0.9889562634372563 val_loss: 0.5078197 val_roc_auc: 0.9052176553080136\n",
            "epoch: {110} train_loss: 0.43484798 train_roc_auc: 0.9913756077803831 val_loss: 0.505818 val_roc_auc: 0.9071115673206205\n",
            "epoch: {120} train_loss: 0.42784157 train_roc_auc: 0.9921759818617124 val_loss: 0.5042237 val_roc_auc: 0.9051164539027599\n",
            "epoch: {130} train_loss: 0.42165866 train_roc_auc: 0.9936543746286393 val_loss: 0.50140536 val_roc_auc: 0.9051453685899753\n",
            "epoch: {140} train_loss: 0.42545205 train_roc_auc: 0.9934151126116466 val_loss: 0.5004215 val_roc_auc: 0.9057670343651057\n",
            "epoch: {150} train_loss: 0.4220519 train_roc_auc: 0.9936846097416441 val_loss: 0.49883333 val_roc_auc: 0.9066489323251745\n",
            "epoch: {160} train_loss: 0.4228998 train_roc_auc: 0.993751248625767 val_loss: 0.5035129 val_roc_auc: 0.9026008761150226\n",
            "epoch: {170} train_loss: 0.4188556 train_roc_auc: 0.994270135790907 val_loss: 0.49913543 val_roc_auc: 0.9042345559426912\n",
            "epoch: {180} train_loss: 0.4169253 train_roc_auc: 0.99527597459337 val_loss: 0.49938717 val_roc_auc: 0.9042345559426911\n",
            "epoch: {190} train_loss: 0.42026454 train_roc_auc: 0.9947519188237042 val_loss: 0.4971384 val_roc_auc: 0.9039887811013605\n",
            "epoch: {199} train_loss: 0.41972122 train_roc_auc: 0.995520213736929 val_loss: 0.4966061 val_roc_auc: 0.9063164134221978\n",
            "Training finished\n",
            "epoch: 199 test_loss: 0.5218779 test_roc_auc: 0.88484097807575\n"
          ]
        }
      ]
    },
    {
      "cell_type": "code",
      "source": [
        "cora_ds = load_dataset('/content/drive/MyDrive/GNNs/cora.pickle')"
      ],
      "metadata": {
        "id": "f6ehK2wVMHx6"
      },
      "execution_count": 57,
      "outputs": []
    },
    {
      "cell_type": "code",
      "source": [
        "type(cora_ds)"
      ],
      "metadata": {
        "colab": {
          "base_uri": "https://localhost:8080/"
        },
        "id": "sp8cZ9Q6Tzh1",
        "outputId": "0ba6d531-50f7-41ea-9034-827ed14ad680"
      },
      "execution_count": 58,
      "outputs": [
        {
          "output_type": "execute_result",
          "data": {
            "text/plain": [
              "list"
            ]
          },
          "metadata": {},
          "execution_count": 58
        }
      ]
    },
    {
      "cell_type": "code",
      "source": [
        "adjacency_matrix = cora_ds[0]['input_graph'][0]"
      ],
      "metadata": {
        "id": "3penzYasT5CN"
      },
      "execution_count": 77,
      "outputs": []
    },
    {
      "cell_type": "code",
      "source": [
        "adjacency_matrix.shape"
      ],
      "metadata": {
        "colab": {
          "base_uri": "https://localhost:8080/"
        },
        "id": "_MzfDcmrVY1X",
        "outputId": "2bc49645-6c8d-4e93-cc63-4417fb0ecd2f"
      },
      "execution_count": 79,
      "outputs": [
        {
          "output_type": "execute_result",
          "data": {
            "text/plain": [
              "(2708, 1433)"
            ]
          },
          "metadata": {},
          "execution_count": 79
        }
      ]
    },
    {
      "cell_type": "code",
      "source": [
        "import numpy as np\n",
        "import matplotlib.pyplot as plt\n",
        "def show_graph_with_labels(adjacency_matrix):\n",
        "    rows, cols = np.where(adjacency_matrix == 1)\n",
        "    edges = zip(rows.tolist(), cols.tolist())\n",
        "    gr = nx.Graph()\n",
        "    gr.add_edges_from(edges)\n",
        "    nx.draw(gr, node_size=2, with_labels=False)\n",
        "    plt.show()\n",
        "\n",
        "#x = [str(i) for i in range(0,50)]\n",
        "show_graph_with_labels(adjacency_matrix)"
      ],
      "metadata": {
        "colab": {
          "base_uri": "https://localhost:8080/",
          "height": 319
        },
        "id": "2cnmVE-NT7w7",
        "outputId": "75b885db-09d9-447b-d17e-7bb5117457cc"
      },
      "execution_count": 81,
      "outputs": [
        {
          "output_type": "display_data",
          "data": {
            "text/plain": [
              "<Figure size 432x288 with 1 Axes>"
            ],
            "image/png": "[encoded data removed]"
          },
          "metadata": {}
        }
      ]
    },
    {
      "cell_type": "code",
      "source": [
        "2708*1433"
      ],
      "metadata": {
        "colab": {
          "base_uri": "https://localhost:8080/"
        },
        "id": "kUtr2s9lY1Px",
        "outputId": "72836835-ca19-4a83-c029-950cd1b59b1c"
      },
      "execution_count": 94,
      "outputs": [
        {
          "output_type": "execute_result",
          "data": {
            "text/plain": [
              "3880564"
            ]
          },
          "metadata": {},
          "execution_count": 94
        }
      ]
    },
    {
      "cell_type": "code",
      "source": [
        "cora_ds[0]['input_graph'][2].shape"
      ],
      "metadata": {
        "colab": {
          "base_uri": "https://localhost:8080/"
        },
        "id": "AYv39RQ2YDjC",
        "outputId": "d6f0cbb6-b687-4880-fca9-dd126bf8d9fe"
      },
      "execution_count": 93,
      "outputs": [
        {
          "output_type": "execute_result",
          "data": {
            "text/plain": [
              "(10556,)"
            ]
          },
          "metadata": {},
          "execution_count": 93
        }
      ]
    },
    {
      "cell_type": "code",
      "source": [
        "boids=[]\n",
        "\n",
        "boid_dict = {'input_graph':\n",
        "  \n",
        "}"
      ],
      "metadata": {
        "id": "zL89-BY4Y6Jq"
      },
      "execution_count": null,
      "outputs": []
    },
    {
      "cell_type": "code",
      "source": [
        "edges = np.ones(50) - np.eye(50)\n",
        "send_edges = np.where(edges)[0]\n",
        "recv_edges = np.where(edges)[1]\n",
        "receivers = hidden[:, self.recv_edges, :]\n",
        "senders = hidden[:, self.send_edges, :]"
      ],
      "metadata": {
        "colab": {
          "base_uri": "https://localhost:8080/",
          "height": 219
        },
        "id": "DcCUmOTjVclq",
        "outputId": "8c5987c8-c906-434b-820c-5eb4724f2be5"
      },
      "execution_count": 82,
      "outputs": [
        {
          "output_type": "error",
          "ename": "NameError",
          "evalue": "ignored",
          "traceback": [
            "\u001b[0;31m---------------------------------------------------------------------------\u001b[0m",
            "\u001b[0;31mNameError\u001b[0m                                 Traceback (most recent call last)",
            "\u001b[0;32m<ipython-input-82-6d9d241c1a5f>\u001b[0m in \u001b[0;36m<module>\u001b[0;34m()\u001b[0m\n\u001b[1;32m      2\u001b[0m \u001b[0msend_edges\u001b[0m \u001b[0;34m=\u001b[0m \u001b[0mnp\u001b[0m\u001b[0;34m.\u001b[0m\u001b[0mwhere\u001b[0m\u001b[0;34m(\u001b[0m\u001b[0medges\u001b[0m\u001b[0;34m)\u001b[0m\u001b[0;34m[\u001b[0m\u001b[0;36m0\u001b[0m\u001b[0;34m]\u001b[0m\u001b[0;34m\u001b[0m\u001b[0;34m\u001b[0m\u001b[0m\n\u001b[1;32m      3\u001b[0m \u001b[0mrecv_edges\u001b[0m \u001b[0;34m=\u001b[0m \u001b[0mnp\u001b[0m\u001b[0;34m.\u001b[0m\u001b[0mwhere\u001b[0m\u001b[0;34m(\u001b[0m\u001b[0medges\u001b[0m\u001b[0;34m)\u001b[0m\u001b[0;34m[\u001b[0m\u001b[0;36m1\u001b[0m\u001b[0;34m]\u001b[0m\u001b[0;34m\u001b[0m\u001b[0;34m\u001b[0m\u001b[0m\n\u001b[0;32m----> 4\u001b[0;31m \u001b[0mreceivers\u001b[0m \u001b[0;34m=\u001b[0m \u001b[0mhidden\u001b[0m\u001b[0;34m[\u001b[0m\u001b[0;34m:\u001b[0m\u001b[0;34m,\u001b[0m \u001b[0mself\u001b[0m\u001b[0;34m.\u001b[0m\u001b[0mrecv_edges\u001b[0m\u001b[0;34m,\u001b[0m \u001b[0;34m:\u001b[0m\u001b[0;34m]\u001b[0m\u001b[0;34m\u001b[0m\u001b[0;34m\u001b[0m\u001b[0m\n\u001b[0m\u001b[1;32m      5\u001b[0m \u001b[0msenders\u001b[0m \u001b[0;34m=\u001b[0m \u001b[0mhidden\u001b[0m\u001b[0;34m[\u001b[0m\u001b[0;34m:\u001b[0m\u001b[0;34m,\u001b[0m \u001b[0mself\u001b[0m\u001b[0;34m.\u001b[0m\u001b[0msend_edges\u001b[0m\u001b[0;34m,\u001b[0m \u001b[0;34m:\u001b[0m\u001b[0;34m]\u001b[0m\u001b[0;34m\u001b[0m\u001b[0;34m\u001b[0m\u001b[0m\n",
            "\u001b[0;31mNameError\u001b[0m: name 'hidden' is not defined"
          ]
        }
      ]
    },
    {
      "cell_type": "code",
      "source": [
        ""
      ],
      "metadata": {
        "id": "h2EI1vHbYOGU"
      },
      "execution_count": null,
      "outputs": []
    }
  ]
}