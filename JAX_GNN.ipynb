{
  "nbformat": 4,
  "nbformat_minor": 0,
  "metadata": {
    "colab": {
      "name": "JAX_GNN.ipynb",
      "provenance": [],
      "collapsed_sections": [],
      "mount_file_id": "https://github.com/Nishant-Ramakuru/Inference-based-GNNS/blob/main/JAX_GNN.ipynb",
      "authorship_tag": "ABX9TyON9PY3iaZOulk5erCVpgKP",
      "include_colab_link": true
    },
    "kernelspec": {
      "name": "python3",
      "display_name": "Python 3"
    },
    "language_info": {
      "name": "python"
    }
  },
  "cells": [
    {
      "cell_type": "markdown",
      "metadata": {
        "id": "view-in-github",
        "colab_type": "text"
      },
      "source": [
        "<a href=\"https://colab.research.google.com/github/Nishant-Ramakuru/Inference-based-GNNS/blob/main/JAX_GNN.ipynb\" target=\"_parent\"><img src=\"https://colab.research.google.com/assets/colab-badge.svg\" alt=\"Open In Colab\"/></a>"
      ]
    },
    {
      "cell_type": "code",
      "source": [
        "!pip install jraph\n",
        "! pip install git+https://github.com/deepmind/dm-haiku"
      ],
      "metadata": {
        "colab": {
          "base_uri": "https://localhost:8080/"
        },
        "id": "UwkigCYqHAEk",
        "outputId": "278251b3-1d1a-4b8d-81c9-83038abe16dc"
      },
      "execution_count": 1,
      "outputs": [
        {
          "output_type": "stream",
          "name": "stdout",
          "text": [
            "Looking in indexes: https://pypi.org/simple, https://us-python.pkg.dev/colab-wheels/public/simple/\n",
            "Collecting jraph\n",
            "  Downloading jraph-0.0.5.dev0-py3-none-any.whl (90 kB)\n",
            "\u001b[K     |████████████████████████████████| 90 kB 5.5 MB/s \n",
            "\u001b[?25hRequirement already satisfied: jaxlib>=0.1.37 in /usr/local/lib/python3.7/dist-packages (from jraph) (0.3.14+cuda11.cudnn805)\n",
            "Requirement already satisfied: numpy>=1.18.0 in /usr/local/lib/python3.7/dist-packages (from jraph) (1.21.6)\n",
            "Requirement already satisfied: jax>=0.1.55 in /usr/local/lib/python3.7/dist-packages (from jraph) (0.3.14)\n",
            "Requirement already satisfied: scipy>=1.5 in /usr/local/lib/python3.7/dist-packages (from jax>=0.1.55->jraph) (1.7.3)\n",
            "Requirement already satisfied: typing-extensions in /usr/local/lib/python3.7/dist-packages (from jax>=0.1.55->jraph) (4.1.1)\n",
            "Requirement already satisfied: etils[epath] in /usr/local/lib/python3.7/dist-packages (from jax>=0.1.55->jraph) (0.6.0)\n",
            "Requirement already satisfied: absl-py in /usr/local/lib/python3.7/dist-packages (from jax>=0.1.55->jraph) (1.2.0)\n",
            "Requirement already satisfied: opt-einsum in /usr/local/lib/python3.7/dist-packages (from jax>=0.1.55->jraph) (3.3.0)\n",
            "Requirement already satisfied: flatbuffers<3.0,>=1.12 in /usr/local/lib/python3.7/dist-packages (from jaxlib>=0.1.37->jraph) (2.0)\n",
            "Requirement already satisfied: importlib_resources in /usr/local/lib/python3.7/dist-packages (from etils[epath]->jax>=0.1.55->jraph) (5.9.0)\n",
            "Requirement already satisfied: zipp in /usr/local/lib/python3.7/dist-packages (from etils[epath]->jax>=0.1.55->jraph) (3.8.1)\n",
            "Installing collected packages: jraph\n",
            "Successfully installed jraph-0.0.5.dev0\n",
            "Looking in indexes: https://pypi.org/simple, https://us-python.pkg.dev/colab-wheels/public/simple/\n",
            "Collecting git+https://github.com/deepmind/dm-haiku\n",
            "  Cloning https://github.com/deepmind/dm-haiku to /tmp/pip-req-build-yyi1suee\n",
            "  Running command git clone -q https://github.com/deepmind/dm-haiku /tmp/pip-req-build-yyi1suee\n",
            "Requirement already satisfied: absl-py>=0.7.1 in /usr/local/lib/python3.7/dist-packages (from dm-haiku==0.0.8.dev0) (1.2.0)\n",
            "Collecting jmp>=0.0.2\n",
            "  Downloading jmp-0.0.2-py3-none-any.whl (16 kB)\n",
            "Requirement already satisfied: numpy>=1.18.0 in /usr/local/lib/python3.7/dist-packages (from dm-haiku==0.0.8.dev0) (1.21.6)\n",
            "Requirement already satisfied: tabulate>=0.8.9 in /usr/local/lib/python3.7/dist-packages (from dm-haiku==0.0.8.dev0) (0.8.10)\n",
            "Requirement already satisfied: typing_extensions in /usr/local/lib/python3.7/dist-packages (from dm-haiku==0.0.8.dev0) (4.1.1)\n",
            "Building wheels for collected packages: dm-haiku\n",
            "  Building wheel for dm-haiku (setup.py) ... \u001b[?25l\u001b[?25hdone\n",
            "  Created wheel for dm-haiku: filename=dm_haiku-0.0.8.dev0-py3-none-any.whl size=607970 sha256=88be1c304e79f5cef2d67e7afbf683c942c23920d4495d3acbcd4b135d73cadc\n",
            "  Stored in directory: /tmp/pip-ephem-wheel-cache-umv2inek/wheels/06/28/69/ebaac5b2435641427299f29d88d005fb4e2627f4a108f0bdbc\n",
            "Successfully built dm-haiku\n",
            "Installing collected packages: jmp, dm-haiku\n",
            "Successfully installed dm-haiku-0.0.8.dev0 jmp-0.0.2\n"
          ]
        }
      ]
    },
    {
      "cell_type": "code",
      "source": [
        "!pip install optax"
      ],
      "metadata": {
        "colab": {
          "base_uri": "https://localhost:8080/"
        },
        "id": "NbnGUzRzIPUB",
        "outputId": "2409a7b3-07ac-4d60-8ebf-112361bd649d"
      },
      "execution_count": 2,
      "outputs": [
        {
          "output_type": "stream",
          "name": "stdout",
          "text": [
            "Looking in indexes: https://pypi.org/simple, https://us-python.pkg.dev/colab-wheels/public/simple/\n",
            "Collecting optax\n",
            "  Downloading optax-0.1.3-py3-none-any.whl (145 kB)\n",
            "\u001b[K     |████████████████████████████████| 145 kB 24.2 MB/s \n",
            "\u001b[?25hCollecting chex>=0.0.4\n",
            "  Downloading chex-0.1.3-py3-none-any.whl (72 kB)\n",
            "\u001b[K     |████████████████████████████████| 72 kB 603 kB/s \n",
            "\u001b[?25hRequirement already satisfied: absl-py>=0.7.1 in /usr/local/lib/python3.7/dist-packages (from optax) (1.2.0)\n",
            "Requirement already satisfied: numpy>=1.18.0 in /usr/local/lib/python3.7/dist-packages (from optax) (1.21.6)\n",
            "Requirement already satisfied: jax>=0.1.55 in /usr/local/lib/python3.7/dist-packages (from optax) (0.3.14)\n",
            "Requirement already satisfied: jaxlib>=0.1.37 in /usr/local/lib/python3.7/dist-packages (from optax) (0.3.14+cuda11.cudnn805)\n",
            "Requirement already satisfied: typing-extensions>=3.10.0 in /usr/local/lib/python3.7/dist-packages (from optax) (4.1.1)\n",
            "Requirement already satisfied: toolz>=0.9.0 in /usr/local/lib/python3.7/dist-packages (from chex>=0.0.4->optax) (0.12.0)\n",
            "Requirement already satisfied: dm-tree>=0.1.5 in /usr/local/lib/python3.7/dist-packages (from chex>=0.0.4->optax) (0.1.7)\n",
            "Requirement already satisfied: opt-einsum in /usr/local/lib/python3.7/dist-packages (from jax>=0.1.55->optax) (3.3.0)\n",
            "Requirement already satisfied: scipy>=1.5 in /usr/local/lib/python3.7/dist-packages (from jax>=0.1.55->optax) (1.7.3)\n",
            "Requirement already satisfied: etils[epath] in /usr/local/lib/python3.7/dist-packages (from jax>=0.1.55->optax) (0.6.0)\n",
            "Requirement already satisfied: flatbuffers<3.0,>=1.12 in /usr/local/lib/python3.7/dist-packages (from jaxlib>=0.1.37->optax) (2.0)\n",
            "Requirement already satisfied: zipp in /usr/local/lib/python3.7/dist-packages (from etils[epath]->jax>=0.1.55->optax) (3.8.1)\n",
            "Requirement already satisfied: importlib_resources in /usr/local/lib/python3.7/dist-packages (from etils[epath]->jax>=0.1.55->optax) (5.9.0)\n",
            "Installing collected packages: chex, optax\n",
            "Successfully installed chex-0.1.3 optax-0.1.3\n"
          ]
        }
      ]
    },
    {
      "cell_type": "code",
      "source": [
        "import jax\n",
        "import jax.numpy as jnp\n",
        "import jraph\n",
        "import networkx as nx\n",
        "import numpy as onp\n",
        "import haiku as hk\n",
        "import pickle\n",
        "\n",
        "import optax\n",
        "from sklearn.metrics import roc_auc_score\n",
        "#from absl import app, params, logging\n",
        "\n",
        "import functools\n",
        "from typing import List, Dict, Any, Tuple\n"
      ],
      "metadata": {
        "id": "_p7nr8ZRGXNV"
      },
      "execution_count": 3,
      "outputs": []
    },
    {
      "cell_type": "markdown",
      "source": [
        "Data"
      ],
      "metadata": {
        "id": "76MRJ0GyF869"
      }
    },
    {
      "cell_type": "code",
      "source": [
        "def load_dataset(path_to_dataset: str) -> jraph.GraphsTuple:\n",
        "  with open(path_to_dataset, 'rb') as f:\n",
        "      cora_ds = pickle.load(f)\n",
        "  return cora_ds\n",
        "\n",
        "def train_val_test_split_edges(graph: jraph.GraphsTuple,\n",
        "                               val_perc: float = 0.05,\n",
        "                               test_perc: float = 0.1):\n",
        "  \"\"\"Split edges in input graph into train, val and test splits.\n",
        "\n",
        "  For val and test sets, also include negative edges.\n",
        "  Based on torch_geometric.utils.train_test_split_edges.\n",
        "\n",
        "  JAX implementation based fully on:\n",
        "  https://github.com/deepmind/educational/blob/master/colabs/summer_schools/intro_to_graph_nets_tutorial_with_jraph.ipynb\n",
        "  \"\"\"\n",
        "  mask = graph.senders < graph.receivers\n",
        "  senders = graph.senders[mask]\n",
        "  receivers = graph.receivers[mask]\n",
        "  num_val = int(val_perc * senders.shape[0])\n",
        "  num_test = int(test_perc * senders.shape[0])\n",
        "  permuted_indices = onp.random.permutation(range(senders.shape[0]))\n",
        "  senders = senders[permuted_indices]\n",
        "  receivers = receivers[permuted_indices]\n",
        "  if graph.edges is not None:\n",
        "    edges = graph.edges[permuted_indices]\n",
        "\n",
        "  val_senders = senders[:num_val]\n",
        "  val_receivers = receivers[:num_val]\n",
        "  if graph.edges is not None:\n",
        "    val_edges = edges[:num_val]\n",
        "\n",
        "  test_senders = senders[num_val:num_val + num_test]\n",
        "  test_receivers = receivers[num_val:num_val + num_test]\n",
        "  if graph.edges is not None:\n",
        "    test_edges = edges[num_val:num_val + num_test]\n",
        "\n",
        "  train_senders = senders[num_val + num_test:]\n",
        "  train_receivers = receivers[num_val + num_test:]\n",
        "  train_edges = None\n",
        "  if graph.edges is not None:\n",
        "    train_edges = edges[num_val + num_test:]\n",
        "\n",
        "  # make training edges undirected by adding reverse edges back in\n",
        "  train_senders_undir = jnp.concatenate((train_senders, train_receivers))\n",
        "  train_receivers_undir = jnp.concatenate((train_receivers, train_senders))\n",
        "  train_senders = train_senders_undir\n",
        "  train_receivers = train_receivers_undir\n",
        "\n",
        "  # Negative edges.\n",
        "  num_nodes = graph.n_node[0]\n",
        "  # Create a negative adjacency mask, s.t. mask[i, j] = True iff edge i->j does\n",
        "  # not exist in the original graph.\n",
        "  neg_adj_mask = onp.ones((num_nodes, num_nodes), dtype=onp.uint8)\n",
        "  # upper triangular part\n",
        "  neg_adj_mask = onp.triu(neg_adj_mask, k=1)\n",
        "  neg_adj_mask[graph.senders, graph.receivers] = 0\n",
        "  neg_adj_mask = neg_adj_mask.astype(onp.bool)\n",
        "  neg_senders, neg_receivers = neg_adj_mask.nonzero()\n",
        "\n",
        "  perm = onp.random.permutation(range(len(neg_senders)))\n",
        "  neg_senders = neg_senders[perm]\n",
        "  neg_receivers = neg_receivers[perm]\n",
        "\n",
        "  val_neg_senders = neg_senders[:num_val]\n",
        "  val_neg_receivers = neg_receivers[:num_val]\n",
        "  test_neg_senders = neg_senders[num_val:num_val + num_test]\n",
        "  test_neg_receivers = neg_receivers[num_val:num_val + num_test]\n",
        "\n",
        "  train_graph = jraph.GraphsTuple(\n",
        "      nodes=graph.nodes,\n",
        "      edges=train_edges,\n",
        "      senders=train_senders,\n",
        "      receivers=train_receivers,\n",
        "      n_node=graph.n_node,\n",
        "      n_edge=jnp.array([len(train_senders)]),\n",
        "      globals=graph.globals)\n",
        "\n",
        "  return (\n",
        "    train_graph, neg_adj_mask, \n",
        "    val_senders, val_receivers, val_neg_senders, val_neg_receivers, \n",
        "    test_senders, test_receivers, test_neg_senders, test_neg_receivers)\n",
        "\n",
        "def negative_sampling(\n",
        "    graph: jraph.GraphsTuple, num_neg_samples: int,\n",
        "    key: jnp.DeviceArray) -> Tuple[jnp.DeviceArray, jnp.DeviceArray]:\n",
        "  \"\"\"Samples negative edges, i.e. edges that don't exist in the input graph.\n",
        "  \n",
        "  Based fully on:\n",
        "  https://github.com/deepmind/educational/blob/master/colabs/summer_schools/intro_to_graph_nets_tutorial_with_jraph.ipynb\n",
        "  \"\"\"\n",
        "  num_nodes = graph.n_node[0]\n",
        "  total_possible_edges = num_nodes**2\n",
        "  # convert 2D edge indices to 1D representation.\n",
        "  pos_idx = graph.senders * num_nodes + graph.receivers\n",
        "\n",
        "  # Percentage to oversample edges, so most likely will sample enough neg edges.\n",
        "  alpha = jnp.abs(1 / (1 - 1.1 *\n",
        "                       (graph.senders.shape[0] / total_possible_edges)))\n",
        "\n",
        "  perm = jax.random.randint(\n",
        "      key,\n",
        "      shape=(int(alpha * num_neg_samples),),\n",
        "      minval=0,\n",
        "      maxval=total_possible_edges,\n",
        "      dtype=jnp.uint32)\n",
        "\n",
        "  # mask where sampled edges are positive edges.\n",
        "  mask = jnp.isin(perm, pos_idx)\n",
        "  # remove positive edges.\n",
        "  perm = perm[~mask][:num_neg_samples]\n",
        "\n",
        "  # convert 1d back to 2d edge indices.\n",
        "  neg_senders = perm // num_nodes\n",
        "  neg_receivers = perm % num_nodes\n",
        "\n",
        "  return neg_senders, neg_receivers\n",
        "\n",
        "def convert_jraph_to_networkx_graph(jraph_graph: jraph.GraphsTuple) -> nx.Graph:\n",
        "  \"\"\"Converts a JAX GraphsTuple to a NetworkX graph.\n",
        "  \n",
        "  Based fully on: \n",
        "  https://github.com/deepmind/educational/blob/master/colabs/summer_schools/intro_to_graph_nets_tutorial_with_jraph.ipynb\n",
        "  \"\"\"\n",
        "  nodes, edges, receivers, senders, _, _, _ = jraph_graph\n",
        "  nx_graph = nx.DiGraph()\n",
        "  if nodes is None:\n",
        "    for n in range(jraph_graph.n_node[0]):\n",
        "      nx_graph.add_node(n)\n",
        "  else:\n",
        "    for n in range(jraph_graph.n_node[0]):\n",
        "      nx_graph.add_node(n, node_feature=nodes[n])\n",
        "  if edges is None:\n",
        "    for e in range(jraph_graph.n_edge[0]):\n",
        "      nx_graph.add_edge(int(senders[e]), int(receivers[e]))\n",
        "  else:\n",
        "    for e in range(jraph_graph.n_edge[0]):\n",
        "      nx_graph.add_edge(\n",
        "          int(senders[e]), int(receivers[e]), edge_feature=edges[e])\n",
        "  return nx_graph\n",
        "\n",
        "def compute_norm_and_weights(graph: jraph.GraphsTuple) -> Tuple[float, float]:\n",
        "  graph_n_node = graph.n_node.item()\n",
        "  graph_adj = nx.to_numpy_matrix(convert_jraph_to_networkx_graph(graph))\n",
        "  adj_sum = onp.sum(graph_adj)\n",
        "  pos_weight = float(graph_n_node**2 - adj_sum) / adj_sum\n",
        "  norm_adj = graph_n_node**2 / 2.0*(graph_n_node**2 - adj_sum)\n",
        "  return pos_weight, norm_adj"
      ],
      "metadata": {
        "id": "vJ3JvXcXF8Ry"
      },
      "execution_count": 4,
      "outputs": []
    },
    {
      "cell_type": "markdown",
      "source": [
        "Model"
      ],
      "metadata": {
        "id": "JyjBt9QvFmU9"
      }
    },
    {
      "cell_type": "code",
      "execution_count": 5,
      "metadata": {
        "id": "9qaU-ue5EbKv"
      },
      "outputs": [],
      "source": [
        "def vgae_encoder(graph: jraph.GraphsTuple,\n",
        "                 hidden_dim: int,\n",
        "                 latent_dim: int) -> Tuple[jraph.GraphsTuple, jraph.GraphsTuple]:\n",
        "  \"\"\"VGAE network definition.\"\"\"\n",
        "  graph = graph._replace(globals=jnp.zeros([graph.n_node.shape[0], 1]))\n",
        "  \n",
        "  @jraph.concatenated_args\n",
        "  def hidden_node_update_fn(feats: jnp.ndarray) -> jnp.ndarray:\n",
        "    \"\"\"Node update function for hidden layer.\"\"\"\n",
        "    net = hk.Sequential([hk.Linear(hidden_dim), jax.nn.relu])\n",
        "    return net(feats)\n",
        "\n",
        "  @jraph.concatenated_args\n",
        "  def latent_node_update_fn(feats: jnp.ndarray) -> jnp.ndarray:\n",
        "    \"\"\"Node update function for latent layer.\"\"\"\n",
        "    return hk.Linear(latent_dim)(feats)\n",
        "\n",
        "  net_hidden = jraph.GraphConvolution(\n",
        "    update_node_fn=hidden_node_update_fn,\n",
        "    add_self_edges=True\n",
        "  )\n",
        "  h = net_hidden(graph)\n",
        "  \n",
        "  net_mean = jraph.GraphConvolution(\n",
        "    update_node_fn=latent_node_update_fn,\n",
        "    add_self_edges=True\n",
        "  )\n",
        "  net_log_std = jraph.GraphConvolution(\n",
        "    update_node_fn=latent_node_update_fn,\n",
        "    add_self_edges=True\n",
        "  )\n",
        "  mean, log_std = net_mean(h), net_log_std(h)\n",
        "  return mean, log_std\n",
        "  \n",
        "\n",
        "def gae_encoder(graph: jraph.GraphsTuple,\n",
        "                hidden_dim: int,\n",
        "                latent_dim: int) -> jraph.GraphsTuple:\n",
        "  \"\"\"GAE network definition.\"\"\"\n",
        "  graph = graph._replace(globals=jnp.zeros([graph.n_node.shape[0], 1]))\n",
        "  \n",
        "  @jraph.concatenated_args\n",
        "  def node_update_fn(feats: jnp.ndarray) -> jnp.ndarray:\n",
        "    net = hk.Sequential([hk.Linear(hidden_dim), jax.nn.relu, hk.Linear(latent_dim)])\n",
        "    return net(feats)\n",
        "  \n",
        "  net = jraph.GraphConvolution(\n",
        "    update_node_fn=node_update_fn, \n",
        "    add_self_edges=True)\n",
        "  return net(graph)\n",
        "\n",
        "\n",
        "def inner_product_decode(pred_graph_nodes: jnp.ndarray, senders: jnp.ndarray,\n",
        "           receivers: jnp.ndarray) -> jnp.ndarray:\n",
        "  \"\"\"Given a set of candidate edges, take dot product of respective nodes.\n",
        "\n",
        "  Args:\n",
        "    pred_graph_nodes: input graph nodes Z.\n",
        "    senders: Senders of candidate edges.\n",
        "    receivers: Receivers of candidate edges.\n",
        "\n",
        "  Returns:\n",
        "    For each edge, computes dot product of the features of the two nodes.\n",
        "\n",
        "  \"\"\"\n",
        "  return jnp.squeeze(\n",
        "      jnp.sum(pred_graph_nodes[senders] * pred_graph_nodes[receivers], axis=1))"
      ]
    },
    {
      "cell_type": "markdown",
      "source": [
        "Loss"
      ],
      "metadata": {
        "id": "52lGL9tPFvtc"
      }
    },
    {
      "cell_type": "code",
      "source": [
        "def compute_vgae_loss(params: hk.Params, graph: jraph.GraphsTuple,\n",
        "                 senders: jnp.ndarray, receivers: jnp.ndarray,\n",
        "                 labels: jnp.ndarray,\n",
        "                 net: hk.Transformed, \n",
        "                 rng_key: jnp.ndarray) -> Tuple[jnp.ndarray, jnp.ndarray]:\n",
        "  \"\"\"Computes VGAE loss.\"\"\"\n",
        "  mean_graph, log_std_graph = net.apply(params, graph)\n",
        "  \n",
        "  mean, log_std = mean_graph.nodes, log_std_graph.nodes\n",
        "  eps = jax.random.normal(rng_key, mean.shape)\n",
        "  z = mean + eps * jnp.exp(log_std)\n",
        "  logits = inner_product_decode(z, senders, receivers)\n",
        "  \n",
        "  n_node = z.shape[0]\n",
        "  kld = 1.0/n_node * jnp.mean(compute_kl_gaussian(mean, log_std), axis=-1)\n",
        "  log_likelihood = compute_bce_with_logits_loss(logits, labels)\n",
        "  \n",
        "  loss = log_likelihood + kld  # want to maximize this quantity.\n",
        "  return loss, logits\n",
        "\n",
        "\n",
        "def compute_gae_loss(params: hk.Params, graph: jraph.GraphsTuple,\n",
        "                 senders: jnp.ndarray, receivers: jnp.ndarray,\n",
        "                 labels: jnp.ndarray,\n",
        "                 net: hk.Transformed) -> Tuple[jnp.ndarray, jnp.ndarray]:\n",
        "  \"\"\"Computes GAE loss.\"\"\"\n",
        "  pred_graph = net.apply(params, graph)\n",
        "  logits = inner_product_decode(pred_graph.nodes, senders, receivers)\n",
        "  loss = compute_bce_with_logits_loss(logits, labels)\n",
        "  return loss, logits\n",
        "\n",
        "\n",
        "def compute_bce_with_logits_loss(x: jnp.ndarray, y: jnp.ndarray) -> jnp.ndarray:\n",
        "  \"\"\"Computes binary cross-entropy with logits loss.\n",
        "\n",
        "  Combines sigmoid and BCE, and uses log-sum-exp trick for numerical stability.\n",
        "  See https://stackoverflow.com/a/66909858 if you want to learn more.\n",
        "\n",
        "  Args:\n",
        "    x: Predictions (logits).\n",
        "    y: Labels.\n",
        "\n",
        "  Returns:\n",
        "    Binary cross-entropy loss with mean aggregation.\n",
        "\n",
        "  \"\"\"\n",
        "  max_val = jnp.clip(-x, 0, None)\n",
        "  loss = x - x*y + max_val + jnp.log(jnp.exp(-max_val) + jnp.exp((-x-max_val)))\n",
        "  return jnp.mean(loss, axis=-1)\n",
        "\n",
        "\n",
        "def compute_weighted_bce_with_logits_loss(\n",
        "  x: jnp.ndarray, y: jnp.ndarray, weight: jnp.ndarray) -> jnp.ndarray:\n",
        "  \"\"\"Computes weighted binary cross-entropy with logits loss.\n",
        "\n",
        "  Combines sigmoid and BCE, and uses log-sum-exp trick for numerical stability.\n",
        "  See https://stackoverflow.com/a/66909858 if you want to learn more.\n",
        "\n",
        "  Args:\n",
        "    x: Predictions (logits).\n",
        "    y: Labels.\n",
        "\n",
        "  Returns:\n",
        "    Binary cross-entropy loss.\n",
        "\n",
        "  \"\"\"\n",
        "  max_val = jnp.clip(-x, 0, None)\n",
        "  loss = x - x*y + max_val + jnp.log(jnp.exp(-max_val) + jnp.exp((-x-max_val)))\n",
        "  loss = weight * loss\n",
        "  return jnp.mean(loss, axis=-1)\n",
        "\n",
        "\n",
        "def compute_kl_gaussian(mean: jnp.ndarray, log_std: jnp.ndarray) -> jnp.ndarray:\n",
        "    r\"\"\"Calculate KL divergence between given and standard gaussian distributions.\n",
        "\n",
        "    Args:\n",
        "        mean: feature matrix of the mean.\n",
        "        log_std: feature matrix of the log-covariance.\n",
        "\n",
        "    Returns:\n",
        "        A vector representing KL divergence of the two Gaussian distributions\n",
        "        of length |V| where V is the nodes in the graph.\n",
        "    \"\"\"\n",
        "    var = jnp.exp(log_std)\n",
        "    return 0.5 * jnp.sum(\n",
        "      -2*log_std - 1.0 + jnp.square(var) + jnp.square(mean), axis=-1)\n",
        "  \n",
        "  "
      ],
      "metadata": {
        "id": "pIlCPro1FeG4"
      },
      "execution_count": 6,
      "outputs": []
    },
    {
      "cell_type": "markdown",
      "source": [
        "Train"
      ],
      "metadata": {
        "id": "Ab545Dr8FtLe"
      }
    },
    {
      "cell_type": "code",
      "source": [
        "parameters = {}\n",
        "parameters['learning_rate'] = 1e-2 # 'Learning rate for the optimizer.')\n",
        "parameters['epochs'] =200 #, 'Number of training epochs.')\n",
        "parameters['hidden_dim'] =32 #, 'Hidden dimension in the AE.')\n",
        "parameters['latent_dim']= 16 #, 'Latent dimension in the AE.')\n",
        "parameters['random_seed'] =42 #, 'Random seed.')\n",
        "parameters['eval_frequency'] = 10 #, 'How often to evaluate the model.')\n",
        "parameters['is_vgae']= True #, 'Using Variational GAE vs vanilla GAE.')"
      ],
      "metadata": {
        "id": "4p8J3xVmJpTr"
      },
      "execution_count": 20,
      "outputs": []
    },
    {
      "cell_type": "code",
      "source": [
        "def compute_roc_auc_score(preds: jnp.ndarray,\n",
        "                          labels: jnp.ndarray) -> jnp.ndarray:\n",
        "  \"\"\"Computes roc auc (area under the curve) score for classification.\"\"\"\n",
        "  s = jax.nn.sigmoid(preds)\n",
        "  roc_auc = roc_auc_score(labels, s)\n",
        "  return roc_auc\n",
        "\n",
        "\n",
        "def train(dataset: List[Dict[str, Any]]) -> hk.Params:\n",
        "  \"\"\"Training loop.\"\"\"\n",
        "  key = jax.random.PRNGKey(parameters['random_seed'])\n",
        "  # Transform impure network to pure functions with hk.transform.\n",
        "  net_fn = vgae_encoder if parameters['is_vgae'] else gae_encoder\n",
        "  net_fn = functools.partial(\n",
        "    net_fn, hidden_dim=parameters['hidden_dim'], latent_dim=parameters['latent_dim'])\n",
        "  net = hk.without_apply_rng(hk.transform(net_fn))\n",
        "  \n",
        "  # Get a candidate graph and label to initialize the network.\n",
        "  graph = dataset[0]['input_graph']\n",
        "  train_graph, _, val_pos_s, val_pos_r, val_neg_s, val_neg_r, test_pos_s, \\\n",
        "      test_pos_r, test_neg_s, test_neg_r = train_val_test_split_edges(\n",
        "      graph)\n",
        "\n",
        "  # Prepare the validation and test data.\n",
        "  val_senders = jnp.concatenate((val_pos_s, val_neg_s))\n",
        "  val_receivers = jnp.concatenate((val_pos_r, val_neg_r))\n",
        "  val_labels = jnp.concatenate(\n",
        "      (jnp.ones(len(val_pos_s)), jnp.zeros(len(val_neg_s))))\n",
        "  test_senders = jnp.concatenate((test_pos_s, test_neg_s))\n",
        "  test_receivers = jnp.concatenate((test_pos_r, test_neg_r))\n",
        "  test_labels = jnp.concatenate(\n",
        "      (jnp.ones(len(test_pos_s)), jnp.zeros(len(test_neg_s))))\n",
        "  # Initialize the network.\n",
        "  key, param_key = jax.random.split(key)\n",
        "  params = net.init(param_key, train_graph)\n",
        "  # Initialize the optimizer.\n",
        "  opt_init, opt_update = optax.adam(parameters['learning_rate'])\n",
        "  opt_state = opt_init(params)\n",
        "  \n",
        "  if parameters['is_vgae']:\n",
        "    key, loss_key = jax.random.split(key)\n",
        "    loss_fn = functools.partial(compute_vgae_loss, rng_key=loss_key)\n",
        "  else:\n",
        "    loss_fn = compute_gae_loss\n",
        "  compute_loss_fn = functools.partial(loss_fn, net=net)\n",
        "  # We jit the computation of our loss, since this is the main computation.\n",
        "  compute_loss_fn = jax.jit(jax.value_and_grad(compute_loss_fn, has_aux=True))\n",
        "\n",
        "  key, *neg_sampling_keys = jax.random.split(key, parameters['epochs']+1)\n",
        "  e = []\n",
        "  t_l = []\n",
        "  t_r = []\n",
        "  v_l = []\n",
        "  v_r = []\n",
        "  for epoch in range(parameters['epochs']):\n",
        "    num_neg_samples = train_graph.senders.shape[0]\n",
        "    train_neg_senders, train_neg_receivers = negative_sampling(\n",
        "        train_graph, num_neg_samples=num_neg_samples, key=neg_sampling_keys[epoch])\n",
        "    train_senders = jnp.concatenate((train_graph.senders, train_neg_senders))\n",
        "    train_receivers = jnp.concatenate(\n",
        "        (train_graph.receivers, train_neg_receivers))\n",
        "    train_labels = jnp.concatenate(\n",
        "        (jnp.ones(len(train_graph.senders)), jnp.zeros(len(train_neg_senders))))\n",
        "  \n",
        "    (train_loss,\n",
        "     train_preds), grad = compute_loss_fn(params, train_graph, train_senders,\n",
        "                                          train_receivers, train_labels)\n",
        "\n",
        "    updates, opt_state = opt_update(grad, opt_state, params)\n",
        "    params = optax.apply_updates(params, updates)\n",
        "    if epoch % parameters['eval_frequency'] == 0 or epoch == (parameters['epochs'] - 1):\n",
        "      train_roc_auc = compute_roc_auc_score(train_preds, train_labels)\n",
        "      val_loss, val_preds = loss_fn(params, train_graph, val_senders,\n",
        "                                         val_receivers, val_labels, net)\n",
        "      val_roc_auc = compute_roc_auc_score(val_preds, val_labels)\n",
        "\n",
        "      print('epoch:' ,{epoch}, 'train_loss:', train_loss,\n",
        "            'train_roc_auc:', train_roc_auc, 'val_loss:', val_loss, \n",
        "            'val_roc_auc:', val_roc_auc)\n",
        "      e.append(epoch)\n",
        "      t_l.append(train_loss)\n",
        "      t_r.append(train_roc_auc)\n",
        "      v_l.append(val_loss)\n",
        "      v_r.append(val_roc_auc)\n",
        "\n",
        "  test_loss, test_preds = loss_fn(params, train_graph, test_senders,\n",
        "                                       test_receivers, test_labels, net)\n",
        "  test_roc_auc = compute_roc_auc_score(test_preds, test_labels)\n",
        "  print('Training finished')\n",
        "  print('epoch:', epoch, 'test_loss:', test_loss, 'test_roc_auc:', test_roc_auc)\n",
        "  metrics = {'epoch':e,\n",
        "             'train_loss': t_l,\n",
        "            'train_roc_auc':t_r,\n",
        "             'val_loss':v_l, \n",
        "            'val_roc_auc':v_r}\n",
        "  return params,metrics\n",
        "\n",
        "\n",
        "def main():\n",
        "    cora_ds = load_dataset('/content/drive/MyDrive/GNNs/cora.pickle')\n",
        "    result = train(cora_ds)\n",
        "    return result"
      ],
      "metadata": {
        "id": "TQNCbMD2E0Lm"
      },
      "execution_count": 21,
      "outputs": []
    },
    {
      "cell_type": "code",
      "source": [
        "params,metrics = main()"
      ],
      "metadata": {
        "colab": {
          "base_uri": "https://localhost:8080/"
        },
        "id": "7SHN07ZsOgcf",
        "outputId": "ca2a3cd4-2d0b-4bd7-b123-e1321c0dfd07"
      },
      "execution_count": 22,
      "outputs": [
        {
          "output_type": "stream",
          "name": "stderr",
          "text": [
            "/usr/local/lib/python3.7/dist-packages/ipykernel_launcher.py:58: DeprecationWarning: `np.bool` is a deprecated alias for the builtin `bool`. To silence this warning, use `bool` by itself. Doing this will not modify any behavior and is safe. If you specifically wanted the numpy scalar type, use `np.bool_` here.\n",
            "Deprecated in NumPy 1.20; for more details and guidance: https://numpy.org/devdocs/release/1.20.0-notes.html#deprecations\n"
          ]
        },
        {
          "output_type": "stream",
          "name": "stdout",
          "text": [
            "epoch: {0} train_loss: 1.6955819 train_roc_auc: 0.5008163108157702 val_loss: 1.4725242 val_roc_auc: 0.48044644277060533\n",
            "epoch: {10} train_loss: 0.6558129 train_roc_auc: 0.7978687248984022 val_loss: 0.6655355 val_roc_auc: 0.7253249287975827\n",
            "epoch: {20} train_loss: 0.52874243 train_roc_auc: 0.9123205305254494 val_loss: 0.56395817 val_roc_auc: 0.867874336769362\n",
            "epoch: {30} train_loss: 0.48565692 train_roc_auc: 0.951341959922439 val_loss: 0.5451364 val_roc_auc: 0.8858592722173229\n",
            "epoch: {40} train_loss: 0.46690285 train_roc_auc: 0.967828102112665 val_loss: 0.54598814 val_roc_auc: 0.8894302360884211\n",
            "epoch: {50} train_loss: 0.45847154 train_roc_auc: 0.9752772346379808 val_loss: 0.53474945 val_roc_auc: 0.8938830979195883\n",
            "epoch: {60} train_loss: 0.44724163 train_roc_auc: 0.9822334578682389 val_loss: 0.5288117 val_roc_auc: 0.8962685596148565\n",
            "epoch: {70} train_loss: 0.44180757 train_roc_auc: 0.9849104072535674 val_loss: 0.5289249 val_roc_auc: 0.895733637901372\n",
            "epoch: {80} train_loss: 0.4418221 train_roc_auc: 0.9862684677460354 val_loss: 0.52491784 val_roc_auc: 0.8977432086628403\n",
            "epoch: {90} train_loss: 0.43223324 train_roc_auc: 0.9884960111495579 val_loss: 0.522401 val_roc_auc: 0.8994058031777241\n",
            "epoch: {100} train_loss: 0.43219078 train_roc_auc: 0.9890717194753449 val_loss: 0.5180012 val_roc_auc: 0.9028755656435686\n",
            "epoch: {110} train_loss: 0.434067 train_roc_auc: 0.9908223399653979 val_loss: 0.52200824 val_roc_auc: 0.9024996747097688\n",
            "epoch: {120} train_loss: 0.42658883 train_roc_auc: 0.9916815831522207 val_loss: 0.5213627 val_roc_auc: 0.9027020775202763\n",
            "epoch: {130} train_loss: 0.42555916 train_roc_auc: 0.9930906064418962 val_loss: 0.5243102 val_roc_auc: 0.8962830169584639\n",
            "epoch: {140} train_loss: 0.4243216 train_roc_auc: 0.9933524868544531 val_loss: 0.5274748 val_roc_auc: 0.8924518209024274\n",
            "epoch: {150} train_loss: 0.42417976 train_roc_auc: 0.9937274428184011 val_loss: 0.52343947 val_roc_auc: 0.8925530223076812\n",
            "epoch: {160} train_loss: 0.42375234 train_roc_auc: 0.9936074828975506 val_loss: 0.52423775 val_roc_auc: 0.8909337998236204\n",
            "epoch: {170} train_loss: 0.41813812 train_roc_auc: 0.9944442731617845 val_loss: 0.5222307 val_roc_auc: 0.8937963538579422\n",
            "epoch: {180} train_loss: 0.4171631 train_roc_auc: 0.9952786927747117 val_loss: 0.52433026 val_roc_auc: 0.890586823577036\n",
            "epoch: {190} train_loss: 0.41861162 train_roc_auc: 0.9950947862402814 val_loss: 0.5249124 val_roc_auc: 0.890861513105582\n",
            "epoch: {199} train_loss: 0.4158284 train_roc_auc: 0.9962389803190762 val_loss: 0.52762884 val_roc_auc: 0.8881001604765142\n",
            "Training finished\n",
            "epoch: 199 test_loss: 0.4963142 test_roc_auc: 0.9076293797190785\n"
          ]
        }
      ]
    },
    {
      "cell_type": "code",
      "source": [
        "from matplotlib import pyplot as plt"
      ],
      "metadata": {
        "id": "9cwkHmAO5_nZ"
      },
      "execution_count": 12,
      "outputs": []
    },
    {
      "cell_type": "code",
      "source": [
        "plt.plot(metrics['epoch'],metrics['train_loss'])"
      ],
      "metadata": {
        "id": "Q4HEgDX25ukZ",
        "outputId": "324ff13a-444f-452b-da8e-73d22be19e1a",
        "colab": {
          "base_uri": "https://localhost:8080/",
          "height": 282
        }
      },
      "execution_count": 23,
      "outputs": [
        {
          "output_type": "execute_result",
          "data": {
            "text/plain": [
              "[<matplotlib.lines.Line2D at 0x7fed718bfc90>]"
            ]
          },
          "metadata": {},
          "execution_count": 23
        },
        {
          "output_type": "display_data",
          "data": {
            "text/plain": [
              "<Figure size 432x288 with 1 Axes>"
            ],
            "image/png": "[encoded data removed]"
          },
          "metadata": {
            "needs_background": "light"
          }
        }
      ]
    },
    {
      "cell_type": "code",
      "source": [
        "plt.plot(metrics['epoch'],metrics['val_loss'])"
      ],
      "metadata": {
        "id": "cKWa39Dv84-w",
        "outputId": "69197a18-0231-4d11-ee09-5bc8612dc310",
        "colab": {
          "base_uri": "https://localhost:8080/",
          "height": 282
        }
      },
      "execution_count": 24,
      "outputs": [
        {
          "output_type": "execute_result",
          "data": {
            "text/plain": [
              "[<matplotlib.lines.Line2D at 0x7fed71565810>]"
            ]
          },
          "metadata": {},
          "execution_count": 24
        },
        {
          "output_type": "display_data",
          "data": {
            "text/plain": [
              "<Figure size 432x288 with 1 Axes>"
            ],
            "image/png": "[encoded data removed]"
          },
          "metadata": {
            "needs_background": "light"
          }
        }
      ]
    },
    {
      "cell_type": "code",
      "source": [
        "plt.plot(metrics['epoch'],metrics['val_roc_auc'])"
      ],
      "metadata": {
        "id": "v3uxa4dn8jm1",
        "outputId": "502f0394-7740-4f68-d395-1c01f05daf4e",
        "colab": {
          "base_uri": "https://localhost:8080/",
          "height": 282
        }
      },
      "execution_count": 25,
      "outputs": [
        {
          "output_type": "execute_result",
          "data": {
            "text/plain": [
              "[<matplotlib.lines.Line2D at 0x7fed714aed50>]"
            ]
          },
          "metadata": {},
          "execution_count": 25
        },
        {
          "output_type": "display_data",
          "data": {
            "text/plain": [
              "<Figure size 432x288 with 1 Axes>"
            ],
            "image/png": "[encoded data removed]"
          },
          "metadata": {
            "needs_background": "light"
          }
        }
      ]
    },
    {
      "cell_type": "code",
      "source": [
        "plt.plot(metrics['epoch'],metrics['train_roc_auc'])"
      ],
      "metadata": {
        "id": "fPvBbZwo9CYl",
        "outputId": "52ea1c47-783c-4d68-871c-50c3a4ce7fb7",
        "colab": {
          "base_uri": "https://localhost:8080/",
          "height": 282
        }
      },
      "execution_count": 26,
      "outputs": [
        {
          "output_type": "execute_result",
          "data": {
            "text/plain": [
              "[<matplotlib.lines.Line2D at 0x7fed71413790>]"
            ]
          },
          "metadata": {},
          "execution_count": 26
        },
        {
          "output_type": "display_data",
          "data": {
            "text/plain": [
              "<Figure size 432x288 with 1 Axes>"
            ],
            "image/png": "[encoded data removed]"
          },
          "metadata": {
            "needs_background": "light"
          }
        }
      ]
    },
    {
      "cell_type": "code",
      "source": [
        "cora_ds = load_dataset('/content/drive/MyDrive/GNNs/cora.pickle')"
      ],
      "metadata": {
        "id": "f6ehK2wVMHx6"
      },
      "execution_count": null,
      "outputs": []
    },
    {
      "cell_type": "code",
      "source": [
        "type(cora_ds)"
      ],
      "metadata": {
        "colab": {
          "base_uri": "https://localhost:8080/"
        },
        "id": "sp8cZ9Q6Tzh1",
        "outputId": "8947bf8f-9c7b-4944-bc5f-d551dbab1fc6"
      },
      "execution_count": null,
      "outputs": [
        {
          "output_type": "execute_result",
          "data": {
            "text/plain": [
              "list"
            ]
          },
          "metadata": {},
          "execution_count": 12
        }
      ]
    },
    {
      "cell_type": "code",
      "source": [
        "adjacency_matrix = cora_ds[0]['input_graph'][0]"
      ],
      "metadata": {
        "id": "3penzYasT5CN"
      },
      "execution_count": null,
      "outputs": []
    },
    {
      "cell_type": "code",
      "source": [
        "adjacency_matrix.shape"
      ],
      "metadata": {
        "colab": {
          "base_uri": "https://localhost:8080/"
        },
        "id": "_MzfDcmrVY1X",
        "outputId": "bfc6ddad-7f8e-456d-877d-0875afece3b7"
      },
      "execution_count": null,
      "outputs": [
        {
          "output_type": "execute_result",
          "data": {
            "text/plain": [
              "(2708, 1433)"
            ]
          },
          "metadata": {},
          "execution_count": 14
        }
      ]
    },
    {
      "cell_type": "code",
      "source": [
        "import numpy as np\n",
        "import matplotlib.pyplot as plt\n",
        "def show_graph_with_labels(adjacency_matrix):\n",
        "    rows, cols = np.where(adjacency_matrix == 1)\n",
        "    edges = zip(rows.tolist(), cols.tolist())\n",
        "    gr = nx.Graph()\n",
        "    gr.add_edges_from(edges)\n",
        "    nx.draw(gr, node_size=2, with_labels=False)\n",
        "    plt.show()\n",
        "\n",
        "#x = [str(i) for i in range(0,50)]\n",
        "show_graph_with_labels(adjacency_matrix)"
      ],
      "metadata": {
        "colab": {
          "base_uri": "https://localhost:8080/",
          "height": 319
        },
        "id": "2cnmVE-NT7w7",
        "outputId": "ddcf3349-83b3-4574-fc09-e1845eafef71"
      },
      "execution_count": null,
      "outputs": [
        {
          "output_type": "display_data",
          "data": {
            "text/plain": [
              "<Figure size 432x288 with 1 Axes>"
            ],
            "image/png": "[encoded data removed]"
          },
          "metadata": {}
        }
      ]
    },
    {
      "cell_type": "code",
      "source": [
        "2708*1433"
      ],
      "metadata": {
        "id": "kUtr2s9lY1Px"
      },
      "execution_count": null,
      "outputs": []
    },
    {
      "cell_type": "code",
      "source": [
        "cora_ds[0]"
      ],
      "metadata": {
        "colab": {
          "base_uri": "https://localhost:8080/"
        },
        "id": "AYv39RQ2YDjC",
        "outputId": "513eb836-630e-4ad9-89ea-a29b2d83d615"
      },
      "execution_count": null,
      "outputs": [
        {
          "output_type": "execute_result",
          "data": {
            "text/plain": [
              "{'input_graph': GraphsTuple(nodes=array([[0., 0., 0., ..., 0., 0., 0.],\n",
              "       [0., 0., 0., ..., 0., 0., 0.],\n",
              "       [0., 0., 0., ..., 0., 0., 0.],\n",
              "       ...,\n",
              "       [0., 0., 0., ..., 0., 0., 0.],\n",
              "       [0., 0., 0., ..., 0., 0., 0.],\n",
              "       [0., 0., 0., ..., 0., 0., 0.]], dtype=float32), edges=None, receivers=array([ 633, 1862, 2582, ...,  598, 1473, 2706], dtype=int32), senders=array([   0,    0,    0, ..., 2707, 2707, 2707], dtype=int32), globals=None, n_node=array([2708], dtype=int32), n_edge=array([10556], dtype=int32)),\n",
              " 'target': array([3, 4, 4, ..., 3, 3, 3], dtype=int32)}"
            ]
          },
          "metadata": {},
          "execution_count": 20
        }
      ]
    },
    {
      "cell_type": "code",
      "source": [
        "boids=[]\n",
        "\n",
        "boid_dict = {'input_graph':\n",
        "  \n",
        "}"
      ],
      "metadata": {
        "id": "zL89-BY4Y6Jq"
      },
      "execution_count": null,
      "outputs": []
    },
    {
      "cell_type": "code",
      "source": [
        "edges = np.ones(50) - np.eye(50)\n",
        "send_edges = np.where(edges)[0]\n",
        "recv_edges = np.where(edges)[1]"
      ],
      "metadata": {
        "id": "DcCUmOTjVclq"
      },
      "execution_count": null,
      "outputs": []
    },
    {
      "cell_type": "code",
      "source": [
        "send_edges.shape"
      ],
      "metadata": {
        "colab": {
          "base_uri": "https://localhost:8080/"
        },
        "id": "Yft3VN5_PVaS",
        "outputId": "759f7365-8e4d-41ec-8d87-f0e207f54d6b"
      },
      "execution_count": null,
      "outputs": [
        {
          "output_type": "execute_result",
          "data": {
            "text/plain": [
              "(2450,)"
            ]
          },
          "metadata": {},
          "execution_count": 17
        }
      ]
    },
    {
      "cell_type": "code",
      "source": [
        ""
      ],
      "metadata": {
        "id": "dpyfaV2MPVfn"
      },
      "execution_count": null,
      "outputs": []
    },
    {
      "cell_type": "code",
      "source": [
        "receivers = hidden[:, self.recv_edges, :]\n",
        "senders = hidden[:, self.send_edges, :]"
      ],
      "metadata": {
        "id": "h2EI1vHbYOGU"
      },
      "execution_count": null,
      "outputs": []
    }
  ]
}